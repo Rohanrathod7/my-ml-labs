{
  "nbformat": 4,
  "nbformat_minor": 0,
  "metadata": {
    "colab": {
      "provenance": [],
      "authorship_tag": "ABX9TyMg5Yq1hpMOMypHgLURHKro",
      "include_colab_link": true
    },
    "kernelspec": {
      "name": "python3",
      "display_name": "Python 3"
    },
    "language_info": {
      "name": "python"
    }
  },
  "cells": [
    {
      "cell_type": "markdown",
      "metadata": {
        "id": "view-in-github",
        "colab_type": "text"
      },
      "source": [
        "<a href=\"https://colab.research.google.com/github/Rohanrathod7/my-ml-labs/blob/main/13_Feature_Engineering_for_Machine_Learning_in_Python/02_Dealing_with_Messy_Data.ipynb\" target=\"_parent\"><img src=\"https://colab.research.google.com/assets/colab-badge.svg\" alt=\"Open In Colab\"/></a>"
      ]
    },
    {
      "cell_type": "markdown",
      "source": [
        "### 2. Dealing with Messy Data\n"
      ],
      "metadata": {
        "id": "69GNV3tpDLy3"
      }
    },
    {
      "cell_type": "code",
      "execution_count": 23,
      "metadata": {
        "id": "EUPpAj0HoP6i",
        "colab": {
          "base_uri": "https://localhost:8080/",
          "height": 414
        },
        "outputId": "f25df005-9765-46c3-9e13-dc6facd99407"
      },
      "outputs": [
        {
          "output_type": "display_data",
          "data": {
            "text/plain": [
              "      SurveyDate                                    FormalEducation  \\\n",
              "0  2/28/18 20:20           Bachelor's degree (BA. BS. B.Eng.. etc.)   \n",
              "1  6/28/18 13:26           Bachelor's degree (BA. BS. B.Eng.. etc.)   \n",
              "2    6/6/18 3:37           Bachelor's degree (BA. BS. B.Eng.. etc.)   \n",
              "3    5/9/18 1:06  Some college/university study without earning ...   \n",
              "4  4/12/18 22:41           Bachelor's degree (BA. BS. B.Eng.. etc.)   \n",
              "\n",
              "   ConvertedSalary Hobby       Country  StackOverflowJobsRecommend  \\\n",
              "0              NaN   Yes  South Africa                         NaN   \n",
              "1          70841.0   Yes       Sweeden                         7.0   \n",
              "2              NaN    No       Sweeden                         8.0   \n",
              "3          21426.0   Yes       Sweeden                         NaN   \n",
              "4          41671.0   Yes            UK                         8.0   \n",
              "\n",
              "      VersionControl  Age  Years Experience Gender   RawSalary  \n",
              "0                Git   21                13   Male         NaN  \n",
              "1     Git;Subversion   38                 9   Male   70,841.00  \n",
              "2                Git   45                11    NaN         NaN  \n",
              "3  Zip file back-ups   46                12   Male   21,426.00  \n",
              "4                Git   39                 7   Male  £41,671.00  "
            ],
            "text/html": [
              "\n",
              "  <div id=\"df-ea8fc86f-3b48-415d-b670-6a17b6f7b30f\" class=\"colab-df-container\">\n",
              "    <div>\n",
              "<style scoped>\n",
              "    .dataframe tbody tr th:only-of-type {\n",
              "        vertical-align: middle;\n",
              "    }\n",
              "\n",
              "    .dataframe tbody tr th {\n",
              "        vertical-align: top;\n",
              "    }\n",
              "\n",
              "    .dataframe thead th {\n",
              "        text-align: right;\n",
              "    }\n",
              "</style>\n",
              "<table border=\"1\" class=\"dataframe\">\n",
              "  <thead>\n",
              "    <tr style=\"text-align: right;\">\n",
              "      <th></th>\n",
              "      <th>SurveyDate</th>\n",
              "      <th>FormalEducation</th>\n",
              "      <th>ConvertedSalary</th>\n",
              "      <th>Hobby</th>\n",
              "      <th>Country</th>\n",
              "      <th>StackOverflowJobsRecommend</th>\n",
              "      <th>VersionControl</th>\n",
              "      <th>Age</th>\n",
              "      <th>Years Experience</th>\n",
              "      <th>Gender</th>\n",
              "      <th>RawSalary</th>\n",
              "    </tr>\n",
              "  </thead>\n",
              "  <tbody>\n",
              "    <tr>\n",
              "      <th>0</th>\n",
              "      <td>2/28/18 20:20</td>\n",
              "      <td>Bachelor's degree (BA. BS. B.Eng.. etc.)</td>\n",
              "      <td>NaN</td>\n",
              "      <td>Yes</td>\n",
              "      <td>South Africa</td>\n",
              "      <td>NaN</td>\n",
              "      <td>Git</td>\n",
              "      <td>21</td>\n",
              "      <td>13</td>\n",
              "      <td>Male</td>\n",
              "      <td>NaN</td>\n",
              "    </tr>\n",
              "    <tr>\n",
              "      <th>1</th>\n",
              "      <td>6/28/18 13:26</td>\n",
              "      <td>Bachelor's degree (BA. BS. B.Eng.. etc.)</td>\n",
              "      <td>70841.0</td>\n",
              "      <td>Yes</td>\n",
              "      <td>Sweeden</td>\n",
              "      <td>7.0</td>\n",
              "      <td>Git;Subversion</td>\n",
              "      <td>38</td>\n",
              "      <td>9</td>\n",
              "      <td>Male</td>\n",
              "      <td>70,841.00</td>\n",
              "    </tr>\n",
              "    <tr>\n",
              "      <th>2</th>\n",
              "      <td>6/6/18 3:37</td>\n",
              "      <td>Bachelor's degree (BA. BS. B.Eng.. etc.)</td>\n",
              "      <td>NaN</td>\n",
              "      <td>No</td>\n",
              "      <td>Sweeden</td>\n",
              "      <td>8.0</td>\n",
              "      <td>Git</td>\n",
              "      <td>45</td>\n",
              "      <td>11</td>\n",
              "      <td>NaN</td>\n",
              "      <td>NaN</td>\n",
              "    </tr>\n",
              "    <tr>\n",
              "      <th>3</th>\n",
              "      <td>5/9/18 1:06</td>\n",
              "      <td>Some college/university study without earning ...</td>\n",
              "      <td>21426.0</td>\n",
              "      <td>Yes</td>\n",
              "      <td>Sweeden</td>\n",
              "      <td>NaN</td>\n",
              "      <td>Zip file back-ups</td>\n",
              "      <td>46</td>\n",
              "      <td>12</td>\n",
              "      <td>Male</td>\n",
              "      <td>21,426.00</td>\n",
              "    </tr>\n",
              "    <tr>\n",
              "      <th>4</th>\n",
              "      <td>4/12/18 22:41</td>\n",
              "      <td>Bachelor's degree (BA. BS. B.Eng.. etc.)</td>\n",
              "      <td>41671.0</td>\n",
              "      <td>Yes</td>\n",
              "      <td>UK</td>\n",
              "      <td>8.0</td>\n",
              "      <td>Git</td>\n",
              "      <td>39</td>\n",
              "      <td>7</td>\n",
              "      <td>Male</td>\n",
              "      <td>£41,671.00</td>\n",
              "    </tr>\n",
              "  </tbody>\n",
              "</table>\n",
              "</div>\n",
              "    <div class=\"colab-df-buttons\">\n",
              "\n",
              "  <div class=\"colab-df-container\">\n",
              "    <button class=\"colab-df-convert\" onclick=\"convertToInteractive('df-ea8fc86f-3b48-415d-b670-6a17b6f7b30f')\"\n",
              "            title=\"Convert this dataframe to an interactive table.\"\n",
              "            style=\"display:none;\">\n",
              "\n",
              "  <svg xmlns=\"http://www.w3.org/2000/svg\" height=\"24px\" viewBox=\"0 -960 960 960\">\n",
              "    <path d=\"M120-120v-720h720v720H120Zm60-500h600v-160H180v160Zm220 220h160v-160H400v160Zm0 220h160v-160H400v160ZM180-400h160v-160H180v160Zm440 0h160v-160H620v160ZM180-180h160v-160H180v160Zm440 0h160v-160H620v160Z\"/>\n",
              "  </svg>\n",
              "    </button>\n",
              "\n",
              "  <style>\n",
              "    .colab-df-container {\n",
              "      display:flex;\n",
              "      gap: 12px;\n",
              "    }\n",
              "\n",
              "    .colab-df-convert {\n",
              "      background-color: #E8F0FE;\n",
              "      border: none;\n",
              "      border-radius: 50%;\n",
              "      cursor: pointer;\n",
              "      display: none;\n",
              "      fill: #1967D2;\n",
              "      height: 32px;\n",
              "      padding: 0 0 0 0;\n",
              "      width: 32px;\n",
              "    }\n",
              "\n",
              "    .colab-df-convert:hover {\n",
              "      background-color: #E2EBFA;\n",
              "      box-shadow: 0px 1px 2px rgba(60, 64, 67, 0.3), 0px 1px 3px 1px rgba(60, 64, 67, 0.15);\n",
              "      fill: #174EA6;\n",
              "    }\n",
              "\n",
              "    .colab-df-buttons div {\n",
              "      margin-bottom: 4px;\n",
              "    }\n",
              "\n",
              "    [theme=dark] .colab-df-convert {\n",
              "      background-color: #3B4455;\n",
              "      fill: #D2E3FC;\n",
              "    }\n",
              "\n",
              "    [theme=dark] .colab-df-convert:hover {\n",
              "      background-color: #434B5C;\n",
              "      box-shadow: 0px 1px 3px 1px rgba(0, 0, 0, 0.15);\n",
              "      filter: drop-shadow(0px 1px 2px rgba(0, 0, 0, 0.3));\n",
              "      fill: #FFFFFF;\n",
              "    }\n",
              "  </style>\n",
              "\n",
              "    <script>\n",
              "      const buttonEl =\n",
              "        document.querySelector('#df-ea8fc86f-3b48-415d-b670-6a17b6f7b30f button.colab-df-convert');\n",
              "      buttonEl.style.display =\n",
              "        google.colab.kernel.accessAllowed ? 'block' : 'none';\n",
              "\n",
              "      async function convertToInteractive(key) {\n",
              "        const element = document.querySelector('#df-ea8fc86f-3b48-415d-b670-6a17b6f7b30f');\n",
              "        const dataTable =\n",
              "          await google.colab.kernel.invokeFunction('convertToInteractive',\n",
              "                                                    [key], {});\n",
              "        if (!dataTable) return;\n",
              "\n",
              "        const docLinkHtml = 'Like what you see? Visit the ' +\n",
              "          '<a target=\"_blank\" href=https://colab.research.google.com/notebooks/data_table.ipynb>data table notebook</a>'\n",
              "          + ' to learn more about interactive tables.';\n",
              "        element.innerHTML = '';\n",
              "        dataTable['output_type'] = 'display_data';\n",
              "        await google.colab.output.renderOutput(dataTable, element);\n",
              "        const docLink = document.createElement('div');\n",
              "        docLink.innerHTML = docLinkHtml;\n",
              "        element.appendChild(docLink);\n",
              "      }\n",
              "    </script>\n",
              "  </div>\n",
              "\n",
              "\n",
              "    <div id=\"df-1cb5dc32-2927-40f0-8ddb-45e800b5f18b\">\n",
              "      <button class=\"colab-df-quickchart\" onclick=\"quickchart('df-1cb5dc32-2927-40f0-8ddb-45e800b5f18b')\"\n",
              "                title=\"Suggest charts\"\n",
              "                style=\"display:none;\">\n",
              "\n",
              "<svg xmlns=\"http://www.w3.org/2000/svg\" height=\"24px\"viewBox=\"0 0 24 24\"\n",
              "     width=\"24px\">\n",
              "    <g>\n",
              "        <path d=\"M19 3H5c-1.1 0-2 .9-2 2v14c0 1.1.9 2 2 2h14c1.1 0 2-.9 2-2V5c0-1.1-.9-2-2-2zM9 17H7v-7h2v7zm4 0h-2V7h2v10zm4 0h-2v-4h2v4z\"/>\n",
              "    </g>\n",
              "</svg>\n",
              "      </button>\n",
              "\n",
              "<style>\n",
              "  .colab-df-quickchart {\n",
              "      --bg-color: #E8F0FE;\n",
              "      --fill-color: #1967D2;\n",
              "      --hover-bg-color: #E2EBFA;\n",
              "      --hover-fill-color: #174EA6;\n",
              "      --disabled-fill-color: #AAA;\n",
              "      --disabled-bg-color: #DDD;\n",
              "  }\n",
              "\n",
              "  [theme=dark] .colab-df-quickchart {\n",
              "      --bg-color: #3B4455;\n",
              "      --fill-color: #D2E3FC;\n",
              "      --hover-bg-color: #434B5C;\n",
              "      --hover-fill-color: #FFFFFF;\n",
              "      --disabled-bg-color: #3B4455;\n",
              "      --disabled-fill-color: #666;\n",
              "  }\n",
              "\n",
              "  .colab-df-quickchart {\n",
              "    background-color: var(--bg-color);\n",
              "    border: none;\n",
              "    border-radius: 50%;\n",
              "    cursor: pointer;\n",
              "    display: none;\n",
              "    fill: var(--fill-color);\n",
              "    height: 32px;\n",
              "    padding: 0;\n",
              "    width: 32px;\n",
              "  }\n",
              "\n",
              "  .colab-df-quickchart:hover {\n",
              "    background-color: var(--hover-bg-color);\n",
              "    box-shadow: 0 1px 2px rgba(60, 64, 67, 0.3), 0 1px 3px 1px rgba(60, 64, 67, 0.15);\n",
              "    fill: var(--button-hover-fill-color);\n",
              "  }\n",
              "\n",
              "  .colab-df-quickchart-complete:disabled,\n",
              "  .colab-df-quickchart-complete:disabled:hover {\n",
              "    background-color: var(--disabled-bg-color);\n",
              "    fill: var(--disabled-fill-color);\n",
              "    box-shadow: none;\n",
              "  }\n",
              "\n",
              "  .colab-df-spinner {\n",
              "    border: 2px solid var(--fill-color);\n",
              "    border-color: transparent;\n",
              "    border-bottom-color: var(--fill-color);\n",
              "    animation:\n",
              "      spin 1s steps(1) infinite;\n",
              "  }\n",
              "\n",
              "  @keyframes spin {\n",
              "    0% {\n",
              "      border-color: transparent;\n",
              "      border-bottom-color: var(--fill-color);\n",
              "      border-left-color: var(--fill-color);\n",
              "    }\n",
              "    20% {\n",
              "      border-color: transparent;\n",
              "      border-left-color: var(--fill-color);\n",
              "      border-top-color: var(--fill-color);\n",
              "    }\n",
              "    30% {\n",
              "      border-color: transparent;\n",
              "      border-left-color: var(--fill-color);\n",
              "      border-top-color: var(--fill-color);\n",
              "      border-right-color: var(--fill-color);\n",
              "    }\n",
              "    40% {\n",
              "      border-color: transparent;\n",
              "      border-right-color: var(--fill-color);\n",
              "      border-top-color: var(--fill-color);\n",
              "    }\n",
              "    60% {\n",
              "      border-color: transparent;\n",
              "      border-right-color: var(--fill-color);\n",
              "    }\n",
              "    80% {\n",
              "      border-color: transparent;\n",
              "      border-right-color: var(--fill-color);\n",
              "      border-bottom-color: var(--fill-color);\n",
              "    }\n",
              "    90% {\n",
              "      border-color: transparent;\n",
              "      border-bottom-color: var(--fill-color);\n",
              "    }\n",
              "  }\n",
              "</style>\n",
              "\n",
              "      <script>\n",
              "        async function quickchart(key) {\n",
              "          const quickchartButtonEl =\n",
              "            document.querySelector('#' + key + ' button');\n",
              "          quickchartButtonEl.disabled = true;  // To prevent multiple clicks.\n",
              "          quickchartButtonEl.classList.add('colab-df-spinner');\n",
              "          try {\n",
              "            const charts = await google.colab.kernel.invokeFunction(\n",
              "                'suggestCharts', [key], {});\n",
              "          } catch (error) {\n",
              "            console.error('Error during call to suggestCharts:', error);\n",
              "          }\n",
              "          quickchartButtonEl.classList.remove('colab-df-spinner');\n",
              "          quickchartButtonEl.classList.add('colab-df-quickchart-complete');\n",
              "        }\n",
              "        (() => {\n",
              "          let quickchartButtonEl =\n",
              "            document.querySelector('#df-1cb5dc32-2927-40f0-8ddb-45e800b5f18b button');\n",
              "          quickchartButtonEl.style.display =\n",
              "            google.colab.kernel.accessAllowed ? 'block' : 'none';\n",
              "        })();\n",
              "      </script>\n",
              "    </div>\n",
              "\n",
              "    </div>\n",
              "  </div>\n"
            ],
            "application/vnd.google.colaboratory.intrinsic+json": {
              "type": "dataframe",
              "summary": "{\n  \"name\": \"print(so_survey_df\",\n  \"rows\": 5,\n  \"fields\": [\n    {\n      \"column\": \"SurveyDate\",\n      \"properties\": {\n        \"dtype\": \"object\",\n        \"num_unique_values\": 5,\n        \"samples\": [\n          \"6/28/18 13:26\",\n          \"4/12/18 22:41\",\n          \"6/6/18 3:37\"\n        ],\n        \"semantic_type\": \"\",\n        \"description\": \"\"\n      }\n    },\n    {\n      \"column\": \"FormalEducation\",\n      \"properties\": {\n        \"dtype\": \"category\",\n        \"num_unique_values\": 2,\n        \"samples\": [\n          \"Some college/university study without earning a degree\",\n          \"Bachelor's degree (BA. BS. B.Eng.. etc.)\"\n        ],\n        \"semantic_type\": \"\",\n        \"description\": \"\"\n      }\n    },\n    {\n      \"column\": \"ConvertedSalary\",\n      \"properties\": {\n        \"dtype\": \"number\",\n        \"std\": 24841.467851155656,\n        \"min\": 21426.0,\n        \"max\": 70841.0,\n        \"num_unique_values\": 3,\n        \"samples\": [\n          70841.0,\n          21426.0\n        ],\n        \"semantic_type\": \"\",\n        \"description\": \"\"\n      }\n    },\n    {\n      \"column\": \"Hobby\",\n      \"properties\": {\n        \"dtype\": \"category\",\n        \"num_unique_values\": 2,\n        \"samples\": [\n          \"No\",\n          \"Yes\"\n        ],\n        \"semantic_type\": \"\",\n        \"description\": \"\"\n      }\n    },\n    {\n      \"column\": \"Country\",\n      \"properties\": {\n        \"dtype\": \"string\",\n        \"num_unique_values\": 3,\n        \"samples\": [\n          \"South Africa\",\n          \"Sweeden\"\n        ],\n        \"semantic_type\": \"\",\n        \"description\": \"\"\n      }\n    },\n    {\n      \"column\": \"StackOverflowJobsRecommend\",\n      \"properties\": {\n        \"dtype\": \"number\",\n        \"std\": 0.5773502691896258,\n        \"min\": 7.0,\n        \"max\": 8.0,\n        \"num_unique_values\": 2,\n        \"samples\": [\n          8.0,\n          7.0\n        ],\n        \"semantic_type\": \"\",\n        \"description\": \"\"\n      }\n    },\n    {\n      \"column\": \"VersionControl\",\n      \"properties\": {\n        \"dtype\": \"string\",\n        \"num_unique_values\": 3,\n        \"samples\": [\n          \"Git\",\n          \"Git;Subversion\"\n        ],\n        \"semantic_type\": \"\",\n        \"description\": \"\"\n      }\n    },\n    {\n      \"column\": \"Age\",\n      \"properties\": {\n        \"dtype\": \"number\",\n        \"std\": 10,\n        \"min\": 21,\n        \"max\": 46,\n        \"num_unique_values\": 5,\n        \"samples\": [\n          38,\n          39\n        ],\n        \"semantic_type\": \"\",\n        \"description\": \"\"\n      }\n    },\n    {\n      \"column\": \"Years Experience\",\n      \"properties\": {\n        \"dtype\": \"number\",\n        \"std\": 2,\n        \"min\": 7,\n        \"max\": 13,\n        \"num_unique_values\": 5,\n        \"samples\": [\n          9,\n          7\n        ],\n        \"semantic_type\": \"\",\n        \"description\": \"\"\n      }\n    },\n    {\n      \"column\": \"Gender\",\n      \"properties\": {\n        \"dtype\": \"category\",\n        \"num_unique_values\": 1,\n        \"samples\": [\n          \"Male\"\n        ],\n        \"semantic_type\": \"\",\n        \"description\": \"\"\n      }\n    },\n    {\n      \"column\": \"RawSalary\",\n      \"properties\": {\n        \"dtype\": \"string\",\n        \"num_unique_values\": 3,\n        \"samples\": [\n          \"70,841.00\"\n        ],\n        \"semantic_type\": \"\",\n        \"description\": \"\"\n      }\n    }\n  ]\n}"
            }
          },
          "metadata": {}
        },
        {
          "output_type": "stream",
          "name": "stdout",
          "text": [
            "SurveyDate                     object\n",
            "FormalEducation                object\n",
            "ConvertedSalary               float64\n",
            "Hobby                          object\n",
            "Country                        object\n",
            "StackOverflowJobsRecommend    float64\n",
            "VersionControl                 object\n",
            "Age                             int64\n",
            "Years Experience                int64\n",
            "Gender                         object\n",
            "RawSalary                      object\n",
            "dtype: object\n"
          ]
        }
      ],
      "source": [
        "\n",
        "import matplotlib.pyplot as plt\n",
        "import seaborn as sns\n",
        "import numpy as np\n",
        "import pandas as pd\n",
        "import datetime as dt\n",
        "# Import confusion matrix and train_test_split\n",
        "from sklearn.metrics import confusion_matrix, classification_report\n",
        "from sklearn.neighbors import KNeighborsClassifier\n",
        "from sklearn.svm import SVC\n",
        "from sklearn.model_selection import train_test_split, KFold, cross_val_score, GridSearchCV\n",
        "from sklearn.linear_model import Ridge, Lasso, LogisticRegression, LinearRegression\n",
        "from scipy.cluster.hierarchy import linkage, dendrogram\n",
        "import matplotlib.pyplot as plt\n",
        "from sklearn.linear_model import SGDClassifier\n",
        "\n",
        "\n",
        "\n",
        "\n",
        "url = \"https://raw.githubusercontent.com/Rohanrathod7/my-ml-labs/main/13_Feature_Engineering_for_Machine_Learning_in_Python/dataset/Stock_Combined_DS_v10.csv\"\n",
        "# Read the CSV file\n",
        "\n",
        "so_survey_df = pd.read_csv(url)\n",
        "display(so_survey_df.head())\n",
        "print(so_survey_df.dtypes)\n"
      ]
    },
    {
      "cell_type": "markdown",
      "source": [
        "**How sparse is my data?**  \n",
        "Most datasets contain missing values, often represented as NaN (Not a Number). If you are working with Pandas you can easily check how many missing values exist in each column.\n",
        "\n",
        "Let's find out how many of the developers taking the survey chose to enter their age (found in the Age column of so_survey_df) and their gender (Gender column of so_survey_df)."
      ],
      "metadata": {
        "id": "9gUXyRVZNWAR"
      }
    },
    {
      "cell_type": "code",
      "source": [
        "# Subset the DataFrame\n",
        "sub_df = so_survey_df[['Age', 'Gender']]\n",
        "\n",
        "# Print the number of non-missing values\n",
        "print(sub_df.info())\n"
      ],
      "metadata": {
        "colab": {
          "base_uri": "https://localhost:8080/"
        },
        "id": "fn76AbgJOAEW",
        "outputId": "9989125d-20b3-45d3-c8a2-3b551b59236c"
      },
      "execution_count": 24,
      "outputs": [
        {
          "output_type": "stream",
          "name": "stdout",
          "text": [
            "<class 'pandas.core.frame.DataFrame'>\n",
            "RangeIndex: 999 entries, 0 to 998\n",
            "Data columns (total 2 columns):\n",
            " #   Column  Non-Null Count  Dtype \n",
            "---  ------  --------------  ----- \n",
            " 0   Age     999 non-null    int64 \n",
            " 1   Gender  693 non-null    object\n",
            "dtypes: int64(1), object(1)\n",
            "memory usage: 15.7+ KB\n",
            "None\n"
          ]
        }
      ]
    },
    {
      "cell_type": "markdown",
      "source": [
        "**Finding the missing values**  \n",
        "While having a summary of how much of your data is missing can be useful, often you will need to find the exact locations of these missing values. Using the same subset of the StackOverflow data from the last exercise (sub_df), you will show how a value can be flagged as missing."
      ],
      "metadata": {
        "id": "uRUeuqXeONlB"
      }
    },
    {
      "cell_type": "code",
      "source": [
        "# Print the top 10 entries of the DataFrame\n",
        "print(sub_df.head(10))\n",
        "\n",
        "# Print the locations of the missing values\n",
        "print(sub_df.head(10).isnull())\n",
        "\n",
        "# Print the locations of the non-missing values\n",
        "print(sub_df.head(10).notnull())\n",
        "\n",
        "# finding where the missing values exist can often be importan"
      ],
      "metadata": {
        "colab": {
          "base_uri": "https://localhost:8080/"
        },
        "id": "dqAOSenyOg2-",
        "outputId": "096c2a00-bca7-4f42-e215-500da05a2744"
      },
      "execution_count": 25,
      "outputs": [
        {
          "output_type": "stream",
          "name": "stdout",
          "text": [
            "   Age  Gender\n",
            "0   21    Male\n",
            "1   38    Male\n",
            "2   45     NaN\n",
            "3   46    Male\n",
            "4   39    Male\n",
            "5   39    Male\n",
            "6   34    Male\n",
            "7   24  Female\n",
            "8   23    Male\n",
            "9   36     NaN\n",
            "     Age  Gender\n",
            "0  False   False\n",
            "1  False   False\n",
            "2  False    True\n",
            "3  False   False\n",
            "4  False   False\n",
            "5  False   False\n",
            "6  False   False\n",
            "7  False   False\n",
            "8  False   False\n",
            "9  False    True\n",
            "    Age  Gender\n",
            "0  True    True\n",
            "1  True    True\n",
            "2  True   False\n",
            "3  True    True\n",
            "4  True    True\n",
            "5  True    True\n",
            "6  True    True\n",
            "7  True    True\n",
            "8  True    True\n",
            "9  True   False\n"
          ]
        }
      ]
    },
    {
      "cell_type": "markdown",
      "source": [
        "### Dealing with missing values (I)"
      ],
      "metadata": {
        "id": "VvBWMjyHO6zA"
      }
    },
    {
      "cell_type": "markdown",
      "source": [
        "**Listwise deletion**  \n",
        "The simplest way to deal with missing values in your dataset when they are occurring entirely at random is to remove those rows, also called 'listwise deletion'.\n",
        "\n",
        "Depending on the use case, you will sometimes want to remove all missing values in your data while other times you may want to only remove a particular column if too many values are missing in that column.\n",
        "\n"
      ],
      "metadata": {
        "id": "rZXUuAboP9lS"
      }
    },
    {
      "cell_type": "code",
      "source": [
        "# Print the number of rows and columns\n",
        "print(so_survey_df.shape)"
      ],
      "metadata": {
        "colab": {
          "base_uri": "https://localhost:8080/"
        },
        "id": "uutEgVwgQ3Jx",
        "outputId": "ebcb49ef-9de6-4007-84d3-613724992f8b"
      },
      "execution_count": 26,
      "outputs": [
        {
          "output_type": "stream",
          "name": "stdout",
          "text": [
            "(999, 11)\n"
          ]
        }
      ]
    },
    {
      "cell_type": "code",
      "source": [
        "# Create a new DataFrame dropping all incomplete rows\n",
        "no_missing_values_rows = so_survey_df.dropna()\n",
        "\n",
        "# Print the shape of the new DataFrame\n",
        "print(no_missing_values_rows.shape)"
      ],
      "metadata": {
        "colab": {
          "base_uri": "https://localhost:8080/"
        },
        "id": "fzKQPpQ_O6kA",
        "outputId": "2e3c6fbe-9a21-49ca-ea5c-ddb8b8008272"
      },
      "execution_count": 27,
      "outputs": [
        {
          "output_type": "stream",
          "name": "stdout",
          "text": [
            "(264, 11)\n"
          ]
        }
      ]
    },
    {
      "cell_type": "code",
      "source": [
        "# Create a new DataFrame dropping all columns with incomplete rows\n",
        "no_missing_values_cols = so_survey_df.dropna(how=\"any\", axis=1)\n",
        "\n",
        "# Print the shape of the new DataFrame\n",
        "print(no_missing_values_cols.shape)"
      ],
      "metadata": {
        "colab": {
          "base_uri": "https://localhost:8080/"
        },
        "id": "3EpzX6HSQ6M3",
        "outputId": "03ad0741-1865-42ac-ace1-dfa026755ede"
      },
      "execution_count": 28,
      "outputs": [
        {
          "output_type": "stream",
          "name": "stdout",
          "text": [
            "(999, 7)\n"
          ]
        }
      ]
    },
    {
      "cell_type": "code",
      "source": [
        "# Drop all rows where Gender is missing\n",
        "no_gender = so_survey_df.dropna(subset=[\"Gender\"])\n",
        "\n",
        "# Print the shape of the new DataFrame\n",
        "print(no_gender.shape)\n",
        "\n",
        "# as you can see dropping all rows that contain any missing values may greatly reduce the size of your dataset.\n",
        "# So you need to think carefully and consider several trade-offs when deleting missing values."
      ],
      "metadata": {
        "colab": {
          "base_uri": "https://localhost:8080/"
        },
        "id": "AtgNt0IPQ8eQ",
        "outputId": "c3aeca94-fd39-48b7-e7a7-94b906942d51"
      },
      "execution_count": 29,
      "outputs": [
        {
          "output_type": "stream",
          "name": "stdout",
          "text": [
            "(693, 11)\n"
          ]
        }
      ]
    },
    {
      "cell_type": "markdown",
      "source": [
        "**Replacing missing values with constants**  \n",
        "While removing missing data entirely maybe a correct approach in many situations, this may result in a lot of information being omitted from your models.\n",
        "\n",
        "You may find categorical columns where the missing value is a valid piece of information in itself, such as someone refusing to answer a question in a survey. In these cases, you can fill all missing values with a new category entirely, for example 'No response given'."
      ],
      "metadata": {
        "id": "kaAW9FH1RDNL"
      }
    },
    {
      "cell_type": "code",
      "source": [
        "# Replace missing values\n",
        "so_survey_df['Gender'].fillna(value=\"Not Given\", inplace=True)\n",
        "\n",
        "# Print the count of each value\n",
        "print(so_survey_df['Gender'].value_counts())\n",
        "\n",
        "# By filling in these missing values you can use the columns in your analyses."
      ],
      "metadata": {
        "colab": {
          "base_uri": "https://localhost:8080/"
        },
        "id": "YJwHhmt4Re7x",
        "outputId": "a870053b-e199-4b38-8bdc-c0b28c3585de"
      },
      "execution_count": 30,
      "outputs": [
        {
          "output_type": "stream",
          "name": "stdout",
          "text": [
            "Gender\n",
            "Male                                                                         632\n",
            "Not Given                                                                    306\n",
            "Female                                                                        53\n",
            "Female;Male                                                                    2\n",
            "Transgender                                                                    2\n",
            "Female;Male;Transgender;Non-binary. genderqueer. or gender non-conforming      1\n",
            "Male;Non-binary. genderqueer. or gender non-conforming                         1\n",
            "Non-binary. genderqueer. or gender non-conforming                              1\n",
            "Female;Transgender                                                             1\n",
            "Name: count, dtype: int64\n"
          ]
        },
        {
          "output_type": "stream",
          "name": "stderr",
          "text": [
            "/tmp/ipython-input-30-2002457165.py:2: FutureWarning: A value is trying to be set on a copy of a DataFrame or Series through chained assignment using an inplace method.\n",
            "The behavior will change in pandas 3.0. This inplace method will never work because the intermediate object on which we are setting values always behaves as a copy.\n",
            "\n",
            "For example, when doing 'df[col].method(value, inplace=True)', try using 'df.method({col: value}, inplace=True)' or df[col] = df[col].method(value) instead, to perform the operation inplace on the original object.\n",
            "\n",
            "\n",
            "  so_survey_df['Gender'].fillna(value=\"Not Given\", inplace=True)\n"
          ]
        }
      ]
    },
    {
      "cell_type": "markdown",
      "source": [
        "### Dealing with missing values (II)"
      ],
      "metadata": {
        "id": "AkShxeVwRkOS"
      }
    },
    {
      "cell_type": "markdown",
      "source": [
        "**Filling continuous missing values**  \n",
        "In the last lesson, you dealt with different methods of removing data missing values and filling in missing values with a fixed string. These approaches are valid in many cases, particularly when dealing with categorical columns but have limited use when working with continuous values. In these cases, it may be most valid to fill the missing values in the column with a value calculated from the entries present in the column."
      ],
      "metadata": {
        "id": "l5PgkAjKSG9w"
      }
    },
    {
      "cell_type": "code",
      "source": [
        "# Fill missing values with the mean\n",
        "so_survey_df['StackOverflowJobsRecommend'].fillna(so_survey_df['StackOverflowJobsRecommend'].mean(), inplace=True)\n",
        "\n",
        "# Round the StackOverflowJobsRecommend values\n",
        "so_survey_df['StackOverflowJobsRecommend'] = np.round(so_survey_df['StackOverflowJobsRecommend'])\n",
        "\n",
        "# Print the top 5 rows\n",
        "print(so_survey_df['StackOverflowJobsRecommend'].head())\n",
        "\n",
        "# remember you should only round your values if you are certain it is applicable."
      ],
      "metadata": {
        "colab": {
          "base_uri": "https://localhost:8080/"
        },
        "id": "8YSE8BIYSbr4",
        "outputId": "20e55b6a-268a-4364-87b7-696037902974"
      },
      "execution_count": 31,
      "outputs": [
        {
          "output_type": "stream",
          "name": "stdout",
          "text": [
            "0    7.0\n",
            "1    7.0\n",
            "2    8.0\n",
            "3    7.0\n",
            "4    8.0\n",
            "Name: StackOverflowJobsRecommend, dtype: float64\n"
          ]
        },
        {
          "output_type": "stream",
          "name": "stderr",
          "text": [
            "/tmp/ipython-input-31-3994556422.py:2: FutureWarning: A value is trying to be set on a copy of a DataFrame or Series through chained assignment using an inplace method.\n",
            "The behavior will change in pandas 3.0. This inplace method will never work because the intermediate object on which we are setting values always behaves as a copy.\n",
            "\n",
            "For example, when doing 'df[col].method(value, inplace=True)', try using 'df.method({col: value}, inplace=True)' or df[col] = df[col].method(value) instead, to perform the operation inplace on the original object.\n",
            "\n",
            "\n",
            "  so_survey_df['StackOverflowJobsRecommend'].fillna(so_survey_df['StackOverflowJobsRecommend'].mean(), inplace=True)\n"
          ]
        }
      ]
    },
    {
      "cell_type": "markdown",
      "source": [
        "### Dealing with other data issues"
      ],
      "metadata": {
        "id": "acRWamHISxWN"
      }
    },
    {
      "cell_type": "markdown",
      "source": [
        "**Dealing with stray characters (I)**  \n",
        "In this exercise, you will work with the RawSalary column of so_survey_df which contains the wages of the respondents along with the currency symbols and commas, such as $42,000. When importing data from Microsoft Excel, more often that not you will come across data in this form."
      ],
      "metadata": {
        "id": "NVwaH_nxTVA9"
      }
    },
    {
      "cell_type": "code",
      "source": [
        "# Remove the commas in the column\n",
        "so_survey_df['RawSalary'] = so_survey_df['RawSalary'].str.replace(',', '')"
      ],
      "metadata": {
        "id": "fVXg-pYxTgN0"
      },
      "execution_count": 32,
      "outputs": []
    },
    {
      "cell_type": "code",
      "source": [
        "# Remove the dollar signs in the column\n",
        "so_survey_df['RawSalary'] = so_survey_df['RawSalary'].str.replace(\"$\", \"\")\n",
        "\n",
        "# Replacing/removing specific characters is a very useful skill"
      ],
      "metadata": {
        "id": "llifvW4SThy4"
      },
      "execution_count": 33,
      "outputs": []
    },
    {
      "cell_type": "markdown",
      "source": [
        "**vDealing with stray characters (II)**   \n",
        "In the last exercise, you could tell quickly based off of the df.head() call which characters were causing an issue. In many cases this will not be so apparent. There will often be values deep within a column that are preventing you from casting a column as a numeric type so that it can be used in a model or further feature engineering.\n",
        "\n",
        "One approach to finding these values is to force the column to the data type desired using pd.to_numeric(), coercing any values causing issues to NaN, Then filtering the DataFrame by just the rows containing the NaN values.\n",
        "\n",
        "Try to cast the RawSalary column as a float and it will fail as an additional character can now be found in it. Find the character and remove it so the column can be cast as a float."
      ],
      "metadata": {
        "id": "a-Om-JbPTpxm"
      }
    },
    {
      "cell_type": "code",
      "source": [
        "# Attempt to convert the column to numeric values\n",
        "# Attempt to convert the column to numeric values\n",
        "numeric_vals = pd.to_numeric(so_survey_df['RawSalary'], errors='coerce')\n",
        "\n",
        "# Find the indexes of missing values\n",
        "idx = numeric_vals.isna()\n",
        "\n",
        "# Print the relevant rows\n",
        "print(so_survey_df['RawSalary'][idx])"
      ],
      "metadata": {
        "colab": {
          "base_uri": "https://localhost:8080/"
        },
        "id": "toX5ghIUTtIt",
        "outputId": "adfb8f73-6854-402b-c943-36956f7d1dd3"
      },
      "execution_count": 34,
      "outputs": [
        {
          "output_type": "stream",
          "name": "stdout",
          "text": [
            "0            NaN\n",
            "2            NaN\n",
            "4      £41671.00\n",
            "6            NaN\n",
            "8            NaN\n",
            "         ...    \n",
            "989          NaN\n",
            "990          NaN\n",
            "992          NaN\n",
            "994          NaN\n",
            "997          NaN\n",
            "Name: RawSalary, Length: 401, dtype: object\n"
          ]
        }
      ]
    },
    {
      "cell_type": "code",
      "source": [
        "# Replace the offending characters\n",
        "so_survey_df['RawSalary'] = so_survey_df['RawSalary'].str.replace(\"£\", \"\")\n",
        "\n",
        "# # Convert the column to float\n",
        "# so_survey_df['RawSalary'] = so_survey_df['RawSalary'].astype(\"float\")\n",
        "\n",
        "# Print the column\n",
        "print(so_survey_df['RawSalary'])\n",
        "\n",
        "# Remember that even after removing all the relevant characters,\n",
        "# you still need to change the type of the column to numeric if you want to plot these continuous values."
      ],
      "metadata": {
        "colab": {
          "base_uri": "https://localhost:8080/"
        },
        "id": "-l5jJehxUd1_",
        "outputId": "6650c687-6cc7-49cd-ff20-aa4ffe634623"
      },
      "execution_count": 35,
      "outputs": [
        {
          "output_type": "stream",
          "name": "stdout",
          "text": [
            "0             NaN\n",
            "1        70841.00\n",
            "2             NaN\n",
            "3        21426.00\n",
            "4        41671.00\n",
            "          ...    \n",
            "994           NaN\n",
            "995      58746.00\n",
            "996      55000.00\n",
            "997           NaN\n",
            "998    1000000.00\n",
            "Name: RawSalary, Length: 999, dtype: object\n"
          ]
        }
      ]
    },
    {
      "cell_type": "markdown",
      "source": [
        "Method chaining\n",
        "When applying multiple operations on the same column (like in the previous exercises), you made the changes in several steps, assigning the results back in each step. However, when applying multiple successive operations on the same column, you can \"chain\" these operations together for clarity and ease of management. This can be achieved by calling multiple methods sequentially:\n",
        "\n",
        "    # Method chaining\n",
        "    df['column'] = df['column'].method1().method2().method3()\n",
        "\n",
        "    # Same as\n",
        "    df['column'] = df['column'].method1()\n",
        "    df['column'] = df['column'].method2()\n",
        "    df['column'] = df['column'].method3()\n",
        "In this exercise you will repeat the steps you performed in the last two exercises, but do so using method chaining."
      ],
      "metadata": {
        "id": "RIZvzzw0UkkI"
      }
    },
    {
      "cell_type": "code",
      "source": [
        "# Use method chaining\n",
        "so_survey_df['RawSalary'] = so_survey_df['RawSalary']\\\n",
        "                              .str.replace(',', '')\\\n",
        "                              .str.replace('$', '')\\\n",
        "                              .str.replace('£', '')\\\n",
        "                              .astype('float')\n",
        "\n",
        "# Print the RawSalary column\n",
        "print(so_survey_df['RawSalary'])\n",
        "\n",
        "# Custom functions can be also used when method chaining using the .apply() method."
      ],
      "metadata": {
        "colab": {
          "base_uri": "https://localhost:8080/"
        },
        "id": "QcSQ3UG8Ux1o",
        "outputId": "d4cd1322-4534-417b-bf02-9d8d64dbe027"
      },
      "execution_count": 36,
      "outputs": [
        {
          "output_type": "stream",
          "name": "stdout",
          "text": [
            "0            NaN\n",
            "1        70841.0\n",
            "2            NaN\n",
            "3        21426.0\n",
            "4        41671.0\n",
            "         ...    \n",
            "994          NaN\n",
            "995      58746.0\n",
            "996      55000.0\n",
            "997          NaN\n",
            "998    1000000.0\n",
            "Name: RawSalary, Length: 999, dtype: float64\n"
          ]
        }
      ]
    }
  ]
}