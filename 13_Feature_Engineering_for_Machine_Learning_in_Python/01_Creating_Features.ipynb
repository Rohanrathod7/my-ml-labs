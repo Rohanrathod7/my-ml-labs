{
  "nbformat": 4,
  "nbformat_minor": 0,
  "metadata": {
    "colab": {
      "provenance": [],
      "authorship_tag": "ABX9TyMEQN+pCuo1JIUhXsJIRMKR",
      "include_colab_link": true
    },
    "kernelspec": {
      "name": "python3",
      "display_name": "Python 3"
    },
    "language_info": {
      "name": "python"
    }
  },
  "cells": [
    {
      "cell_type": "markdown",
      "metadata": {
        "id": "view-in-github",
        "colab_type": "text"
      },
      "source": [
        "<a href=\"https://colab.research.google.com/github/Rohanrathod7/my-ml-labs/blob/main/13_Feature_Engineering_for_Machine_Learning_in_Python/01_Creating_Features.ipynb\" target=\"_parent\"><img src=\"https://colab.research.google.com/assets/colab-badge.svg\" alt=\"Open In Colab\"/></a>"
      ]
    },
    {
      "cell_type": "markdown",
      "source": [
        "### 1. Creating Features\n"
      ],
      "metadata": {
        "id": "69GNV3tpDLy3"
      }
    },
    {
      "cell_type": "markdown",
      "source": [
        "Every day you read about the amazing breakthroughs in how the newest applications of machine learning are changing the world. Often this reporting glosses over the fact that a huge amount of data munging and feature engineering must be done before any of these fancy models can be used. In this course, you will learn how to do just that. You will work with Stack Overflow Developers survey, and historic US presidential inauguration addresses, to understand how best to preprocess and engineer features from categorical, continuous, and unstructured data. This course will give you hands-on experience on how to prepare any data for your own machine learning models."
      ],
      "metadata": {
        "id": "O1MbJbAU-GKJ"
      }
    },
    {
      "cell_type": "code",
      "execution_count": 1,
      "metadata": {
        "id": "EUPpAj0HoP6i",
        "colab": {
          "base_uri": "https://localhost:8080/",
          "height": 414
        },
        "outputId": "fa56d242-db12-462e-f1cf-639a4f8ca8dc"
      },
      "outputs": [
        {
          "output_type": "display_data",
          "data": {
            "text/plain": [
              "      SurveyDate                                    FormalEducation  \\\n",
              "0  2/28/18 20:20           Bachelor's degree (BA. BS. B.Eng.. etc.)   \n",
              "1  6/28/18 13:26           Bachelor's degree (BA. BS. B.Eng.. etc.)   \n",
              "2    6/6/18 3:37           Bachelor's degree (BA. BS. B.Eng.. etc.)   \n",
              "3    5/9/18 1:06  Some college/university study without earning ...   \n",
              "4  4/12/18 22:41           Bachelor's degree (BA. BS. B.Eng.. etc.)   \n",
              "\n",
              "   ConvertedSalary Hobby       Country  StackOverflowJobsRecommend  \\\n",
              "0              NaN   Yes  South Africa                         NaN   \n",
              "1          70841.0   Yes       Sweeden                         7.0   \n",
              "2              NaN    No       Sweeden                         8.0   \n",
              "3          21426.0   Yes       Sweeden                         NaN   \n",
              "4          41671.0   Yes            UK                         8.0   \n",
              "\n",
              "      VersionControl  Age  Years Experience Gender   RawSalary  \n",
              "0                Git   21                13   Male         NaN  \n",
              "1     Git;Subversion   38                 9   Male   70,841.00  \n",
              "2                Git   45                11    NaN         NaN  \n",
              "3  Zip file back-ups   46                12   Male   21,426.00  \n",
              "4                Git   39                 7   Male  £41,671.00  "
            ],
            "text/html": [
              "\n",
              "  <div id=\"df-79a6557c-97d3-4097-a395-addfdb4a7e34\" class=\"colab-df-container\">\n",
              "    <div>\n",
              "<style scoped>\n",
              "    .dataframe tbody tr th:only-of-type {\n",
              "        vertical-align: middle;\n",
              "    }\n",
              "\n",
              "    .dataframe tbody tr th {\n",
              "        vertical-align: top;\n",
              "    }\n",
              "\n",
              "    .dataframe thead th {\n",
              "        text-align: right;\n",
              "    }\n",
              "</style>\n",
              "<table border=\"1\" class=\"dataframe\">\n",
              "  <thead>\n",
              "    <tr style=\"text-align: right;\">\n",
              "      <th></th>\n",
              "      <th>SurveyDate</th>\n",
              "      <th>FormalEducation</th>\n",
              "      <th>ConvertedSalary</th>\n",
              "      <th>Hobby</th>\n",
              "      <th>Country</th>\n",
              "      <th>StackOverflowJobsRecommend</th>\n",
              "      <th>VersionControl</th>\n",
              "      <th>Age</th>\n",
              "      <th>Years Experience</th>\n",
              "      <th>Gender</th>\n",
              "      <th>RawSalary</th>\n",
              "    </tr>\n",
              "  </thead>\n",
              "  <tbody>\n",
              "    <tr>\n",
              "      <th>0</th>\n",
              "      <td>2/28/18 20:20</td>\n",
              "      <td>Bachelor's degree (BA. BS. B.Eng.. etc.)</td>\n",
              "      <td>NaN</td>\n",
              "      <td>Yes</td>\n",
              "      <td>South Africa</td>\n",
              "      <td>NaN</td>\n",
              "      <td>Git</td>\n",
              "      <td>21</td>\n",
              "      <td>13</td>\n",
              "      <td>Male</td>\n",
              "      <td>NaN</td>\n",
              "    </tr>\n",
              "    <tr>\n",
              "      <th>1</th>\n",
              "      <td>6/28/18 13:26</td>\n",
              "      <td>Bachelor's degree (BA. BS. B.Eng.. etc.)</td>\n",
              "      <td>70841.0</td>\n",
              "      <td>Yes</td>\n",
              "      <td>Sweeden</td>\n",
              "      <td>7.0</td>\n",
              "      <td>Git;Subversion</td>\n",
              "      <td>38</td>\n",
              "      <td>9</td>\n",
              "      <td>Male</td>\n",
              "      <td>70,841.00</td>\n",
              "    </tr>\n",
              "    <tr>\n",
              "      <th>2</th>\n",
              "      <td>6/6/18 3:37</td>\n",
              "      <td>Bachelor's degree (BA. BS. B.Eng.. etc.)</td>\n",
              "      <td>NaN</td>\n",
              "      <td>No</td>\n",
              "      <td>Sweeden</td>\n",
              "      <td>8.0</td>\n",
              "      <td>Git</td>\n",
              "      <td>45</td>\n",
              "      <td>11</td>\n",
              "      <td>NaN</td>\n",
              "      <td>NaN</td>\n",
              "    </tr>\n",
              "    <tr>\n",
              "      <th>3</th>\n",
              "      <td>5/9/18 1:06</td>\n",
              "      <td>Some college/university study without earning ...</td>\n",
              "      <td>21426.0</td>\n",
              "      <td>Yes</td>\n",
              "      <td>Sweeden</td>\n",
              "      <td>NaN</td>\n",
              "      <td>Zip file back-ups</td>\n",
              "      <td>46</td>\n",
              "      <td>12</td>\n",
              "      <td>Male</td>\n",
              "      <td>21,426.00</td>\n",
              "    </tr>\n",
              "    <tr>\n",
              "      <th>4</th>\n",
              "      <td>4/12/18 22:41</td>\n",
              "      <td>Bachelor's degree (BA. BS. B.Eng.. etc.)</td>\n",
              "      <td>41671.0</td>\n",
              "      <td>Yes</td>\n",
              "      <td>UK</td>\n",
              "      <td>8.0</td>\n",
              "      <td>Git</td>\n",
              "      <td>39</td>\n",
              "      <td>7</td>\n",
              "      <td>Male</td>\n",
              "      <td>£41,671.00</td>\n",
              "    </tr>\n",
              "  </tbody>\n",
              "</table>\n",
              "</div>\n",
              "    <div class=\"colab-df-buttons\">\n",
              "\n",
              "  <div class=\"colab-df-container\">\n",
              "    <button class=\"colab-df-convert\" onclick=\"convertToInteractive('df-79a6557c-97d3-4097-a395-addfdb4a7e34')\"\n",
              "            title=\"Convert this dataframe to an interactive table.\"\n",
              "            style=\"display:none;\">\n",
              "\n",
              "  <svg xmlns=\"http://www.w3.org/2000/svg\" height=\"24px\" viewBox=\"0 -960 960 960\">\n",
              "    <path d=\"M120-120v-720h720v720H120Zm60-500h600v-160H180v160Zm220 220h160v-160H400v160Zm0 220h160v-160H400v160ZM180-400h160v-160H180v160Zm440 0h160v-160H620v160ZM180-180h160v-160H180v160Zm440 0h160v-160H620v160Z\"/>\n",
              "  </svg>\n",
              "    </button>\n",
              "\n",
              "  <style>\n",
              "    .colab-df-container {\n",
              "      display:flex;\n",
              "      gap: 12px;\n",
              "    }\n",
              "\n",
              "    .colab-df-convert {\n",
              "      background-color: #E8F0FE;\n",
              "      border: none;\n",
              "      border-radius: 50%;\n",
              "      cursor: pointer;\n",
              "      display: none;\n",
              "      fill: #1967D2;\n",
              "      height: 32px;\n",
              "      padding: 0 0 0 0;\n",
              "      width: 32px;\n",
              "    }\n",
              "\n",
              "    .colab-df-convert:hover {\n",
              "      background-color: #E2EBFA;\n",
              "      box-shadow: 0px 1px 2px rgba(60, 64, 67, 0.3), 0px 1px 3px 1px rgba(60, 64, 67, 0.15);\n",
              "      fill: #174EA6;\n",
              "    }\n",
              "\n",
              "    .colab-df-buttons div {\n",
              "      margin-bottom: 4px;\n",
              "    }\n",
              "\n",
              "    [theme=dark] .colab-df-convert {\n",
              "      background-color: #3B4455;\n",
              "      fill: #D2E3FC;\n",
              "    }\n",
              "\n",
              "    [theme=dark] .colab-df-convert:hover {\n",
              "      background-color: #434B5C;\n",
              "      box-shadow: 0px 1px 3px 1px rgba(0, 0, 0, 0.15);\n",
              "      filter: drop-shadow(0px 1px 2px rgba(0, 0, 0, 0.3));\n",
              "      fill: #FFFFFF;\n",
              "    }\n",
              "  </style>\n",
              "\n",
              "    <script>\n",
              "      const buttonEl =\n",
              "        document.querySelector('#df-79a6557c-97d3-4097-a395-addfdb4a7e34 button.colab-df-convert');\n",
              "      buttonEl.style.display =\n",
              "        google.colab.kernel.accessAllowed ? 'block' : 'none';\n",
              "\n",
              "      async function convertToInteractive(key) {\n",
              "        const element = document.querySelector('#df-79a6557c-97d3-4097-a395-addfdb4a7e34');\n",
              "        const dataTable =\n",
              "          await google.colab.kernel.invokeFunction('convertToInteractive',\n",
              "                                                    [key], {});\n",
              "        if (!dataTable) return;\n",
              "\n",
              "        const docLinkHtml = 'Like what you see? Visit the ' +\n",
              "          '<a target=\"_blank\" href=https://colab.research.google.com/notebooks/data_table.ipynb>data table notebook</a>'\n",
              "          + ' to learn more about interactive tables.';\n",
              "        element.innerHTML = '';\n",
              "        dataTable['output_type'] = 'display_data';\n",
              "        await google.colab.output.renderOutput(dataTable, element);\n",
              "        const docLink = document.createElement('div');\n",
              "        docLink.innerHTML = docLinkHtml;\n",
              "        element.appendChild(docLink);\n",
              "      }\n",
              "    </script>\n",
              "  </div>\n",
              "\n",
              "\n",
              "    <div id=\"df-c0850f04-3727-4c9c-866f-2fe6a7753a02\">\n",
              "      <button class=\"colab-df-quickchart\" onclick=\"quickchart('df-c0850f04-3727-4c9c-866f-2fe6a7753a02')\"\n",
              "                title=\"Suggest charts\"\n",
              "                style=\"display:none;\">\n",
              "\n",
              "<svg xmlns=\"http://www.w3.org/2000/svg\" height=\"24px\"viewBox=\"0 0 24 24\"\n",
              "     width=\"24px\">\n",
              "    <g>\n",
              "        <path d=\"M19 3H5c-1.1 0-2 .9-2 2v14c0 1.1.9 2 2 2h14c1.1 0 2-.9 2-2V5c0-1.1-.9-2-2-2zM9 17H7v-7h2v7zm4 0h-2V7h2v10zm4 0h-2v-4h2v4z\"/>\n",
              "    </g>\n",
              "</svg>\n",
              "      </button>\n",
              "\n",
              "<style>\n",
              "  .colab-df-quickchart {\n",
              "      --bg-color: #E8F0FE;\n",
              "      --fill-color: #1967D2;\n",
              "      --hover-bg-color: #E2EBFA;\n",
              "      --hover-fill-color: #174EA6;\n",
              "      --disabled-fill-color: #AAA;\n",
              "      --disabled-bg-color: #DDD;\n",
              "  }\n",
              "\n",
              "  [theme=dark] .colab-df-quickchart {\n",
              "      --bg-color: #3B4455;\n",
              "      --fill-color: #D2E3FC;\n",
              "      --hover-bg-color: #434B5C;\n",
              "      --hover-fill-color: #FFFFFF;\n",
              "      --disabled-bg-color: #3B4455;\n",
              "      --disabled-fill-color: #666;\n",
              "  }\n",
              "\n",
              "  .colab-df-quickchart {\n",
              "    background-color: var(--bg-color);\n",
              "    border: none;\n",
              "    border-radius: 50%;\n",
              "    cursor: pointer;\n",
              "    display: none;\n",
              "    fill: var(--fill-color);\n",
              "    height: 32px;\n",
              "    padding: 0;\n",
              "    width: 32px;\n",
              "  }\n",
              "\n",
              "  .colab-df-quickchart:hover {\n",
              "    background-color: var(--hover-bg-color);\n",
              "    box-shadow: 0 1px 2px rgba(60, 64, 67, 0.3), 0 1px 3px 1px rgba(60, 64, 67, 0.15);\n",
              "    fill: var(--button-hover-fill-color);\n",
              "  }\n",
              "\n",
              "  .colab-df-quickchart-complete:disabled,\n",
              "  .colab-df-quickchart-complete:disabled:hover {\n",
              "    background-color: var(--disabled-bg-color);\n",
              "    fill: var(--disabled-fill-color);\n",
              "    box-shadow: none;\n",
              "  }\n",
              "\n",
              "  .colab-df-spinner {\n",
              "    border: 2px solid var(--fill-color);\n",
              "    border-color: transparent;\n",
              "    border-bottom-color: var(--fill-color);\n",
              "    animation:\n",
              "      spin 1s steps(1) infinite;\n",
              "  }\n",
              "\n",
              "  @keyframes spin {\n",
              "    0% {\n",
              "      border-color: transparent;\n",
              "      border-bottom-color: var(--fill-color);\n",
              "      border-left-color: var(--fill-color);\n",
              "    }\n",
              "    20% {\n",
              "      border-color: transparent;\n",
              "      border-left-color: var(--fill-color);\n",
              "      border-top-color: var(--fill-color);\n",
              "    }\n",
              "    30% {\n",
              "      border-color: transparent;\n",
              "      border-left-color: var(--fill-color);\n",
              "      border-top-color: var(--fill-color);\n",
              "      border-right-color: var(--fill-color);\n",
              "    }\n",
              "    40% {\n",
              "      border-color: transparent;\n",
              "      border-right-color: var(--fill-color);\n",
              "      border-top-color: var(--fill-color);\n",
              "    }\n",
              "    60% {\n",
              "      border-color: transparent;\n",
              "      border-right-color: var(--fill-color);\n",
              "    }\n",
              "    80% {\n",
              "      border-color: transparent;\n",
              "      border-right-color: var(--fill-color);\n",
              "      border-bottom-color: var(--fill-color);\n",
              "    }\n",
              "    90% {\n",
              "      border-color: transparent;\n",
              "      border-bottom-color: var(--fill-color);\n",
              "    }\n",
              "  }\n",
              "</style>\n",
              "\n",
              "      <script>\n",
              "        async function quickchart(key) {\n",
              "          const quickchartButtonEl =\n",
              "            document.querySelector('#' + key + ' button');\n",
              "          quickchartButtonEl.disabled = true;  // To prevent multiple clicks.\n",
              "          quickchartButtonEl.classList.add('colab-df-spinner');\n",
              "          try {\n",
              "            const charts = await google.colab.kernel.invokeFunction(\n",
              "                'suggestCharts', [key], {});\n",
              "          } catch (error) {\n",
              "            console.error('Error during call to suggestCharts:', error);\n",
              "          }\n",
              "          quickchartButtonEl.classList.remove('colab-df-spinner');\n",
              "          quickchartButtonEl.classList.add('colab-df-quickchart-complete');\n",
              "        }\n",
              "        (() => {\n",
              "          let quickchartButtonEl =\n",
              "            document.querySelector('#df-c0850f04-3727-4c9c-866f-2fe6a7753a02 button');\n",
              "          quickchartButtonEl.style.display =\n",
              "            google.colab.kernel.accessAllowed ? 'block' : 'none';\n",
              "        })();\n",
              "      </script>\n",
              "    </div>\n",
              "\n",
              "    </div>\n",
              "  </div>\n"
            ],
            "application/vnd.google.colaboratory.intrinsic+json": {
              "type": "dataframe",
              "summary": "{\n  \"name\": \"print(so_survey_df\",\n  \"rows\": 5,\n  \"fields\": [\n    {\n      \"column\": \"SurveyDate\",\n      \"properties\": {\n        \"dtype\": \"object\",\n        \"num_unique_values\": 5,\n        \"samples\": [\n          \"6/28/18 13:26\",\n          \"4/12/18 22:41\",\n          \"6/6/18 3:37\"\n        ],\n        \"semantic_type\": \"\",\n        \"description\": \"\"\n      }\n    },\n    {\n      \"column\": \"FormalEducation\",\n      \"properties\": {\n        \"dtype\": \"category\",\n        \"num_unique_values\": 2,\n        \"samples\": [\n          \"Some college/university study without earning a degree\",\n          \"Bachelor's degree (BA. BS. B.Eng.. etc.)\"\n        ],\n        \"semantic_type\": \"\",\n        \"description\": \"\"\n      }\n    },\n    {\n      \"column\": \"ConvertedSalary\",\n      \"properties\": {\n        \"dtype\": \"number\",\n        \"std\": 24841.467851155656,\n        \"min\": 21426.0,\n        \"max\": 70841.0,\n        \"num_unique_values\": 3,\n        \"samples\": [\n          70841.0,\n          21426.0\n        ],\n        \"semantic_type\": \"\",\n        \"description\": \"\"\n      }\n    },\n    {\n      \"column\": \"Hobby\",\n      \"properties\": {\n        \"dtype\": \"category\",\n        \"num_unique_values\": 2,\n        \"samples\": [\n          \"No\",\n          \"Yes\"\n        ],\n        \"semantic_type\": \"\",\n        \"description\": \"\"\n      }\n    },\n    {\n      \"column\": \"Country\",\n      \"properties\": {\n        \"dtype\": \"string\",\n        \"num_unique_values\": 3,\n        \"samples\": [\n          \"South Africa\",\n          \"Sweeden\"\n        ],\n        \"semantic_type\": \"\",\n        \"description\": \"\"\n      }\n    },\n    {\n      \"column\": \"StackOverflowJobsRecommend\",\n      \"properties\": {\n        \"dtype\": \"number\",\n        \"std\": 0.5773502691896258,\n        \"min\": 7.0,\n        \"max\": 8.0,\n        \"num_unique_values\": 2,\n        \"samples\": [\n          8.0,\n          7.0\n        ],\n        \"semantic_type\": \"\",\n        \"description\": \"\"\n      }\n    },\n    {\n      \"column\": \"VersionControl\",\n      \"properties\": {\n        \"dtype\": \"string\",\n        \"num_unique_values\": 3,\n        \"samples\": [\n          \"Git\",\n          \"Git;Subversion\"\n        ],\n        \"semantic_type\": \"\",\n        \"description\": \"\"\n      }\n    },\n    {\n      \"column\": \"Age\",\n      \"properties\": {\n        \"dtype\": \"number\",\n        \"std\": 10,\n        \"min\": 21,\n        \"max\": 46,\n        \"num_unique_values\": 5,\n        \"samples\": [\n          38,\n          39\n        ],\n        \"semantic_type\": \"\",\n        \"description\": \"\"\n      }\n    },\n    {\n      \"column\": \"Years Experience\",\n      \"properties\": {\n        \"dtype\": \"number\",\n        \"std\": 2,\n        \"min\": 7,\n        \"max\": 13,\n        \"num_unique_values\": 5,\n        \"samples\": [\n          9,\n          7\n        ],\n        \"semantic_type\": \"\",\n        \"description\": \"\"\n      }\n    },\n    {\n      \"column\": \"Gender\",\n      \"properties\": {\n        \"dtype\": \"category\",\n        \"num_unique_values\": 1,\n        \"samples\": [\n          \"Male\"\n        ],\n        \"semantic_type\": \"\",\n        \"description\": \"\"\n      }\n    },\n    {\n      \"column\": \"RawSalary\",\n      \"properties\": {\n        \"dtype\": \"string\",\n        \"num_unique_values\": 3,\n        \"samples\": [\n          \"70,841.00\"\n        ],\n        \"semantic_type\": \"\",\n        \"description\": \"\"\n      }\n    }\n  ]\n}"
            }
          },
          "metadata": {}
        },
        {
          "output_type": "stream",
          "name": "stdout",
          "text": [
            "SurveyDate                     object\n",
            "FormalEducation                object\n",
            "ConvertedSalary               float64\n",
            "Hobby                          object\n",
            "Country                        object\n",
            "StackOverflowJobsRecommend    float64\n",
            "VersionControl                 object\n",
            "Age                             int64\n",
            "Years Experience                int64\n",
            "Gender                         object\n",
            "RawSalary                      object\n",
            "dtype: object\n"
          ]
        }
      ],
      "source": [
        "\n",
        "import matplotlib.pyplot as plt\n",
        "import seaborn as sns\n",
        "import numpy as np\n",
        "import pandas as pd\n",
        "import datetime as dt\n",
        "# Import confusion matrix and train_test_split\n",
        "from sklearn.metrics import confusion_matrix, classification_report\n",
        "from sklearn.neighbors import KNeighborsClassifier\n",
        "from sklearn.svm import SVC\n",
        "from sklearn.model_selection import train_test_split, KFold, cross_val_score, GridSearchCV\n",
        "from sklearn.linear_model import Ridge, Lasso, LogisticRegression, LinearRegression\n",
        "from scipy.cluster.hierarchy import linkage, dendrogram\n",
        "import matplotlib.pyplot as plt\n",
        "from sklearn.linear_model import SGDClassifier\n",
        "\n",
        "\n",
        "\n",
        "\n",
        "url = \"https://raw.githubusercontent.com/Rohanrathod7/my-ml-labs/main/13_Feature_Engineering_for_Machine_Learning_in_Python/dataset/Stock_Combined_DS_v10.csv\"\n",
        "# Read the CSV file\n",
        "\n",
        "so_survey_df = pd.read_csv(url)\n",
        "display(so_survey_df.head())\n",
        "print(so_survey_df.dtypes)\n"
      ]
    },
    {
      "cell_type": "markdown",
      "source": [
        "**Getting to know your data**  \n",
        "Pandas is one the most popular packages used to work with tabular data in Python. It is generally imported using the alias pd and can be used to load a CSV (or other delimited files) using read_csv().\n",
        "\n",
        "You will be working with a modified subset of the Stackoverflow survey response data in the first three chapters of this course. This dataset records the details, and preferences of thousands of users of the StackOverflow website."
      ],
      "metadata": {
        "id": "rJiW6ir4mIo0"
      }
    },
    {
      "cell_type": "markdown",
      "source": [
        "**Selecting specific data types**   \n",
        "Often a dataset will contain columns with several different data types (like the one you are working with). The majority of machine learning models require you to have a consistent data type across features. Similarly, most feature engineering techniques are applicable to only one type of data at a time. For these reasons among others, you will often want to be able to access just the columns of certain types when working with a DataFrame.\n",
        "\n",
        "The DataFrame (so_survey_df) from the previous exercise is available in your workspace."
      ],
      "metadata": {
        "id": "eqaeD4KeBQ-6"
      }
    },
    {
      "cell_type": "code",
      "source": [
        "# Create subset of only the numeric columns\n",
        "so_numeric_df = so_survey_df.select_dtypes(include=[\"int\", \"float\"])\n",
        "\n",
        "# Print the column names contained in so_survey_df_num\n",
        "print(so_numeric_df.columns)"
      ],
      "metadata": {
        "id": "JPm6qkCPBwm0",
        "outputId": "5502b741-e52f-4f7d-9535-f8bf1d85491f",
        "colab": {
          "base_uri": "https://localhost:8080/"
        }
      },
      "execution_count": 2,
      "outputs": [
        {
          "output_type": "stream",
          "name": "stdout",
          "text": [
            "Index(['ConvertedSalary', 'StackOverflowJobsRecommend', 'Age',\n",
            "       'Years Experience'],\n",
            "      dtype='object')\n"
          ]
        }
      ]
    },
    {
      "cell_type": "markdown",
      "source": [
        "### Dealing With Categorical Feature"
      ],
      "metadata": {
        "id": "oJ3WICxXFIhA"
      }
    },
    {
      "cell_type": "markdown",
      "source": [
        "**One-hot encoding and dummy variables**  \n",
        "To use categorical variables in a machine learning model, you first need to represent them in a quantitative way. The two most common approaches are to one-hot encode the variables using or to use dummy variables. In this exercise, you will create both types of encoding, and compare the created column sets. We will continue using the same DataFrame from previous lesson loaded as so_survey_df and focusing on its Country column."
      ],
      "metadata": {
        "id": "M2ac0974FNId"
      }
    },
    {
      "cell_type": "code",
      "source": [
        "# Convert the Country column to a one hot encoded Data Frame\n",
        "one_hot_encoded = pd.get_dummies(so_survey_df, columns=['Country'], prefix='OH')\n",
        "\n",
        "# Print the columns names\n",
        "print(one_hot_encoded.columns)\n",
        "\n",
        "# Create dummy variables for the Country column\n",
        "dummy = pd.get_dummies(so_survey_df, columns=[\"Country\"], drop_first=True, prefix='DM')\n",
        "\n",
        "# Print the columns names\n",
        "print(dummy.columns)\n",
        "\n",
        "# Did you notice that the column for France was missing when you created dummy variables?\n",
        "# Now you can choose to use one-hot encoding or dummy variables where appropriate.\n",
        "\n"
      ],
      "metadata": {
        "id": "D1D9KRLqFbCq",
        "outputId": "2833f95b-575f-429f-dea0-d3b818aebbf8",
        "colab": {
          "base_uri": "https://localhost:8080/"
        }
      },
      "execution_count": 3,
      "outputs": [
        {
          "output_type": "stream",
          "name": "stdout",
          "text": [
            "Index(['SurveyDate', 'FormalEducation', 'ConvertedSalary', 'Hobby',\n",
            "       'StackOverflowJobsRecommend', 'VersionControl', 'Age',\n",
            "       'Years Experience', 'Gender', 'RawSalary', 'OH_France', 'OH_India',\n",
            "       'OH_Ireland', 'OH_Russia', 'OH_South Africa', 'OH_Spain', 'OH_Sweeden',\n",
            "       'OH_UK', 'OH_USA', 'OH_Ukraine'],\n",
            "      dtype='object')\n",
            "Index(['SurveyDate', 'FormalEducation', 'ConvertedSalary', 'Hobby',\n",
            "       'StackOverflowJobsRecommend', 'VersionControl', 'Age',\n",
            "       'Years Experience', 'Gender', 'RawSalary', 'DM_India', 'DM_Ireland',\n",
            "       'DM_Russia', 'DM_South Africa', 'DM_Spain', 'DM_Sweeden', 'DM_UK',\n",
            "       'DM_USA', 'DM_Ukraine'],\n",
            "      dtype='object')\n"
          ]
        }
      ]
    },
    {
      "cell_type": "code",
      "source": [
        "# Create a series out of the Country column\n",
        "countries = so_survey_df['Country']\n",
        "\n",
        "# Get the counts of each category\n",
        "country_counts = countries.value_counts()\n",
        "\n",
        "# Create a mask for only categories that occur less than 10 times\n",
        "mask = countries.isin(country_counts[country_counts < 10].index)\n",
        "\n",
        "# Label all other categories as Other\n",
        "countries[mask] = 'Other'\n",
        "\n",
        "# Print the updated category counts\n",
        "print(pd.value_counts(countries))\n",
        "\n",
        "# now you can work with large datasets while grouping low frequency categories."
      ],
      "metadata": {
        "id": "G5igfFYUGyOH",
        "outputId": "552060b5-7086-40e5-90fa-fb62c9d77245",
        "colab": {
          "base_uri": "https://localhost:8080/"
        }
      },
      "execution_count": 4,
      "outputs": [
        {
          "output_type": "stream",
          "name": "stdout",
          "text": [
            "Country\n",
            "South Africa    166\n",
            "USA             164\n",
            "Spain           134\n",
            "Sweeden         119\n",
            "France          115\n",
            "Russia           97\n",
            "UK               95\n",
            "India            95\n",
            "Other            14\n",
            "Name: count, dtype: int64\n"
          ]
        },
        {
          "output_type": "stream",
          "name": "stderr",
          "text": [
            "/tmp/ipython-input-4-1293931935.py:11: SettingWithCopyWarning: \n",
            "A value is trying to be set on a copy of a slice from a DataFrame\n",
            "\n",
            "See the caveats in the documentation: https://pandas.pydata.org/pandas-docs/stable/user_guide/indexing.html#returning-a-view-versus-a-copy\n",
            "  countries[mask] = 'Other'\n",
            "/tmp/ipython-input-4-1293931935.py:14: FutureWarning: pandas.value_counts is deprecated and will be removed in a future version. Use pd.Series(obj).value_counts() instead.\n",
            "  print(pd.value_counts(countries))\n"
          ]
        }
      ]
    },
    {
      "cell_type": "markdown",
      "source": [
        "### Numweric Variable"
      ],
      "metadata": {
        "id": "vTmTYXL6KnUV"
      }
    },
    {
      "cell_type": "markdown",
      "source": [
        "**Binarizing columns**  \n",
        "While numeric values can often be used without any feature engineering, there will be cases when some form of manipulation can be useful. For example on some occasions, you might not care about the magnitude of a value but only care about its direction, or if it exists at all. In these situations, you will want to binarize a column. In the so_survey_df data, you have a large number of survey respondents that are working voluntarily (without pay). You will create a new column titled Paid_Job indicating whether each person is paid (their salary is greater than zero)."
      ],
      "metadata": {
        "id": "ekH3nR0bKs3N"
      }
    },
    {
      "cell_type": "code",
      "source": [
        "# Create the Paid_Job column filled with zeros\n",
        "so_survey_df[\"Paid_Job\"] = 0\n",
        "\n",
        "# Replace all the Paid_Job values where ConvertedSalary is > 0\n",
        "so_survey_df.loc[so_survey_df[\"ConvertedSalary\"]>0, 'Paid_Job'] = 1\n",
        "\n",
        "# Print the first five rows of the columns\n",
        "print(so_survey_df[['Paid_Job', 'ConvertedSalary']].head())"
      ],
      "metadata": {
        "id": "i1aii0GMLJxe",
        "outputId": "7f11a196-2e86-4e38-c9bb-a2ab3219cd0c",
        "colab": {
          "base_uri": "https://localhost:8080/"
        }
      },
      "execution_count": 5,
      "outputs": [
        {
          "output_type": "stream",
          "name": "stdout",
          "text": [
            "   Paid_Job  ConvertedSalary\n",
            "0         0              NaN\n",
            "1         1          70841.0\n",
            "2         0              NaN\n",
            "3         1          21426.0\n",
            "4         1          41671.0\n"
          ]
        }
      ]
    },
    {
      "cell_type": "markdown",
      "source": [
        "**Binning values**\n",
        "For many continuous values you will care less about the exact value of a numeric column, but instead care about the bucket it falls into. This can be useful when plotting values, or simplifying your machine learning models. It is mostly used on continuous variables where accuracy is not the biggest concern e.g. age, height, wages.\n",
        "\n",
        "Bins are created using `pd.cut(df['column_name'], bins) `where bins can be an integer specifying the number of evenly spaced bins, or a list of bin boundaries."
      ],
      "metadata": {
        "id": "aaYigZZYLRd0"
      }
    },
    {
      "cell_type": "code",
      "source": [
        "# Bin the continuous variable ConvertedSalary into 5 bins\n",
        "so_survey_df['equal_binned'] = pd.cut(so_survey_df['ConvertedSalary'], 5)\n",
        "\n",
        "# Print the first 5 rows of the equal_binned column\n",
        "print(so_survey_df[['equal_binned', 'ConvertedSalary']].head())"
      ],
      "metadata": {
        "id": "pjwAhmyWLzJ_",
        "outputId": "e12a3986-499d-414c-ba28-460cb2677a43",
        "colab": {
          "base_uri": "https://localhost:8080/"
        }
      },
      "execution_count": 7,
      "outputs": [
        {
          "output_type": "stream",
          "name": "stdout",
          "text": [
            "          equal_binned  ConvertedSalary\n",
            "0                  NaN              NaN\n",
            "1  (-2000.0, 400000.0]          70841.0\n",
            "2                  NaN              NaN\n",
            "3  (-2000.0, 400000.0]          21426.0\n",
            "4  (-2000.0, 400000.0]          41671.0\n"
          ]
        }
      ]
    },
    {
      "cell_type": "code",
      "source": [
        "# Import numpy\n",
        "import numpy as np\n",
        "\n",
        "# Specify the boundaries of the bins\n",
        "bins = [-np.inf, 10000, 50000, 100000, 150000, np.inf]\n",
        "\n",
        "# Bin labels\n",
        "labels = ['Very low', 'Low', 'Medium', 'High', 'Very high']\n",
        "\n",
        "# Bin the continuous variable ConvertedSalary using these boundaries\n",
        "so_survey_df['boundary_binned'] = pd.cut(so_survey_df['ConvertedSalary'], bins, labels=labels)\n",
        "\n",
        "# Print the first 5 rows of the boundary_binned column\n",
        "print(so_survey_df[['boundary_binned', 'ConvertedSalary']].head())\n",
        "\n",
        "# now you can bin columns with equal spacing and predefined boundaries."
      ],
      "metadata": {
        "id": "bGT4OG5zLw_o",
        "outputId": "e60c8528-582b-423c-af44-209546c999d0",
        "colab": {
          "base_uri": "https://localhost:8080/"
        }
      },
      "execution_count": 6,
      "outputs": [
        {
          "output_type": "stream",
          "name": "stdout",
          "text": [
            "  boundary_binned  ConvertedSalary\n",
            "0             NaN              NaN\n",
            "1          Medium          70841.0\n",
            "2             NaN              NaN\n",
            "3             Low          21426.0\n",
            "4             Low          41671.0\n"
          ]
        }
      ]
    }
  ]
}