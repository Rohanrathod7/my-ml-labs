{
  "nbformat": 4,
  "nbformat_minor": 0,
  "metadata": {
    "colab": {
      "provenance": [],
      "authorship_tag": "ABX9TyOillNc6dMzA3uHYIRBP+wJ",
      "include_colab_link": true
    },
    "kernelspec": {
      "name": "python3",
      "display_name": "Python 3"
    },
    "language_info": {
      "name": "python"
    }
  },
  "cells": [
    {
      "cell_type": "markdown",
      "metadata": {
        "id": "view-in-github",
        "colab_type": "text"
      },
      "source": [
        "<a href=\"https://colab.research.google.com/github/Rohanrathod7/my-ml-labs/blob/main/20_Introduction_to_Deep_Learning_with_PyTorch/02_Neural_Network_Architecture_and_Hyperparameters.ipynb\" target=\"_parent\"><img src=\"https://colab.research.google.com/assets/colab-badge.svg\" alt=\"Open In Colab\"/></a>"
      ]
    },
    {
      "cell_type": "markdown",
      "source": [
        "### 2. Neural Network Architecture and Hyperparameters\n"
      ],
      "metadata": {
        "id": "69GNV3tpDLy3"
      }
    },
    {
      "cell_type": "markdown",
      "source": [
        "To train a neural network in PyTorch, you will first need to understand additional components, such as activation and loss functions. You will then realize that training a network requires minimizing that loss function, which is done by calculating gradients. You will learn how to use these gradients to update your model's parameters."
      ],
      "metadata": {
        "id": "cy5tpla-BBKR"
      }
    },
    {
      "cell_type": "code",
      "execution_count": null,
      "metadata": {
        "id": "EUPpAj0HoP6i"
      },
      "outputs": [],
      "source": []
    },
    {
      "cell_type": "code",
      "source": [
        "%matplotlib inline\n",
        "import matplotlib.pyplot as plt\n",
        "import seaborn as sns\n",
        "import numpy as np\n",
        "import pandas as pd\n",
        "import datetime as dt\n",
        "# Import confusion matrix and train_test_split\n",
        "from sklearn.metrics import confusion_matrix, classification_report\n",
        "from sklearn.neighbors import KNeighborsClassifier\n",
        "from sklearn.svm import SVC\n",
        "from sklearn.model_selection import train_test_split, KFold, cross_val_score, GridSearchCV\n",
        "from sklearn.linear_model import Ridge, Lasso, LogisticRegression, LinearRegression\n",
        "from scipy.cluster.hierarchy import linkage, dendrogram\n",
        "import matplotlib.pyplot as plt\n",
        "from sklearn.linear_model import SGDClassifier\n",
        "\n",
        "url = \"https://raw.githubusercontent.com/Rohanrathod7/my-ml-labs/main/19_Feature_Engineering_for_NLP_in_Python/Dataset/ted.csv\"\n",
        "# Read the CSV file\n",
        "# Apply pd.to_numeric only to relevant columns, excluding 'text'\n",
        "ted = pd.read_csv(url)\n",
        "\n",
        "\n",
        "display(ted.head())"
      ],
      "metadata": {
        "colab": {
          "base_uri": "https://localhost:8080/",
          "height": 206
        },
        "id": "u8UlyiPU6rzD",
        "outputId": "3a22d314-fc7c-460e-8dd5-306d92cffafa"
      },
      "execution_count": 1,
      "outputs": [
        {
          "output_type": "display_data",
          "data": {
            "text/plain": [
              "                                          transcript  \\\n",
              "0  We're going to talk — my — a new lecture, just...   \n",
              "1  This is a representation of your brain, and yo...   \n",
              "2  It's a great honor today to share with you The...   \n",
              "3  My passions are music, technology and making t...   \n",
              "4  It used to be that if you wanted to get a comp...   \n",
              "\n",
              "                                                 url  \n",
              "0  https://www.ted.com/talks/al_seckel_says_our_b...  \n",
              "1  https://www.ted.com/talks/aaron_o_connell_maki...  \n",
              "2  https://www.ted.com/talks/carter_emmart_demos_...  \n",
              "3  https://www.ted.com/talks/jared_ficklin_new_wa...  \n",
              "4  https://www.ted.com/talks/jeremy_howard_the_wo...  "
            ],
            "text/html": [
              "\n",
              "  <div id=\"df-f258c29c-8dea-418a-9721-108c853f59e4\" class=\"colab-df-container\">\n",
              "    <div>\n",
              "<style scoped>\n",
              "    .dataframe tbody tr th:only-of-type {\n",
              "        vertical-align: middle;\n",
              "    }\n",
              "\n",
              "    .dataframe tbody tr th {\n",
              "        vertical-align: top;\n",
              "    }\n",
              "\n",
              "    .dataframe thead th {\n",
              "        text-align: right;\n",
              "    }\n",
              "</style>\n",
              "<table border=\"1\" class=\"dataframe\">\n",
              "  <thead>\n",
              "    <tr style=\"text-align: right;\">\n",
              "      <th></th>\n",
              "      <th>transcript</th>\n",
              "      <th>url</th>\n",
              "    </tr>\n",
              "  </thead>\n",
              "  <tbody>\n",
              "    <tr>\n",
              "      <th>0</th>\n",
              "      <td>We're going to talk — my — a new lecture, just...</td>\n",
              "      <td>https://www.ted.com/talks/al_seckel_says_our_b...</td>\n",
              "    </tr>\n",
              "    <tr>\n",
              "      <th>1</th>\n",
              "      <td>This is a representation of your brain, and yo...</td>\n",
              "      <td>https://www.ted.com/talks/aaron_o_connell_maki...</td>\n",
              "    </tr>\n",
              "    <tr>\n",
              "      <th>2</th>\n",
              "      <td>It's a great honor today to share with you The...</td>\n",
              "      <td>https://www.ted.com/talks/carter_emmart_demos_...</td>\n",
              "    </tr>\n",
              "    <tr>\n",
              "      <th>3</th>\n",
              "      <td>My passions are music, technology and making t...</td>\n",
              "      <td>https://www.ted.com/talks/jared_ficklin_new_wa...</td>\n",
              "    </tr>\n",
              "    <tr>\n",
              "      <th>4</th>\n",
              "      <td>It used to be that if you wanted to get a comp...</td>\n",
              "      <td>https://www.ted.com/talks/jeremy_howard_the_wo...</td>\n",
              "    </tr>\n",
              "  </tbody>\n",
              "</table>\n",
              "</div>\n",
              "    <div class=\"colab-df-buttons\">\n",
              "\n",
              "  <div class=\"colab-df-container\">\n",
              "    <button class=\"colab-df-convert\" onclick=\"convertToInteractive('df-f258c29c-8dea-418a-9721-108c853f59e4')\"\n",
              "            title=\"Convert this dataframe to an interactive table.\"\n",
              "            style=\"display:none;\">\n",
              "\n",
              "  <svg xmlns=\"http://www.w3.org/2000/svg\" height=\"24px\" viewBox=\"0 -960 960 960\">\n",
              "    <path d=\"M120-120v-720h720v720H120Zm60-500h600v-160H180v160Zm220 220h160v-160H400v160Zm0 220h160v-160H400v160ZM180-400h160v-160H180v160Zm440 0h160v-160H620v160ZM180-180h160v-160H180v160Zm440 0h160v-160H620v160Z\"/>\n",
              "  </svg>\n",
              "    </button>\n",
              "\n",
              "  <style>\n",
              "    .colab-df-container {\n",
              "      display:flex;\n",
              "      gap: 12px;\n",
              "    }\n",
              "\n",
              "    .colab-df-convert {\n",
              "      background-color: #E8F0FE;\n",
              "      border: none;\n",
              "      border-radius: 50%;\n",
              "      cursor: pointer;\n",
              "      display: none;\n",
              "      fill: #1967D2;\n",
              "      height: 32px;\n",
              "      padding: 0 0 0 0;\n",
              "      width: 32px;\n",
              "    }\n",
              "\n",
              "    .colab-df-convert:hover {\n",
              "      background-color: #E2EBFA;\n",
              "      box-shadow: 0px 1px 2px rgba(60, 64, 67, 0.3), 0px 1px 3px 1px rgba(60, 64, 67, 0.15);\n",
              "      fill: #174EA6;\n",
              "    }\n",
              "\n",
              "    .colab-df-buttons div {\n",
              "      margin-bottom: 4px;\n",
              "    }\n",
              "\n",
              "    [theme=dark] .colab-df-convert {\n",
              "      background-color: #3B4455;\n",
              "      fill: #D2E3FC;\n",
              "    }\n",
              "\n",
              "    [theme=dark] .colab-df-convert:hover {\n",
              "      background-color: #434B5C;\n",
              "      box-shadow: 0px 1px 3px 1px rgba(0, 0, 0, 0.15);\n",
              "      filter: drop-shadow(0px 1px 2px rgba(0, 0, 0, 0.3));\n",
              "      fill: #FFFFFF;\n",
              "    }\n",
              "  </style>\n",
              "\n",
              "    <script>\n",
              "      const buttonEl =\n",
              "        document.querySelector('#df-f258c29c-8dea-418a-9721-108c853f59e4 button.colab-df-convert');\n",
              "      buttonEl.style.display =\n",
              "        google.colab.kernel.accessAllowed ? 'block' : 'none';\n",
              "\n",
              "      async function convertToInteractive(key) {\n",
              "        const element = document.querySelector('#df-f258c29c-8dea-418a-9721-108c853f59e4');\n",
              "        const dataTable =\n",
              "          await google.colab.kernel.invokeFunction('convertToInteractive',\n",
              "                                                    [key], {});\n",
              "        if (!dataTable) return;\n",
              "\n",
              "        const docLinkHtml = 'Like what you see? Visit the ' +\n",
              "          '<a target=\"_blank\" href=https://colab.research.google.com/notebooks/data_table.ipynb>data table notebook</a>'\n",
              "          + ' to learn more about interactive tables.';\n",
              "        element.innerHTML = '';\n",
              "        dataTable['output_type'] = 'display_data';\n",
              "        await google.colab.output.renderOutput(dataTable, element);\n",
              "        const docLink = document.createElement('div');\n",
              "        docLink.innerHTML = docLinkHtml;\n",
              "        element.appendChild(docLink);\n",
              "      }\n",
              "    </script>\n",
              "  </div>\n",
              "\n",
              "\n",
              "    <div id=\"df-6b98cb8c-fdd0-4638-9ae0-8585c59879af\">\n",
              "      <button class=\"colab-df-quickchart\" onclick=\"quickchart('df-6b98cb8c-fdd0-4638-9ae0-8585c59879af')\"\n",
              "                title=\"Suggest charts\"\n",
              "                style=\"display:none;\">\n",
              "\n",
              "<svg xmlns=\"http://www.w3.org/2000/svg\" height=\"24px\"viewBox=\"0 0 24 24\"\n",
              "     width=\"24px\">\n",
              "    <g>\n",
              "        <path d=\"M19 3H5c-1.1 0-2 .9-2 2v14c0 1.1.9 2 2 2h14c1.1 0 2-.9 2-2V5c0-1.1-.9-2-2-2zM9 17H7v-7h2v7zm4 0h-2V7h2v10zm4 0h-2v-4h2v4z\"/>\n",
              "    </g>\n",
              "</svg>\n",
              "      </button>\n",
              "\n",
              "<style>\n",
              "  .colab-df-quickchart {\n",
              "      --bg-color: #E8F0FE;\n",
              "      --fill-color: #1967D2;\n",
              "      --hover-bg-color: #E2EBFA;\n",
              "      --hover-fill-color: #174EA6;\n",
              "      --disabled-fill-color: #AAA;\n",
              "      --disabled-bg-color: #DDD;\n",
              "  }\n",
              "\n",
              "  [theme=dark] .colab-df-quickchart {\n",
              "      --bg-color: #3B4455;\n",
              "      --fill-color: #D2E3FC;\n",
              "      --hover-bg-color: #434B5C;\n",
              "      --hover-fill-color: #FFFFFF;\n",
              "      --disabled-bg-color: #3B4455;\n",
              "      --disabled-fill-color: #666;\n",
              "  }\n",
              "\n",
              "  .colab-df-quickchart {\n",
              "    background-color: var(--bg-color);\n",
              "    border: none;\n",
              "    border-radius: 50%;\n",
              "    cursor: pointer;\n",
              "    display: none;\n",
              "    fill: var(--fill-color);\n",
              "    height: 32px;\n",
              "    padding: 0;\n",
              "    width: 32px;\n",
              "  }\n",
              "\n",
              "  .colab-df-quickchart:hover {\n",
              "    background-color: var(--hover-bg-color);\n",
              "    box-shadow: 0 1px 2px rgba(60, 64, 67, 0.3), 0 1px 3px 1px rgba(60, 64, 67, 0.15);\n",
              "    fill: var(--button-hover-fill-color);\n",
              "  }\n",
              "\n",
              "  .colab-df-quickchart-complete:disabled,\n",
              "  .colab-df-quickchart-complete:disabled:hover {\n",
              "    background-color: var(--disabled-bg-color);\n",
              "    fill: var(--disabled-fill-color);\n",
              "    box-shadow: none;\n",
              "  }\n",
              "\n",
              "  .colab-df-spinner {\n",
              "    border: 2px solid var(--fill-color);\n",
              "    border-color: transparent;\n",
              "    border-bottom-color: var(--fill-color);\n",
              "    animation:\n",
              "      spin 1s steps(1) infinite;\n",
              "  }\n",
              "\n",
              "  @keyframes spin {\n",
              "    0% {\n",
              "      border-color: transparent;\n",
              "      border-bottom-color: var(--fill-color);\n",
              "      border-left-color: var(--fill-color);\n",
              "    }\n",
              "    20% {\n",
              "      border-color: transparent;\n",
              "      border-left-color: var(--fill-color);\n",
              "      border-top-color: var(--fill-color);\n",
              "    }\n",
              "    30% {\n",
              "      border-color: transparent;\n",
              "      border-left-color: var(--fill-color);\n",
              "      border-top-color: var(--fill-color);\n",
              "      border-right-color: var(--fill-color);\n",
              "    }\n",
              "    40% {\n",
              "      border-color: transparent;\n",
              "      border-right-color: var(--fill-color);\n",
              "      border-top-color: var(--fill-color);\n",
              "    }\n",
              "    60% {\n",
              "      border-color: transparent;\n",
              "      border-right-color: var(--fill-color);\n",
              "    }\n",
              "    80% {\n",
              "      border-color: transparent;\n",
              "      border-right-color: var(--fill-color);\n",
              "      border-bottom-color: var(--fill-color);\n",
              "    }\n",
              "    90% {\n",
              "      border-color: transparent;\n",
              "      border-bottom-color: var(--fill-color);\n",
              "    }\n",
              "  }\n",
              "</style>\n",
              "\n",
              "      <script>\n",
              "        async function quickchart(key) {\n",
              "          const quickchartButtonEl =\n",
              "            document.querySelector('#' + key + ' button');\n",
              "          quickchartButtonEl.disabled = true;  // To prevent multiple clicks.\n",
              "          quickchartButtonEl.classList.add('colab-df-spinner');\n",
              "          try {\n",
              "            const charts = await google.colab.kernel.invokeFunction(\n",
              "                'suggestCharts', [key], {});\n",
              "          } catch (error) {\n",
              "            console.error('Error during call to suggestCharts:', error);\n",
              "          }\n",
              "          quickchartButtonEl.classList.remove('colab-df-spinner');\n",
              "          quickchartButtonEl.classList.add('colab-df-quickchart-complete');\n",
              "        }\n",
              "        (() => {\n",
              "          let quickchartButtonEl =\n",
              "            document.querySelector('#df-6b98cb8c-fdd0-4638-9ae0-8585c59879af button');\n",
              "          quickchartButtonEl.style.display =\n",
              "            google.colab.kernel.accessAllowed ? 'block' : 'none';\n",
              "        })();\n",
              "      </script>\n",
              "    </div>\n",
              "\n",
              "    </div>\n",
              "  </div>\n"
            ],
            "application/vnd.google.colaboratory.intrinsic+json": {
              "type": "dataframe",
              "summary": "{\n  \"name\": \"display(ted\",\n  \"rows\": 5,\n  \"fields\": [\n    {\n      \"column\": \"transcript\",\n      \"properties\": {\n        \"dtype\": \"string\",\n        \"num_unique_values\": 5,\n        \"samples\": [\n          \"This is a representation of your brain, and your brain can be broken into two parts. There's the left half, which is the logical side, and then the right half, which is the intuitive. And so if we had a scale to measure the aptitude of each hemisphere, then we can plot our brain. And for example, this would be somebody who's completely logical. This would be someone who's entirely intuitive. So where would you put your brain on this scale? Some of us may have opted for one of these extremes, but I think for most people in the audience, your brain is something like this \\u2014 with a high aptitude in both hemispheres at the same time. It's not like they're mutually exclusive or anything. You can be logical and intuitive.And so I consider myself one of these people, along with most of the other experimental quantum physicists, who need a good deal of logic to string together these complex ideas. But at the same time, we need a good deal of intuition to actually make the experiments work. How do we develop this intuition? Well we like to play with stuff. So we go out and play with it, and then we see how it acts, and then we develop our intuition from there. And really you do the same thing.So some intuition that you may have developed over the years is that one thing is only in one place at a time. I mean, it can sound weird to think about one thing being in two different places at the same time, but you weren't born with this notion, you developed it. And I remember watching a kid playing on a car stop. He was just a toddler and he wasn't very good at it, and he kept falling over. But I bet playing with this car stop taught him a really valuable lesson, and that's that large things don't let you get right past them, and that they stay in one place.And so this is a great conceptual model to have of the world, unless you're a particle physicist. It'd be a terrible model for a particle physicist, because they don't play with car stops, they play with these little weird particles. And when they play with their particles, they find they do all sorts of really weird things \\u2014 like they can fly right through walls, or they can be in two different places at the same time. And so they wrote down all these observations, and they called it the theory of quantum mechanics.And so that's where physics was at a few years ago; you needed quantum mechanics to describe little, tiny particles. But you didn't need it to describe the large, everyday objects around us. This didn't really sit well with my intuition, and maybe it's just because I don't play with particles very often. Well, I play with them sometimes, but not very often. And I've never seen them. I mean, nobody's ever seen a particle. But it didn't sit well with my logical side either. Because if everything is made up of little particles and all the little particles follow quantum mechanics, then shouldn't everything just follow quantum mechanics? I don't see any reason why it shouldn't. And so I'd feel a lot better about the whole thing if we could somehow show that an everyday object also follows quantum mechanics. So a few years ago, I set off to do just that.So I made one. This is the first object that you can see that has been in a mechanical quantum superposition. So what we're looking at here is a tiny computer chip. And you can sort of see this green dot right in the middle. And that's this piece of metal I'm going to be talking about in a minute. This is a photograph of the object. And here I'll zoom in a little bit. We're looking right there in the center. And then here's a really, really big close-up of the little piece of metal. So what we're looking at is a little chunk of metal, and it's shaped like a diving board, and it's sticking out over a ledge. And so I made this thing in nearly the same way as you make a computer chip. I went into a clean room with a fresh silicon wafer, and then I just cranked away at all the big machines for about 100 hours. For the last stuff, I had to build my own machine \\u2014 to make this swimming pool-shaped hole underneath the device. This device has the ability to be in a quantum superposition, but it needs a little help to do it.Here, let me give you an analogy. You know how uncomfortable it is to be in a crowded elevator? I mean, when I'm in an elevator all alone, I do all sorts of weird things, but then other people get on board and I stop doing those things because I don't want to bother them, or, frankly, scare them. So quantum mechanics says that inanimate objects feel the same way. The fellow passengers for inanimate objects are not just people, but it's also the light shining on it and the wind blowing past it and the heat of the room. And so we knew, if we wanted to see this piece of metal behave quantum mechanically, we're going to have to kick out all the other passengers.And so that's what we did. We turned off the lights, and then we put it in a vacuum and sucked out all the air, and then we cooled it down to just a fraction of a degree above absolute zero. Now, all alone in the elevator, the little chunk of metal is free to act however it wanted. And so we measured its motion. We found it was moving in really weird ways. Instead of just sitting perfectly still, it was vibrating, and the way it was vibrating was breathing something like this \\u2014 like expanding and contracting bellows. And by giving it a gentle nudge, we were able to make it both vibrate and not vibrate at the same time \\u2014 something that's only allowed with quantum mechanics.So what I'm telling you here is something truly fantastic. What does it mean for one thing to be both vibrating and not vibrating at the same time? So let's think about the atoms. So in one case: all the trillions of atoms that make up that chunk of metal are sitting still and at the same time those same atoms are moving up and down. Now it's only at precise times when they align. The rest of the time they're delocalized. That means that every atom is in two different places at the same time, which in turn means the entire chunk of metal is in two different places. I think this is really cool. (Laughter) Really.(Applause)It was worth locking myself in a clean room to do this for all those years because, check this out, the difference in scale between a single atom and that chunk of metal is about the same as the difference between that chunk of metal and you. So if a single atom can be in two different places at the same time, that chunk of metal can be in two different places, then why not you? I mean, this is just my logical side talking. So imagine if you're in multiple places at the same time, what would that be like? How would your consciousness handle your body being delocalized in space?There's one more part to the story. It's when we warmed it up, and we turned on the lights and looked inside the box, we saw that the piece metal was still there in one piece. And so I had to develop this new intuition, that it seems like all the objects in the elevator are really just quantum objects just crammed into a tiny space.You hear a lot of talk about how quantum mechanics says that everything is all interconnected. Well, that's not quite right. It's more than that; it's deeper. It's that those connections, your connections to all the things around you, literally define who you are, and that's the profound weirdness of quantum mechanics.Thank you.(Applause)\",\n          \"It used to be that if you wanted to get a computer to do something new, you would have to program it. Now, programming, for those of you here that haven't done it yourself, requires laying out in excruciating detail every single step that you want the computer to do in order to achieve your goal. Now, if you want to do something that you don't know how to do yourself, then this is going to be a great challenge.So this was the challenge faced by this man, Arthur Samuel. In 1956, he wanted to get this computer to be able to beat him at checkers. How can you write a program, lay out in excruciating detail, how to be better than you at checkers? So he came up with an idea: he had the computer play against itself thousands of times and learn how to play checkers. And indeed it worked, and in fact, by 1962, this computer had beaten the Connecticut state champion.So Arthur Samuel was the father of machine learning, and I have a great debt to him, because I am a machine learning practitioner. I was the president of Kaggle, a community of over 200,000 machine learning practictioners. Kaggle puts up competitions to try and get them to solve previously unsolved problems, and it's been successful  hundreds of times. So from this vantage point, I was able to find out a lot about what machine learning can do in the past, can do today, and what it could do in the future. Perhaps the first big success of  machine learning commercially was Google. Google showed that it is possible to find information by using a computer algorithm, and this algorithm is based on machine learning. Since that time, there have been many commercial successes of machine learning. Companies like Amazon and Netflix use machine learning to suggest products that you might like to buy, movies that you might like to watch. Sometimes, it's almost creepy. Companies like LinkedIn and Facebook sometimes will tell you about who your friends might be and you have no idea how it did it, and this is because it's using the power of machine learning. These are algorithms that have learned how to do this from data rather than being programmed by hand.This is also how IBM was successful in getting Watson to beat the two world champions at \\\"Jeopardy,\\\" answering incredibly subtle and complex questions like this one. [\\\"The ancient 'Lion of Nimrud' went missing from this city's national museum in 2003  (along with a lot of other stuff)\\\"] This is also why we are now able to see the first self-driving cars. If you want to be able to tell the difference between, say, a tree and a pedestrian, well, that's pretty important. We don't know how to write those programs by hand, but with machine learning, this is now possible. And in fact, this car has driven  over a million miles without any accidents on regular roads.So we now know that computers can learn, and computers can learn to do things that we actually sometimes don't know how to do ourselves, or maybe can do them better than us. One of the most amazing examples I've seen of machine learning happened on a project that I ran at Kaggle where a team run by a guy called Geoffrey Hinton from the University of Toronto won a competition for automatic drug discovery. Now, what was extraordinary here is not just that they beat all of the algorithms developed by Merck or the international academic community, but nobody on the team had any background in chemistry or biology or life sciences, and they did it in two weeks. How did they do this? They used an extraordinary algorithm called deep learning. So important was this that in fact the success was covered in The New York Times in a front page article a few weeks later. This is Geoffrey Hinton here on the left-hand side. Deep learning is an algorithm inspired by how the human brain works, and as a result it's an algorithm which has no theoretical limitations on what it can do. The more data you give it and the more computation time you give it, the better it gets.The New York Times also showed in this article another extraordinary result of deep learning which I'm going to show you now. It shows that computers  can listen and understand.(Video) Richard Rashid: Now, the last step that I want to be able to take in this process is to actually speak to you in Chinese. Now the key thing there is, we've been able to take a large amount  of information from many Chinese speakers and produce a text-to-speech system that takes Chinese text and converts it into Chinese language, and then we've taken an hour or so of my own voice and we've used that to modulate the standard text-to-speech system so that it would sound like me. Again, the result's not perfect. There are in fact quite a few errors. (In Chinese) (Applause) There's much work to be done in this area. (In Chinese) (Applause)Jeremy Howard: Well, that was at a machine learning conference in China. It's not often, actually, at academic conferences that you do hear spontaneous applause, although of course sometimes at TEDx conferences, feel free. Everything you saw there was happening with deep learning. (Applause) Thank you. The transcription in English was deep learning. The translation to Chinese and the text in the top right, deep learning, and the construction of the voice was deep learning as well.So deep learning is this extraordinary thing. It's a single algorithm that can seem to do almost anything, and I discovered that a year earlier, it had also learned to see. In this obscure competition from Germany called the German Traffic Sign  Recognition Benchmark, deep learning had learned to recognize traffic signs like this one. Not only could it recognize the traffic signs better than any other algorithm, the leaderboard actually showed it was better than people, about twice as good as people. So by 2011, we had the first example of computers that can see better than people. Since that time, a lot has happened. In 2012, Google announced that they had a deep learning algorithm watch YouTube videos and crunched the data on 16,000 computers for a month, and the computer independently learned about concepts such as people and cats just by watching the videos. This is much like the way that humans learn. Humans don't learn by being told what they see, but by learning for themselves what these things are. Also in 2012, Geoffrey Hinton, who we saw earlier, won the very popular ImageNet competition, looking to try to figure out  from one and a half million images what they're pictures of. As of 2014, we're now down to a six percent error rate in image recognition. This is better than people, again.So machines really are doing an extraordinarily good job of this, and it is now being used in industry. For example, Google announced last year that they had mapped every single location in France in two hours, and the way they did it was that they fed street view images into a deep learning algorithm to recognize and read street numbers. Imagine how long it would have taken before: dozens of people, many years. This is also happening in China. Baidu is kind of  the Chinese Google, I guess, and what you see here in the top left is an example of a picture that I uploaded to Baidu's deep learning system, and underneath you can see that the system has understood what that picture is and found similar images. The similar images actually have similar backgrounds, similar directions of the faces, even some with their tongue out. This is not clearly looking at the text of a web page. All I uploaded was an image. So we now have computers which really understand what they see and can therefore search databases of hundreds of millions of images in real time.So what does it mean now that computers can see? Well, it's not just  that computers can see. In fact, deep learning has done more than that. Complex, nuanced sentences like this one are now understandable with deep learning algorithms. As you can see here, this Stanford-based system showing the red dot at the top has figured out that this sentence is expressing negative sentiment. Deep learning now in fact is near human performance at understanding what sentences are about and what it is saying about those things. Also, deep learning has been used to read Chinese, again at about native Chinese speaker level. This algorithm developed out of Switzerland by people, none of whom speak or understand any Chinese. As I say, using deep learning is about the best system in the world for this, even compared to native human understanding.This is a system that we put together at my company which shows putting all this stuff together. These are pictures which have no text attached, and as I'm typing in here sentences, in real time it's understanding these pictures and figuring out what they're about and finding pictures that are similar to the text that I'm writing. So you can see, it's actually understanding my sentences and actually understanding these pictures. I know that you've seen something like this on Google, where you can type in things and it will show you pictures, but actually what it's doing is it's searching the webpage for the text. This is very different from actually understanding the images. This is something that computers have only been able to do for the first time in the last few months.So we can see now that computers can not only see but they can also read, and, of course, we've shown that they can understand what they hear. Perhaps not surprising now that I'm going to tell you they can write. Here is some text that I generated using a deep learning algorithm yesterday. And here is some text that an algorithm out of Stanford generated. Each of these sentences was generated by a deep learning algorithm to describe each of those pictures. This algorithm before has never seen a man in a black shirt playing a guitar. It's seen a man before, it's seen black before, it's seen a guitar before, but it has independently generated this novel description of this picture. We're still not quite at human performance here, but we're close. In tests, humans prefer the computer-generated caption one out of four times. Now this system is now only two weeks old, so probably within the next year, the computer algorithm will be well past human performance at the rate things are going. So computers can also write.So we put all this together and it leads to very exciting opportunities. For example, in medicine, a team in Boston announced that they had discovered dozens of new clinically relevant features of tumors which help doctors make a prognosis of a cancer. Very similarly, in Stanford, a group there announced that, looking at tissues under magnification, they've developed  a machine learning-based system which in fact is better than human pathologists at predicting survival rates for cancer sufferers. In both of these cases, not only were the predictions more accurate, but they generated new insightful science. In the radiology case, they were new clinical indicators that humans can understand. In this pathology case, the computer system actually discovered that the cells around the cancer are as important as the cancer cells themselves in making a diagnosis. This is the opposite of what pathologists had been taught for decades. In each of those two cases, they were systems developed by a combination of medical experts and machine learning experts, but as of last year, we're now beyond that too. This is an example of identifying cancerous areas of human tissue under a microscope. The system being shown here can identify those areas more accurately, or about as accurately, as human pathologists, but was built entirely with deep learning using no medical expertise by people who have no background in the field. Similarly, here, this neuron segmentation. We can now segment neurons about as accurately as humans can, but this system was developed with deep learning using people with no previous  background in medicine.So myself, as somebody with no previous background in medicine, I seem to be entirely well qualified to start a new medical company, which I did. I was kind of terrified of doing it, but the theory seemed to suggest that it ought to be possible to do very useful medicine using just these data analytic techniques. And thankfully, the feedback has been fantastic, not just from the media but from the medical community, who have been very supportive. The theory is that we can take the middle part of the medical process and turn that into data analysis as much as possible, leaving doctors to do what they're best at. I want to give you an example. It now takes us about 15 minutes to generate a new medical diagnostic test and I'll show you that in real time now, but I've compressed it down to  three minutes by cutting some pieces out. Rather than showing you creating a medical diagnostic test, I'm going to show you  a diagnostic test of car images, because that's something we can all understand.So here we're starting with  about 1.5 million car images, and I want to create something that can split them into the angle of the photo that's being taken. So these images are entirely unlabeled, so I have to start from scratch. With our deep learning algorithm, it can automatically identify areas of structure in these images. So the nice thing is that the human and the computer can now work together. So the human, as you can see here, is telling the computer about areas of interest which it wants the computer then to try and use to improve its algorithm. Now, these deep learning systems actually are in 16,000-dimensional space, so you can see here the computer rotating this through that space, trying to find new areas of structure. And when it does so successfully, the human who is driving it can then point out the areas that are interesting. So here, the computer has successfully found areas, for example, angles. So as we go through this process, we're gradually telling the computer more and more about the kinds of structures we're looking for. You can imagine in a diagnostic test this would be a pathologist identifying areas of pathosis, for example, or a radiologist indicating potentially troublesome nodules. And sometimes it can be difficult for the algorithm. In this case, it got kind of confused. The fronts and the backs of the cars are all mixed up. So here we have to be a bit more careful, manually selecting these fronts as opposed to the backs, then telling the computer that this is a type of group that we're interested in.So we do that for a while, we skip over a little bit, and then we train the machine learning algorithm based on these couple of hundred things, and we hope that it's gotten a lot better. You can see, it's now started to fade some of these pictures out, showing us that it already is recognizing how to understand some of these itself. We can then use this concept of similar images, and using similar images, you can now see, the computer at this point is able to entirely find just the fronts of cars. So at this point, the human can tell the computer, okay, yes, you've done a good job of that.Sometimes, of course, even at this point it's still difficult to separate out groups. In this case, even after we let the computer try to rotate this for a while, we still find that the left sides and the right sides pictures are all mixed up together. So we can again give the computer some hints, and we say, okay, try and find a projection that separates out the left sides and the right sides as much as possible using this deep learning algorithm. And giving it that hint \\u2014 ah, okay, it's been successful. It's managed to find a way of thinking about these objects that's separated out these together.So you get the idea here. This is a case not where the human is being replaced by a computer, but where they're working together. What we're doing here is we're replacing something that used to take a team of five or six people about seven years and replacing it with something that takes 15 minutes for one person acting alone.So this process takes about four or five iterations. You can see we now have 62 percent of our 1.5 million images  classified correctly. And at this point, we can start to quite quickly grab whole big sections, check through them to make sure that there's no mistakes. Where there are mistakes, we can let the computer know about them. And using this kind of process for each of the different groups, we are now up to an 80 percent success rate in classifying the 1.5 million images. And at this point, it's just a case of finding the small number that aren't classified correctly, and trying to understand why. And using that approach, by 15 minutes we get to 97 percent classification rates.So this kind of technique could allow us to fix a major problem, which is that there's a lack of medical expertise in the world. The World Economic Forum says that there's between a 10x and a 20x shortage of physicians in the developing world, and it would take about 300 years to train enough people to fix that problem. So imagine if we can help enhance their efficiency using these deep learning approaches?So I'm very excited about the opportunities. I'm also concerned about the problems. The problem here is that every area in blue on this map is somewhere where services are over 80 percent of employment. What are services? These are services. These are also the exact things that computers have just learned how to do. So 80 percent of the world's employment in the developed world is stuff that computers  have just learned how to do. What does that mean? Well, it'll be fine. They'll be replaced by other jobs. For example, there will be more jobs for data scientists. Well, not really. It doesn't take data scientists  very long to build these things. For example, these four algorithms were all built by the same guy. So if you think, oh,  it's all happened before, we've seen the results in the past of when new things come along and they get replaced by new jobs, what are these new jobs going to be? It's very hard for us to estimate this, because human performance grows at this gradual rate, but we now have a system, deep learning, that we know actually grows in capability exponentially. And we're here. So currently, we see the things around us and we say, \\\"Oh, computers are still pretty dumb.\\\" Right? But in five years' time, computers will be off this chart. So we need to be starting to think about this capability right now.We have seen this once before, of course. In the Industrial Revolution, we saw a step change in capability thanks to engines. The thing is, though, that after a while, things flattened out. There was social disruption, but once engines were used  to generate power in all the situations, things really settled down. The Machine Learning Revolution is going to be very different from the Industrial Revolution, because the Machine Learning Revolution, it never settles down. The better computers get at intellectual activities, the more they can build better computers to be better at intellectual capabilities, so this is going to be a kind of change that the world has actually never experienced before, so your previous understanding of what's possible is different.This is already impacting us. In the last 25 years, as capital productivity has increased, labor productivity has been flat, in fact even a little bit down.So I want us to start having this discussion now. I know that when I often tell people about this situation, people can be quite dismissive. Well, computers can't really think, they don't emote, they don't understand poetry, we don't really understand how they work. So what? Computers right now can do the things that humans spend most of their time being paid to do, so now's the time to start thinking about how we're going to adjust our social structures and economic structures to be aware of this new reality. Thank you. (Applause)\",\n          \"It's a great honor today to share with you The Digital Universe, which was created for humanity to really see where we are in the universe. And so I think we can roll the video that we have.[The Himalayas.](Music)The flat horizon that we've evolved with has been a metaphor for the infinite: unbounded resources and unlimited capacity for disposal of waste. It wasn't until we really left Earth, got above the atmosphere and had seen the horizon bend back on itself, that we could understand our planet as a limited condition. The Digital Universe Atlas has been built at the American Museum of Natural History over the past 12 years. We maintain that, put that together as a project to really chart the universe across all scales. What we see here are satellites around the Earth and the Earth in proper registration against the universe, as we see. NASA supported this work 12 years ago as part of the rebuilding of the Hayden Planetarium so that we would share this with the world.The Digital Universe is the basis of our space show productions that we do \\u2014 our main space shows in the dome. But what you see here is the result of, actually, internships that we hosted with Linkoping University in Sweden. I've had 12 students work on this for their graduate work, and the result has been this software called Uniview and a company called SCISS in Sweden. This software allows interactive use, so this actual flight path and movie that we see here was actually flown live. I captured this live from my laptop in a cafe called Earth Matters on the Lower East Side of Manhattan, where I live, and it was done as a collaborative project with the Rubin Museum of Himalayan Art for an exhibit on comparative cosmology.And so as we move out, we see continuously from our planet all the way out into the realm of galaxies, as we see here, light-travel time, giving you a sense of how far away we are. As we move out, the light from these distant galaxies have taken so long, we're essentially backing up into the past. We back so far up we're finally seeing a containment around us \\u2014 the afterglow of the Big Bang. This is the WMAP microwave background that we see. We'll fly outside it here, just to see this sort of containment. If we were outside this, it would almost be meaningless, in the sense as before time. But this our containment of the visible universe. We know the universe is bigger than that which we can see.Coming back quickly, we see here the radio sphere that we jumped out of in the beginning, but these are positions, the latest positions of exoplanets that we've mapped, and our sun here, obviously, with our own solar system. What you're going to see \\u2014 we're going to have to jump in here pretty quickly between several orders of magnitude to get down to where we see the solar system \\u2014 these are the paths of Voyager 1, Voyager 2, Pioneer 11 and Pioneer 10, the first four spacecraft to have left the solar system. Coming in closer, picking up Earth, orbit of the Moon, and we see the Earth. This map can be updated, and we can add in new data.I know Dr. Carolyn Porco is the camera P.I. for the Cassini mission. But here we see the complex trajectory of the Cassini mission color coded for different mission phases, ingeniously developed so that 45 encounters with the largest moon, Titan, which is larger that the planet Mercury, diverts the orbit into different parts of mission phase.This software allows us to come close and look at parts of this. This software can also be networked between domes. We have a growing user base of this, and we network domes. And we can network between domes and classrooms. We're actually sharing tours of the universe with the first sub-Saharan planetarium in Ghana as well as new libraries that have been built in the ghettos in Columbia and a high school in Cambodia. And the Cambodians have actually controlled the Hayden Planetarium from their high school.This is an image from Saturday, photographed by the Aqua satellite, but through the Uniview software. So you're seeing the edge of the Earth. This is Nepal. This is, in fact, right here is the valley of Lhasa, right here in Tibet. But we can see the haze from fires and so forth in the Ganges valley down below in India. This is Nepal and Tibet.And just in closing, I'd just like to say this beautiful world that we live on \\u2014 here we see a bit of the snow that some of you may have had to brave in coming out \\u2014 so I'd like to just say that what the world needs now is a sense of being able to look at ourselves in this much larger condition now and a much larger sense of what home is. Because our home is the universe, and we are the universe, essentially. We carry that in us. And to be able to see our context in this larger sense at all scales helps us all, I think, in understanding where we are and who we are in the universe.Thank you.(Applause)\"\n        ],\n        \"semantic_type\": \"\",\n        \"description\": \"\"\n      }\n    },\n    {\n      \"column\": \"url\",\n      \"properties\": {\n        \"dtype\": \"string\",\n        \"num_unique_values\": 5,\n        \"samples\": [\n          \"https://www.ted.com/talks/aaron_o_connell_making_sense_of_a_visible_quantum_object\\n\",\n          \"https://www.ted.com/talks/jeremy_howard_the_wonderful_and_terrifying_implications_of_computers_that_can_learn\\n\",\n          \"https://www.ted.com/talks/carter_emmart_demos_a_3d_atlas_of_the_universe\\n\"\n        ],\n        \"semantic_type\": \"\",\n        \"description\": \"\"\n      }\n    }\n  ]\n}"
            }
          },
          "metadata": {}
        }
      ]
    },
    {
      "cell_type": "markdown",
      "source": [
        "### Discovering activation functions"
      ],
      "metadata": {
        "id": "Gwd651m3Fk_e"
      }
    },
    {
      "cell_type": "markdown",
      "source": [
        "**Activate your understanding!**   \n",
        "Neural networks are a core component of deep learning models. They can power so much in your daily life, from language translation apps to the cameras on your smartphone.\n",
        "\n",
        "Which of the following statements about neural networks is True?\n",
        "\n",
        "    ->A neural network with a single linear layer followed by a sigmoid activation is similar to a logistic regression model\n",
        "\n",
        "    A logistic regression model is essentially a single-layer neural network with a sigmoid activation."
      ],
      "metadata": {
        "id": "OfvmZ1JUGV-6"
      }
    },
    {
      "cell_type": "markdown",
      "source": [
        "**The sigmoid and softmax functions**  \n",
        "The sigmoid and softmax functions are key activation functions in deep learning, often used as the final step in a neural network.\n",
        "\n",
        "- Sigmoid is for binary classification\n",
        "- Softmax is for multi-class classification\n",
        "\n",
        "Given a pre-activation output tensor from a network, apply the appropriate activation function to obtain the final output"
      ],
      "metadata": {
        "id": "Lk0iilIpHE0R"
      }
    },
    {
      "cell_type": "code",
      "source": [
        "import torch\n",
        "import torch.nn as nn\n",
        "\n",
        "input_tensor = torch.tensor([[2.4]])\n",
        "\n",
        "# Create a sigmoid function and apply it on input_tensor\n",
        "sigmoid = nn.Sigmoid()\n",
        "probability = sigmoid(input_tensor)\n",
        "print(probability)"
      ],
      "metadata": {
        "colab": {
          "base_uri": "https://localhost:8080/"
        },
        "id": "4GgNtpkXHO02",
        "outputId": "e17bfa79-a32e-4957-b989-c53ec1d2cbf3"
      },
      "execution_count": 2,
      "outputs": [
        {
          "output_type": "stream",
          "name": "stdout",
          "text": [
            "tensor([[0.9168]])\n"
          ]
        }
      ]
    },
    {
      "cell_type": "code",
      "source": [
        "input_tensor = torch.tensor([[1.0, -6.0, 2.5, -0.3, 1.2, 0.8]])\n",
        "\n",
        "# Create a softmax function and apply it on input_tensor\n",
        "softmax = nn.Softmax()\n",
        "probabilities = softmax(input_tensor)\n",
        "print(probabilities)"
      ],
      "metadata": {
        "colab": {
          "base_uri": "https://localhost:8080/"
        },
        "id": "bpMYOoLxHaul",
        "outputId": "f5b43bd1-c0e6-4c95-a0e6-b6cbcce93fac"
      },
      "execution_count": 3,
      "outputs": [
        {
          "output_type": "stream",
          "name": "stdout",
          "text": [
            "tensor([[1.2828e-01, 1.1698e-04, 5.7492e-01, 3.4961e-02, 1.5669e-01, 1.0503e-01]])\n"
          ]
        },
        {
          "output_type": "stream",
          "name": "stderr",
          "text": [
            "/usr/local/lib/python3.11/dist-packages/torch/nn/modules/module.py:1739: UserWarning: Implicit dimension choice for softmax has been deprecated. Change the call to include dim=X as an argument.\n",
            "  return self._call_impl(*args, **kwargs)\n"
          ]
        }
      ]
    },
    {
      "cell_type": "markdown",
      "source": [
        "### Running a forward pass"
      ],
      "metadata": {
        "id": "qj2OTHPpHg9B"
      }
    },
    {
      "cell_type": "markdown",
      "source": [
        "***Building a binary classifier in PyTorch***  \n",
        "Recall that a small neural network with a single linear layer followed by a sigmoid function is a binary classifier. It acts just like a logistic regression.\n",
        "\n",
        "Practice building this small network and interpreting the output of the classifier."
      ],
      "metadata": {
        "id": "0xXCIGh-Imvd"
      }
    },
    {
      "cell_type": "code",
      "source": [
        "import torch\n",
        "import torch.nn as nn\n",
        "\n",
        "input_tensor = torch.Tensor([[3, 4, 6, 2, 3, 6, 8, 9]])\n",
        "\n",
        "# Implement a small neural network for binary classification\n",
        "model = nn.Sequential(\n",
        "  nn.Linear(8, 1),\n",
        "  nn.Sigmoid()\n",
        ")\n",
        "\n",
        "output = model(input_tensor)\n",
        "print(output)"
      ],
      "metadata": {
        "colab": {
          "base_uri": "https://localhost:8080/"
        },
        "id": "8qOqyC1VIpzV",
        "outputId": "c0835f19-da36-4482-cf10-f780b3f99239"
      },
      "execution_count": 4,
      "outputs": [
        {
          "output_type": "stream",
          "name": "stdout",
          "text": [
            "tensor([[0.0013]], grad_fn=<SigmoidBackward0>)\n"
          ]
        }
      ]
    },
    {
      "cell_type": "markdown",
      "source": [
        "**Building a binary classifier in PyTorch**  \n",
        "Recall that a small neural network with a single linear layer followed by a sigmoid function is a binary classifier. It acts just like a logistic regression.\n",
        "\n",
        "Practice building this small network and interpreting the output of the classifier.\n",
        "\n",
        "**Question**\n",
        "Which of the following is `false` about the output returned by your binary classifier?\n",
        "\n",
        "- We can use a threshold of 0.5 to determine if the output belongs to one class or the other.\n",
        "\n",
        "--It can return any float value.\n",
        "\n",
        "- It is produced from an untrained model so it is not yet meaningful.\n",
        "\n",
        "- The sigmoid function transforms the values of the input without changing its shape.\n",
        "\n",
        "    -> The sigmoid output is always between 0 and 1."
      ],
      "metadata": {
        "id": "bqBGxqoWIs9g"
      }
    },
    {
      "cell_type": "markdown",
      "source": [
        "**From regression to multi-class classification**   \n",
        "The models you have seen for binary classification, multi-class classification and regression have all been similar, barring a few tweaks to the model.\n",
        "\n",
        "Start building a model for regression, and then tweak the model to perform a multi-class classification."
      ],
      "metadata": {
        "id": "CVtWMn4IKFQp"
      }
    },
    {
      "cell_type": "markdown",
      "source": [],
      "metadata": {
        "id": "0VxDy2a8KFNd"
      }
    },
    {
      "cell_type": "code",
      "source": [
        "import torch\n",
        "import torch.nn as nn\n",
        "\n",
        "input_tensor = torch.Tensor([[3, 4, 6, 7, 10, 12, 2, 3, 6, 8, 9]])\n",
        "\n",
        "# Implement a neural network with exactly four linear layers\n",
        "model = nn.Sequential(\n",
        "  nn.Linear(11, 20),  # First layer: input size should match the number of input features\n",
        "  nn.Linear(20, 12),  # Second layer\n",
        "  nn.Linear(12, 6),   # Third layer\n",
        "  nn.Linear(6, 1)     # Fourth layer: output size should be 1 for regression\n",
        ")\n",
        "\n",
        "output = model(input_tensor)\n",
        "print(output)"
      ],
      "metadata": {
        "colab": {
          "base_uri": "https://localhost:8080/"
        },
        "id": "lSXTf1w3KCqR",
        "outputId": "bb408235-1c1f-4176-b62f-0b6c49d293c3"
      },
      "execution_count": 5,
      "outputs": [
        {
          "output_type": "stream",
          "name": "stdout",
          "text": [
            "tensor([[-0.4389]], grad_fn=<AddmmBackward0>)\n"
          ]
        }
      ]
    },
    {
      "cell_type": "code",
      "source": [
        "import torch\n",
        "import torch.nn as nn\n",
        "\n",
        "input_tensor = torch.Tensor([[3, 4, 6, 7, 10, 12, 2, 3, 6, 8, 9]])\n",
        "\n",
        "# Update network below to perform a multi-class classification with four labels\n",
        "model = nn.Sequential(\n",
        "  nn.Linear(11, 20),\n",
        "  nn.Linear(20, 12),\n",
        "  nn.Linear(12, 6),\n",
        "  nn.Linear(6, 4),\n",
        "  nn.Softmax()\n",
        ")\n",
        "\n",
        "output = model(input_tensor)\n",
        "print(output)\n",
        "\n",
        "# You transformed regression outputs into probabilities between 0 and 1 by updating the last layer\n",
        "# and applying softmax. Next, we’ll explore how to access predictions!"
      ],
      "metadata": {
        "colab": {
          "base_uri": "https://localhost:8080/"
        },
        "id": "IknVCrMbKP_1",
        "outputId": "6df94a9e-8a1a-498f-baad-8a41baf56402"
      },
      "execution_count": 6,
      "outputs": [
        {
          "output_type": "stream",
          "name": "stdout",
          "text": [
            "tensor([[0.3786, 0.1639, 0.1629, 0.2946]], grad_fn=<SoftmaxBackward0>)\n"
          ]
        }
      ]
    },
    {
      "cell_type": "markdown",
      "source": [
        "### Using loss functions to assess model predictions\n"
      ],
      "metadata": {
        "id": "KXlr083giUgW"
      }
    },
    {
      "cell_type": "markdown",
      "source": [
        "**Creating one-hot encoded labels**  \n",
        "One-hot encoding converts a single integer label into a vector with N elements, where N is the number of classes. This vector contains zeros and a one at the correct position.\n",
        "\n",
        "In this exercise, you'll manually create a one-hot encoded vector for y, and then use PyTorch to simplify the process. Your dataset has three classes (0, 1, 2).\n",
        "\n",
        "numpy (np), torch.nn.functional (F), and torch are already imported for you."
      ],
      "metadata": {
        "id": "ZKLNMdaImEBa"
      }
    },
    {
      "cell_type": "code",
      "source": [
        "y = 1\n",
        "num_classes = 3\n",
        "\n",
        "# Create the one-hot encoded vector using NumPy\n",
        "one_hot_numpy = np.array([0, 1, 0])\n",
        "\n",
        "# Create the one-hot encoded vector using PyTorch\n",
        "one_hot_pytorch = F.one_hot(torch.tensor(y), num_classes=num_classes)\n",
        "\n",
        "print(\"One-hot vector using NumPy:\", one_hot_numpy)\n",
        "print(\"One-hot vector using PyTorch:\", one_hot_pytorch)\n",
        "\n",
        "# You created one-hot encoded vectors manually and with PyTorch"
      ],
      "metadata": {
        "colab": {
          "base_uri": "https://localhost:8080/",
          "height": 211
        },
        "id": "rK_izXuMma5v",
        "outputId": "83ee8e5a-b67b-40ad-df66-689311296156"
      },
      "execution_count": 7,
      "outputs": [
        {
          "output_type": "error",
          "ename": "NameError",
          "evalue": "name 'F' is not defined",
          "traceback": [
            "\u001b[0;31m---------------------------------------------------------------------------\u001b[0m",
            "\u001b[0;31mNameError\u001b[0m                                 Traceback (most recent call last)",
            "\u001b[0;32m/tmp/ipython-input-7-3199835010.py\u001b[0m in \u001b[0;36m<cell line: 0>\u001b[0;34m()\u001b[0m\n\u001b[1;32m      6\u001b[0m \u001b[0;34m\u001b[0m\u001b[0m\n\u001b[1;32m      7\u001b[0m \u001b[0;31m# Create the one-hot encoded vector using PyTorch\u001b[0m\u001b[0;34m\u001b[0m\u001b[0;34m\u001b[0m\u001b[0m\n\u001b[0;32m----> 8\u001b[0;31m \u001b[0mone_hot_pytorch\u001b[0m \u001b[0;34m=\u001b[0m \u001b[0mF\u001b[0m\u001b[0;34m.\u001b[0m\u001b[0mone_hot\u001b[0m\u001b[0;34m(\u001b[0m\u001b[0mtorch\u001b[0m\u001b[0;34m.\u001b[0m\u001b[0mtensor\u001b[0m\u001b[0;34m(\u001b[0m\u001b[0my\u001b[0m\u001b[0;34m)\u001b[0m\u001b[0;34m,\u001b[0m \u001b[0mnum_classes\u001b[0m\u001b[0;34m=\u001b[0m\u001b[0mnum_classes\u001b[0m\u001b[0;34m)\u001b[0m\u001b[0;34m\u001b[0m\u001b[0;34m\u001b[0m\u001b[0m\n\u001b[0m\u001b[1;32m      9\u001b[0m \u001b[0;34m\u001b[0m\u001b[0m\n\u001b[1;32m     10\u001b[0m \u001b[0mprint\u001b[0m\u001b[0;34m(\u001b[0m\u001b[0;34m\"One-hot vector using NumPy:\"\u001b[0m\u001b[0;34m,\u001b[0m \u001b[0mone_hot_numpy\u001b[0m\u001b[0;34m)\u001b[0m\u001b[0;34m\u001b[0m\u001b[0;34m\u001b[0m\u001b[0m\n",
            "\u001b[0;31mNameError\u001b[0m: name 'F' is not defined"
          ]
        }
      ]
    },
    {
      "cell_type": "markdown",
      "source": [
        "**Calculating cross entropy loss**  \n",
        "Cross-entropy loss is a widely used method to measure classification loss. In this exercise, you’ll calculate cross-entropy loss in PyTorch using:\n",
        "\n",
        "- y: the ground truth label.\n",
        "- scores: a vector of predictions before softmax.\n",
        "Loss functions help neural networks learn by measuring prediction errors. Create a one-hot encoded vector for y, define the cross-entropy loss function, and compute the loss using scores and the encoded label. The result will be a single float representing the sample's loss.\n",
        "\n",
        "torch, CrossEntropyLoss, and torch.nn.functional as F have already been imported for you."
      ],
      "metadata": {
        "id": "8K1K_bHmmlOM"
      }
    },
    {
      "cell_type": "code",
      "source": [
        "import torch\n",
        "import torch.nn.functional as F\n",
        "from torch.nn import CrossEntropyLoss\n",
        "\n",
        "y = [2]\n",
        "scores = torch.tensor([[0.1, 6.0, -2.0, 3.2]])\n",
        "\n",
        "# Create a one-hot encoded vector of the label y\n",
        "one_hot_label = F.one_hot(torch.tensor(y), num_classes=4)\n",
        "\n",
        "# Create the cross entropy loss function\n",
        "criterion = CrossEntropyLoss()\n",
        "\n",
        "# Calculate the cross entropy loss\n",
        "loss = criterion(scores.double(), one_hot_label.double())\n",
        "print(loss)"
      ],
      "metadata": {
        "colab": {
          "base_uri": "https://localhost:8080/"
        },
        "id": "fLOYjNTFm65y",
        "outputId": "10411c99-08ff-46ec-ae60-58ac520d0391"
      },
      "execution_count": 8,
      "outputs": [
        {
          "output_type": "stream",
          "name": "stdout",
          "text": [
            "tensor(8.0619, dtype=torch.float64)\n"
          ]
        }
      ]
    },
    {
      "cell_type": "markdown",
      "source": [
        "### Using derivatives to update model parameters"
      ],
      "metadata": {
        "id": "oPmFRJX4m_zM"
      }
    },
    {
      "cell_type": "markdown",
      "source": [
        "**Accessing the model parameters**  \n",
        "A PyTorch model created with the nn.Sequential() is a module that contains the different layers of your network. Recall that each layer parameter can be accessed by indexing the created model directly. In this exercise, you will practice accessing the parameters of different linear layers of a neural network."
      ],
      "metadata": {
        "id": "r8WxXLcNntzw"
      }
    },
    {
      "cell_type": "code",
      "source": [
        "model = nn.Sequential(nn.Linear(16, 8),\n",
        "                      nn.Linear(8, 2)\n",
        "                     )\n",
        "\n",
        "# Access the weight of the first linear layer\n",
        "weight_0 = model[0].weight\n",
        "print(\"Weight of the first layer:\", weight_0)\n",
        "\n",
        "# Access the bias of the second linear layer\n",
        "bias_1 = model[1].bias\n",
        "print(\"Bias of the second layer:\", bias_1)\n",
        "\n",
        "# You’ve successfully accessed the model parameters."
      ],
      "metadata": {
        "colab": {
          "base_uri": "https://localhost:8080/"
        },
        "id": "hErUeSgCn-ZX",
        "outputId": "c24fd852-ffb6-4f3a-ddf0-7b1d6a22b7cc"
      },
      "execution_count": 9,
      "outputs": [
        {
          "output_type": "stream",
          "name": "stdout",
          "text": [
            "Weight of the first layer: Parameter containing:\n",
            "tensor([[-1.9255e-01, -8.0615e-02,  1.0408e-01,  4.0837e-02, -1.6673e-01,\n",
            "          1.8673e-01, -1.8312e-01, -3.6285e-02,  4.6827e-02, -2.1024e-01,\n",
            "         -1.5861e-01, -1.2675e-04,  1.2661e-01, -1.3056e-01,  2.7707e-02,\n",
            "         -1.2274e-01],\n",
            "        [ 1.8291e-01,  1.2115e-01, -5.1471e-02, -1.5578e-01,  8.8836e-02,\n",
            "          1.9420e-01, -6.8894e-02,  1.7208e-01,  1.9331e-01, -1.4071e-02,\n",
            "          1.7341e-01, -1.9473e-01, -2.0906e-02,  1.3160e-01,  7.7527e-03,\n",
            "         -2.4793e-01],\n",
            "        [ 9.4462e-02,  1.5797e-01, -6.3461e-02, -1.7784e-01, -2.0228e-01,\n",
            "          5.9339e-02, -1.7728e-02,  2.3113e-02,  7.1032e-02, -6.0721e-03,\n",
            "         -1.7263e-02,  3.5402e-02,  8.4981e-02,  6.7004e-02,  1.7864e-01,\n",
            "         -1.7335e-01],\n",
            "        [ 1.8673e-01, -8.9617e-02, -1.6191e-01, -3.1191e-02,  2.0274e-01,\n",
            "         -1.7988e-01, -1.7093e-01,  1.6315e-01,  9.2390e-02,  1.4609e-01,\n",
            "         -1.4829e-01, -7.7734e-02,  1.1535e-01, -2.1903e-01, -6.8367e-02,\n",
            "          1.4571e-01],\n",
            "        [-4.2867e-02,  1.3175e-01, -1.3126e-01, -1.7852e-01,  1.8593e-01,\n",
            "         -1.6421e-01,  8.8394e-02,  1.6317e-01,  1.2353e-01,  5.7606e-02,\n",
            "         -1.0107e-01, -1.7598e-01,  1.2017e-01, -2.4284e-01, -2.1168e-01,\n",
            "          1.9411e-01],\n",
            "        [ 4.1565e-02,  1.7137e-01, -8.8152e-02,  1.6809e-01,  1.2282e-01,\n",
            "         -1.4494e-01,  2.4805e-01, -2.4071e-01, -1.8210e-01, -1.0038e-01,\n",
            "          1.3188e-01,  1.8641e-01, -1.8764e-01, -1.7645e-02,  2.0873e-02,\n",
            "          6.5033e-02],\n",
            "        [ 4.6203e-04,  2.1744e-01,  1.9948e-01, -1.9593e-01, -1.5493e-01,\n",
            "         -1.6510e-01,  6.2842e-02,  1.4627e-01,  2.0162e-01,  2.2796e-01,\n",
            "         -5.3935e-02,  9.6769e-02,  5.1534e-02, -1.2700e-01, -2.3950e-01,\n",
            "         -4.6986e-02],\n",
            "        [-2.2904e-01, -2.9941e-02, -1.7063e-01,  1.8355e-01, -2.3749e-01,\n",
            "          1.6592e-01, -1.2253e-01, -9.8416e-02,  2.2670e-01, -8.7366e-02,\n",
            "          2.3137e-01, -2.0333e-01, -1.3659e-01, -9.9231e-02, -2.1167e-01,\n",
            "         -1.2696e-01]], requires_grad=True)\n",
            "Bias of the second layer: Parameter containing:\n",
            "tensor([ 0.1111, -0.0814], requires_grad=True)\n"
          ]
        }
      ]
    },
    {
      "cell_type": "markdown",
      "source": [
        "**Updating the weights manually**   \n",
        "Now that you know how to access weights and biases, you will manually perform the job of the PyTorch optimizer. While PyTorch automates this, practicing it manually helps you build intuition for how models learn and adjust. This understanding will be valuable when debugging or fine-tuning neural networks.\n",
        "\n",
        "A neural network of three layers has been created and stored as the model variable. This network has been used for a forward pass and the loss and its derivatives have been calculated. A default learning rate, lr, has been chosen to scale the gradients when performing the update."
      ],
      "metadata": {
        "id": "PUr_NOtVoD2U"
      }
    },
    {
      "cell_type": "code",
      "source": [
        "weight0 = model[0].weight\n",
        "weight1 = model[1].weight\n",
        "\n",
        "# Access the gradients of the weight of each linear layer\n",
        "grads0 = weight0.grad\n",
        "grads1 = weight1.grad\n",
        "\n",
        "# Define a learning rate\n",
        "lr = 0.001\n",
        "\n",
        "# Update the weights using the learning rate and the gradients\n",
        "# weight0 = model[0].weight - lr * grads0\n",
        "# weight1 = model[1].weight - lr * grads1"
      ],
      "metadata": {
        "id": "IGgZE_fAoxGz"
      },
      "execution_count": 19,
      "outputs": []
    },
    {
      "cell_type": "code",
      "metadata": {
        "colab": {
          "base_uri": "https://localhost:8080/"
        },
        "id": "529b450f",
        "outputId": "0e02b8a4-9b48-40b5-b5aa-7da4f9f11a6c"
      },
      "source": [
        "import torch\n",
        "import torch.nn as nn\n",
        "\n",
        "# Assuming 'model' is already defined from a previous cell (e.g., cell hErUeSgCn-ZX)\n",
        "# model = nn.Sequential(nn.Linear(16, 8),\n",
        "#                       nn.Linear(8, 2)\n",
        "#                      )\n",
        "\n",
        "# Define a dummy input tensor and target tensor for demonstration\n",
        "input_tensor_dummy = torch.randn(1, 16) # Batch size 1, 16 input features\n",
        "target_tensor_dummy = torch.randn(1, 2) # Batch size 1, 2 output features (for regression example)\n",
        "\n",
        "# Perform a forward pass\n",
        "output_dummy = model(input_tensor_dummy)\n",
        "\n",
        "# Define a loss function (e.g., Mean Squared Error for a regression task)\n",
        "criterion_dummy = nn.MSELoss()\n",
        "\n",
        "# Calculate the loss\n",
        "loss_dummy = criterion_dummy(output_dummy, target_tensor_dummy)\n",
        "\n",
        "# Perform the backward pass to compute gradients\n",
        "loss_dummy.backward()\n",
        "\n",
        "# Now the gradients are available for updating the weights\n",
        "weight0 = model[0].weight\n",
        "weight1 = model[1].weight\n",
        "\n",
        "# Access the gradients of the weight of each linear layer\n",
        "grads0 = weight0.grad\n",
        "grads1 = weight1.grad\n",
        "\n",
        "# Define a learning rate\n",
        "lr = 0.01\n",
        "\n",
        "# Update the weights using the learning rate and the gradients\n",
        "# Note: In a real training loop, you would typically use an optimizer for this step\n",
        "with torch.no_grad(): # Disable gradient calculation for weight updates\n",
        "    weight0 -= lr * grads0\n",
        "    weight1 -= lr * grads1\n",
        "\n",
        "# Gradients are accumulated, so zero them out after updating\n",
        "model[0].weight.grad.zero_()\n",
        "model[1].weight.grad.zero_()\n",
        "\n",
        "print(\"Gradients are now computed and weights are updated.\")\n",
        "# You can print the updated weights to verify\n",
        "print(\"Updated weight of the first layer:\", model[0].weight)\n",
        "print(\"Updated weight of the second layer:\", model[1].weight)\n",
        "\n",
        "# Imagine doing this for a hundred layers—it would be exhausting!\n",
        "# Thankfully, PyTorch optimizers handle it all in just one line of code."
      ],
      "execution_count": 18,
      "outputs": [
        {
          "output_type": "stream",
          "name": "stdout",
          "text": [
            "Gradients are now computed and weights are updated.\n",
            "Updated weight of the first layer: Parameter containing:\n",
            "tensor([[-0.1921, -0.0811,  0.1062,  0.0430, -0.1649,  0.1850, -0.1835, -0.0364,\n",
            "          0.0456, -0.2136, -0.1562, -0.0003,  0.1253, -0.1299,  0.0278, -0.1215],\n",
            "        [ 0.1812,  0.1262, -0.0560, -0.1589,  0.0913,  0.1947, -0.0718,  0.1622,\n",
            "          0.1989, -0.0122,  0.1637, -0.1951, -0.0251,  0.1229,  0.0063, -0.2520],\n",
            "        [ 0.0940,  0.1596, -0.0644, -0.1782, -0.2009,  0.0590, -0.0188,  0.0197,\n",
            "          0.0726, -0.0064, -0.0198,  0.0352,  0.0831,  0.0642,  0.1782, -0.1743],\n",
            "        [ 0.1862, -0.0880, -0.1633, -0.0322,  0.2035, -0.1797, -0.1719,  0.1600,\n",
            "          0.0942,  0.1467, -0.1513, -0.0779,  0.1140, -0.2218, -0.0688,  0.1444],\n",
            "        [-0.0429,  0.1310, -0.1321, -0.1798,  0.1838, -0.1628,  0.0893,  0.1654,\n",
            "          0.1234,  0.0602, -0.1011, -0.1757,  0.1223, -0.2415, -0.2114,  0.1939],\n",
            "        [ 0.0415,  0.1712, -0.0891,  0.1670,  0.1215, -0.1439,  0.2485, -0.2398,\n",
            "         -0.1818, -0.0985,  0.1312,  0.1866, -0.1865, -0.0174,  0.0210,  0.0646],\n",
            "        [ 0.0004,  0.2174,  0.1993, -0.1962, -0.1552, -0.1649,  0.0629,  0.1464,\n",
            "          0.2017,  0.2284, -0.0541,  0.0968,  0.0518, -0.1270, -0.2395, -0.0471],\n",
            "        [-0.2289, -0.0308, -0.1706,  0.1833, -0.2387,  0.1665, -0.1218, -0.0964,\n",
            "          0.2261, -0.0864,  0.2324, -0.2032, -0.1352, -0.0977, -0.2114, -0.1267]],\n",
            "       requires_grad=True)\n",
            "Updated weight of the second layer: Parameter containing:\n",
            "tensor([[-0.3311, -0.2215, -0.1753, -0.0784,  0.3370,  0.2108,  0.0451,  0.1750],\n",
            "        [-0.3420,  0.3271,  0.0101,  0.1026,  0.2419,  0.1793,  0.0479,  0.0782]],\n",
            "       requires_grad=True)\n"
          ]
        }
      ]
    },
    {
      "cell_type": "markdown",
      "source": [
        "**Using the PyTorch optimizer**  \n",
        "Earlier, you manually updated the weight of a network, gaining insight into how training works behind the scenes. However, this method isn’t scalable for deep networks with many layers.\n",
        "\n",
        "Thankfully, PyTorch provides the SGD optimizer, which automates this process efficiently in just a few lines of code. Now, you’ll complete the training loop by updating the weights using a PyTorch optimizer.\n",
        "\n",
        "A neural network has been created and provided as the model variable. This model was used to run a forward pass and create the tensor of predictions pred. The one-hot encoded tensor is named target and the cross entropy loss function is stored as criterion."
      ],
      "metadata": {
        "id": "RG0s3tmXpw5w"
      }
    },
    {
      "cell_type": "code",
      "source": [
        "import torch.optim as optim\n",
        "\n",
        "# Create the optimizer\n",
        "optimizer = optim.SGD(model.parameters(), lr=0.001)\n",
        "\n",
        "# Assuming 'pred' and 'target' are defined from a forward pass and\n",
        "# 'criterion' is defined as a loss function (e.g., CrossEntropyLoss)\n",
        "\n",
        "# You need to perform a forward pass and calculate the loss before this step\n",
        "# Example (replace with your actual forward pass and loss calculation):\n",
        "# output = model(input_data)\n",
        "# loss = criterion(output, target)\n",
        "\n",
        "# Calculate the loss (using dummy variables for demonstration)\n",
        "# You would replace these with your actual pred and target from a forward pass\n",
        "# For demonstration, let's assume pred and target are defined elsewhere\n",
        "# Example dummy pred and target (replace with your actual data)\n",
        "# pred = torch.randn(1, 4, requires_grad=True) # Example output with 4 classes\n",
        "# target = torch.tensor([2]) # Example target label\n",
        "\n",
        "# Ensure pred and target are defined for the loss calculation\n",
        "# Based on previous cells, 'criterion' is CrossEntropyLoss\n",
        "# Let's use the scores and y from cell fLOYjNTFm65y for a working example\n",
        "y = [2]\n",
        "scores = torch.tensor([[0.1, 6.0, -2.0, 3.2]], requires_grad=True)\n",
        "target = torch.tensor(y)\n",
        "# Assuming criterion is already defined as CrossEntropyLoss from cell fLOYjNTFm65y\n",
        "# from torch.nn import CrossEntropyLoss\n",
        "# criterion = CrossEntropyLoss()\n",
        "\n",
        "loss = criterion(scores, target) # Use scores before softmax with CrossEntropyLoss\n",
        "loss.backward()\n",
        "\n",
        "# Update the model's parameters using the optimizer\n",
        "optimizer.step()\n",
        "\n",
        "print(\"Optimizer step completed. Model parameters updated.\")"
      ],
      "metadata": {
        "colab": {
          "base_uri": "https://localhost:8080/"
        },
        "id": "QRP6gwW3p-Ys",
        "outputId": "35e56d9d-6e78-4c12-cf17-00f0e1a78535"
      },
      "execution_count": 22,
      "outputs": [
        {
          "output_type": "stream",
          "name": "stdout",
          "text": [
            "Optimizer step completed. Model parameters updated.\n"
          ]
        }
      ]
    }
  ]
}