{
  "nbformat": 4,
  "nbformat_minor": 0,
  "metadata": {
    "colab": {
      "provenance": [],
      "authorship_tag": "ABX9TyNDINtTw5RiHvEUM0oQ5Gqn",
      "include_colab_link": true
    },
    "kernelspec": {
      "name": "python3",
      "display_name": "Python 3"
    },
    "language_info": {
      "name": "python"
    }
  },
  "cells": [
    {
      "cell_type": "markdown",
      "metadata": {
        "id": "view-in-github",
        "colab_type": "text"
      },
      "source": [
        "<a href=\"https://colab.research.google.com/github/Rohanrathod7/my-ml-labs/blob/main/20_Introduction_to_Deep_Learning_with_PyTorch/01_Introduction_to_PyTorch%2C_a_Deep_Learning_Library.ipynb\" target=\"_parent\"><img src=\"https://colab.research.google.com/assets/colab-badge.svg\" alt=\"Open In Colab\"/></a>"
      ]
    },
    {
      "cell_type": "markdown",
      "source": [
        "### 1. Introduction to PyTorch, a Deep Learning Library\n"
      ],
      "metadata": {
        "id": "69GNV3tpDLy3"
      }
    },
    {
      "cell_type": "markdown",
      "source": [
        "Deep learning is everywhere, from smartphone cameras to voice assistants or self-driving cars. In this course, you will discover this powerful technology and learn how to leverage it using PyTorch, one of the most popular deep learning libraries. By the end of this course, you will be able to leverage PyTorch to solve classification and regression problems using deep learning."
      ],
      "metadata": {
        "id": "cy5tpla-BBKR"
      }
    },
    {
      "cell_type": "markdown",
      "source": [
        "Self-driving cars, smartphones, search engines... Deep learning is now everywhere. Before you begin building complex models, you will become familiar with PyTorch, a deep learning framework. You will learn how to manipulate tensors, create PyTorch data structures, and build your first neural network in PyTorch with linear layers."
      ],
      "metadata": {
        "id": "TtGZ3MZEFAac"
      }
    },
    {
      "cell_type": "code",
      "execution_count": 1,
      "metadata": {
        "id": "EUPpAj0HoP6i"
      },
      "outputs": [],
      "source": []
    },
    {
      "cell_type": "code",
      "source": [
        "%matplotlib inline\n",
        "import matplotlib.pyplot as plt\n",
        "import seaborn as sns\n",
        "import numpy as np\n",
        "import pandas as pd\n",
        "import datetime as dt\n",
        "# Import confusion matrix and train_test_split\n",
        "from sklearn.metrics import confusion_matrix, classification_report\n",
        "from sklearn.neighbors import KNeighborsClassifier\n",
        "from sklearn.svm import SVC\n",
        "from sklearn.model_selection import train_test_split, KFold, cross_val_score, GridSearchCV\n",
        "from sklearn.linear_model import Ridge, Lasso, LogisticRegression, LinearRegression\n",
        "from scipy.cluster.hierarchy import linkage, dendrogram\n",
        "import matplotlib.pyplot as plt\n",
        "from sklearn.linear_model import SGDClassifier\n",
        "\n",
        "url = \"https://raw.githubusercontent.com/Rohanrathod7/my-ml-labs/main/19_Feature_Engineering_for_NLP_in_Python/Dataset/ted.csv\"\n",
        "# Read the CSV file\n",
        "# Apply pd.to_numeric only to relevant columns, excluding 'text'\n",
        "ted = pd.read_csv(url)\n",
        "\n",
        "\n",
        "display(ted.head())"
      ],
      "metadata": {
        "colab": {
          "base_uri": "https://localhost:8080/",
          "height": 206
        },
        "id": "u8UlyiPU6rzD",
        "outputId": "71dadf02-f581-4627-a085-22e89ba182f1"
      },
      "execution_count": 2,
      "outputs": [
        {
          "output_type": "display_data",
          "data": {
            "text/plain": [
              "                                          transcript  \\\n",
              "0  We're going to talk — my — a new lecture, just...   \n",
              "1  This is a representation of your brain, and yo...   \n",
              "2  It's a great honor today to share with you The...   \n",
              "3  My passions are music, technology and making t...   \n",
              "4  It used to be that if you wanted to get a comp...   \n",
              "\n",
              "                                                 url  \n",
              "0  https://www.ted.com/talks/al_seckel_says_our_b...  \n",
              "1  https://www.ted.com/talks/aaron_o_connell_maki...  \n",
              "2  https://www.ted.com/talks/carter_emmart_demos_...  \n",
              "3  https://www.ted.com/talks/jared_ficklin_new_wa...  \n",
              "4  https://www.ted.com/talks/jeremy_howard_the_wo...  "
            ],
            "text/html": [
              "\n",
              "  <div id=\"df-7e779c6d-bf0a-4fb5-a3a9-ccb666829a0d\" class=\"colab-df-container\">\n",
              "    <div>\n",
              "<style scoped>\n",
              "    .dataframe tbody tr th:only-of-type {\n",
              "        vertical-align: middle;\n",
              "    }\n",
              "\n",
              "    .dataframe tbody tr th {\n",
              "        vertical-align: top;\n",
              "    }\n",
              "\n",
              "    .dataframe thead th {\n",
              "        text-align: right;\n",
              "    }\n",
              "</style>\n",
              "<table border=\"1\" class=\"dataframe\">\n",
              "  <thead>\n",
              "    <tr style=\"text-align: right;\">\n",
              "      <th></th>\n",
              "      <th>transcript</th>\n",
              "      <th>url</th>\n",
              "    </tr>\n",
              "  </thead>\n",
              "  <tbody>\n",
              "    <tr>\n",
              "      <th>0</th>\n",
              "      <td>We're going to talk — my — a new lecture, just...</td>\n",
              "      <td>https://www.ted.com/talks/al_seckel_says_our_b...</td>\n",
              "    </tr>\n",
              "    <tr>\n",
              "      <th>1</th>\n",
              "      <td>This is a representation of your brain, and yo...</td>\n",
              "      <td>https://www.ted.com/talks/aaron_o_connell_maki...</td>\n",
              "    </tr>\n",
              "    <tr>\n",
              "      <th>2</th>\n",
              "      <td>It's a great honor today to share with you The...</td>\n",
              "      <td>https://www.ted.com/talks/carter_emmart_demos_...</td>\n",
              "    </tr>\n",
              "    <tr>\n",
              "      <th>3</th>\n",
              "      <td>My passions are music, technology and making t...</td>\n",
              "      <td>https://www.ted.com/talks/jared_ficklin_new_wa...</td>\n",
              "    </tr>\n",
              "    <tr>\n",
              "      <th>4</th>\n",
              "      <td>It used to be that if you wanted to get a comp...</td>\n",
              "      <td>https://www.ted.com/talks/jeremy_howard_the_wo...</td>\n",
              "    </tr>\n",
              "  </tbody>\n",
              "</table>\n",
              "</div>\n",
              "    <div class=\"colab-df-buttons\">\n",
              "\n",
              "  <div class=\"colab-df-container\">\n",
              "    <button class=\"colab-df-convert\" onclick=\"convertToInteractive('df-7e779c6d-bf0a-4fb5-a3a9-ccb666829a0d')\"\n",
              "            title=\"Convert this dataframe to an interactive table.\"\n",
              "            style=\"display:none;\">\n",
              "\n",
              "  <svg xmlns=\"http://www.w3.org/2000/svg\" height=\"24px\" viewBox=\"0 -960 960 960\">\n",
              "    <path d=\"M120-120v-720h720v720H120Zm60-500h600v-160H180v160Zm220 220h160v-160H400v160Zm0 220h160v-160H400v160ZM180-400h160v-160H180v160Zm440 0h160v-160H620v160ZM180-180h160v-160H180v160Zm440 0h160v-160H620v160Z\"/>\n",
              "  </svg>\n",
              "    </button>\n",
              "\n",
              "  <style>\n",
              "    .colab-df-container {\n",
              "      display:flex;\n",
              "      gap: 12px;\n",
              "    }\n",
              "\n",
              "    .colab-df-convert {\n",
              "      background-color: #E8F0FE;\n",
              "      border: none;\n",
              "      border-radius: 50%;\n",
              "      cursor: pointer;\n",
              "      display: none;\n",
              "      fill: #1967D2;\n",
              "      height: 32px;\n",
              "      padding: 0 0 0 0;\n",
              "      width: 32px;\n",
              "    }\n",
              "\n",
              "    .colab-df-convert:hover {\n",
              "      background-color: #E2EBFA;\n",
              "      box-shadow: 0px 1px 2px rgba(60, 64, 67, 0.3), 0px 1px 3px 1px rgba(60, 64, 67, 0.15);\n",
              "      fill: #174EA6;\n",
              "    }\n",
              "\n",
              "    .colab-df-buttons div {\n",
              "      margin-bottom: 4px;\n",
              "    }\n",
              "\n",
              "    [theme=dark] .colab-df-convert {\n",
              "      background-color: #3B4455;\n",
              "      fill: #D2E3FC;\n",
              "    }\n",
              "\n",
              "    [theme=dark] .colab-df-convert:hover {\n",
              "      background-color: #434B5C;\n",
              "      box-shadow: 0px 1px 3px 1px rgba(0, 0, 0, 0.15);\n",
              "      filter: drop-shadow(0px 1px 2px rgba(0, 0, 0, 0.3));\n",
              "      fill: #FFFFFF;\n",
              "    }\n",
              "  </style>\n",
              "\n",
              "    <script>\n",
              "      const buttonEl =\n",
              "        document.querySelector('#df-7e779c6d-bf0a-4fb5-a3a9-ccb666829a0d button.colab-df-convert');\n",
              "      buttonEl.style.display =\n",
              "        google.colab.kernel.accessAllowed ? 'block' : 'none';\n",
              "\n",
              "      async function convertToInteractive(key) {\n",
              "        const element = document.querySelector('#df-7e779c6d-bf0a-4fb5-a3a9-ccb666829a0d');\n",
              "        const dataTable =\n",
              "          await google.colab.kernel.invokeFunction('convertToInteractive',\n",
              "                                                    [key], {});\n",
              "        if (!dataTable) return;\n",
              "\n",
              "        const docLinkHtml = 'Like what you see? Visit the ' +\n",
              "          '<a target=\"_blank\" href=https://colab.research.google.com/notebooks/data_table.ipynb>data table notebook</a>'\n",
              "          + ' to learn more about interactive tables.';\n",
              "        element.innerHTML = '';\n",
              "        dataTable['output_type'] = 'display_data';\n",
              "        await google.colab.output.renderOutput(dataTable, element);\n",
              "        const docLink = document.createElement('div');\n",
              "        docLink.innerHTML = docLinkHtml;\n",
              "        element.appendChild(docLink);\n",
              "      }\n",
              "    </script>\n",
              "  </div>\n",
              "\n",
              "\n",
              "    <div id=\"df-d8da6f62-d14b-4e37-aa33-18f7bb7f7539\">\n",
              "      <button class=\"colab-df-quickchart\" onclick=\"quickchart('df-d8da6f62-d14b-4e37-aa33-18f7bb7f7539')\"\n",
              "                title=\"Suggest charts\"\n",
              "                style=\"display:none;\">\n",
              "\n",
              "<svg xmlns=\"http://www.w3.org/2000/svg\" height=\"24px\"viewBox=\"0 0 24 24\"\n",
              "     width=\"24px\">\n",
              "    <g>\n",
              "        <path d=\"M19 3H5c-1.1 0-2 .9-2 2v14c0 1.1.9 2 2 2h14c1.1 0 2-.9 2-2V5c0-1.1-.9-2-2-2zM9 17H7v-7h2v7zm4 0h-2V7h2v10zm4 0h-2v-4h2v4z\"/>\n",
              "    </g>\n",
              "</svg>\n",
              "      </button>\n",
              "\n",
              "<style>\n",
              "  .colab-df-quickchart {\n",
              "      --bg-color: #E8F0FE;\n",
              "      --fill-color: #1967D2;\n",
              "      --hover-bg-color: #E2EBFA;\n",
              "      --hover-fill-color: #174EA6;\n",
              "      --disabled-fill-color: #AAA;\n",
              "      --disabled-bg-color: #DDD;\n",
              "  }\n",
              "\n",
              "  [theme=dark] .colab-df-quickchart {\n",
              "      --bg-color: #3B4455;\n",
              "      --fill-color: #D2E3FC;\n",
              "      --hover-bg-color: #434B5C;\n",
              "      --hover-fill-color: #FFFFFF;\n",
              "      --disabled-bg-color: #3B4455;\n",
              "      --disabled-fill-color: #666;\n",
              "  }\n",
              "\n",
              "  .colab-df-quickchart {\n",
              "    background-color: var(--bg-color);\n",
              "    border: none;\n",
              "    border-radius: 50%;\n",
              "    cursor: pointer;\n",
              "    display: none;\n",
              "    fill: var(--fill-color);\n",
              "    height: 32px;\n",
              "    padding: 0;\n",
              "    width: 32px;\n",
              "  }\n",
              "\n",
              "  .colab-df-quickchart:hover {\n",
              "    background-color: var(--hover-bg-color);\n",
              "    box-shadow: 0 1px 2px rgba(60, 64, 67, 0.3), 0 1px 3px 1px rgba(60, 64, 67, 0.15);\n",
              "    fill: var(--button-hover-fill-color);\n",
              "  }\n",
              "\n",
              "  .colab-df-quickchart-complete:disabled,\n",
              "  .colab-df-quickchart-complete:disabled:hover {\n",
              "    background-color: var(--disabled-bg-color);\n",
              "    fill: var(--disabled-fill-color);\n",
              "    box-shadow: none;\n",
              "  }\n",
              "\n",
              "  .colab-df-spinner {\n",
              "    border: 2px solid var(--fill-color);\n",
              "    border-color: transparent;\n",
              "    border-bottom-color: var(--fill-color);\n",
              "    animation:\n",
              "      spin 1s steps(1) infinite;\n",
              "  }\n",
              "\n",
              "  @keyframes spin {\n",
              "    0% {\n",
              "      border-color: transparent;\n",
              "      border-bottom-color: var(--fill-color);\n",
              "      border-left-color: var(--fill-color);\n",
              "    }\n",
              "    20% {\n",
              "      border-color: transparent;\n",
              "      border-left-color: var(--fill-color);\n",
              "      border-top-color: var(--fill-color);\n",
              "    }\n",
              "    30% {\n",
              "      border-color: transparent;\n",
              "      border-left-color: var(--fill-color);\n",
              "      border-top-color: var(--fill-color);\n",
              "      border-right-color: var(--fill-color);\n",
              "    }\n",
              "    40% {\n",
              "      border-color: transparent;\n",
              "      border-right-color: var(--fill-color);\n",
              "      border-top-color: var(--fill-color);\n",
              "    }\n",
              "    60% {\n",
              "      border-color: transparent;\n",
              "      border-right-color: var(--fill-color);\n",
              "    }\n",
              "    80% {\n",
              "      border-color: transparent;\n",
              "      border-right-color: var(--fill-color);\n",
              "      border-bottom-color: var(--fill-color);\n",
              "    }\n",
              "    90% {\n",
              "      border-color: transparent;\n",
              "      border-bottom-color: var(--fill-color);\n",
              "    }\n",
              "  }\n",
              "</style>\n",
              "\n",
              "      <script>\n",
              "        async function quickchart(key) {\n",
              "          const quickchartButtonEl =\n",
              "            document.querySelector('#' + key + ' button');\n",
              "          quickchartButtonEl.disabled = true;  // To prevent multiple clicks.\n",
              "          quickchartButtonEl.classList.add('colab-df-spinner');\n",
              "          try {\n",
              "            const charts = await google.colab.kernel.invokeFunction(\n",
              "                'suggestCharts', [key], {});\n",
              "          } catch (error) {\n",
              "            console.error('Error during call to suggestCharts:', error);\n",
              "          }\n",
              "          quickchartButtonEl.classList.remove('colab-df-spinner');\n",
              "          quickchartButtonEl.classList.add('colab-df-quickchart-complete');\n",
              "        }\n",
              "        (() => {\n",
              "          let quickchartButtonEl =\n",
              "            document.querySelector('#df-d8da6f62-d14b-4e37-aa33-18f7bb7f7539 button');\n",
              "          quickchartButtonEl.style.display =\n",
              "            google.colab.kernel.accessAllowed ? 'block' : 'none';\n",
              "        })();\n",
              "      </script>\n",
              "    </div>\n",
              "\n",
              "    </div>\n",
              "  </div>\n"
            ],
            "application/vnd.google.colaboratory.intrinsic+json": {
              "type": "dataframe",
              "summary": "{\n  \"name\": \"display(ted\",\n  \"rows\": 5,\n  \"fields\": [\n    {\n      \"column\": \"transcript\",\n      \"properties\": {\n        \"dtype\": \"string\",\n        \"num_unique_values\": 5,\n        \"samples\": [\n          \"This is a representation of your brain, and your brain can be broken into two parts. There's the left half, which is the logical side, and then the right half, which is the intuitive. And so if we had a scale to measure the aptitude of each hemisphere, then we can plot our brain. And for example, this would be somebody who's completely logical. This would be someone who's entirely intuitive. So where would you put your brain on this scale? Some of us may have opted for one of these extremes, but I think for most people in the audience, your brain is something like this \\u2014 with a high aptitude in both hemispheres at the same time. It's not like they're mutually exclusive or anything. You can be logical and intuitive.And so I consider myself one of these people, along with most of the other experimental quantum physicists, who need a good deal of logic to string together these complex ideas. But at the same time, we need a good deal of intuition to actually make the experiments work. How do we develop this intuition? Well we like to play with stuff. So we go out and play with it, and then we see how it acts, and then we develop our intuition from there. And really you do the same thing.So some intuition that you may have developed over the years is that one thing is only in one place at a time. I mean, it can sound weird to think about one thing being in two different places at the same time, but you weren't born with this notion, you developed it. And I remember watching a kid playing on a car stop. He was just a toddler and he wasn't very good at it, and he kept falling over. But I bet playing with this car stop taught him a really valuable lesson, and that's that large things don't let you get right past them, and that they stay in one place.And so this is a great conceptual model to have of the world, unless you're a particle physicist. It'd be a terrible model for a particle physicist, because they don't play with car stops, they play with these little weird particles. And when they play with their particles, they find they do all sorts of really weird things \\u2014 like they can fly right through walls, or they can be in two different places at the same time. And so they wrote down all these observations, and they called it the theory of quantum mechanics.And so that's where physics was at a few years ago; you needed quantum mechanics to describe little, tiny particles. But you didn't need it to describe the large, everyday objects around us. This didn't really sit well with my intuition, and maybe it's just because I don't play with particles very often. Well, I play with them sometimes, but not very often. And I've never seen them. I mean, nobody's ever seen a particle. But it didn't sit well with my logical side either. Because if everything is made up of little particles and all the little particles follow quantum mechanics, then shouldn't everything just follow quantum mechanics? I don't see any reason why it shouldn't. And so I'd feel a lot better about the whole thing if we could somehow show that an everyday object also follows quantum mechanics. So a few years ago, I set off to do just that.So I made one. This is the first object that you can see that has been in a mechanical quantum superposition. So what we're looking at here is a tiny computer chip. And you can sort of see this green dot right in the middle. And that's this piece of metal I'm going to be talking about in a minute. This is a photograph of the object. And here I'll zoom in a little bit. We're looking right there in the center. And then here's a really, really big close-up of the little piece of metal. So what we're looking at is a little chunk of metal, and it's shaped like a diving board, and it's sticking out over a ledge. And so I made this thing in nearly the same way as you make a computer chip. I went into a clean room with a fresh silicon wafer, and then I just cranked away at all the big machines for about 100 hours. For the last stuff, I had to build my own machine \\u2014 to make this swimming pool-shaped hole underneath the device. This device has the ability to be in a quantum superposition, but it needs a little help to do it.Here, let me give you an analogy. You know how uncomfortable it is to be in a crowded elevator? I mean, when I'm in an elevator all alone, I do all sorts of weird things, but then other people get on board and I stop doing those things because I don't want to bother them, or, frankly, scare them. So quantum mechanics says that inanimate objects feel the same way. The fellow passengers for inanimate objects are not just people, but it's also the light shining on it and the wind blowing past it and the heat of the room. And so we knew, if we wanted to see this piece of metal behave quantum mechanically, we're going to have to kick out all the other passengers.And so that's what we did. We turned off the lights, and then we put it in a vacuum and sucked out all the air, and then we cooled it down to just a fraction of a degree above absolute zero. Now, all alone in the elevator, the little chunk of metal is free to act however it wanted. And so we measured its motion. We found it was moving in really weird ways. Instead of just sitting perfectly still, it was vibrating, and the way it was vibrating was breathing something like this \\u2014 like expanding and contracting bellows. And by giving it a gentle nudge, we were able to make it both vibrate and not vibrate at the same time \\u2014 something that's only allowed with quantum mechanics.So what I'm telling you here is something truly fantastic. What does it mean for one thing to be both vibrating and not vibrating at the same time? So let's think about the atoms. So in one case: all the trillions of atoms that make up that chunk of metal are sitting still and at the same time those same atoms are moving up and down. Now it's only at precise times when they align. The rest of the time they're delocalized. That means that every atom is in two different places at the same time, which in turn means the entire chunk of metal is in two different places. I think this is really cool. (Laughter) Really.(Applause)It was worth locking myself in a clean room to do this for all those years because, check this out, the difference in scale between a single atom and that chunk of metal is about the same as the difference between that chunk of metal and you. So if a single atom can be in two different places at the same time, that chunk of metal can be in two different places, then why not you? I mean, this is just my logical side talking. So imagine if you're in multiple places at the same time, what would that be like? How would your consciousness handle your body being delocalized in space?There's one more part to the story. It's when we warmed it up, and we turned on the lights and looked inside the box, we saw that the piece metal was still there in one piece. And so I had to develop this new intuition, that it seems like all the objects in the elevator are really just quantum objects just crammed into a tiny space.You hear a lot of talk about how quantum mechanics says that everything is all interconnected. Well, that's not quite right. It's more than that; it's deeper. It's that those connections, your connections to all the things around you, literally define who you are, and that's the profound weirdness of quantum mechanics.Thank you.(Applause)\",\n          \"It used to be that if you wanted to get a computer to do something new, you would have to program it. Now, programming, for those of you here that haven't done it yourself, requires laying out in excruciating detail every single step that you want the computer to do in order to achieve your goal. Now, if you want to do something that you don't know how to do yourself, then this is going to be a great challenge.So this was the challenge faced by this man, Arthur Samuel. In 1956, he wanted to get this computer to be able to beat him at checkers. How can you write a program, lay out in excruciating detail, how to be better than you at checkers? So he came up with an idea: he had the computer play against itself thousands of times and learn how to play checkers. And indeed it worked, and in fact, by 1962, this computer had beaten the Connecticut state champion.So Arthur Samuel was the father of machine learning, and I have a great debt to him, because I am a machine learning practitioner. I was the president of Kaggle, a community of over 200,000 machine learning practictioners. Kaggle puts up competitions to try and get them to solve previously unsolved problems, and it's been successful  hundreds of times. So from this vantage point, I was able to find out a lot about what machine learning can do in the past, can do today, and what it could do in the future. Perhaps the first big success of  machine learning commercially was Google. Google showed that it is possible to find information by using a computer algorithm, and this algorithm is based on machine learning. Since that time, there have been many commercial successes of machine learning. Companies like Amazon and Netflix use machine learning to suggest products that you might like to buy, movies that you might like to watch. Sometimes, it's almost creepy. Companies like LinkedIn and Facebook sometimes will tell you about who your friends might be and you have no idea how it did it, and this is because it's using the power of machine learning. These are algorithms that have learned how to do this from data rather than being programmed by hand.This is also how IBM was successful in getting Watson to beat the two world champions at \\\"Jeopardy,\\\" answering incredibly subtle and complex questions like this one. [\\\"The ancient 'Lion of Nimrud' went missing from this city's national museum in 2003  (along with a lot of other stuff)\\\"] This is also why we are now able to see the first self-driving cars. If you want to be able to tell the difference between, say, a tree and a pedestrian, well, that's pretty important. We don't know how to write those programs by hand, but with machine learning, this is now possible. And in fact, this car has driven  over a million miles without any accidents on regular roads.So we now know that computers can learn, and computers can learn to do things that we actually sometimes don't know how to do ourselves, or maybe can do them better than us. One of the most amazing examples I've seen of machine learning happened on a project that I ran at Kaggle where a team run by a guy called Geoffrey Hinton from the University of Toronto won a competition for automatic drug discovery. Now, what was extraordinary here is not just that they beat all of the algorithms developed by Merck or the international academic community, but nobody on the team had any background in chemistry or biology or life sciences, and they did it in two weeks. How did they do this? They used an extraordinary algorithm called deep learning. So important was this that in fact the success was covered in The New York Times in a front page article a few weeks later. This is Geoffrey Hinton here on the left-hand side. Deep learning is an algorithm inspired by how the human brain works, and as a result it's an algorithm which has no theoretical limitations on what it can do. The more data you give it and the more computation time you give it, the better it gets.The New York Times also showed in this article another extraordinary result of deep learning which I'm going to show you now. It shows that computers  can listen and understand.(Video) Richard Rashid: Now, the last step that I want to be able to take in this process is to actually speak to you in Chinese. Now the key thing there is, we've been able to take a large amount  of information from many Chinese speakers and produce a text-to-speech system that takes Chinese text and converts it into Chinese language, and then we've taken an hour or so of my own voice and we've used that to modulate the standard text-to-speech system so that it would sound like me. Again, the result's not perfect. There are in fact quite a few errors. (In Chinese) (Applause) There's much work to be done in this area. (In Chinese) (Applause)Jeremy Howard: Well, that was at a machine learning conference in China. It's not often, actually, at academic conferences that you do hear spontaneous applause, although of course sometimes at TEDx conferences, feel free. Everything you saw there was happening with deep learning. (Applause) Thank you. The transcription in English was deep learning. The translation to Chinese and the text in the top right, deep learning, and the construction of the voice was deep learning as well.So deep learning is this extraordinary thing. It's a single algorithm that can seem to do almost anything, and I discovered that a year earlier, it had also learned to see. In this obscure competition from Germany called the German Traffic Sign  Recognition Benchmark, deep learning had learned to recognize traffic signs like this one. Not only could it recognize the traffic signs better than any other algorithm, the leaderboard actually showed it was better than people, about twice as good as people. So by 2011, we had the first example of computers that can see better than people. Since that time, a lot has happened. In 2012, Google announced that they had a deep learning algorithm watch YouTube videos and crunched the data on 16,000 computers for a month, and the computer independently learned about concepts such as people and cats just by watching the videos. This is much like the way that humans learn. Humans don't learn by being told what they see, but by learning for themselves what these things are. Also in 2012, Geoffrey Hinton, who we saw earlier, won the very popular ImageNet competition, looking to try to figure out  from one and a half million images what they're pictures of. As of 2014, we're now down to a six percent error rate in image recognition. This is better than people, again.So machines really are doing an extraordinarily good job of this, and it is now being used in industry. For example, Google announced last year that they had mapped every single location in France in two hours, and the way they did it was that they fed street view images into a deep learning algorithm to recognize and read street numbers. Imagine how long it would have taken before: dozens of people, many years. This is also happening in China. Baidu is kind of  the Chinese Google, I guess, and what you see here in the top left is an example of a picture that I uploaded to Baidu's deep learning system, and underneath you can see that the system has understood what that picture is and found similar images. The similar images actually have similar backgrounds, similar directions of the faces, even some with their tongue out. This is not clearly looking at the text of a web page. All I uploaded was an image. So we now have computers which really understand what they see and can therefore search databases of hundreds of millions of images in real time.So what does it mean now that computers can see? Well, it's not just  that computers can see. In fact, deep learning has done more than that. Complex, nuanced sentences like this one are now understandable with deep learning algorithms. As you can see here, this Stanford-based system showing the red dot at the top has figured out that this sentence is expressing negative sentiment. Deep learning now in fact is near human performance at understanding what sentences are about and what it is saying about those things. Also, deep learning has been used to read Chinese, again at about native Chinese speaker level. This algorithm developed out of Switzerland by people, none of whom speak or understand any Chinese. As I say, using deep learning is about the best system in the world for this, even compared to native human understanding.This is a system that we put together at my company which shows putting all this stuff together. These are pictures which have no text attached, and as I'm typing in here sentences, in real time it's understanding these pictures and figuring out what they're about and finding pictures that are similar to the text that I'm writing. So you can see, it's actually understanding my sentences and actually understanding these pictures. I know that you've seen something like this on Google, where you can type in things and it will show you pictures, but actually what it's doing is it's searching the webpage for the text. This is very different from actually understanding the images. This is something that computers have only been able to do for the first time in the last few months.So we can see now that computers can not only see but they can also read, and, of course, we've shown that they can understand what they hear. Perhaps not surprising now that I'm going to tell you they can write. Here is some text that I generated using a deep learning algorithm yesterday. And here is some text that an algorithm out of Stanford generated. Each of these sentences was generated by a deep learning algorithm to describe each of those pictures. This algorithm before has never seen a man in a black shirt playing a guitar. It's seen a man before, it's seen black before, it's seen a guitar before, but it has independently generated this novel description of this picture. We're still not quite at human performance here, but we're close. In tests, humans prefer the computer-generated caption one out of four times. Now this system is now only two weeks old, so probably within the next year, the computer algorithm will be well past human performance at the rate things are going. So computers can also write.So we put all this together and it leads to very exciting opportunities. For example, in medicine, a team in Boston announced that they had discovered dozens of new clinically relevant features of tumors which help doctors make a prognosis of a cancer. Very similarly, in Stanford, a group there announced that, looking at tissues under magnification, they've developed  a machine learning-based system which in fact is better than human pathologists at predicting survival rates for cancer sufferers. In both of these cases, not only were the predictions more accurate, but they generated new insightful science. In the radiology case, they were new clinical indicators that humans can understand. In this pathology case, the computer system actually discovered that the cells around the cancer are as important as the cancer cells themselves in making a diagnosis. This is the opposite of what pathologists had been taught for decades. In each of those two cases, they were systems developed by a combination of medical experts and machine learning experts, but as of last year, we're now beyond that too. This is an example of identifying cancerous areas of human tissue under a microscope. The system being shown here can identify those areas more accurately, or about as accurately, as human pathologists, but was built entirely with deep learning using no medical expertise by people who have no background in the field. Similarly, here, this neuron segmentation. We can now segment neurons about as accurately as humans can, but this system was developed with deep learning using people with no previous  background in medicine.So myself, as somebody with no previous background in medicine, I seem to be entirely well qualified to start a new medical company, which I did. I was kind of terrified of doing it, but the theory seemed to suggest that it ought to be possible to do very useful medicine using just these data analytic techniques. And thankfully, the feedback has been fantastic, not just from the media but from the medical community, who have been very supportive. The theory is that we can take the middle part of the medical process and turn that into data analysis as much as possible, leaving doctors to do what they're best at. I want to give you an example. It now takes us about 15 minutes to generate a new medical diagnostic test and I'll show you that in real time now, but I've compressed it down to  three minutes by cutting some pieces out. Rather than showing you creating a medical diagnostic test, I'm going to show you  a diagnostic test of car images, because that's something we can all understand.So here we're starting with  about 1.5 million car images, and I want to create something that can split them into the angle of the photo that's being taken. So these images are entirely unlabeled, so I have to start from scratch. With our deep learning algorithm, it can automatically identify areas of structure in these images. So the nice thing is that the human and the computer can now work together. So the human, as you can see here, is telling the computer about areas of interest which it wants the computer then to try and use to improve its algorithm. Now, these deep learning systems actually are in 16,000-dimensional space, so you can see here the computer rotating this through that space, trying to find new areas of structure. And when it does so successfully, the human who is driving it can then point out the areas that are interesting. So here, the computer has successfully found areas, for example, angles. So as we go through this process, we're gradually telling the computer more and more about the kinds of structures we're looking for. You can imagine in a diagnostic test this would be a pathologist identifying areas of pathosis, for example, or a radiologist indicating potentially troublesome nodules. And sometimes it can be difficult for the algorithm. In this case, it got kind of confused. The fronts and the backs of the cars are all mixed up. So here we have to be a bit more careful, manually selecting these fronts as opposed to the backs, then telling the computer that this is a type of group that we're interested in.So we do that for a while, we skip over a little bit, and then we train the machine learning algorithm based on these couple of hundred things, and we hope that it's gotten a lot better. You can see, it's now started to fade some of these pictures out, showing us that it already is recognizing how to understand some of these itself. We can then use this concept of similar images, and using similar images, you can now see, the computer at this point is able to entirely find just the fronts of cars. So at this point, the human can tell the computer, okay, yes, you've done a good job of that.Sometimes, of course, even at this point it's still difficult to separate out groups. In this case, even after we let the computer try to rotate this for a while, we still find that the left sides and the right sides pictures are all mixed up together. So we can again give the computer some hints, and we say, okay, try and find a projection that separates out the left sides and the right sides as much as possible using this deep learning algorithm. And giving it that hint \\u2014 ah, okay, it's been successful. It's managed to find a way of thinking about these objects that's separated out these together.So you get the idea here. This is a case not where the human is being replaced by a computer, but where they're working together. What we're doing here is we're replacing something that used to take a team of five or six people about seven years and replacing it with something that takes 15 minutes for one person acting alone.So this process takes about four or five iterations. You can see we now have 62 percent of our 1.5 million images  classified correctly. And at this point, we can start to quite quickly grab whole big sections, check through them to make sure that there's no mistakes. Where there are mistakes, we can let the computer know about them. And using this kind of process for each of the different groups, we are now up to an 80 percent success rate in classifying the 1.5 million images. And at this point, it's just a case of finding the small number that aren't classified correctly, and trying to understand why. And using that approach, by 15 minutes we get to 97 percent classification rates.So this kind of technique could allow us to fix a major problem, which is that there's a lack of medical expertise in the world. The World Economic Forum says that there's between a 10x and a 20x shortage of physicians in the developing world, and it would take about 300 years to train enough people to fix that problem. So imagine if we can help enhance their efficiency using these deep learning approaches?So I'm very excited about the opportunities. I'm also concerned about the problems. The problem here is that every area in blue on this map is somewhere where services are over 80 percent of employment. What are services? These are services. These are also the exact things that computers have just learned how to do. So 80 percent of the world's employment in the developed world is stuff that computers  have just learned how to do. What does that mean? Well, it'll be fine. They'll be replaced by other jobs. For example, there will be more jobs for data scientists. Well, not really. It doesn't take data scientists  very long to build these things. For example, these four algorithms were all built by the same guy. So if you think, oh,  it's all happened before, we've seen the results in the past of when new things come along and they get replaced by new jobs, what are these new jobs going to be? It's very hard for us to estimate this, because human performance grows at this gradual rate, but we now have a system, deep learning, that we know actually grows in capability exponentially. And we're here. So currently, we see the things around us and we say, \\\"Oh, computers are still pretty dumb.\\\" Right? But in five years' time, computers will be off this chart. So we need to be starting to think about this capability right now.We have seen this once before, of course. In the Industrial Revolution, we saw a step change in capability thanks to engines. The thing is, though, that after a while, things flattened out. There was social disruption, but once engines were used  to generate power in all the situations, things really settled down. The Machine Learning Revolution is going to be very different from the Industrial Revolution, because the Machine Learning Revolution, it never settles down. The better computers get at intellectual activities, the more they can build better computers to be better at intellectual capabilities, so this is going to be a kind of change that the world has actually never experienced before, so your previous understanding of what's possible is different.This is already impacting us. In the last 25 years, as capital productivity has increased, labor productivity has been flat, in fact even a little bit down.So I want us to start having this discussion now. I know that when I often tell people about this situation, people can be quite dismissive. Well, computers can't really think, they don't emote, they don't understand poetry, we don't really understand how they work. So what? Computers right now can do the things that humans spend most of their time being paid to do, so now's the time to start thinking about how we're going to adjust our social structures and economic structures to be aware of this new reality. Thank you. (Applause)\",\n          \"It's a great honor today to share with you The Digital Universe, which was created for humanity to really see where we are in the universe. And so I think we can roll the video that we have.[The Himalayas.](Music)The flat horizon that we've evolved with has been a metaphor for the infinite: unbounded resources and unlimited capacity for disposal of waste. It wasn't until we really left Earth, got above the atmosphere and had seen the horizon bend back on itself, that we could understand our planet as a limited condition. The Digital Universe Atlas has been built at the American Museum of Natural History over the past 12 years. We maintain that, put that together as a project to really chart the universe across all scales. What we see here are satellites around the Earth and the Earth in proper registration against the universe, as we see. NASA supported this work 12 years ago as part of the rebuilding of the Hayden Planetarium so that we would share this with the world.The Digital Universe is the basis of our space show productions that we do \\u2014 our main space shows in the dome. But what you see here is the result of, actually, internships that we hosted with Linkoping University in Sweden. I've had 12 students work on this for their graduate work, and the result has been this software called Uniview and a company called SCISS in Sweden. This software allows interactive use, so this actual flight path and movie that we see here was actually flown live. I captured this live from my laptop in a cafe called Earth Matters on the Lower East Side of Manhattan, where I live, and it was done as a collaborative project with the Rubin Museum of Himalayan Art for an exhibit on comparative cosmology.And so as we move out, we see continuously from our planet all the way out into the realm of galaxies, as we see here, light-travel time, giving you a sense of how far away we are. As we move out, the light from these distant galaxies have taken so long, we're essentially backing up into the past. We back so far up we're finally seeing a containment around us \\u2014 the afterglow of the Big Bang. This is the WMAP microwave background that we see. We'll fly outside it here, just to see this sort of containment. If we were outside this, it would almost be meaningless, in the sense as before time. But this our containment of the visible universe. We know the universe is bigger than that which we can see.Coming back quickly, we see here the radio sphere that we jumped out of in the beginning, but these are positions, the latest positions of exoplanets that we've mapped, and our sun here, obviously, with our own solar system. What you're going to see \\u2014 we're going to have to jump in here pretty quickly between several orders of magnitude to get down to where we see the solar system \\u2014 these are the paths of Voyager 1, Voyager 2, Pioneer 11 and Pioneer 10, the first four spacecraft to have left the solar system. Coming in closer, picking up Earth, orbit of the Moon, and we see the Earth. This map can be updated, and we can add in new data.I know Dr. Carolyn Porco is the camera P.I. for the Cassini mission. But here we see the complex trajectory of the Cassini mission color coded for different mission phases, ingeniously developed so that 45 encounters with the largest moon, Titan, which is larger that the planet Mercury, diverts the orbit into different parts of mission phase.This software allows us to come close and look at parts of this. This software can also be networked between domes. We have a growing user base of this, and we network domes. And we can network between domes and classrooms. We're actually sharing tours of the universe with the first sub-Saharan planetarium in Ghana as well as new libraries that have been built in the ghettos in Columbia and a high school in Cambodia. And the Cambodians have actually controlled the Hayden Planetarium from their high school.This is an image from Saturday, photographed by the Aqua satellite, but through the Uniview software. So you're seeing the edge of the Earth. This is Nepal. This is, in fact, right here is the valley of Lhasa, right here in Tibet. But we can see the haze from fires and so forth in the Ganges valley down below in India. This is Nepal and Tibet.And just in closing, I'd just like to say this beautiful world that we live on \\u2014 here we see a bit of the snow that some of you may have had to brave in coming out \\u2014 so I'd like to just say that what the world needs now is a sense of being able to look at ourselves in this much larger condition now and a much larger sense of what home is. Because our home is the universe, and we are the universe, essentially. We carry that in us. And to be able to see our context in this larger sense at all scales helps us all, I think, in understanding where we are and who we are in the universe.Thank you.(Applause)\"\n        ],\n        \"semantic_type\": \"\",\n        \"description\": \"\"\n      }\n    },\n    {\n      \"column\": \"url\",\n      \"properties\": {\n        \"dtype\": \"string\",\n        \"num_unique_values\": 5,\n        \"samples\": [\n          \"https://www.ted.com/talks/aaron_o_connell_making_sense_of_a_visible_quantum_object\\n\",\n          \"https://www.ted.com/talks/jeremy_howard_the_wonderful_and_terrifying_implications_of_computers_that_can_learn\\n\",\n          \"https://www.ted.com/talks/carter_emmart_demos_a_3d_atlas_of_the_universe\\n\"\n        ],\n        \"semantic_type\": \"\",\n        \"description\": \"\"\n      }\n    }\n  ]\n}"
            }
          },
          "metadata": {}
        }
      ]
    },
    {
      "cell_type": "markdown",
      "source": [
        "**Getting started with PyTorch tensors**  \n",
        "Tensors are PyTorch's core data structure and the foundation of deep learning. They're similar to NumPy arrays but have unique features.\n",
        "\n",
        "Here you have a Python list named temperatures containing daily readings from two weather stations. Try converting this into a tensor!"
      ],
      "metadata": {
        "id": "Ga6i1oiE_4AB"
      }
    },
    {
      "cell_type": "code",
      "source": [
        "# Import PyTorch\n",
        "import torch\n",
        "\n",
        "temperatures = [[72, 75, 78], [70, 73, 76]]\n",
        "\n",
        "# Create a tensor from temperatures\n",
        "temp_tensor = torch.tensor(temperatures)\n",
        "\n",
        "print(temp_tensor)"
      ],
      "metadata": {
        "colab": {
          "base_uri": "https://localhost:8080/"
        },
        "id": "HjfL-n0FAAt1",
        "outputId": "745e6df1-62b8-4e6c-b3b7-2b86b36f4f54"
      },
      "execution_count": 1,
      "outputs": [
        {
          "output_type": "stream",
          "name": "stdout",
          "text": [
            "tensor([[72, 75, 78],\n",
            "        [70, 73, 76]])\n"
          ]
        }
      ]
    },
    {
      "cell_type": "markdown",
      "source": [
        "**Checking and adding tensors**  \n",
        "While collecting temperature data, you notice the readings are off by two degrees. Add two degrees to the temperatures tensor after verifying its shape and data type with torch to ensure compatibility with the adjustment tensor.\n",
        "\n",
        "The torch library and the temperatures tensor are loaded for you."
      ],
      "metadata": {
        "id": "-0bADoiOAGcq"
      }
    },
    {
      "cell_type": "code",
      "source": [
        "adjustment = torch.tensor([[2, 2, 2], [2, 2, 2]])\n",
        "\n",
        "# Display the shape of the adjustment tensor\n",
        "print(\"Adjustment shape:\", adjustment.shape)\n",
        "\n",
        "# Display the type of the adjustment tensor\n",
        "print(\"Adjustment type:\", adjustment.dtype)\n",
        "\n",
        "# Convert temperatures to a tensor before accessing shape and dtype\n",
        "temp_tensor = torch.tensor(temperatures)\n",
        "print(\"Temperatures shape:\", temp_tensor.shape)\n",
        "print(\"Temperatures type:\", temp_tensor.dtype)"
      ],
      "metadata": {
        "colab": {
          "base_uri": "https://localhost:8080/"
        },
        "id": "g9Ht5gQ5Ac2Q",
        "outputId": "f717d1a5-a90c-4e55-a71c-97c9db7eb55b"
      },
      "execution_count": 7,
      "outputs": [
        {
          "output_type": "stream",
          "name": "stdout",
          "text": [
            "Adjustment shape: torch.Size([2, 3])\n",
            "Adjustment type: torch.int64\n",
            "Temperatures shape: torch.Size([2, 3])\n",
            "Temperatures type: torch.int64\n"
          ]
        }
      ]
    },
    {
      "cell_type": "code",
      "source": [
        "adjustment = torch.tensor([[2, 2, 2], [2, 2, 2]])\n",
        "\n",
        "# Add the temperatures and adjustment tensors\n",
        "corrected_temperatures = torch.tensor(temperatures) + adjustment\n",
        "print(\"Corrected temperatures:\", corrected_temperatures)\n",
        "\n",
        "# You've verified the tensors and adjusted the temperature data. Next, let’s learn the role of tensors within neural networks."
      ],
      "metadata": {
        "colab": {
          "base_uri": "https://localhost:8080/"
        },
        "id": "Zzi7riPnASmu",
        "outputId": "17499e91-89d4-481f-a2fe-4ecb8bd988ad"
      },
      "execution_count": 4,
      "outputs": [
        {
          "output_type": "stream",
          "name": "stdout",
          "text": [
            "Corrected temperatures: tensor([[74, 77, 80],\n",
            "        [72, 75, 78]])\n"
          ]
        }
      ]
    },
    {
      "cell_type": "markdown",
      "source": [
        "### Neural networks and layers\n"
      ],
      "metadata": {
        "id": "3X5-m3ThAtPk"
      }
    },
    {
      "cell_type": "markdown",
      "source": [
        "**Linear layer network**   \n",
        "Neural networks often contain many layers, but most of them are linear layers. Understanding a single linear layer helps you grasp how they work before adding complexity.\n",
        "\n",
        "Apply a linear layer to an input tensor and observe the output."
      ],
      "metadata": {
        "id": "C4T7UATCBt-8"
      }
    },
    {
      "cell_type": "code",
      "source": [
        "import torch\n",
        "import torch.nn as nn\n",
        "\n",
        "input_tensor = torch.tensor([[0.3471, 0.4547, -0.2356]])\n",
        "\n",
        "# Create a Linear layer\n",
        "linear_layer = nn.Linear(\n",
        "                         in_features=3,\n",
        "                         out_features=2\n",
        "                         )\n",
        "\n",
        "# Pass input_tensor through the linear layer\n",
        "output = linear_layer(input_tensor)\n",
        "\n",
        "print(output)"
      ],
      "metadata": {
        "colab": {
          "base_uri": "https://localhost:8080/"
        },
        "id": "kKn7Z-XyBybb",
        "outputId": "253e6fdf-6776-4bee-a812-d9fc5afbf8d5"
      },
      "execution_count": 8,
      "outputs": [
        {
          "output_type": "stream",
          "name": "stdout",
          "text": [
            "tensor([[-0.1396, -0.4795]], grad_fn=<AddmmBackward0>)\n"
          ]
        }
      ]
    },
    {
      "cell_type": "markdown",
      "source": [
        "**Understanding weights**   \n",
        "In a linear model, weights and biases play a crucial role in determining how inputs are transformed into outputs. Understanding their function is key to building effective neural networks. Now, let's test your understanding!\n",
        "\n",
        "    ->\n",
        "    Weights determine how much influence each input has on the neuron's output\n",
        "\n",
        "    Weights adjust the contribution of each input feature, allowing the network to learn patterns and make better predictions."
      ],
      "metadata": {
        "id": "Oz9qUoxZB2PN"
      }
    },
    {
      "cell_type": "markdown",
      "source": [
        "**Your first neural network**  \n",
        "It's time for you to implement a small neural network containing two linear layers in sequence.\n",
        "\n"
      ],
      "metadata": {
        "id": "p_saoUknCuhO"
      }
    },
    {
      "cell_type": "code",
      "source": [
        "import torch\n",
        "import torch.nn as nn\n",
        "\n",
        "input_tensor = torch.Tensor([[2, 3, 6, 7, 9, 3, 2, 1]])\n",
        "\n",
        "# Create a container for stacking linear layers\n",
        "model = nn.Sequential(nn.Linear(8, 4),\n",
        "                nn.Linear(4, 1)\n",
        "                )\n",
        "\n",
        "output = model(input_tensor)\n",
        "print(output)\n",
        "\n",
        "# Modern neural networks often span hundreds of layers. You'll review how to stack them next."
      ],
      "metadata": {
        "colab": {
          "base_uri": "https://localhost:8080/"
        },
        "id": "B_CfcRT7C721",
        "outputId": "a1830507-b981-41a8-8664-27a0809bb06d"
      },
      "execution_count": 9,
      "outputs": [
        {
          "output_type": "stream",
          "name": "stdout",
          "text": [
            "tensor([[-0.3266]], grad_fn=<AddmmBackward0>)\n"
          ]
        }
      ]
    },
    {
      "cell_type": "markdown",
      "source": [
        "![image.png](data:image/png;base64,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)"
      ],
      "metadata": {
        "id": "MktNmTRZDN6T"
      }
    },
    {
      "cell_type": "markdown",
      "source": [
        "**Counting the number of parameters**  \n",
        "Deep learning models are famous for having a lot of parameters. With more parameters comes more computational complexity and longer training times, and a deep learning practitioner must know how many parameters their model has.\n",
        "\n",
        "In this exercise, you'll first calculate the number of parameters manually. Then, you'll verify your result using the .numel() method.\n",
        "\n",
        "***Question***\n",
        "\n",
        "Manually calculate the number of parameters of the model below. How many does it have? Use the console as a calculator.\n",
        "\n",
        "    model = nn.Sequential(nn.Linear(9, 4),\n",
        "                          nn.Linear(4, 2),\n",
        "                          nn.Linear(2, 1))\n",
        "\n",
        "    -> 53"
      ],
      "metadata": {
        "id": "VAvVUwOLDPL_"
      }
    },
    {
      "cell_type": "code",
      "source": [
        "import torch.nn as nn\n",
        "\n",
        "model = nn.Sequential(nn.Linear(9, 4),\n",
        "                      nn.Linear(4, 2),\n",
        "                      nn.Linear(2, 1))\n",
        "\n",
        "total = 0\n",
        "\n",
        "# Calculate the number of parameters in the model\n",
        "for p in model.parameters():\n",
        "  total += p.numel()\n",
        "\n",
        "print(f\"The number of parameters in the model is {total}\")\n",
        "\n",
        "# verifying your model's parameters! Modern language models have billions of parameters, but understanding how these numbers are derived is essential."
      ],
      "metadata": {
        "colab": {
          "base_uri": "https://localhost:8080/"
        },
        "id": "IMY5KDjfEfWy",
        "outputId": "813dbb21-46cf-4016-ee2f-346e925b80fe"
      },
      "execution_count": 10,
      "outputs": [
        {
          "output_type": "stream",
          "name": "stdout",
          "text": [
            "The number of parameters in the model is 53\n"
          ]
        }
      ]
    }
  ]
}