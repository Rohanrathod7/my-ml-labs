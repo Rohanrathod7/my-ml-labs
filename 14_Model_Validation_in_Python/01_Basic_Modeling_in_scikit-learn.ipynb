{
  "nbformat": 4,
  "nbformat_minor": 0,
  "metadata": {
    "colab": {
      "provenance": [],
      "authorship_tag": "ABX9TyM9E+nZ2k909XqcQ6nM+MFj",
      "include_colab_link": true
    },
    "kernelspec": {
      "name": "python3",
      "display_name": "Python 3"
    },
    "language_info": {
      "name": "python"
    }
  },
  "cells": [
    {
      "cell_type": "markdown",
      "metadata": {
        "id": "view-in-github",
        "colab_type": "text"
      },
      "source": [
        "<a href=\"https://colab.research.google.com/github/Rohanrathod7/my-ml-labs/blob/main/14_Model_Validation_in_Python/01_Basic_Modeling_in_scikit-learn.ipynb\" target=\"_parent\"><img src=\"https://colab.research.google.com/assets/colab-badge.svg\" alt=\"Open In Colab\"/></a>"
      ]
    },
    {
      "cell_type": "markdown",
      "source": [
        "### 4. Dealing with Text Data\n"
      ],
      "metadata": {
        "id": "69GNV3tpDLy3"
      }
    },
    {
      "cell_type": "code",
      "execution_count": 5,
      "metadata": {
        "id": "EUPpAj0HoP6i",
        "colab": {
          "base_uri": "https://localhost:8080/",
          "height": 206
        },
        "outputId": "e8201e1b-e551-4ef4-853a-5f7642e7800f"
      },
      "outputs": [
        {
          "output_type": "display_data",
          "data": {
            "text/plain": [
              "   Name  Inaugural Address  Date  \\\n",
              "0   NaN                NaN   NaN   \n",
              "1   NaN                NaN   NaN   \n",
              "2   NaN                NaN   NaN   \n",
              "3   NaN                NaN   NaN   \n",
              "4   NaN                NaN   NaN   \n",
              "\n",
              "                                                text  \n",
              "0  Fellow-Citizens of the Senate and of the House...  \n",
              "1  Fellow Citizens:  I AM again called upon by th...  \n",
              "2  WHEN it was first perceived, in early times, t...  \n",
              "3  Friends and Fellow-Citizens:  CALLED upon to u...  \n",
              "4  PROCEEDING, fellow-citizens, to that qualifica...  "
            ],
            "text/html": [
              "\n",
              "  <div id=\"df-f6b42db2-8f93-429f-aa1b-18958e117590\" class=\"colab-df-container\">\n",
              "    <div>\n",
              "<style scoped>\n",
              "    .dataframe tbody tr th:only-of-type {\n",
              "        vertical-align: middle;\n",
              "    }\n",
              "\n",
              "    .dataframe tbody tr th {\n",
              "        vertical-align: top;\n",
              "    }\n",
              "\n",
              "    .dataframe thead th {\n",
              "        text-align: right;\n",
              "    }\n",
              "</style>\n",
              "<table border=\"1\" class=\"dataframe\">\n",
              "  <thead>\n",
              "    <tr style=\"text-align: right;\">\n",
              "      <th></th>\n",
              "      <th>Name</th>\n",
              "      <th>Inaugural Address</th>\n",
              "      <th>Date</th>\n",
              "      <th>text</th>\n",
              "    </tr>\n",
              "  </thead>\n",
              "  <tbody>\n",
              "    <tr>\n",
              "      <th>0</th>\n",
              "      <td>NaN</td>\n",
              "      <td>NaN</td>\n",
              "      <td>NaN</td>\n",
              "      <td>Fellow-Citizens of the Senate and of the House...</td>\n",
              "    </tr>\n",
              "    <tr>\n",
              "      <th>1</th>\n",
              "      <td>NaN</td>\n",
              "      <td>NaN</td>\n",
              "      <td>NaN</td>\n",
              "      <td>Fellow Citizens:  I AM again called upon by th...</td>\n",
              "    </tr>\n",
              "    <tr>\n",
              "      <th>2</th>\n",
              "      <td>NaN</td>\n",
              "      <td>NaN</td>\n",
              "      <td>NaN</td>\n",
              "      <td>WHEN it was first perceived, in early times, t...</td>\n",
              "    </tr>\n",
              "    <tr>\n",
              "      <th>3</th>\n",
              "      <td>NaN</td>\n",
              "      <td>NaN</td>\n",
              "      <td>NaN</td>\n",
              "      <td>Friends and Fellow-Citizens:  CALLED upon to u...</td>\n",
              "    </tr>\n",
              "    <tr>\n",
              "      <th>4</th>\n",
              "      <td>NaN</td>\n",
              "      <td>NaN</td>\n",
              "      <td>NaN</td>\n",
              "      <td>PROCEEDING, fellow-citizens, to that qualifica...</td>\n",
              "    </tr>\n",
              "  </tbody>\n",
              "</table>\n",
              "</div>\n",
              "    <div class=\"colab-df-buttons\">\n",
              "\n",
              "  <div class=\"colab-df-container\">\n",
              "    <button class=\"colab-df-convert\" onclick=\"convertToInteractive('df-f6b42db2-8f93-429f-aa1b-18958e117590')\"\n",
              "            title=\"Convert this dataframe to an interactive table.\"\n",
              "            style=\"display:none;\">\n",
              "\n",
              "  <svg xmlns=\"http://www.w3.org/2000/svg\" height=\"24px\" viewBox=\"0 -960 960 960\">\n",
              "    <path d=\"M120-120v-720h720v720H120Zm60-500h600v-160H180v160Zm220 220h160v-160H400v160Zm0 220h160v-160H400v160ZM180-400h160v-160H180v160Zm440 0h160v-160H620v160ZM180-180h160v-160H180v160Zm440 0h160v-160H620v160Z\"/>\n",
              "  </svg>\n",
              "    </button>\n",
              "\n",
              "  <style>\n",
              "    .colab-df-container {\n",
              "      display:flex;\n",
              "      gap: 12px;\n",
              "    }\n",
              "\n",
              "    .colab-df-convert {\n",
              "      background-color: #E8F0FE;\n",
              "      border: none;\n",
              "      border-radius: 50%;\n",
              "      cursor: pointer;\n",
              "      display: none;\n",
              "      fill: #1967D2;\n",
              "      height: 32px;\n",
              "      padding: 0 0 0 0;\n",
              "      width: 32px;\n",
              "    }\n",
              "\n",
              "    .colab-df-convert:hover {\n",
              "      background-color: #E2EBFA;\n",
              "      box-shadow: 0px 1px 2px rgba(60, 64, 67, 0.3), 0px 1px 3px 1px rgba(60, 64, 67, 0.15);\n",
              "      fill: #174EA6;\n",
              "    }\n",
              "\n",
              "    .colab-df-buttons div {\n",
              "      margin-bottom: 4px;\n",
              "    }\n",
              "\n",
              "    [theme=dark] .colab-df-convert {\n",
              "      background-color: #3B4455;\n",
              "      fill: #D2E3FC;\n",
              "    }\n",
              "\n",
              "    [theme=dark] .colab-df-convert:hover {\n",
              "      background-color: #434B5C;\n",
              "      box-shadow: 0px 1px 3px 1px rgba(0, 0, 0, 0.15);\n",
              "      filter: drop-shadow(0px 1px 2px rgba(0, 0, 0, 0.3));\n",
              "      fill: #FFFFFF;\n",
              "    }\n",
              "  </style>\n",
              "\n",
              "    <script>\n",
              "      const buttonEl =\n",
              "        document.querySelector('#df-f6b42db2-8f93-429f-aa1b-18958e117590 button.colab-df-convert');\n",
              "      buttonEl.style.display =\n",
              "        google.colab.kernel.accessAllowed ? 'block' : 'none';\n",
              "\n",
              "      async function convertToInteractive(key) {\n",
              "        const element = document.querySelector('#df-f6b42db2-8f93-429f-aa1b-18958e117590');\n",
              "        const dataTable =\n",
              "          await google.colab.kernel.invokeFunction('convertToInteractive',\n",
              "                                                    [key], {});\n",
              "        if (!dataTable) return;\n",
              "\n",
              "        const docLinkHtml = 'Like what you see? Visit the ' +\n",
              "          '<a target=\"_blank\" href=https://colab.research.google.com/notebooks/data_table.ipynb>data table notebook</a>'\n",
              "          + ' to learn more about interactive tables.';\n",
              "        element.innerHTML = '';\n",
              "        dataTable['output_type'] = 'display_data';\n",
              "        await google.colab.output.renderOutput(dataTable, element);\n",
              "        const docLink = document.createElement('div');\n",
              "        docLink.innerHTML = docLinkHtml;\n",
              "        element.appendChild(docLink);\n",
              "      }\n",
              "    </script>\n",
              "  </div>\n",
              "\n",
              "\n",
              "    <div id=\"df-d80ce529-8ff5-4aac-9fff-565b7193d985\">\n",
              "      <button class=\"colab-df-quickchart\" onclick=\"quickchart('df-d80ce529-8ff5-4aac-9fff-565b7193d985')\"\n",
              "                title=\"Suggest charts\"\n",
              "                style=\"display:none;\">\n",
              "\n",
              "<svg xmlns=\"http://www.w3.org/2000/svg\" height=\"24px\"viewBox=\"0 0 24 24\"\n",
              "     width=\"24px\">\n",
              "    <g>\n",
              "        <path d=\"M19 3H5c-1.1 0-2 .9-2 2v14c0 1.1.9 2 2 2h14c1.1 0 2-.9 2-2V5c0-1.1-.9-2-2-2zM9 17H7v-7h2v7zm4 0h-2V7h2v10zm4 0h-2v-4h2v4z\"/>\n",
              "    </g>\n",
              "</svg>\n",
              "      </button>\n",
              "\n",
              "<style>\n",
              "  .colab-df-quickchart {\n",
              "      --bg-color: #E8F0FE;\n",
              "      --fill-color: #1967D2;\n",
              "      --hover-bg-color: #E2EBFA;\n",
              "      --hover-fill-color: #174EA6;\n",
              "      --disabled-fill-color: #AAA;\n",
              "      --disabled-bg-color: #DDD;\n",
              "  }\n",
              "\n",
              "  [theme=dark] .colab-df-quickchart {\n",
              "      --bg-color: #3B4455;\n",
              "      --fill-color: #D2E3FC;\n",
              "      --hover-bg-color: #434B5C;\n",
              "      --hover-fill-color: #FFFFFF;\n",
              "      --disabled-bg-color: #3B4455;\n",
              "      --disabled-fill-color: #666;\n",
              "  }\n",
              "\n",
              "  .colab-df-quickchart {\n",
              "    background-color: var(--bg-color);\n",
              "    border: none;\n",
              "    border-radius: 50%;\n",
              "    cursor: pointer;\n",
              "    display: none;\n",
              "    fill: var(--fill-color);\n",
              "    height: 32px;\n",
              "    padding: 0;\n",
              "    width: 32px;\n",
              "  }\n",
              "\n",
              "  .colab-df-quickchart:hover {\n",
              "    background-color: var(--hover-bg-color);\n",
              "    box-shadow: 0 1px 2px rgba(60, 64, 67, 0.3), 0 1px 3px 1px rgba(60, 64, 67, 0.15);\n",
              "    fill: var(--button-hover-fill-color);\n",
              "  }\n",
              "\n",
              "  .colab-df-quickchart-complete:disabled,\n",
              "  .colab-df-quickchart-complete:disabled:hover {\n",
              "    background-color: var(--disabled-bg-color);\n",
              "    fill: var(--disabled-fill-color);\n",
              "    box-shadow: none;\n",
              "  }\n",
              "\n",
              "  .colab-df-spinner {\n",
              "    border: 2px solid var(--fill-color);\n",
              "    border-color: transparent;\n",
              "    border-bottom-color: var(--fill-color);\n",
              "    animation:\n",
              "      spin 1s steps(1) infinite;\n",
              "  }\n",
              "\n",
              "  @keyframes spin {\n",
              "    0% {\n",
              "      border-color: transparent;\n",
              "      border-bottom-color: var(--fill-color);\n",
              "      border-left-color: var(--fill-color);\n",
              "    }\n",
              "    20% {\n",
              "      border-color: transparent;\n",
              "      border-left-color: var(--fill-color);\n",
              "      border-top-color: var(--fill-color);\n",
              "    }\n",
              "    30% {\n",
              "      border-color: transparent;\n",
              "      border-left-color: var(--fill-color);\n",
              "      border-top-color: var(--fill-color);\n",
              "      border-right-color: var(--fill-color);\n",
              "    }\n",
              "    40% {\n",
              "      border-color: transparent;\n",
              "      border-right-color: var(--fill-color);\n",
              "      border-top-color: var(--fill-color);\n",
              "    }\n",
              "    60% {\n",
              "      border-color: transparent;\n",
              "      border-right-color: var(--fill-color);\n",
              "    }\n",
              "    80% {\n",
              "      border-color: transparent;\n",
              "      border-right-color: var(--fill-color);\n",
              "      border-bottom-color: var(--fill-color);\n",
              "    }\n",
              "    90% {\n",
              "      border-color: transparent;\n",
              "      border-bottom-color: var(--fill-color);\n",
              "    }\n",
              "  }\n",
              "</style>\n",
              "\n",
              "      <script>\n",
              "        async function quickchart(key) {\n",
              "          const quickchartButtonEl =\n",
              "            document.querySelector('#' + key + ' button');\n",
              "          quickchartButtonEl.disabled = true;  // To prevent multiple clicks.\n",
              "          quickchartButtonEl.classList.add('colab-df-spinner');\n",
              "          try {\n",
              "            const charts = await google.colab.kernel.invokeFunction(\n",
              "                'suggestCharts', [key], {});\n",
              "          } catch (error) {\n",
              "            console.error('Error during call to suggestCharts:', error);\n",
              "          }\n",
              "          quickchartButtonEl.classList.remove('colab-df-spinner');\n",
              "          quickchartButtonEl.classList.add('colab-df-quickchart-complete');\n",
              "        }\n",
              "        (() => {\n",
              "          let quickchartButtonEl =\n",
              "            document.querySelector('#df-d80ce529-8ff5-4aac-9fff-565b7193d985 button');\n",
              "          quickchartButtonEl.style.display =\n",
              "            google.colab.kernel.accessAllowed ? 'block' : 'none';\n",
              "        })();\n",
              "      </script>\n",
              "    </div>\n",
              "\n",
              "    </div>\n",
              "  </div>\n"
            ],
            "application/vnd.google.colaboratory.intrinsic+json": {
              "type": "dataframe",
              "summary": "{\n  \"name\": \"display(speech_df\",\n  \"rows\": 5,\n  \"fields\": [\n    {\n      \"column\": \"Name\",\n      \"properties\": {\n        \"dtype\": \"number\",\n        \"std\": null,\n        \"min\": null,\n        \"max\": null,\n        \"num_unique_values\": 0,\n        \"samples\": [],\n        \"semantic_type\": \"\",\n        \"description\": \"\"\n      }\n    },\n    {\n      \"column\": \"Inaugural Address\",\n      \"properties\": {\n        \"dtype\": \"number\",\n        \"std\": null,\n        \"min\": null,\n        \"max\": null,\n        \"num_unique_values\": 0,\n        \"samples\": [],\n        \"semantic_type\": \"\",\n        \"description\": \"\"\n      }\n    },\n    {\n      \"column\": \"Date\",\n      \"properties\": {\n        \"dtype\": \"number\",\n        \"std\": null,\n        \"min\": null,\n        \"max\": null,\n        \"num_unique_values\": 0,\n        \"samples\": [],\n        \"semantic_type\": \"\",\n        \"description\": \"\"\n      }\n    },\n    {\n      \"column\": \"text\",\n      \"properties\": {\n        \"dtype\": \"string\",\n        \"num_unique_values\": 5,\n        \"samples\": [],\n        \"semantic_type\": \"\",\n        \"description\": \"\"\n      }\n    }\n  ]\n}"
            }
          },
          "metadata": {}
        }
      ],
      "source": [
        "import matplotlib.pyplot as plt\n",
        "import seaborn as sns\n",
        "import numpy as np\n",
        "import pandas as pd\n",
        "import datetime as dt\n",
        "# Import confusion matrix and train_test_split\n",
        "from sklearn.metrics import confusion_matrix, classification_report\n",
        "from sklearn.neighbors import KNeighborsClassifier\n",
        "from sklearn.svm import SVC\n",
        "from sklearn.model_selection import train_test_split, KFold, cross_val_score, GridSearchCV\n",
        "from sklearn.linear_model import Ridge, Lasso, LogisticRegression, LinearRegression\n",
        "from scipy.cluster.hierarchy import linkage, dendrogram\n",
        "import matplotlib.pyplot as plt\n",
        "from sklearn.linear_model import SGDClassifier\n",
        "\n",
        "\n",
        "\n",
        "\n",
        "url = \"https://raw.githubusercontent.com/Rohanrathod7/my-ml-labs/main/13_Feature_Engineering_for_Machine_Learning_in_Python/dataset/inaugural_speeches.csv\"\n",
        "# Read the CSV file\n",
        "\n",
        "# Apply pd.to_numeric only to relevant columns, excluding 'text'\n",
        "speech_df = pd.read_csv(url)\n",
        "numeric_cols = ['Name', 'Inaugural Address', 'Date'] # Assuming these should be numeric if possible\n",
        "for col in numeric_cols:\n",
        "    speech_df[col] = pd.to_numeric(speech_df[col], errors='coerce')\n",
        "\n",
        "display(speech_df.head())"
      ]
    },
    {
      "cell_type": "markdown",
      "source": [
        "### Encoding Text\n",
        "\n",
        "\n",
        "\n"
      ],
      "metadata": {
        "id": "rJiW6ir4mIo0"
      }
    },
    {
      "cell_type": "markdown",
      "source": [
        "**Cleaning up your text**  \n",
        "Unstructured text data cannot be directly used in most analyses. Multiple steps need to be taken to go from a long free form string to a set of numeric columns in the right format that can be ingested by a machine learning model. The first step of this process is to standardize the data and eliminate any characters that could cause problems later on in your analytic pipeline.\n",
        "\n",
        "In this chapter you will be working with a new dataset containing the inaugural speeches of the presidents of the United States loaded as speech_df, with the speeches stored in the text column."
      ],
      "metadata": {
        "id": "xp1FPtOefOjw"
      }
    },
    {
      "cell_type": "code",
      "source": [
        "# Print the first 5 rows of the text column\n",
        "print(speech_df[\"text\"].head())"
      ],
      "metadata": {
        "colab": {
          "base_uri": "https://localhost:8080/"
        },
        "id": "T8duaCWQfraD",
        "outputId": "11255929-da80-41df-e487-2703f723fb15"
      },
      "execution_count": 6,
      "outputs": [
        {
          "output_type": "stream",
          "name": "stdout",
          "text": [
            "0    Fellow-Citizens of the Senate and of the House...\n",
            "1    Fellow Citizens:  I AM again called upon by th...\n",
            "2    WHEN it was first perceived, in early times, t...\n",
            "3    Friends and Fellow-Citizens:  CALLED upon to u...\n",
            "4    PROCEEDING, fellow-citizens, to that qualifica...\n",
            "Name: text, dtype: object\n"
          ]
        }
      ]
    },
    {
      "cell_type": "code",
      "source": [
        "# Replace all non letter characters with a whitespace\n",
        "speech_df['text_clean'] = speech_df['text'].str.replace('[^a-zA-Z]', ' ', regex=True)\n",
        "\n",
        "# Change to lower case\n",
        "speech_df['text_clean'] = speech_df['text_clean'].str.lower()\n",
        "\n",
        "# Print the first 5 rows of the text_clean column\n",
        "print(speech_df['text_clean'].head())\n",
        "\n",
        "# now your text strings have been standardized and cleaned up. You can now use this new column (text_clean) to extract information about the speeches."
      ],
      "metadata": {
        "colab": {
          "base_uri": "https://localhost:8080/"
        },
        "id": "M72nYO3Jfyxr",
        "outputId": "ee496fd2-53d7-46e0-d6ad-be5974a87c75"
      },
      "execution_count": 7,
      "outputs": [
        {
          "output_type": "stream",
          "name": "stdout",
          "text": [
            "0    fellow citizens of the senate and of the house...\n",
            "1    fellow citizens   i am again called upon by th...\n",
            "2    when it was first perceived  in early times  t...\n",
            "3    friends and fellow citizens   called upon to u...\n",
            "4    proceeding  fellow citizens  to that qualifica...\n",
            "Name: text_clean, dtype: object\n"
          ]
        }
      ]
    },
    {
      "cell_type": "markdown",
      "source": [
        "**High level text features**  \n",
        "Once the text has been cleaned and standardized you can begin creating features from the data. The most fundamental information you can calculate about free form text is its size, such as its length and number of words. In this exercise (and the rest of this chapter), you will focus on the cleaned/transformed text column (text_clean) you created in the last exercise."
      ],
      "metadata": {
        "id": "MS2-gYhagQbt"
      }
    },
    {
      "cell_type": "code",
      "source": [
        "# Find the length of each text\n",
        "speech_df['char_cnt'] = speech_df['text_clean'].str.len()\n",
        "\n",
        "# Count the number of words in each text\n",
        "speech_df['word_cnt'] = speech_df['text_clean'].str.split().str.len()\n",
        "\n",
        "# Find the average length of word\n",
        "speech_df['avg_word_length'] = speech_df['char_cnt'] / speech_df['word_cnt']\n",
        "\n",
        "# Print the first 5 rows of these columns\n",
        "print(speech_df[['text_clean', 'char_cnt', 'word_cnt', 'avg_word_length']])\n",
        "\n",
        "# These features may appear basic but can be quite useful in ML models."
      ],
      "metadata": {
        "id": "Drt-u0_xgLMP"
      },
      "execution_count": null,
      "outputs": []
    },
    {
      "cell_type": "markdown",
      "source": [
        "### Word Count"
      ],
      "metadata": {
        "id": "YSc-ittOhx9h"
      }
    },
    {
      "cell_type": "markdown",
      "source": [
        "**Counting words (I)**  \n",
        "Once high level information has been recorded you can begin creating features based on the actual content of each text. One way to do this is to approach it in a similar way to how you worked with categorical variables in the earlier lessons.\n",
        "\n",
        "For each unique word in the dataset a column is created.\n",
        "For each entry, the number of times this word occurs is counted and the count value is entered into the respective column.\n",
        "These \"count\" columns can then be used to train machine learning models."
      ],
      "metadata": {
        "id": "T0JNH-Fmhzpz"
      }
    },
    {
      "cell_type": "code",
      "source": [
        "# Import CountVectorizer\n",
        "from sklearn.feature_extraction.text import CountVectorizer\n",
        "\n",
        "# Instantiate CountVectorizer\n",
        "cv = CountVectorizer()\n",
        "\n",
        "# Fit the vectorizer\n",
        "cv.fit(speech_df['text_clean'])\n",
        "\n",
        "# Print feature names\n",
        "print(cv.get_feature_names_out())\n",
        "\n",
        "# this vectorizer can be applied to both the text it was trained on, and new texts."
      ],
      "metadata": {
        "colab": {
          "base_uri": "https://localhost:8080/"
        },
        "id": "4rORPwYyiKR8",
        "outputId": "3499340b-8332-4651-e4e7-e9fd9469ba18"
      },
      "execution_count": 9,
      "outputs": [
        {
          "output_type": "stream",
          "name": "stdout",
          "text": [
            "['abandon' 'abandoned' 'abandonment' ... 'zealous' 'zealously' 'zone']\n"
          ]
        }
      ]
    },
    {
      "cell_type": "markdown",
      "source": [
        "**Counting words (II)**  \n",
        "Once the vectorizer has been fit to the data, it can be used to transform the text to an array representing the word counts. This array will have a row per block of text and a column for each of the features generated by the vectorizer that you observed in the last exercise.\n",
        "\n",
        "The vectorizer to you fit in the last exercise (cv) is available in your workspace."
      ],
      "metadata": {
        "id": "ppSSzSrqjht3"
      }
    },
    {
      "cell_type": "code",
      "source": [
        "# Apply the vectorizer\n",
        "cv_transformed = cv.transform(speech_df['text_clean'])\n",
        "\n",
        "# Print the full array\n",
        "cv_array = cv_transformed.toarray()\n",
        "\n",
        "# Print the shape of cv_array\n",
        "print(cv_array.shape)\n",
        "\n",
        "\n",
        "# The speeches have 9043 unique words, which is a lot! In the next exercise, you will see how to create a limited set of features."
      ],
      "metadata": {
        "colab": {
          "base_uri": "https://localhost:8080/"
        },
        "id": "cdyMq2_Qjfnf",
        "outputId": "c2d1a214-18f5-4590-9ae3-155b5323f63a"
      },
      "execution_count": 10,
      "outputs": [
        {
          "output_type": "stream",
          "name": "stdout",
          "text": [
            "(58, 9043)\n"
          ]
        }
      ]
    },
    {
      "cell_type": "markdown",
      "source": [
        "***Limiting your features***  \n",
        "As you have seen, using the CountVectorizer with its default settings creates a feature for every single word in your corpus. This can create far too many features, often including ones that will provide very little analytical value.\n",
        "\n",
        "For this purpose CountVectorizer has parameters that you can set to reduce the number of features:\n",
        "\n",
        "min_df : Use only words that occur in more than this percentage of documents. This can be used to remove outlier words that will not generalize across texts.\n",
        "max_df : Use only words that occur in less than this percentage of documents. This is useful to eliminate very common words that occur in every corpus without adding value such as \"and\" or \"the\"."
      ],
      "metadata": {
        "id": "5vhc11bmj3VE"
      }
    },
    {
      "cell_type": "code",
      "source": [
        "# Import CountVectorizer\n",
        "from sklearn.feature_extraction.text import CountVectorizer\n",
        "\n",
        "# Specify arguments to limit the number of features generated\n",
        "cv = CountVectorizer(min_df=0.2, max_df=0.8)\n",
        "\n",
        "# Fit, transform, and convert into array\n",
        "cv_transformed = cv.fit_transform(speech_df['text_clean'])\n",
        "cv_array = cv_transformed.toarray()\n",
        "\n",
        "# Print the array shape\n",
        "print(cv_array.shape)\n",
        "\n",
        "# Did you notice that the number of features (unique words) greatly reduced from 9043 to 818?"
      ],
      "metadata": {
        "colab": {
          "base_uri": "https://localhost:8080/"
        },
        "id": "7KRtR0k1j7mA",
        "outputId": "bd64b7d9-47c1-48c0-916c-9a647a9124f6"
      },
      "execution_count": 12,
      "outputs": [
        {
          "output_type": "stream",
          "name": "stdout",
          "text": [
            "(58, 818)\n"
          ]
        }
      ]
    },
    {
      "cell_type": "markdown",
      "source": [
        "**Text to DataFrame**  \n",
        "Now that you have generated these count based features in an array you will need to reformat them so that they can be combined with the rest of the dataset. This can be achieved by converting the array into a pandas DataFrame, with the feature names you found earlier as the column names, and then concatenate it with the original DataFrame.\n",
        "\n",
        "The numpy array (cv_array) and the vectorizer (cv) you fit in the last exercise are available in your workspace."
      ],
      "metadata": {
        "id": "1gZXoO4WkCUw"
      }
    },
    {
      "cell_type": "code",
      "source": [
        "# Create a DataFrame with these features\n",
        "cv_df = pd.DataFrame(cv_array,\n",
        "                     columns=cv.get_feature_names_out()).add_prefix('Counts_')\n",
        "\n",
        "# Add the new columns to the original DataFrame\n",
        "speech_df_new = pd.concat([speech_df, cv_df], axis=1, sort=False)\n",
        "print(speech_df_new.head())\n",
        "\n",
        "# With the new features combined with the orginial DataFrame they can be now used for ML models or analysis."
      ],
      "metadata": {
        "colab": {
          "base_uri": "https://localhost:8080/"
        },
        "id": "8sU7Sgylk6C1",
        "outputId": "4f977be0-e13b-471d-da9d-0600a7c0c113"
      },
      "execution_count": 13,
      "outputs": [
        {
          "output_type": "stream",
          "name": "stdout",
          "text": [
            "   Name  Inaugural Address  Date  \\\n",
            "0   NaN                NaN   NaN   \n",
            "1   NaN                NaN   NaN   \n",
            "2   NaN                NaN   NaN   \n",
            "3   NaN                NaN   NaN   \n",
            "4   NaN                NaN   NaN   \n",
            "\n",
            "                                                text  \\\n",
            "0  Fellow-Citizens of the Senate and of the House...   \n",
            "1  Fellow Citizens:  I AM again called upon by th...   \n",
            "2  WHEN it was first perceived, in early times, t...   \n",
            "3  Friends and Fellow-Citizens:  CALLED upon to u...   \n",
            "4  PROCEEDING, fellow-citizens, to that qualifica...   \n",
            "\n",
            "                                          text_clean  Counts_abiding  \\\n",
            "0  fellow citizens of the senate and of the house...               0   \n",
            "1  fellow citizens   i am again called upon by th...               0   \n",
            "2  when it was first perceived  in early times  t...               0   \n",
            "3  friends and fellow citizens   called upon to u...               0   \n",
            "4  proceeding  fellow citizens  to that qualifica...               0   \n",
            "\n",
            "   Counts_ability  Counts_able  Counts_about  Counts_above  ...  Counts_women  \\\n",
            "0               0            0             0             0  ...             0   \n",
            "1               0            0             1             0  ...             0   \n",
            "2               0            0             0             0  ...             0   \n",
            "3               0            0             1             1  ...             0   \n",
            "4               0            1             0             0  ...             0   \n",
            "\n",
            "   Counts_words  Counts_work  Counts_wrong  Counts_year  Counts_years  \\\n",
            "0             0            0             0            0             1   \n",
            "1             0            0             0            0             0   \n",
            "2             0            0             0            2             3   \n",
            "3             0            1             2            0             0   \n",
            "4             0            0             0            2             2   \n",
            "\n",
            "   Counts_yet  Counts_you  Counts_young  Counts_your  \n",
            "0           0           5             0            9  \n",
            "1           0           0             0            1  \n",
            "2           0           0             0            1  \n",
            "3           2           7             0            7  \n",
            "4           2           4             0            4  \n",
            "\n",
            "[5 rows x 823 columns]\n"
          ]
        }
      ]
    },
    {
      "cell_type": "markdown",
      "source": [
        "### Term frequency-inverse document frequency"
      ],
      "metadata": {
        "id": "j90JtTIflCtO"
      }
    },
    {
      "cell_type": "markdown",
      "source": [
        "**Tf-idf**  \n",
        "While counts of occurrences of words can be useful to build models, words that occur many times may skew the results undesirably. To limit these common words from overpowering your model a form of normalization can be used. In this lesson you will be using Term frequency-inverse document frequency (Tf-idf) as was discussed in the video. Tf-idf has the effect of reducing the value of common words, while increasing the weight of words that do not occur in many documents."
      ],
      "metadata": {
        "id": "oWgtk3kOlqYp"
      }
    },
    {
      "cell_type": "code",
      "source": [
        "# Import TfidfVectorizer\n",
        "from sklearn.feature_extraction.text import TfidfVectorizer\n",
        "\n",
        "# Instantiate TfidfVectorizer\n",
        "# Instantiate TfidfVectorizer with max_features and stop_words\n",
        "tv = TfidfVectorizer(max_features=100, stop_words='english')\n",
        "\n",
        "# Fit the vectroizer and transform the data\n",
        "tv_transformed = tv.fit_transform(speech_df['text_clean'])\n",
        "\n",
        "# Create a DataFrame with these features\n",
        "tv_df = pd.DataFrame(tv_transformed.toarray(),\n",
        "                     columns=tv.get_feature_names_out()).add_prefix('TFIDF_')\n",
        "print(tv_df.head())\n",
        "\n",
        "# A job well done! Did you notice that counting the word occurences and calculating the Tf-idf weights are very similar?\n",
        "# This is one of the reasons scikit-learn is very popular, a consistent API."
      ],
      "metadata": {
        "colab": {
          "base_uri": "https://localhost:8080/"
        },
        "id": "2q7FTlVVmOLH",
        "outputId": "2d512865-acd2-4164-cf28-fc6c8429f7d6"
      },
      "execution_count": 14,
      "outputs": [
        {
          "output_type": "stream",
          "name": "stdout",
          "text": [
            "   TFIDF_action  TFIDF_administration  TFIDF_america  TFIDF_american  \\\n",
            "0      0.000000              0.133415       0.000000        0.105388   \n",
            "1      0.000000              0.261016       0.266097        0.000000   \n",
            "2      0.000000              0.092436       0.157058        0.073018   \n",
            "3      0.000000              0.092693       0.000000        0.000000   \n",
            "4      0.041334              0.039761       0.000000        0.031408   \n",
            "\n",
            "   TFIDF_americans  TFIDF_believe  TFIDF_best  TFIDF_better  TFIDF_change  \\\n",
            "0              0.0       0.000000    0.000000      0.000000      0.000000   \n",
            "1              0.0       0.000000    0.000000      0.000000      0.000000   \n",
            "2              0.0       0.000000    0.026112      0.060460      0.000000   \n",
            "3              0.0       0.090942    0.117831      0.045471      0.053335   \n",
            "4              0.0       0.000000    0.067393      0.039011      0.091514   \n",
            "\n",
            "   TFIDF_citizens  ...  TFIDF_things  TFIDF_time  TFIDF_today  TFIDF_union  \\\n",
            "0        0.229644  ...      0.000000    0.045929          0.0     0.136012   \n",
            "1        0.179712  ...      0.000000    0.000000          0.0     0.000000   \n",
            "2        0.106072  ...      0.032030    0.021214          0.0     0.062823   \n",
            "3        0.223369  ...      0.048179    0.000000          0.0     0.094497   \n",
            "4        0.273760  ...      0.082667    0.164256          0.0     0.121605   \n",
            "\n",
            "   TFIDF_united  TFIDF_war  TFIDF_way  TFIDF_work  TFIDF_world  TFIDF_years  \n",
            "0      0.203593   0.000000   0.060755    0.000000     0.045929     0.052694  \n",
            "1      0.199157   0.000000   0.000000    0.000000     0.000000     0.000000  \n",
            "2      0.070529   0.024339   0.000000    0.000000     0.063643     0.073018  \n",
            "3      0.000000   0.036610   0.000000    0.039277     0.095729     0.000000  \n",
            "4      0.030338   0.094225   0.000000    0.000000     0.054752     0.062817  \n",
            "\n",
            "[5 rows x 100 columns]\n"
          ]
        }
      ]
    },
    {
      "cell_type": "markdown",
      "source": [
        "**Inspecting Tf-idf values**  \n",
        "After creating Tf-idf features you will often want to understand what are the most highest scored words for each corpus. This can be achieved by isolating the row you want to examine and then sorting the the scores from high to low.\n",
        "\n",
        "The DataFrame from the last exercise (tv_df) is available in your workspace."
      ],
      "metadata": {
        "id": "fr87t70amVDP"
      }
    },
    {
      "cell_type": "code",
      "source": [
        "# Isolate the row to be examined\n",
        "sample_row = tv_df.iloc[0]\n",
        "\n",
        "# Print the top 5 words of the sorted output\n",
        "print(sample_row.sort_values(ascending=False).head())\n",
        "\n",
        "# Do you think these scores make sense for the corresponding words?"
      ],
      "metadata": {
        "colab": {
          "base_uri": "https://localhost:8080/"
        },
        "id": "lOYKCDU0muev",
        "outputId": "4ad740d1-0943-4b62-986d-8936b8c70f00"
      },
      "execution_count": 15,
      "outputs": [
        {
          "output_type": "stream",
          "name": "stdout",
          "text": [
            "TFIDF_government    0.367430\n",
            "TFIDF_public        0.333237\n",
            "TFIDF_present       0.315182\n",
            "TFIDF_duty          0.238637\n",
            "TFIDF_citizens      0.229644\n",
            "Name: 0, dtype: float64\n"
          ]
        }
      ]
    },
    {
      "cell_type": "markdown",
      "source": [
        "**Transforming unseen data**  \n",
        "When creating vectors from text, any transformations that you perform before training a machine learning model, you also need to apply on the new unseen (test) data. To achieve this follow the same approach from the last chapter: fit the vectorizer only on the training data, and apply it to the test data.\n",
        "\n",
        "For this exercise the speech_df DataFrame has been split in two:\n",
        "\n",
        "- train_speech_df: The training set consisting of the first 45 speeches.\n",
        "- test_speech_df: The test set consisting of the remaining speeches."
      ],
      "metadata": {
        "id": "nIltjlxQmzjh"
      }
    },
    {
      "cell_type": "code",
      "metadata": {
        "id": "f7079331"
      },
      "source": [
        "# Split data into training and testing sets\n",
        "train_speech_df, test_speech_df = train_test_split(speech_df, test_size=0.2, random_state=42)"
      ],
      "execution_count": 17,
      "outputs": []
    },
    {
      "cell_type": "code",
      "source": [
        "# Instantiate TfidfVectorizer\n",
        "tv = TfidfVectorizer(max_features=100, stop_words='english')\n",
        "\n",
        "# Fit the vectroizer and transform the data\n",
        "tv_transformed = tv.fit_transform(train_speech_df['text_clean'])\n",
        "\n",
        "# Transform test data\n",
        "test_tv_transformed = tv.transform(test_speech_df['text_clean'])\n",
        "\n",
        "# Create new features for the test set\n",
        "test_tv_df = pd.DataFrame(test_tv_transformed.toarray(),\n",
        "                          columns=tv.get_feature_names_out()).add_prefix('TFIDF_')\n",
        "print(test_tv_df.head())\n",
        "\n",
        "# Correct, the vectorizer should only be fit on the train set, never on your test set."
      ],
      "metadata": {
        "colab": {
          "base_uri": "https://localhost:8080/"
        },
        "id": "2MdypXnmnLug",
        "outputId": "10320e8e-b279-4b48-f695-1f6e7e1b5690"
      },
      "execution_count": 18,
      "outputs": [
        {
          "output_type": "stream",
          "name": "stdout",
          "text": [
            "   TFIDF_administration  TFIDF_america  TFIDF_american  TFIDF_americans  \\\n",
            "0              0.130996       0.000000        0.106750         0.000000   \n",
            "1              0.000000       0.000000        0.000000         0.000000   \n",
            "2              0.071785       0.200906        0.058499         0.000000   \n",
            "3              0.028327       0.000000        0.069252         0.000000   \n",
            "4              0.000000       0.129432        0.200999         0.051832   \n",
            "\n",
            "   TFIDF_believe  TFIDF_best  TFIDF_business  TFIDF_citizens  TFIDF_come  \\\n",
            "0       0.000000    0.000000        0.000000        0.234396    0.000000   \n",
            "1       0.000000    0.194054        0.000000        0.054359    0.000000   \n",
            "2       0.023369    0.081518        0.065955        0.034253    0.070106   \n",
            "3       0.041496    0.036188        0.000000        0.101373    0.013832   \n",
            "4       0.160586    0.070023        0.000000        0.029423    0.040147   \n",
            "\n",
            "   TFIDF_commerce  ...  TFIDF_things  TFIDF_time  TFIDF_today  TFIDF_union  \\\n",
            "0        0.000000  ...      0.000000    0.045888      0.00000     0.140922   \n",
            "1        0.159419  ...      0.000000    0.053210      0.00000     0.163408   \n",
            "2        0.000000  ...      0.025742    0.050293      0.00000     0.000000   \n",
            "3        0.000000  ...      0.030473    0.019846      0.00000     0.091420   \n",
            "4        0.000000  ...      0.000000    0.115202      0.09305     0.398012   \n",
            "\n",
            "   TFIDF_united  TFIDF_war  TFIDF_way  TFIDF_work  TFIDF_world  TFIDF_years  \n",
            "0      0.191579   0.000000   0.061058    0.000000     0.046879     0.053375  \n",
            "1      0.166611   0.063268   0.000000    0.000000     0.108719     0.000000  \n",
            "2      0.034995   0.059800   0.044613    0.042626     0.222644     0.038999  \n",
            "3      0.093212   0.023597   0.013203    0.012615     0.010137     0.046168  \n",
            "4      0.000000   0.034245   0.153288    0.109845     0.205960     0.100500  \n",
            "\n",
            "[5 rows x 100 columns]\n"
          ]
        }
      ]
    },
    {
      "cell_type": "markdown",
      "source": [
        "### N-grams"
      ],
      "metadata": {
        "id": "aSYcFcW6nWst"
      }
    },
    {
      "cell_type": "markdown",
      "source": [
        "**Using longer n-grams**  \n",
        "So far you have created features based on individual words in each of the texts. This can be quite powerful when used in a machine learning model but you may be concerned that by looking at words individually a lot of the context is being ignored. To deal with this when creating models you can use n-grams which are sequence of n words grouped together. For example:\n",
        "\n",
        "- bigrams: Sequences of two consecutive words\n",
        "- trigrams: Sequences of two consecutive words\n",
        "These can be automatically created in your dataset by specifying the ngram_range argument as a tuple (n1, n2) where all n-grams in the n1 to n2 range are included."
      ],
      "metadata": {
        "id": "z43-CDEtn1Dp"
      }
    },
    {
      "cell_type": "code",
      "source": [
        "# Import CountVectorizer\n",
        "from sklearn.feature_extraction.text import CountVectorizer\n",
        "\n",
        "# Instantiate a trigram vectorizer\n",
        "cv_trigram_vec = CountVectorizer(max_features=100,\n",
        "                                 stop_words='english',\n",
        "                                 ngram_range=(3, 3))\n",
        "\n",
        "cv_trigram = cv_trigram_vec.fit_transform(speech_df['text_clean'])\n",
        "\n",
        "print(cv_trigram_vec.get_feature_names_out())\n",
        "\n",
        "# Here you can see that by taking sequential word pairings, some context is preserved."
      ],
      "metadata": {
        "colab": {
          "base_uri": "https://localhost:8080/"
        },
        "id": "Ot4Zj0W_oC5O",
        "outputId": "68f1d465-4c5e-406a-b0da-9b8af903654e"
      },
      "execution_count": 20,
      "outputs": [
        {
          "output_type": "stream",
          "name": "stdout",
          "text": [
            "['ability preserve protect' 'agriculture commerce manufactures'\n",
            " 'america celebrate th' 'america ideal freedom' 'america stands world'\n",
            " 'america work preserve' 'american merchant marine'\n",
            " 'americans fellow citizens' 'amity mutual concession' 'anchor peace home'\n",
            " 'angel rides whirlwind' 'antirepublican tendencies preservation'\n",
            " 'appear fellow citizens' 'ask bow heads' 'ask just government'\n",
            " 'aspirations great people' 'assigned executive branch'\n",
            " 'best ability preserve' 'best interests country' 'bless god bless'\n",
            " 'bless united states' 'chief justice mr' 'children children children'\n",
            " 'citizens united states' 'civil religious liberty' 'civil service reform'\n",
            " 'commerce united states' 'confidence fellow citizens'\n",
            " 'congress extraordinary session' 'constitution does expressly'\n",
            " 'constitution united states' 'coordinate branches government'\n",
            " 'day task people' 'defend constitution united'\n",
            " 'distinguished guests fellow' 'does expressly say' 'equal exact justice'\n",
            " 'era good feeling' 'executive branch government'\n",
            " 'faithfully execute office' 'fellow citizens assembled'\n",
            " 'fellow citizens called' 'fellow citizens large' 'fellow citizens world'\n",
            " 'form perfect union' 'general welfare secure' 'god bless america'\n",
            " 'god bless god' 'good greatest number' 'government united states'\n",
            " 'granted federal government' 'great body people'\n",
            " 'great political parties' 'greatest good greatest'\n",
            " 'guests fellow citizens' 'land new promise' 'laws faithfully executed'\n",
            " 'letter spirit constitution' 'liberty pursuit happiness'\n",
            " 'life liberty pursuit' 'local self government' 'make hard choices'\n",
            " 'men women children' 'mr chief justice' 'mr vice president'\n",
            " 'nation like person' 'new breeze blowing' 'new states admitted'\n",
            " 'north south east' 'oath prescribed constitution'\n",
            " 'office president united' 'peace shall strive' 'people united states'\n",
            " 'policy united states' 'power general government'\n",
            " 'preserve protect defend' 'president united states'\n",
            " 'president vice president' 'promote general welfare'\n",
            " 'proof confidence fellow' 'protect defend constitution'\n",
            " 'protection great interests' 'reform civil service'\n",
            " 'reserved states people' 'secure blessings liberty' 'south east west'\n",
            " 'states admitted union' 'territories united states' 'thank god bless'\n",
            " 'turning away old' 'united states america' 'united states best'\n",
            " 'united states government' 'united states great' 'united states maintain'\n",
            " 'united states strong' 'united states territory' 'unless america work'\n",
            " 'vice president mr' 'welfare secure blessings']\n"
          ]
        }
      ]
    },
    {
      "cell_type": "markdown",
      "source": [
        "**Finding the most common words**  \n",
        "Its always advisable once you have created your features to inspect them to ensure that they are as you would expect. This will allow you to catch errors early, and perhaps influence what further feature engineering you will need to do.\n",
        "\n",
        "The vectorizer (cv) you fit in the last exercise and the sparse array consisting of word counts (cv_trigram) is available in your workspace.\n",
        "\n"
      ],
      "metadata": {
        "id": "nn7ahcEgokpj"
      }
    },
    {
      "cell_type": "code",
      "source": [
        "# Create a DataFrame of the features\n",
        "cv_tri_df = pd.DataFrame(cv_trigram.toarray(),\n",
        "                         columns=cv_trigram_vec.get_feature_names_out()).add_prefix('Counts_')\n",
        "\n",
        "# Print the top 5 words in the sorted output\n",
        "print(cv_tri_df.sum().sort_values(ascending=False).head())\n",
        "\n",
        "# that the most common trigram is constitution united states makes a lot of sense for US presidents speeches."
      ],
      "metadata": {
        "colab": {
          "base_uri": "https://localhost:8080/"
        },
        "id": "f_w0FiJ0ofNp",
        "outputId": "e09c8410-d78e-43e2-cc42-011e07433573"
      },
      "execution_count": 22,
      "outputs": [
        {
          "output_type": "stream",
          "name": "stdout",
          "text": [
            "Counts_constitution united states    20\n",
            "Counts_people united states          13\n",
            "Counts_mr chief justice              10\n",
            "Counts_preserve protect defend       10\n",
            "Counts_president united states        8\n",
            "dtype: int64\n"
          ]
        }
      ]
    }
  ]
}