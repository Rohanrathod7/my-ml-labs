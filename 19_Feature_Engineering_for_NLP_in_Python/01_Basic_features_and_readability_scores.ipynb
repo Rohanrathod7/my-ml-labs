{
  "nbformat": 4,
  "nbformat_minor": 0,
  "metadata": {
    "colab": {
      "provenance": [],
      "authorship_tag": "ABX9TyNP0M2bhQHY4u3ZFmFa/iGX",
      "include_colab_link": true
    },
    "kernelspec": {
      "name": "python3",
      "display_name": "Python 3"
    },
    "language_info": {
      "name": "python"
    }
  },
  "cells": [
    {
      "cell_type": "markdown",
      "metadata": {
        "id": "view-in-github",
        "colab_type": "text"
      },
      "source": [
        "<a href=\"https://colab.research.google.com/github/Rohanrathod7/my-ml-labs/blob/main/19_Feature_Engineering_for_NLP_in_Python/01_Basic_features_and_readability_scores.ipynb\" target=\"_parent\"><img src=\"https://colab.research.google.com/assets/colab-badge.svg\" alt=\"Open In Colab\"/></a>"
      ]
    },
    {
      "cell_type": "markdown",
      "source": [
        "### 1. Basic features and readability scores\n"
      ],
      "metadata": {
        "id": "69GNV3tpDLy3"
      }
    },
    {
      "cell_type": "markdown",
      "source": [
        "Learn to compute basic features such as number of words, number of characters, average word length and number of special characters (such as Twitter hashtags and mentions). You will also learn to compute readability scores and determine the amount of education required to comprehend a piece of text."
      ],
      "metadata": {
        "id": "cy5tpla-BBKR"
      }
    },
    {
      "cell_type": "code",
      "execution_count": 4,
      "metadata": {
        "id": "EUPpAj0HoP6i"
      },
      "outputs": [],
      "source": []
    },
    {
      "cell_type": "code",
      "source": [
        "%matplotlib inline\n",
        "import matplotlib.pyplot as plt\n",
        "import seaborn as sns\n",
        "import numpy as np\n",
        "import pandas as pd\n",
        "import datetime as dt\n",
        "# Import confusion matrix and train_test_split\n",
        "from sklearn.metrics import confusion_matrix, classification_report\n",
        "from sklearn.neighbors import KNeighborsClassifier\n",
        "from sklearn.svm import SVC\n",
        "from sklearn.model_selection import train_test_split, KFold, cross_val_score, GridSearchCV\n",
        "from sklearn.linear_model import Ridge, Lasso, LogisticRegression, LinearRegression\n",
        "from scipy.cluster.hierarchy import linkage, dendrogram\n",
        "import matplotlib.pyplot as plt\n",
        "from sklearn.linear_model import SGDClassifier\n",
        "\n",
        "url = \"https://raw.githubusercontent.com/Rohanrathod7/my-ml-labs/main/19_Feature_Engineering_for_NLP_in_Python/Dataset/russian_tweets.csv\"\n",
        "# Read the CSV file\n",
        "# Apply pd.to_numeric only to relevant columns, excluding 'text'\n",
        "tweets = pd.read_csv(url)\n",
        "\n",
        "\n",
        "display(tweets.head())"
      ],
      "metadata": {
        "colab": {
          "base_uri": "https://localhost:8080/",
          "height": 206
        },
        "id": "u8UlyiPU6rzD",
        "outputId": "886e726f-fd33-4886-c9a4-8e52740f993e"
      },
      "execution_count": 5,
      "outputs": [
        {
          "output_type": "display_data",
          "data": {
            "text/plain": [
              "   Unnamed: 0                                            content\n",
              "0      127447  LIVE STREAM VIDEO=> Donald Trump Rallies in Co...\n",
              "1      123642  Muslim Attacks NYPD Cops with Meat Cleaver. Me...\n",
              "2      226970  .@vfpatlas well that's a swella word there (di...\n",
              "3      138339  RT wehking_pamela: Bobby_Axelrod2k MMFlint don...\n",
              "4      161610  Жители обстреливаемых районов Донецка проводят..."
            ],
            "text/html": [
              "\n",
              "  <div id=\"df-5696a42f-32cc-4f9a-8c4c-feec1189d7c5\" class=\"colab-df-container\">\n",
              "    <div>\n",
              "<style scoped>\n",
              "    .dataframe tbody tr th:only-of-type {\n",
              "        vertical-align: middle;\n",
              "    }\n",
              "\n",
              "    .dataframe tbody tr th {\n",
              "        vertical-align: top;\n",
              "    }\n",
              "\n",
              "    .dataframe thead th {\n",
              "        text-align: right;\n",
              "    }\n",
              "</style>\n",
              "<table border=\"1\" class=\"dataframe\">\n",
              "  <thead>\n",
              "    <tr style=\"text-align: right;\">\n",
              "      <th></th>\n",
              "      <th>Unnamed: 0</th>\n",
              "      <th>content</th>\n",
              "    </tr>\n",
              "  </thead>\n",
              "  <tbody>\n",
              "    <tr>\n",
              "      <th>0</th>\n",
              "      <td>127447</td>\n",
              "      <td>LIVE STREAM VIDEO=&gt; Donald Trump Rallies in Co...</td>\n",
              "    </tr>\n",
              "    <tr>\n",
              "      <th>1</th>\n",
              "      <td>123642</td>\n",
              "      <td>Muslim Attacks NYPD Cops with Meat Cleaver. Me...</td>\n",
              "    </tr>\n",
              "    <tr>\n",
              "      <th>2</th>\n",
              "      <td>226970</td>\n",
              "      <td>.@vfpatlas well that's a swella word there (di...</td>\n",
              "    </tr>\n",
              "    <tr>\n",
              "      <th>3</th>\n",
              "      <td>138339</td>\n",
              "      <td>RT wehking_pamela: Bobby_Axelrod2k MMFlint don...</td>\n",
              "    </tr>\n",
              "    <tr>\n",
              "      <th>4</th>\n",
              "      <td>161610</td>\n",
              "      <td>Жители обстреливаемых районов Донецка проводят...</td>\n",
              "    </tr>\n",
              "  </tbody>\n",
              "</table>\n",
              "</div>\n",
              "    <div class=\"colab-df-buttons\">\n",
              "\n",
              "  <div class=\"colab-df-container\">\n",
              "    <button class=\"colab-df-convert\" onclick=\"convertToInteractive('df-5696a42f-32cc-4f9a-8c4c-feec1189d7c5')\"\n",
              "            title=\"Convert this dataframe to an interactive table.\"\n",
              "            style=\"display:none;\">\n",
              "\n",
              "  <svg xmlns=\"http://www.w3.org/2000/svg\" height=\"24px\" viewBox=\"0 -960 960 960\">\n",
              "    <path d=\"M120-120v-720h720v720H120Zm60-500h600v-160H180v160Zm220 220h160v-160H400v160Zm0 220h160v-160H400v160ZM180-400h160v-160H180v160Zm440 0h160v-160H620v160ZM180-180h160v-160H180v160Zm440 0h160v-160H620v160Z\"/>\n",
              "  </svg>\n",
              "    </button>\n",
              "\n",
              "  <style>\n",
              "    .colab-df-container {\n",
              "      display:flex;\n",
              "      gap: 12px;\n",
              "    }\n",
              "\n",
              "    .colab-df-convert {\n",
              "      background-color: #E8F0FE;\n",
              "      border: none;\n",
              "      border-radius: 50%;\n",
              "      cursor: pointer;\n",
              "      display: none;\n",
              "      fill: #1967D2;\n",
              "      height: 32px;\n",
              "      padding: 0 0 0 0;\n",
              "      width: 32px;\n",
              "    }\n",
              "\n",
              "    .colab-df-convert:hover {\n",
              "      background-color: #E2EBFA;\n",
              "      box-shadow: 0px 1px 2px rgba(60, 64, 67, 0.3), 0px 1px 3px 1px rgba(60, 64, 67, 0.15);\n",
              "      fill: #174EA6;\n",
              "    }\n",
              "\n",
              "    .colab-df-buttons div {\n",
              "      margin-bottom: 4px;\n",
              "    }\n",
              "\n",
              "    [theme=dark] .colab-df-convert {\n",
              "      background-color: #3B4455;\n",
              "      fill: #D2E3FC;\n",
              "    }\n",
              "\n",
              "    [theme=dark] .colab-df-convert:hover {\n",
              "      background-color: #434B5C;\n",
              "      box-shadow: 0px 1px 3px 1px rgba(0, 0, 0, 0.15);\n",
              "      filter: drop-shadow(0px 1px 2px rgba(0, 0, 0, 0.3));\n",
              "      fill: #FFFFFF;\n",
              "    }\n",
              "  </style>\n",
              "\n",
              "    <script>\n",
              "      const buttonEl =\n",
              "        document.querySelector('#df-5696a42f-32cc-4f9a-8c4c-feec1189d7c5 button.colab-df-convert');\n",
              "      buttonEl.style.display =\n",
              "        google.colab.kernel.accessAllowed ? 'block' : 'none';\n",
              "\n",
              "      async function convertToInteractive(key) {\n",
              "        const element = document.querySelector('#df-5696a42f-32cc-4f9a-8c4c-feec1189d7c5');\n",
              "        const dataTable =\n",
              "          await google.colab.kernel.invokeFunction('convertToInteractive',\n",
              "                                                    [key], {});\n",
              "        if (!dataTable) return;\n",
              "\n",
              "        const docLinkHtml = 'Like what you see? Visit the ' +\n",
              "          '<a target=\"_blank\" href=https://colab.research.google.com/notebooks/data_table.ipynb>data table notebook</a>'\n",
              "          + ' to learn more about interactive tables.';\n",
              "        element.innerHTML = '';\n",
              "        dataTable['output_type'] = 'display_data';\n",
              "        await google.colab.output.renderOutput(dataTable, element);\n",
              "        const docLink = document.createElement('div');\n",
              "        docLink.innerHTML = docLinkHtml;\n",
              "        element.appendChild(docLink);\n",
              "      }\n",
              "    </script>\n",
              "  </div>\n",
              "\n",
              "\n",
              "    <div id=\"df-b76dd081-1bfe-454b-9aa0-b64830da17f0\">\n",
              "      <button class=\"colab-df-quickchart\" onclick=\"quickchart('df-b76dd081-1bfe-454b-9aa0-b64830da17f0')\"\n",
              "                title=\"Suggest charts\"\n",
              "                style=\"display:none;\">\n",
              "\n",
              "<svg xmlns=\"http://www.w3.org/2000/svg\" height=\"24px\"viewBox=\"0 0 24 24\"\n",
              "     width=\"24px\">\n",
              "    <g>\n",
              "        <path d=\"M19 3H5c-1.1 0-2 .9-2 2v14c0 1.1.9 2 2 2h14c1.1 0 2-.9 2-2V5c0-1.1-.9-2-2-2zM9 17H7v-7h2v7zm4 0h-2V7h2v10zm4 0h-2v-4h2v4z\"/>\n",
              "    </g>\n",
              "</svg>\n",
              "      </button>\n",
              "\n",
              "<style>\n",
              "  .colab-df-quickchart {\n",
              "      --bg-color: #E8F0FE;\n",
              "      --fill-color: #1967D2;\n",
              "      --hover-bg-color: #E2EBFA;\n",
              "      --hover-fill-color: #174EA6;\n",
              "      --disabled-fill-color: #AAA;\n",
              "      --disabled-bg-color: #DDD;\n",
              "  }\n",
              "\n",
              "  [theme=dark] .colab-df-quickchart {\n",
              "      --bg-color: #3B4455;\n",
              "      --fill-color: #D2E3FC;\n",
              "      --hover-bg-color: #434B5C;\n",
              "      --hover-fill-color: #FFFFFF;\n",
              "      --disabled-bg-color: #3B4455;\n",
              "      --disabled-fill-color: #666;\n",
              "  }\n",
              "\n",
              "  .colab-df-quickchart {\n",
              "    background-color: var(--bg-color);\n",
              "    border: none;\n",
              "    border-radius: 50%;\n",
              "    cursor: pointer;\n",
              "    display: none;\n",
              "    fill: var(--fill-color);\n",
              "    height: 32px;\n",
              "    padding: 0;\n",
              "    width: 32px;\n",
              "  }\n",
              "\n",
              "  .colab-df-quickchart:hover {\n",
              "    background-color: var(--hover-bg-color);\n",
              "    box-shadow: 0 1px 2px rgba(60, 64, 67, 0.3), 0 1px 3px 1px rgba(60, 64, 67, 0.15);\n",
              "    fill: var(--button-hover-fill-color);\n",
              "  }\n",
              "\n",
              "  .colab-df-quickchart-complete:disabled,\n",
              "  .colab-df-quickchart-complete:disabled:hover {\n",
              "    background-color: var(--disabled-bg-color);\n",
              "    fill: var(--disabled-fill-color);\n",
              "    box-shadow: none;\n",
              "  }\n",
              "\n",
              "  .colab-df-spinner {\n",
              "    border: 2px solid var(--fill-color);\n",
              "    border-color: transparent;\n",
              "    border-bottom-color: var(--fill-color);\n",
              "    animation:\n",
              "      spin 1s steps(1) infinite;\n",
              "  }\n",
              "\n",
              "  @keyframes spin {\n",
              "    0% {\n",
              "      border-color: transparent;\n",
              "      border-bottom-color: var(--fill-color);\n",
              "      border-left-color: var(--fill-color);\n",
              "    }\n",
              "    20% {\n",
              "      border-color: transparent;\n",
              "      border-left-color: var(--fill-color);\n",
              "      border-top-color: var(--fill-color);\n",
              "    }\n",
              "    30% {\n",
              "      border-color: transparent;\n",
              "      border-left-color: var(--fill-color);\n",
              "      border-top-color: var(--fill-color);\n",
              "      border-right-color: var(--fill-color);\n",
              "    }\n",
              "    40% {\n",
              "      border-color: transparent;\n",
              "      border-right-color: var(--fill-color);\n",
              "      border-top-color: var(--fill-color);\n",
              "    }\n",
              "    60% {\n",
              "      border-color: transparent;\n",
              "      border-right-color: var(--fill-color);\n",
              "    }\n",
              "    80% {\n",
              "      border-color: transparent;\n",
              "      border-right-color: var(--fill-color);\n",
              "      border-bottom-color: var(--fill-color);\n",
              "    }\n",
              "    90% {\n",
              "      border-color: transparent;\n",
              "      border-bottom-color: var(--fill-color);\n",
              "    }\n",
              "  }\n",
              "</style>\n",
              "\n",
              "      <script>\n",
              "        async function quickchart(key) {\n",
              "          const quickchartButtonEl =\n",
              "            document.querySelector('#' + key + ' button');\n",
              "          quickchartButtonEl.disabled = true;  // To prevent multiple clicks.\n",
              "          quickchartButtonEl.classList.add('colab-df-spinner');\n",
              "          try {\n",
              "            const charts = await google.colab.kernel.invokeFunction(\n",
              "                'suggestCharts', [key], {});\n",
              "          } catch (error) {\n",
              "            console.error('Error during call to suggestCharts:', error);\n",
              "          }\n",
              "          quickchartButtonEl.classList.remove('colab-df-spinner');\n",
              "          quickchartButtonEl.classList.add('colab-df-quickchart-complete');\n",
              "        }\n",
              "        (() => {\n",
              "          let quickchartButtonEl =\n",
              "            document.querySelector('#df-b76dd081-1bfe-454b-9aa0-b64830da17f0 button');\n",
              "          quickchartButtonEl.style.display =\n",
              "            google.colab.kernel.accessAllowed ? 'block' : 'none';\n",
              "        })();\n",
              "      </script>\n",
              "    </div>\n",
              "\n",
              "    </div>\n",
              "  </div>\n"
            ],
            "application/vnd.google.colaboratory.intrinsic+json": {
              "type": "dataframe",
              "summary": "{\n  \"name\": \"display(tweets\",\n  \"rows\": 5,\n  \"fields\": [\n    {\n      \"column\": \"Unnamed: 0\",\n      \"properties\": {\n        \"dtype\": \"number\",\n        \"std\": 42548,\n        \"min\": 123642,\n        \"max\": 226970,\n        \"num_unique_values\": 5,\n        \"samples\": [\n          123642,\n          161610,\n          226970\n        ],\n        \"semantic_type\": \"\",\n        \"description\": \"\"\n      }\n    },\n    {\n      \"column\": \"content\",\n      \"properties\": {\n        \"dtype\": \"string\",\n        \"num_unique_values\": 5,\n        \"samples\": [\n          \"Muslim Attacks NYPD Cops with Meat Cleaver. Media Ignores As Usual   https://t.co/KC0NvTNStY  #IslamIsTheProblem \\ufffd https://t.co/3yl94q91yE\",\n          \"\\u0416\\u0438\\u0442\\u0435\\u043b\\u0438 \\u043e\\u0431\\u0441\\u0442\\u0440\\u0435\\u043b\\u0438\\u0432\\u0430\\u0435\\u043c\\u044b\\u0445 \\u0440\\u0430\\u0439\\u043e\\u043d\\u043e\\u0432 \\u0414\\u043e\\u043d\\u0435\\u0446\\u043a\\u0430 \\u043f\\u0440\\u043e\\u0432\\u043e\\u0434\\u044f\\u0442 \\u043c\\u0438\\u0442\\u0438\\u043d\\u0433 \\u0432\\u043e\\u0437\\u043b\\u0435 \\u0433\\u043e\\u0441\\u0442\\u0438\\u043d\\u0438\\u0446\\u044b PARK INN http://t.co/XkbxzuVpbH  #\\u041e\\u0411\\u0421\\u0415 http://t.co/tCIr7DrjX6\",\n          \".@vfpatlas well that's a swella word there (did I use it right!?)\"\n        ],\n        \"semantic_type\": \"\",\n        \"description\": \"\"\n      }\n    }\n  ]\n}"
            }
          },
          "metadata": {}
        }
      ]
    },
    {
      "cell_type": "code",
      "source": [
        "!python3 pip install spacy\n",
        "!python3 -m spacy download en_core_web_sm"
      ],
      "metadata": {
        "colab": {
          "base_uri": "https://localhost:8080/"
        },
        "id": "3NcmfkC7C9B4",
        "outputId": "977efd1f-b3c5-4f43-92c4-0c031d4aef14"
      },
      "execution_count": 6,
      "outputs": [
        {
          "output_type": "stream",
          "name": "stdout",
          "text": [
            "python3: can't open file '/content/pip': [Errno 2] No such file or directory\n",
            "Collecting en-core-web-sm==3.8.0\n",
            "  Downloading https://github.com/explosion/spacy-models/releases/download/en_core_web_sm-3.8.0/en_core_web_sm-3.8.0-py3-none-any.whl (12.8 MB)\n",
            "\u001b[2K     \u001b[90m━━━━━━━━━━━━━━━━━━━━━━━━━━━━━━━━━━━━━━━\u001b[0m \u001b[32m12.8/12.8 MB\u001b[0m \u001b[31m100.5 MB/s\u001b[0m eta \u001b[36m0:00:00\u001b[0m\n",
            "\u001b[?25h\u001b[38;5;2m✔ Download and installation successful\u001b[0m\n",
            "You can now load the package via spacy.load('en_core_web_sm')\n",
            "\u001b[38;5;3m⚠ Restart to reload dependencies\u001b[0m\n",
            "If you are in a Jupyter or Colab notebook, you may need to restart Python in\n",
            "order to load all the package's dependencies. You can do this by selecting the\n",
            "'Restart kernel' or 'Restart runtime' option.\n"
          ]
        }
      ]
    },
    {
      "cell_type": "code",
      "source": [
        "# Load en_core_web_sm and create an nlp object\n",
        "import spacy\n",
        "nlp = spacy.load(\"en_core_web_sm\")"
      ],
      "metadata": {
        "id": "YgYaAX_wC_X3"
      },
      "execution_count": 7,
      "outputs": []
    },
    {
      "cell_type": "markdown",
      "source": [
        "**One-hot encoding**  \n",
        "In the previous exercise, we encountered a dataframe df1 which contained categorical features and therefore, was unsuitable for applying ML algorithms to.\n",
        "\n",
        "In this exercise, your task is to convert df1 into a format that is suitable for machine learning."
      ],
      "metadata": {
        "id": "-Xu_aDu8hfmP"
      }
    },
    {
      "cell_type": "code",
      "source": [
        "data = {'feature 1': [29.0, 0.9167, 2.0, 30.0, 25.0, 48.0, 63.0, 39.0, 53.0, 71.0, 47.0, 18.0, 24.0, 26.0, 80.0],\n",
        "        'feature 2': [0, 1, 1, 1, 1, 0, 1, 0, 2, 0, 1, 1, 0, 0, 0],\n",
        "        'feature 3': [0, 2, 2, 2, 2, 0, 0, 0, 0, 0, 0, 0, 0, 0, 0],\n",
        "        'feature 4': [211.3375, 151.55, 151.55, 151.55, 151.55, 26.55, 77.9583, 0.0, 51.4792, 49.5042, 227.525, 227.525, 69.3, 78.85, 30.0],\n",
        "        'feature 5': ['female', 'male', 'female', 'male', 'female', 'male', 'female', 'male', 'female', 'male', 'male', 'female', 'female', 'female', 'male'],\n",
        "        'label': [1, 1, 0, 0, 0, 1, 1, 0, 1, 0, 0, 1, 1, 1, 1]}\n",
        "\n",
        "df1 = pd.DataFrame(data)\n",
        "\n",
        "print(df1.head())\n",
        "\n",
        "# Print the features of df1\n",
        "print(df1.columns)\n",
        "\n",
        "# Perform one-hot encoding\n",
        "df1 = pd.get_dummies(df1, columns=['feature 5'])\n",
        "\n",
        "# Print the new features of df1\n",
        "print(df1.columns)\n",
        "\n",
        "# Print first five rows of df1\n",
        "print(df1.head())"
      ],
      "metadata": {
        "colab": {
          "base_uri": "https://localhost:8080/"
        },
        "id": "1JZQFfBZiCLm",
        "outputId": "ece5a650-09d5-472c-f535-f47081ebcfb8"
      },
      "execution_count": 8,
      "outputs": [
        {
          "output_type": "stream",
          "name": "stdout",
          "text": [
            "   feature 1  feature 2  feature 3  feature 4 feature 5  label\n",
            "0    29.0000          0          0   211.3375    female      1\n",
            "1     0.9167          1          2   151.5500      male      1\n",
            "2     2.0000          1          2   151.5500    female      0\n",
            "3    30.0000          1          2   151.5500      male      0\n",
            "4    25.0000          1          2   151.5500    female      0\n",
            "Index(['feature 1', 'feature 2', 'feature 3', 'feature 4', 'feature 5',\n",
            "       'label'],\n",
            "      dtype='object')\n",
            "Index(['feature 1', 'feature 2', 'feature 3', 'feature 4', 'label',\n",
            "       'feature 5_female', 'feature 5_male'],\n",
            "      dtype='object')\n",
            "   feature 1  feature 2  feature 3  feature 4  label  feature 5_female  \\\n",
            "0    29.0000          0          0   211.3375      1              True   \n",
            "1     0.9167          1          2   151.5500      1             False   \n",
            "2     2.0000          1          2   151.5500      0              True   \n",
            "3    30.0000          1          2   151.5500      0             False   \n",
            "4    25.0000          1          2   151.5500      0              True   \n",
            "\n",
            "   feature 5_male  \n",
            "0           False  \n",
            "1            True  \n",
            "2           False  \n",
            "3            True  \n",
            "4           False  \n"
          ]
        }
      ]
    },
    {
      "cell_type": "markdown",
      "source": [
        "**Character count of Russian tweets**  \n",
        "In this exercise, you have been given a dataframe tweets which contains some tweets associated with Russia's Internet Research Agency and compiled by FiveThirtyEight.\n",
        "\n",
        "Your task is to create a new feature 'char_count' in tweets which computes the number of characters for each tweet. Also, compute the average length of each tweet. The tweets are available in the content feature of tweets.\n",
        "\n",
        "Be aware that this is real data from Twitter and as such there is always a risk that it may contain profanity or other offensive content (in this exercise, and any following exercises that also use real Twitter data)."
      ],
      "metadata": {
        "id": "-3_zT4KSj9DC"
      }
    },
    {
      "cell_type": "code",
      "source": [
        "# Create a feature char_count\n",
        "tweets['char_count'] = tweets[\"content\"].apply(len)\n",
        "\n",
        "# Print the average character count\n",
        "print(tweets[\"char_count\"].mean())\n",
        "\n",
        "# Notice that the average character count of these tweets is approximately 104,\n",
        "# which is much higher than the overall average tweet length of around 40 characters.\n",
        "# Depending on what you're working on, this may be something worth investigating into.\n",
        "# For your information, there is research that indicates that fake news articles tend to have longer titles! Therefore,\n",
        "# even extremely basic features such as character counts can prove to be very useful in certain applications."
      ],
      "metadata": {
        "colab": {
          "base_uri": "https://localhost:8080/"
        },
        "id": "jyBEQuWqkGBe",
        "outputId": "58ae042f-1748-4d0e-e3b9-75ede17d9cfe"
      },
      "execution_count": 9,
      "outputs": [
        {
          "output_type": "stream",
          "name": "stdout",
          "text": [
            "103.462\n"
          ]
        }
      ]
    },
    {
      "cell_type": "markdown",
      "source": [
        "**Word count of TED talks**  \n",
        "ted is a dataframe that contains the transcripts of 500 TED talks. Your job is to compute a new feature word_count which contains the approximate number of words for each talk. Consequently, you also need to compute the average word count of the talks. The transcripts are available as the transcript feature in ted.\n",
        "\n",
        "In order to complete this task, you will need to define a function count_words that takes in a string as an argument and returns the number of words in the string. You will then need to apply this function to the transcript feature of ted to create the new feature word_count and compute its mean."
      ],
      "metadata": {
        "id": "nHFDUCiAkjfi"
      }
    },
    {
      "cell_type": "code",
      "source": [
        "url = \"https://raw.githubusercontent.com/Rohanrathod7/my-ml-labs/main/19_Feature_Engineering_for_NLP_in_Python/Dataset/ted.csv\"\n",
        "# Read the CSV file\n",
        "# Apply pd.to_numeric only to relevant columns, excluding 'text'\n",
        "ted = pd.read_csv(url)\n",
        "\n",
        "\n",
        "display(ted.head())\n",
        "\n",
        "# Function that returns number of words in a string\n",
        "def count_words(string):\n",
        "\t# Split the string into words\n",
        "    words = string.split()\n",
        "\n",
        "    # Return the number of words\n",
        "    return len(words)\n",
        "\n",
        "# Create a new feature word_count\n",
        "ted['word_count'] = ted[\"transcript\"].apply(count_words)\n",
        "\n",
        "# Print the average word count of the talks\n",
        "print(ted[\"word_count\"].mean())"
      ],
      "metadata": {
        "colab": {
          "base_uri": "https://localhost:8080/",
          "height": 223
        },
        "id": "Mo_SqVQ5lFhf",
        "outputId": "1da42d29-2adb-4ae5-950b-10a21b2d0f05"
      },
      "execution_count": 10,
      "outputs": [
        {
          "output_type": "display_data",
          "data": {
            "text/plain": [
              "                                          transcript  \\\n",
              "0  We're going to talk — my — a new lecture, just...   \n",
              "1  This is a representation of your brain, and yo...   \n",
              "2  It's a great honor today to share with you The...   \n",
              "3  My passions are music, technology and making t...   \n",
              "4  It used to be that if you wanted to get a comp...   \n",
              "\n",
              "                                                 url  \n",
              "0  https://www.ted.com/talks/al_seckel_says_our_b...  \n",
              "1  https://www.ted.com/talks/aaron_o_connell_maki...  \n",
              "2  https://www.ted.com/talks/carter_emmart_demos_...  \n",
              "3  https://www.ted.com/talks/jared_ficklin_new_wa...  \n",
              "4  https://www.ted.com/talks/jeremy_howard_the_wo...  "
            ],
            "text/html": [
              "\n",
              "  <div id=\"df-8ed612ad-1883-461d-8af5-5c21225d61a4\" class=\"colab-df-container\">\n",
              "    <div>\n",
              "<style scoped>\n",
              "    .dataframe tbody tr th:only-of-type {\n",
              "        vertical-align: middle;\n",
              "    }\n",
              "\n",
              "    .dataframe tbody tr th {\n",
              "        vertical-align: top;\n",
              "    }\n",
              "\n",
              "    .dataframe thead th {\n",
              "        text-align: right;\n",
              "    }\n",
              "</style>\n",
              "<table border=\"1\" class=\"dataframe\">\n",
              "  <thead>\n",
              "    <tr style=\"text-align: right;\">\n",
              "      <th></th>\n",
              "      <th>transcript</th>\n",
              "      <th>url</th>\n",
              "    </tr>\n",
              "  </thead>\n",
              "  <tbody>\n",
              "    <tr>\n",
              "      <th>0</th>\n",
              "      <td>We're going to talk — my — a new lecture, just...</td>\n",
              "      <td>https://www.ted.com/talks/al_seckel_says_our_b...</td>\n",
              "    </tr>\n",
              "    <tr>\n",
              "      <th>1</th>\n",
              "      <td>This is a representation of your brain, and yo...</td>\n",
              "      <td>https://www.ted.com/talks/aaron_o_connell_maki...</td>\n",
              "    </tr>\n",
              "    <tr>\n",
              "      <th>2</th>\n",
              "      <td>It's a great honor today to share with you The...</td>\n",
              "      <td>https://www.ted.com/talks/carter_emmart_demos_...</td>\n",
              "    </tr>\n",
              "    <tr>\n",
              "      <th>3</th>\n",
              "      <td>My passions are music, technology and making t...</td>\n",
              "      <td>https://www.ted.com/talks/jared_ficklin_new_wa...</td>\n",
              "    </tr>\n",
              "    <tr>\n",
              "      <th>4</th>\n",
              "      <td>It used to be that if you wanted to get a comp...</td>\n",
              "      <td>https://www.ted.com/talks/jeremy_howard_the_wo...</td>\n",
              "    </tr>\n",
              "  </tbody>\n",
              "</table>\n",
              "</div>\n",
              "    <div class=\"colab-df-buttons\">\n",
              "\n",
              "  <div class=\"colab-df-container\">\n",
              "    <button class=\"colab-df-convert\" onclick=\"convertToInteractive('df-8ed612ad-1883-461d-8af5-5c21225d61a4')\"\n",
              "            title=\"Convert this dataframe to an interactive table.\"\n",
              "            style=\"display:none;\">\n",
              "\n",
              "  <svg xmlns=\"http://www.w3.org/2000/svg\" height=\"24px\" viewBox=\"0 -960 960 960\">\n",
              "    <path d=\"M120-120v-720h720v720H120Zm60-500h600v-160H180v160Zm220 220h160v-160H400v160Zm0 220h160v-160H400v160ZM180-400h160v-160H180v160Zm440 0h160v-160H620v160ZM180-180h160v-160H180v160Zm440 0h160v-160H620v160Z\"/>\n",
              "  </svg>\n",
              "    </button>\n",
              "\n",
              "  <style>\n",
              "    .colab-df-container {\n",
              "      display:flex;\n",
              "      gap: 12px;\n",
              "    }\n",
              "\n",
              "    .colab-df-convert {\n",
              "      background-color: #E8F0FE;\n",
              "      border: none;\n",
              "      border-radius: 50%;\n",
              "      cursor: pointer;\n",
              "      display: none;\n",
              "      fill: #1967D2;\n",
              "      height: 32px;\n",
              "      padding: 0 0 0 0;\n",
              "      width: 32px;\n",
              "    }\n",
              "\n",
              "    .colab-df-convert:hover {\n",
              "      background-color: #E2EBFA;\n",
              "      box-shadow: 0px 1px 2px rgba(60, 64, 67, 0.3), 0px 1px 3px 1px rgba(60, 64, 67, 0.15);\n",
              "      fill: #174EA6;\n",
              "    }\n",
              "\n",
              "    .colab-df-buttons div {\n",
              "      margin-bottom: 4px;\n",
              "    }\n",
              "\n",
              "    [theme=dark] .colab-df-convert {\n",
              "      background-color: #3B4455;\n",
              "      fill: #D2E3FC;\n",
              "    }\n",
              "\n",
              "    [theme=dark] .colab-df-convert:hover {\n",
              "      background-color: #434B5C;\n",
              "      box-shadow: 0px 1px 3px 1px rgba(0, 0, 0, 0.15);\n",
              "      filter: drop-shadow(0px 1px 2px rgba(0, 0, 0, 0.3));\n",
              "      fill: #FFFFFF;\n",
              "    }\n",
              "  </style>\n",
              "\n",
              "    <script>\n",
              "      const buttonEl =\n",
              "        document.querySelector('#df-8ed612ad-1883-461d-8af5-5c21225d61a4 button.colab-df-convert');\n",
              "      buttonEl.style.display =\n",
              "        google.colab.kernel.accessAllowed ? 'block' : 'none';\n",
              "\n",
              "      async function convertToInteractive(key) {\n",
              "        const element = document.querySelector('#df-8ed612ad-1883-461d-8af5-5c21225d61a4');\n",
              "        const dataTable =\n",
              "          await google.colab.kernel.invokeFunction('convertToInteractive',\n",
              "                                                    [key], {});\n",
              "        if (!dataTable) return;\n",
              "\n",
              "        const docLinkHtml = 'Like what you see? Visit the ' +\n",
              "          '<a target=\"_blank\" href=https://colab.research.google.com/notebooks/data_table.ipynb>data table notebook</a>'\n",
              "          + ' to learn more about interactive tables.';\n",
              "        element.innerHTML = '';\n",
              "        dataTable['output_type'] = 'display_data';\n",
              "        await google.colab.output.renderOutput(dataTable, element);\n",
              "        const docLink = document.createElement('div');\n",
              "        docLink.innerHTML = docLinkHtml;\n",
              "        element.appendChild(docLink);\n",
              "      }\n",
              "    </script>\n",
              "  </div>\n",
              "\n",
              "\n",
              "    <div id=\"df-253eb6fc-4eaf-452d-b458-5f282a8bb619\">\n",
              "      <button class=\"colab-df-quickchart\" onclick=\"quickchart('df-253eb6fc-4eaf-452d-b458-5f282a8bb619')\"\n",
              "                title=\"Suggest charts\"\n",
              "                style=\"display:none;\">\n",
              "\n",
              "<svg xmlns=\"http://www.w3.org/2000/svg\" height=\"24px\"viewBox=\"0 0 24 24\"\n",
              "     width=\"24px\">\n",
              "    <g>\n",
              "        <path d=\"M19 3H5c-1.1 0-2 .9-2 2v14c0 1.1.9 2 2 2h14c1.1 0 2-.9 2-2V5c0-1.1-.9-2-2-2zM9 17H7v-7h2v7zm4 0h-2V7h2v10zm4 0h-2v-4h2v4z\"/>\n",
              "    </g>\n",
              "</svg>\n",
              "      </button>\n",
              "\n",
              "<style>\n",
              "  .colab-df-quickchart {\n",
              "      --bg-color: #E8F0FE;\n",
              "      --fill-color: #1967D2;\n",
              "      --hover-bg-color: #E2EBFA;\n",
              "      --hover-fill-color: #174EA6;\n",
              "      --disabled-fill-color: #AAA;\n",
              "      --disabled-bg-color: #DDD;\n",
              "  }\n",
              "\n",
              "  [theme=dark] .colab-df-quickchart {\n",
              "      --bg-color: #3B4455;\n",
              "      --fill-color: #D2E3FC;\n",
              "      --hover-bg-color: #434B5C;\n",
              "      --hover-fill-color: #FFFFFF;\n",
              "      --disabled-bg-color: #3B4455;\n",
              "      --disabled-fill-color: #666;\n",
              "  }\n",
              "\n",
              "  .colab-df-quickchart {\n",
              "    background-color: var(--bg-color);\n",
              "    border: none;\n",
              "    border-radius: 50%;\n",
              "    cursor: pointer;\n",
              "    display: none;\n",
              "    fill: var(--fill-color);\n",
              "    height: 32px;\n",
              "    padding: 0;\n",
              "    width: 32px;\n",
              "  }\n",
              "\n",
              "  .colab-df-quickchart:hover {\n",
              "    background-color: var(--hover-bg-color);\n",
              "    box-shadow: 0 1px 2px rgba(60, 64, 67, 0.3), 0 1px 3px 1px rgba(60, 64, 67, 0.15);\n",
              "    fill: var(--button-hover-fill-color);\n",
              "  }\n",
              "\n",
              "  .colab-df-quickchart-complete:disabled,\n",
              "  .colab-df-quickchart-complete:disabled:hover {\n",
              "    background-color: var(--disabled-bg-color);\n",
              "    fill: var(--disabled-fill-color);\n",
              "    box-shadow: none;\n",
              "  }\n",
              "\n",
              "  .colab-df-spinner {\n",
              "    border: 2px solid var(--fill-color);\n",
              "    border-color: transparent;\n",
              "    border-bottom-color: var(--fill-color);\n",
              "    animation:\n",
              "      spin 1s steps(1) infinite;\n",
              "  }\n",
              "\n",
              "  @keyframes spin {\n",
              "    0% {\n",
              "      border-color: transparent;\n",
              "      border-bottom-color: var(--fill-color);\n",
              "      border-left-color: var(--fill-color);\n",
              "    }\n",
              "    20% {\n",
              "      border-color: transparent;\n",
              "      border-left-color: var(--fill-color);\n",
              "      border-top-color: var(--fill-color);\n",
              "    }\n",
              "    30% {\n",
              "      border-color: transparent;\n",
              "      border-left-color: var(--fill-color);\n",
              "      border-top-color: var(--fill-color);\n",
              "      border-right-color: var(--fill-color);\n",
              "    }\n",
              "    40% {\n",
              "      border-color: transparent;\n",
              "      border-right-color: var(--fill-color);\n",
              "      border-top-color: var(--fill-color);\n",
              "    }\n",
              "    60% {\n",
              "      border-color: transparent;\n",
              "      border-right-color: var(--fill-color);\n",
              "    }\n",
              "    80% {\n",
              "      border-color: transparent;\n",
              "      border-right-color: var(--fill-color);\n",
              "      border-bottom-color: var(--fill-color);\n",
              "    }\n",
              "    90% {\n",
              "      border-color: transparent;\n",
              "      border-bottom-color: var(--fill-color);\n",
              "    }\n",
              "  }\n",
              "</style>\n",
              "\n",
              "      <script>\n",
              "        async function quickchart(key) {\n",
              "          const quickchartButtonEl =\n",
              "            document.querySelector('#' + key + ' button');\n",
              "          quickchartButtonEl.disabled = true;  // To prevent multiple clicks.\n",
              "          quickchartButtonEl.classList.add('colab-df-spinner');\n",
              "          try {\n",
              "            const charts = await google.colab.kernel.invokeFunction(\n",
              "                'suggestCharts', [key], {});\n",
              "          } catch (error) {\n",
              "            console.error('Error during call to suggestCharts:', error);\n",
              "          }\n",
              "          quickchartButtonEl.classList.remove('colab-df-spinner');\n",
              "          quickchartButtonEl.classList.add('colab-df-quickchart-complete');\n",
              "        }\n",
              "        (() => {\n",
              "          let quickchartButtonEl =\n",
              "            document.querySelector('#df-253eb6fc-4eaf-452d-b458-5f282a8bb619 button');\n",
              "          quickchartButtonEl.style.display =\n",
              "            google.colab.kernel.accessAllowed ? 'block' : 'none';\n",
              "        })();\n",
              "      </script>\n",
              "    </div>\n",
              "\n",
              "    </div>\n",
              "  </div>\n"
            ],
            "application/vnd.google.colaboratory.intrinsic+json": {
              "type": "dataframe",
              "summary": "{\n  \"name\": \"print(ted[\\\"word_count\\\"]\",\n  \"rows\": 5,\n  \"fields\": [\n    {\n      \"column\": \"transcript\",\n      \"properties\": {\n        \"dtype\": \"string\",\n        \"num_unique_values\": 5,\n        \"samples\": [\n          \"This is a representation of your brain, and your brain can be broken into two parts. There's the left half, which is the logical side, and then the right half, which is the intuitive. And so if we had a scale to measure the aptitude of each hemisphere, then we can plot our brain. And for example, this would be somebody who's completely logical. This would be someone who's entirely intuitive. So where would you put your brain on this scale? Some of us may have opted for one of these extremes, but I think for most people in the audience, your brain is something like this \\u2014 with a high aptitude in both hemispheres at the same time. It's not like they're mutually exclusive or anything. You can be logical and intuitive.And so I consider myself one of these people, along with most of the other experimental quantum physicists, who need a good deal of logic to string together these complex ideas. But at the same time, we need a good deal of intuition to actually make the experiments work. How do we develop this intuition? Well we like to play with stuff. So we go out and play with it, and then we see how it acts, and then we develop our intuition from there. And really you do the same thing.So some intuition that you may have developed over the years is that one thing is only in one place at a time. I mean, it can sound weird to think about one thing being in two different places at the same time, but you weren't born with this notion, you developed it. And I remember watching a kid playing on a car stop. He was just a toddler and he wasn't very good at it, and he kept falling over. But I bet playing with this car stop taught him a really valuable lesson, and that's that large things don't let you get right past them, and that they stay in one place.And so this is a great conceptual model to have of the world, unless you're a particle physicist. It'd be a terrible model for a particle physicist, because they don't play with car stops, they play with these little weird particles. And when they play with their particles, they find they do all sorts of really weird things \\u2014 like they can fly right through walls, or they can be in two different places at the same time. And so they wrote down all these observations, and they called it the theory of quantum mechanics.And so that's where physics was at a few years ago; you needed quantum mechanics to describe little, tiny particles. But you didn't need it to describe the large, everyday objects around us. This didn't really sit well with my intuition, and maybe it's just because I don't play with particles very often. Well, I play with them sometimes, but not very often. And I've never seen them. I mean, nobody's ever seen a particle. But it didn't sit well with my logical side either. Because if everything is made up of little particles and all the little particles follow quantum mechanics, then shouldn't everything just follow quantum mechanics? I don't see any reason why it shouldn't. And so I'd feel a lot better about the whole thing if we could somehow show that an everyday object also follows quantum mechanics. So a few years ago, I set off to do just that.So I made one. This is the first object that you can see that has been in a mechanical quantum superposition. So what we're looking at here is a tiny computer chip. And you can sort of see this green dot right in the middle. And that's this piece of metal I'm going to be talking about in a minute. This is a photograph of the object. And here I'll zoom in a little bit. We're looking right there in the center. And then here's a really, really big close-up of the little piece of metal. So what we're looking at is a little chunk of metal, and it's shaped like a diving board, and it's sticking out over a ledge. And so I made this thing in nearly the same way as you make a computer chip. I went into a clean room with a fresh silicon wafer, and then I just cranked away at all the big machines for about 100 hours. For the last stuff, I had to build my own machine \\u2014 to make this swimming pool-shaped hole underneath the device. This device has the ability to be in a quantum superposition, but it needs a little help to do it.Here, let me give you an analogy. You know how uncomfortable it is to be in a crowded elevator? I mean, when I'm in an elevator all alone, I do all sorts of weird things, but then other people get on board and I stop doing those things because I don't want to bother them, or, frankly, scare them. So quantum mechanics says that inanimate objects feel the same way. The fellow passengers for inanimate objects are not just people, but it's also the light shining on it and the wind blowing past it and the heat of the room. And so we knew, if we wanted to see this piece of metal behave quantum mechanically, we're going to have to kick out all the other passengers.And so that's what we did. We turned off the lights, and then we put it in a vacuum and sucked out all the air, and then we cooled it down to just a fraction of a degree above absolute zero. Now, all alone in the elevator, the little chunk of metal is free to act however it wanted. And so we measured its motion. We found it was moving in really weird ways. Instead of just sitting perfectly still, it was vibrating, and the way it was vibrating was breathing something like this \\u2014 like expanding and contracting bellows. And by giving it a gentle nudge, we were able to make it both vibrate and not vibrate at the same time \\u2014 something that's only allowed with quantum mechanics.So what I'm telling you here is something truly fantastic. What does it mean for one thing to be both vibrating and not vibrating at the same time? So let's think about the atoms. So in one case: all the trillions of atoms that make up that chunk of metal are sitting still and at the same time those same atoms are moving up and down. Now it's only at precise times when they align. The rest of the time they're delocalized. That means that every atom is in two different places at the same time, which in turn means the entire chunk of metal is in two different places. I think this is really cool. (Laughter) Really.(Applause)It was worth locking myself in a clean room to do this for all those years because, check this out, the difference in scale between a single atom and that chunk of metal is about the same as the difference between that chunk of metal and you. So if a single atom can be in two different places at the same time, that chunk of metal can be in two different places, then why not you? I mean, this is just my logical side talking. So imagine if you're in multiple places at the same time, what would that be like? How would your consciousness handle your body being delocalized in space?There's one more part to the story. It's when we warmed it up, and we turned on the lights and looked inside the box, we saw that the piece metal was still there in one piece. And so I had to develop this new intuition, that it seems like all the objects in the elevator are really just quantum objects just crammed into a tiny space.You hear a lot of talk about how quantum mechanics says that everything is all interconnected. Well, that's not quite right. It's more than that; it's deeper. It's that those connections, your connections to all the things around you, literally define who you are, and that's the profound weirdness of quantum mechanics.Thank you.(Applause)\",\n          \"It used to be that if you wanted to get a computer to do something new, you would have to program it. Now, programming, for those of you here that haven't done it yourself, requires laying out in excruciating detail every single step that you want the computer to do in order to achieve your goal. Now, if you want to do something that you don't know how to do yourself, then this is going to be a great challenge.So this was the challenge faced by this man, Arthur Samuel. In 1956, he wanted to get this computer to be able to beat him at checkers. How can you write a program, lay out in excruciating detail, how to be better than you at checkers? So he came up with an idea: he had the computer play against itself thousands of times and learn how to play checkers. And indeed it worked, and in fact, by 1962, this computer had beaten the Connecticut state champion.So Arthur Samuel was the father of machine learning, and I have a great debt to him, because I am a machine learning practitioner. I was the president of Kaggle, a community of over 200,000 machine learning practictioners. Kaggle puts up competitions to try and get them to solve previously unsolved problems, and it's been successful  hundreds of times. So from this vantage point, I was able to find out a lot about what machine learning can do in the past, can do today, and what it could do in the future. Perhaps the first big success of  machine learning commercially was Google. Google showed that it is possible to find information by using a computer algorithm, and this algorithm is based on machine learning. Since that time, there have been many commercial successes of machine learning. Companies like Amazon and Netflix use machine learning to suggest products that you might like to buy, movies that you might like to watch. Sometimes, it's almost creepy. Companies like LinkedIn and Facebook sometimes will tell you about who your friends might be and you have no idea how it did it, and this is because it's using the power of machine learning. These are algorithms that have learned how to do this from data rather than being programmed by hand.This is also how IBM was successful in getting Watson to beat the two world champions at \\\"Jeopardy,\\\" answering incredibly subtle and complex questions like this one. [\\\"The ancient 'Lion of Nimrud' went missing from this city's national museum in 2003  (along with a lot of other stuff)\\\"] This is also why we are now able to see the first self-driving cars. If you want to be able to tell the difference between, say, a tree and a pedestrian, well, that's pretty important. We don't know how to write those programs by hand, but with machine learning, this is now possible. And in fact, this car has driven  over a million miles without any accidents on regular roads.So we now know that computers can learn, and computers can learn to do things that we actually sometimes don't know how to do ourselves, or maybe can do them better than us. One of the most amazing examples I've seen of machine learning happened on a project that I ran at Kaggle where a team run by a guy called Geoffrey Hinton from the University of Toronto won a competition for automatic drug discovery. Now, what was extraordinary here is not just that they beat all of the algorithms developed by Merck or the international academic community, but nobody on the team had any background in chemistry or biology or life sciences, and they did it in two weeks. How did they do this? They used an extraordinary algorithm called deep learning. So important was this that in fact the success was covered in The New York Times in a front page article a few weeks later. This is Geoffrey Hinton here on the left-hand side. Deep learning is an algorithm inspired by how the human brain works, and as a result it's an algorithm which has no theoretical limitations on what it can do. The more data you give it and the more computation time you give it, the better it gets.The New York Times also showed in this article another extraordinary result of deep learning which I'm going to show you now. It shows that computers  can listen and understand.(Video) Richard Rashid: Now, the last step that I want to be able to take in this process is to actually speak to you in Chinese. Now the key thing there is, we've been able to take a large amount  of information from many Chinese speakers and produce a text-to-speech system that takes Chinese text and converts it into Chinese language, and then we've taken an hour or so of my own voice and we've used that to modulate the standard text-to-speech system so that it would sound like me. Again, the result's not perfect. There are in fact quite a few errors. (In Chinese) (Applause) There's much work to be done in this area. (In Chinese) (Applause)Jeremy Howard: Well, that was at a machine learning conference in China. It's not often, actually, at academic conferences that you do hear spontaneous applause, although of course sometimes at TEDx conferences, feel free. Everything you saw there was happening with deep learning. (Applause) Thank you. The transcription in English was deep learning. The translation to Chinese and the text in the top right, deep learning, and the construction of the voice was deep learning as well.So deep learning is this extraordinary thing. It's a single algorithm that can seem to do almost anything, and I discovered that a year earlier, it had also learned to see. In this obscure competition from Germany called the German Traffic Sign  Recognition Benchmark, deep learning had learned to recognize traffic signs like this one. Not only could it recognize the traffic signs better than any other algorithm, the leaderboard actually showed it was better than people, about twice as good as people. So by 2011, we had the first example of computers that can see better than people. Since that time, a lot has happened. In 2012, Google announced that they had a deep learning algorithm watch YouTube videos and crunched the data on 16,000 computers for a month, and the computer independently learned about concepts such as people and cats just by watching the videos. This is much like the way that humans learn. Humans don't learn by being told what they see, but by learning for themselves what these things are. Also in 2012, Geoffrey Hinton, who we saw earlier, won the very popular ImageNet competition, looking to try to figure out  from one and a half million images what they're pictures of. As of 2014, we're now down to a six percent error rate in image recognition. This is better than people, again.So machines really are doing an extraordinarily good job of this, and it is now being used in industry. For example, Google announced last year that they had mapped every single location in France in two hours, and the way they did it was that they fed street view images into a deep learning algorithm to recognize and read street numbers. Imagine how long it would have taken before: dozens of people, many years. This is also happening in China. Baidu is kind of  the Chinese Google, I guess, and what you see here in the top left is an example of a picture that I uploaded to Baidu's deep learning system, and underneath you can see that the system has understood what that picture is and found similar images. The similar images actually have similar backgrounds, similar directions of the faces, even some with their tongue out. This is not clearly looking at the text of a web page. All I uploaded was an image. So we now have computers which really understand what they see and can therefore search databases of hundreds of millions of images in real time.So what does it mean now that computers can see? Well, it's not just  that computers can see. In fact, deep learning has done more than that. Complex, nuanced sentences like this one are now understandable with deep learning algorithms. As you can see here, this Stanford-based system showing the red dot at the top has figured out that this sentence is expressing negative sentiment. Deep learning now in fact is near human performance at understanding what sentences are about and what it is saying about those things. Also, deep learning has been used to read Chinese, again at about native Chinese speaker level. This algorithm developed out of Switzerland by people, none of whom speak or understand any Chinese. As I say, using deep learning is about the best system in the world for this, even compared to native human understanding.This is a system that we put together at my company which shows putting all this stuff together. These are pictures which have no text attached, and as I'm typing in here sentences, in real time it's understanding these pictures and figuring out what they're about and finding pictures that are similar to the text that I'm writing. So you can see, it's actually understanding my sentences and actually understanding these pictures. I know that you've seen something like this on Google, where you can type in things and it will show you pictures, but actually what it's doing is it's searching the webpage for the text. This is very different from actually understanding the images. This is something that computers have only been able to do for the first time in the last few months.So we can see now that computers can not only see but they can also read, and, of course, we've shown that they can understand what they hear. Perhaps not surprising now that I'm going to tell you they can write. Here is some text that I generated using a deep learning algorithm yesterday. And here is some text that an algorithm out of Stanford generated. Each of these sentences was generated by a deep learning algorithm to describe each of those pictures. This algorithm before has never seen a man in a black shirt playing a guitar. It's seen a man before, it's seen black before, it's seen a guitar before, but it has independently generated this novel description of this picture. We're still not quite at human performance here, but we're close. In tests, humans prefer the computer-generated caption one out of four times. Now this system is now only two weeks old, so probably within the next year, the computer algorithm will be well past human performance at the rate things are going. So computers can also write.So we put all this together and it leads to very exciting opportunities. For example, in medicine, a team in Boston announced that they had discovered dozens of new clinically relevant features of tumors which help doctors make a prognosis of a cancer. Very similarly, in Stanford, a group there announced that, looking at tissues under magnification, they've developed  a machine learning-based system which in fact is better than human pathologists at predicting survival rates for cancer sufferers. In both of these cases, not only were the predictions more accurate, but they generated new insightful science. In the radiology case, they were new clinical indicators that humans can understand. In this pathology case, the computer system actually discovered that the cells around the cancer are as important as the cancer cells themselves in making a diagnosis. This is the opposite of what pathologists had been taught for decades. In each of those two cases, they were systems developed by a combination of medical experts and machine learning experts, but as of last year, we're now beyond that too. This is an example of identifying cancerous areas of human tissue under a microscope. The system being shown here can identify those areas more accurately, or about as accurately, as human pathologists, but was built entirely with deep learning using no medical expertise by people who have no background in the field. Similarly, here, this neuron segmentation. We can now segment neurons about as accurately as humans can, but this system was developed with deep learning using people with no previous  background in medicine.So myself, as somebody with no previous background in medicine, I seem to be entirely well qualified to start a new medical company, which I did. I was kind of terrified of doing it, but the theory seemed to suggest that it ought to be possible to do very useful medicine using just these data analytic techniques. And thankfully, the feedback has been fantastic, not just from the media but from the medical community, who have been very supportive. The theory is that we can take the middle part of the medical process and turn that into data analysis as much as possible, leaving doctors to do what they're best at. I want to give you an example. It now takes us about 15 minutes to generate a new medical diagnostic test and I'll show you that in real time now, but I've compressed it down to  three minutes by cutting some pieces out. Rather than showing you creating a medical diagnostic test, I'm going to show you  a diagnostic test of car images, because that's something we can all understand.So here we're starting with  about 1.5 million car images, and I want to create something that can split them into the angle of the photo that's being taken. So these images are entirely unlabeled, so I have to start from scratch. With our deep learning algorithm, it can automatically identify areas of structure in these images. So the nice thing is that the human and the computer can now work together. So the human, as you can see here, is telling the computer about areas of interest which it wants the computer then to try and use to improve its algorithm. Now, these deep learning systems actually are in 16,000-dimensional space, so you can see here the computer rotating this through that space, trying to find new areas of structure. And when it does so successfully, the human who is driving it can then point out the areas that are interesting. So here, the computer has successfully found areas, for example, angles. So as we go through this process, we're gradually telling the computer more and more about the kinds of structures we're looking for. You can imagine in a diagnostic test this would be a pathologist identifying areas of pathosis, for example, or a radiologist indicating potentially troublesome nodules. And sometimes it can be difficult for the algorithm. In this case, it got kind of confused. The fronts and the backs of the cars are all mixed up. So here we have to be a bit more careful, manually selecting these fronts as opposed to the backs, then telling the computer that this is a type of group that we're interested in.So we do that for a while, we skip over a little bit, and then we train the machine learning algorithm based on these couple of hundred things, and we hope that it's gotten a lot better. You can see, it's now started to fade some of these pictures out, showing us that it already is recognizing how to understand some of these itself. We can then use this concept of similar images, and using similar images, you can now see, the computer at this point is able to entirely find just the fronts of cars. So at this point, the human can tell the computer, okay, yes, you've done a good job of that.Sometimes, of course, even at this point it's still difficult to separate out groups. In this case, even after we let the computer try to rotate this for a while, we still find that the left sides and the right sides pictures are all mixed up together. So we can again give the computer some hints, and we say, okay, try and find a projection that separates out the left sides and the right sides as much as possible using this deep learning algorithm. And giving it that hint \\u2014 ah, okay, it's been successful. It's managed to find a way of thinking about these objects that's separated out these together.So you get the idea here. This is a case not where the human is being replaced by a computer, but where they're working together. What we're doing here is we're replacing something that used to take a team of five or six people about seven years and replacing it with something that takes 15 minutes for one person acting alone.So this process takes about four or five iterations. You can see we now have 62 percent of our 1.5 million images  classified correctly. And at this point, we can start to quite quickly grab whole big sections, check through them to make sure that there's no mistakes. Where there are mistakes, we can let the computer know about them. And using this kind of process for each of the different groups, we are now up to an 80 percent success rate in classifying the 1.5 million images. And at this point, it's just a case of finding the small number that aren't classified correctly, and trying to understand why. And using that approach, by 15 minutes we get to 97 percent classification rates.So this kind of technique could allow us to fix a major problem, which is that there's a lack of medical expertise in the world. The World Economic Forum says that there's between a 10x and a 20x shortage of physicians in the developing world, and it would take about 300 years to train enough people to fix that problem. So imagine if we can help enhance their efficiency using these deep learning approaches?So I'm very excited about the opportunities. I'm also concerned about the problems. The problem here is that every area in blue on this map is somewhere where services are over 80 percent of employment. What are services? These are services. These are also the exact things that computers have just learned how to do. So 80 percent of the world's employment in the developed world is stuff that computers  have just learned how to do. What does that mean? Well, it'll be fine. They'll be replaced by other jobs. For example, there will be more jobs for data scientists. Well, not really. It doesn't take data scientists  very long to build these things. For example, these four algorithms were all built by the same guy. So if you think, oh,  it's all happened before, we've seen the results in the past of when new things come along and they get replaced by new jobs, what are these new jobs going to be? It's very hard for us to estimate this, because human performance grows at this gradual rate, but we now have a system, deep learning, that we know actually grows in capability exponentially. And we're here. So currently, we see the things around us and we say, \\\"Oh, computers are still pretty dumb.\\\" Right? But in five years' time, computers will be off this chart. So we need to be starting to think about this capability right now.We have seen this once before, of course. In the Industrial Revolution, we saw a step change in capability thanks to engines. The thing is, though, that after a while, things flattened out. There was social disruption, but once engines were used  to generate power in all the situations, things really settled down. The Machine Learning Revolution is going to be very different from the Industrial Revolution, because the Machine Learning Revolution, it never settles down. The better computers get at intellectual activities, the more they can build better computers to be better at intellectual capabilities, so this is going to be a kind of change that the world has actually never experienced before, so your previous understanding of what's possible is different.This is already impacting us. In the last 25 years, as capital productivity has increased, labor productivity has been flat, in fact even a little bit down.So I want us to start having this discussion now. I know that when I often tell people about this situation, people can be quite dismissive. Well, computers can't really think, they don't emote, they don't understand poetry, we don't really understand how they work. So what? Computers right now can do the things that humans spend most of their time being paid to do, so now's the time to start thinking about how we're going to adjust our social structures and economic structures to be aware of this new reality. Thank you. (Applause)\",\n          \"It's a great honor today to share with you The Digital Universe, which was created for humanity to really see where we are in the universe. And so I think we can roll the video that we have.[The Himalayas.](Music)The flat horizon that we've evolved with has been a metaphor for the infinite: unbounded resources and unlimited capacity for disposal of waste. It wasn't until we really left Earth, got above the atmosphere and had seen the horizon bend back on itself, that we could understand our planet as a limited condition. The Digital Universe Atlas has been built at the American Museum of Natural History over the past 12 years. We maintain that, put that together as a project to really chart the universe across all scales. What we see here are satellites around the Earth and the Earth in proper registration against the universe, as we see. NASA supported this work 12 years ago as part of the rebuilding of the Hayden Planetarium so that we would share this with the world.The Digital Universe is the basis of our space show productions that we do \\u2014 our main space shows in the dome. But what you see here is the result of, actually, internships that we hosted with Linkoping University in Sweden. I've had 12 students work on this for their graduate work, and the result has been this software called Uniview and a company called SCISS in Sweden. This software allows interactive use, so this actual flight path and movie that we see here was actually flown live. I captured this live from my laptop in a cafe called Earth Matters on the Lower East Side of Manhattan, where I live, and it was done as a collaborative project with the Rubin Museum of Himalayan Art for an exhibit on comparative cosmology.And so as we move out, we see continuously from our planet all the way out into the realm of galaxies, as we see here, light-travel time, giving you a sense of how far away we are. As we move out, the light from these distant galaxies have taken so long, we're essentially backing up into the past. We back so far up we're finally seeing a containment around us \\u2014 the afterglow of the Big Bang. This is the WMAP microwave background that we see. We'll fly outside it here, just to see this sort of containment. If we were outside this, it would almost be meaningless, in the sense as before time. But this our containment of the visible universe. We know the universe is bigger than that which we can see.Coming back quickly, we see here the radio sphere that we jumped out of in the beginning, but these are positions, the latest positions of exoplanets that we've mapped, and our sun here, obviously, with our own solar system. What you're going to see \\u2014 we're going to have to jump in here pretty quickly between several orders of magnitude to get down to where we see the solar system \\u2014 these are the paths of Voyager 1, Voyager 2, Pioneer 11 and Pioneer 10, the first four spacecraft to have left the solar system. Coming in closer, picking up Earth, orbit of the Moon, and we see the Earth. This map can be updated, and we can add in new data.I know Dr. Carolyn Porco is the camera P.I. for the Cassini mission. But here we see the complex trajectory of the Cassini mission color coded for different mission phases, ingeniously developed so that 45 encounters with the largest moon, Titan, which is larger that the planet Mercury, diverts the orbit into different parts of mission phase.This software allows us to come close and look at parts of this. This software can also be networked between domes. We have a growing user base of this, and we network domes. And we can network between domes and classrooms. We're actually sharing tours of the universe with the first sub-Saharan planetarium in Ghana as well as new libraries that have been built in the ghettos in Columbia and a high school in Cambodia. And the Cambodians have actually controlled the Hayden Planetarium from their high school.This is an image from Saturday, photographed by the Aqua satellite, but through the Uniview software. So you're seeing the edge of the Earth. This is Nepal. This is, in fact, right here is the valley of Lhasa, right here in Tibet. But we can see the haze from fires and so forth in the Ganges valley down below in India. This is Nepal and Tibet.And just in closing, I'd just like to say this beautiful world that we live on \\u2014 here we see a bit of the snow that some of you may have had to brave in coming out \\u2014 so I'd like to just say that what the world needs now is a sense of being able to look at ourselves in this much larger condition now and a much larger sense of what home is. Because our home is the universe, and we are the universe, essentially. We carry that in us. And to be able to see our context in this larger sense at all scales helps us all, I think, in understanding where we are and who we are in the universe.Thank you.(Applause)\"\n        ],\n        \"semantic_type\": \"\",\n        \"description\": \"\"\n      }\n    },\n    {\n      \"column\": \"url\",\n      \"properties\": {\n        \"dtype\": \"string\",\n        \"num_unique_values\": 5,\n        \"samples\": [\n          \"https://www.ted.com/talks/aaron_o_connell_making_sense_of_a_visible_quantum_object\\n\",\n          \"https://www.ted.com/talks/jeremy_howard_the_wonderful_and_terrifying_implications_of_computers_that_can_learn\\n\",\n          \"https://www.ted.com/talks/carter_emmart_demos_a_3d_atlas_of_the_universe\\n\"\n        ],\n        \"semantic_type\": \"\",\n        \"description\": \"\"\n      }\n    }\n  ]\n}"
            }
          },
          "metadata": {}
        },
        {
          "output_type": "stream",
          "name": "stdout",
          "text": [
            "1987.1\n"
          ]
        }
      ]
    },
    {
      "cell_type": "markdown",
      "source": [
        "**Hashtags and mentions in Russian tweets**  \n",
        "Let's revisit the tweets dataframe containing the Russian tweets. In this exercise, you will compute the number of hashtags and mentions in each tweet by defining two functions count_hashtags() and count_mentions() respectively and applying them to the content feature of tweets.\n",
        "\n",
        "In case you don't recall, the tweets are contained in the content feature of tweets"
      ],
      "metadata": {
        "id": "9ThV69jGleZT"
      }
    },
    {
      "cell_type": "code",
      "source": [
        "# Function that returns numner of hashtags in a string\n",
        "def count_hashtags(string):\n",
        "\t# Split the string into words\n",
        "    words = string.split()\n",
        "\n",
        "    # Create a list of words that are hashtags\n",
        "    hashtags = [word for word in words if word.startswith(\"#\")]\n",
        "\n",
        "    # Return number of hashtags\n",
        "    return(len(hashtags))\n",
        "\n",
        "# Create a feature hashtag_count and display distribution\n",
        "tweets['hashtag_count'] = tweets['content'].apply(count_hashtags)\n",
        "tweets['hashtag_count'].hist()\n",
        "plt.title('Hashtag count distribution')\n",
        "plt.show()"
      ],
      "metadata": {
        "colab": {
          "base_uri": "https://localhost:8080/",
          "height": 452
        },
        "id": "bAiLsvntlaL5",
        "outputId": "dfd8737b-f988-47fd-94f2-cd8e3bc3f1c2"
      },
      "execution_count": 11,
      "outputs": [
        {
          "output_type": "display_data",
          "data": {
            "text/plain": [
              "<Figure size 640x480 with 1 Axes>"
            ],
            "image/png": "[encoded data removed]"
          },
          "metadata": {}
        }
      ]
    },
    {
      "cell_type": "code",
      "source": [
        "# Function that returns number of mentions in a string\n",
        "def count_mentions(string):\n",
        "\t# Split the string into words\n",
        "    words = string.split()\n",
        "\n",
        "    # Create a list of words that are mentions\n",
        "    mentions = [word for word in words if word.startswith(\"@\")]\n",
        "\n",
        "    # Return number of mentions\n",
        "    return(len(mentions))\n",
        "\n",
        "# Create a feature mention_count and display distribution\n",
        "tweets['mention_count'] = tweets['content'].apply(count_mentions)\n",
        "tweets['mention_count'].hist()\n",
        "plt.title('Mention count distribution')\n",
        "plt.show()\n",
        "\n",
        "# You now have a good grasp of how to compute various types of summary features. In the next lesson,\n",
        "# we will learn about more advanced features that are capable of capturing more nuanced information beyond simple word and character counts."
      ],
      "metadata": {
        "colab": {
          "base_uri": "https://localhost:8080/",
          "height": 452
        },
        "id": "KgwRBZ30lqur",
        "outputId": "faaa11ad-8fb7-42d7-bce8-e3cf01486a94"
      },
      "execution_count": 12,
      "outputs": [
        {
          "output_type": "display_data",
          "data": {
            "text/plain": [
              "<Figure size 640x480 with 1 Axes>"
            ],
            "image/png": "[encoded data removed]"
          },
          "metadata": {}
        }
      ]
    },
    {
      "cell_type": "markdown",
      "source": [
        "**Readability of 'The Myth of Sisyphus'**  \n",
        "In this exercise, you will compute the Flesch reading ease score for Albert Camus' famous essay The Myth of Sisyphus. We will then interpret the value of this score as explained in the video and try to determine the reading level of the essay.\n",
        "\n",
        "The entire essay is in the form of a string and is available as sisyphus_essay."
      ],
      "metadata": {
        "id": "Co-oldMPmgPk"
      }
    },
    {
      "cell_type": "code",
      "metadata": {
        "colab": {
          "base_uri": "https://localhost:8080/"
        },
        "id": "0d8b6e31",
        "outputId": "bb032e26-b0e4-482d-c929-01ab03ccd6af"
      },
      "source": [
        "!pip install textstat"
      ],
      "execution_count": 15,
      "outputs": [
        {
          "output_type": "stream",
          "name": "stdout",
          "text": [
            "Collecting textstat\n",
            "  Downloading textstat-0.7.8-py3-none-any.whl.metadata (15 kB)\n",
            "Collecting pyphen (from textstat)\n",
            "  Downloading pyphen-0.17.2-py3-none-any.whl.metadata (3.2 kB)\n",
            "Collecting cmudict (from textstat)\n",
            "  Downloading cmudict-1.1.1-py3-none-any.whl.metadata (3.6 kB)\n",
            "Requirement already satisfied: setuptools in /usr/local/lib/python3.11/dist-packages (from textstat) (75.2.0)\n",
            "Requirement already satisfied: importlib-metadata>=5 in /usr/local/lib/python3.11/dist-packages (from cmudict->textstat) (8.7.0)\n",
            "Requirement already satisfied: importlib-resources>=5 in /usr/local/lib/python3.11/dist-packages (from cmudict->textstat) (6.5.2)\n",
            "Requirement already satisfied: zipp>=3.20 in /usr/local/lib/python3.11/dist-packages (from importlib-metadata>=5->cmudict->textstat) (3.23.0)\n",
            "Downloading textstat-0.7.8-py3-none-any.whl (239 kB)\n",
            "\u001b[2K   \u001b[90m━━━━━━━━━━━━━━━━━━━━━━━━━━━━━━━━━━━━━━━━\u001b[0m \u001b[32m239.1/239.1 kB\u001b[0m \u001b[31m5.5 MB/s\u001b[0m eta \u001b[36m0:00:00\u001b[0m\n",
            "\u001b[?25hDownloading cmudict-1.1.1-py3-none-any.whl (939 kB)\n",
            "\u001b[2K   \u001b[90m━━━━━━━━━━━━━━━━━━━━━━━━━━━━━━━━━━━━━━━━\u001b[0m \u001b[32m939.7/939.7 kB\u001b[0m \u001b[31m28.9 MB/s\u001b[0m eta \u001b[36m0:00:00\u001b[0m\n",
            "\u001b[?25hDownloading pyphen-0.17.2-py3-none-any.whl (2.1 MB)\n",
            "\u001b[2K   \u001b[90m━━━━━━━━━━━━━━━━━━━━━━━━━━━━━━━━━━━━━━━━\u001b[0m \u001b[32m2.1/2.1 MB\u001b[0m \u001b[31m73.3 MB/s\u001b[0m eta \u001b[36m0:00:00\u001b[0m\n",
            "\u001b[?25hInstalling collected packages: pyphen, cmudict, textstat\n",
            "Successfully installed cmudict-1.1.1 pyphen-0.17.2 textstat-0.7.8\n"
          ]
        }
      ]
    },
    {
      "cell_type": "code",
      "source": [
        "sisyphus_essay = '\\nThe gods had condemned Sisyphus to ceaselessly rolling a rock to the top of a mountain, whence the stone would fall back of its own weight. They had thought with some reason that there is no more dreadful punishment than futile and hopeless labor. If one believes Homer, Sisyphus was the wisest and most prudent of mortals. According to another tradition, however, he was disposed to practice the profession of highwayman. I see no contradiction in this. Opinions differ as to the reasons why he became the futile laborer of the underworld. To begin with, he is accused of a certain levity in regard to the gods. He stole their secrets. Egina, the daughter of Esopus, was carried off by Jupiter. The father was shocked by that disappearance and complained to Sisyphus. He, who knew of the abduction, offered to tell about it on condition that Esopus would give water to the citadel of Corinth. To the celestial thunderbolts he preferred the benediction of water. He was punished for this in the underworld. Homer tells us also that Sisyphus had put Death in chains. Pluto could not endure the sight of his deserted, silent empire. He dispatched the god of war, who liberated Death from the hands of her conqueror. It is said that Sisyphus, being near to death, rashly wanted to test his wife\\'s love. He ordered her to cast his unburied body into the middle of the public square. Sisyphus woke up in the underworld. And there, annoyed by an obedience so contrary to human love, he obtained from Pluto permission to return to earth in order to chastise his wife. But when he had seen again the face of this world, enjoyed water and sun, warm stones and the sea, he no longer wanted to go back to the infernal darkness. Recalls, signs of anger, warnings were of no avail. Many years more he lived facing the curve of the gulf, the sparkling sea, and the smiles of earth. A decree of the gods was necessary. Mercury came and seized the impudent man by the collar and, snatching him from his joys, lead him forcibly back to the underworld, where his rock was ready for him. You have already grasped that Sisyphus is the absurd hero. He is, as much through his passions as through his torture. His scorn of the gods, his hatred of death, and his passion for life won him that unspeakable penalty in which the whole being is exerted toward accomplishing nothing. This is the price that must be paid for the passions of this earth. Nothing is told us about Sisyphus in the underworld. Myths are made for the imagination to breathe life into them. As for this myth, one sees merely the whole effort of a body straining to raise the huge stone, to roll it, and push it up a slope a hundred times over; one sees the face screwed up, the cheek tight against the stone, the shoulder bracing the clay-covered mass, the foot wedging it, the fresh start with arms outstretched, the wholly human security of two earth-clotted hands. At the very end of his long effort measured by skyless space and time without depth, the purpose is achieved. Then Sisyphus watches the stone rush down in a few moments toward tlower world whence he will have to push it up again toward the summit. He goes back down to the plain. It is during that return, that pause, that Sisyphus interests me. A face that toils so close to stones is already stone itself! I see that man going back down with a heavy yet measured step toward the torment of which he will never know the end. That hour like a breathing-space which returns as surely as his suffering, that is the hour of consciousness. At each of those moments when he leaves the heights and gradually sinks toward the lairs of the gods, he is superior to his fate. He is stronger than his rock. If this myth is tragic, that is because its hero is conscious. Where would his torture be, indeed, if at every step the hope of succeeding upheld him? The workman of today works everyday in his life at the same tasks, and his fate is no less absurd. But it is tragic only at the rare moments when it becomes conscious. Sisyphus, proletarian of the gods, powerless and rebellious, knows the whole extent of his wretched condition: it is what he thinks of during his descent. The lucidity that was to constitute his torture at the same time crowns his victory. There is no fate that can not be surmounted by scorn. If the descent is thus sometimes performed in sorrow, it can also take place in joy. This word is not too much. Again I fancy Sisyphus returning toward his rock, and the sorrow was in the beginning. When the images of earth cling too tightly to memory, when the call of happiness becomes too insistent, it happens that melancholy arises in man\\'s heart: this is the rock\\'s victory, this is the rock itself. The boundless grief is too heavy to bear. These are our nights of Gethsemane. But crushing truths perish from being acknowledged. Thus, Edipus at the outset obeys fate without knowing it. But from the moment he knows, his tragedy begins. Yet at the same moment, blind and desperate, he realizes that the only bond linking him to the world is the cool hand of a girl. Then a tremendous remark rings out: \"Despite so many ordeals, my advanced age and the nobility of my soul make me conclude that all is well.\" Sophocles\\' Edipus, like Dostoevsky\\'s Kirilov, thus gives the recipe for the absurd victory. Ancient wisdom confirms modern heroism. One does not discover the absurd without being tempted to write a manual of happiness. \"What!---by such narrow ways--?\" There is but one world, however. Happiness and the absurd are two sons of the same earth. They are inseparable. It would be a mistake to say that happiness necessarily springs from the absurd. Discovery. It happens as well that the felling of the absurd springs from happiness. \"I conclude that all is well,\" says Edipus, and that remark is sacred. It echoes in the wild and limited universe of man. It teaches that all is not, has not been, exhausted. It drives out of this world a god who had come into it with dissatisfaction and a preference for futile suffering. It makes of fate a human matter, which must be settled among men. All Sisyphus\\' silent joy is contained therein. His fate belongs to him. His rock is a thing. Likewise, the absurd man, when he contemplates his torment, silences all the idols. In the universe suddenly restored to its silence, the myriad wondering little voices of the earth rise up. Unconscious, secret calls, invitations from all the faces, they are the necessary reverse and price of victory. There is no sun without shadow, and it is essential to know the night. The absurd man says yes and his efforts will henceforth be unceasing. If there is a personal fate, there is no higher destiny, or at least there is, but one which he concludes is inevitable and despicable. For the rest, he knows himself to be the master of his days. At that subtle moment when man glances backward over his life, Sisyphus returning toward his rock, in that slight pivoting he contemplates that series of unrelated actions which become his fate, created by him, combined under his memory\\'s eye and soon sealed by his death. Thus, convinced of the wholly human origin of all that is human, a blind man eager to see who knows that the night has no end, he is still on the go. The rock is still rolling. I leave Sisyphus at the foot of the mountain! One always finds one\\'s burden again. But Sisyphus teaches the higher fidelity that negates the gods and raises rocks. He too concludes that all is well. This universe henceforth without a master seems to him neither sterile nor futile. Each atom of that stone, each mineral flake of that night filled mountain, in itself forms a world. The struggle itself toward the heights is enough to fill a man\\'s heart. One must imagine Sisyphus happy.\\n'\n",
        "\n",
        "# Import Readability\n",
        "import textstat\n",
        "\n",
        "\n",
        "\n",
        "\n",
        "# Print the flesch reading ease score\n",
        "flesch = textstat.flesch_reading_ease(sisyphus_essay)\n",
        "print(\"Flesch Reading Ease Score:\", flesch)\n",
        "\n",
        "print(\"Flesch-Kincaid Grade:\", textstat.flesch_kincaid_grade(sisyphus_essay))\n",
        "print(\"SMOG Index:\", textstat.smog_index(sisyphus_essay))\n",
        "print(\"Gunning Fog:\", textstat.gunning_fog(sisyphus_essay))\n",
        "print(\"Automated Readability Index:\", textstat.automated_readability_index(sisyphus_essay))\n",
        "print(\"Dale-Chall Score:\", textstat.dale_chall_readability_score(sisyphus_essay))\n",
        "\n",
        "# You now know to compute the Flesch reading ease score for a given body of text.\n",
        "# Notice that the score for this essay is approximately 68.65. This indicates that the essay\n",
        "# is at the readability level of a 8th grade American student."
      ],
      "metadata": {
        "colab": {
          "base_uri": "https://localhost:8080/"
        },
        "id": "jAsJ0n5_nOlL",
        "outputId": "753d2315-701e-47c0-d9e6-45d8a2f28265"
      },
      "execution_count": 20,
      "outputs": [
        {
          "output_type": "stream",
          "name": "stdout",
          "text": [
            "Flesch Reading Ease Score: 71.55851918556735\n",
            "Flesch-Kincaid Grade: 6.962483592295246\n",
            "SMOG Index: 9.716833402542845\n",
            "Gunning Fog: 9.002216184865228\n",
            "Automated Readability Index: 7.6191332152996125\n",
            "Dale-Chall Score: 8.81228700204524\n"
          ]
        }
      ]
    },
    {
      "cell_type": "markdown",
      "source": [
        "**Readability of various publications**  \n",
        "In this exercise, you have been given excerpts of articles from four publications. Your task is to compute the readability of these excerpts using the Gunning fog score and consequently, determine the relative difficulty of reading these publications.\n",
        "\n",
        "The excerpts are available as the following strings:\n",
        "\n",
        "forbes- An excerpt from an article from Forbes magazine on the Chinese social credit score system.\n",
        "harvard_law- An excerpt from a book review published in Harvard Law Review.\n",
        "r_digest- An excerpt from a Reader's Digest article on flight turbulence.\n",
        "time_kids - An excerpt from an article on the ill effects of salt consumption published in TIME for Kids."
      ],
      "metadata": {
        "id": "dlLeg0AdLjGm"
      }
    },
    {
      "cell_type": "code",
      "source": [
        "# Import Readability\n",
        "\n",
        "\n",
        "forbes = '\\nThe idea is to create more transparency about companies and individuals that are breaking the law or are non-compliant with official obligations and incentivize the right behaviors with the overall goal of improving governance and market order. The Chinese Communist Party intends the social credit score system to “allow the trustworthy to roam freely under heaven while making it hard for the discredited to take a single step.” Even though the system is still under development it currently plays out in real life in myriad ways for private citizens, businesses and government officials. Generally, higher credit scores give people a variety of advantages. Individuals are often given perks such as discounted energy bills and access or better visibility on dating websites. Often, those with higher social credit scores are able to forgo deposits on rental properties, bicycles, and umbrellas. They can even get better travel deals. In addition, Chinese hospitals are currently experimenting with social credit scores. A social credit score above 650 at one hospital allows an individual to see a doctor without lining up to pay.\\n'\n",
        "harvard_law = '\\nIn his important new book, The Schoolhouse Gate: Public Education, the Supreme Court, and the Battle for the American Mind, Professor Justin Driver reminds us that private controversies that arise within the confines of public schools are part of a broader historical arc — one that tracks a range of cultural and intellectual flashpoints in U.S. history. Moreover, Driver explains, these tensions are reflected in constitutional law, and indeed in the history and jurisprudence of the Supreme Court. As such, debates that arise in the context of public education are not simply about the conflict between academic freedom, public safety, and student rights. They mirror our persistent struggle to reconcile our interest in fostering a pluralistic society, rooted in the ideal of individual autonomy, with our desire to cultivate a sense of national unity and shared identity (or, put differently, our effort to reconcile our desire to forge common norms of citizenship with our fear of state indoctrination and overencroachment). In this regard, these debates reflect the unique role that both the school and the courts have played in defining and enforcing the boundaries of American citizenship. \\n'\n",
        "r_digest = '\\nThis week 30 passengers were reportedly injured when a Turkish Airlines flight landing at John F. Kennedy International Airport encountered turbulent conditions. Injuries included bruises, bloody noses, and broken bones. In mid-February, a Delta Airlines flight made an emergency landing to assist three passengers in getting to the nearest hospital after some sudden and unexpected turbulence. Doctors treated 15 passengers after a flight from Miami to Buenos Aires last October for everything from severe bruising to nosebleeds after the plane caught some rough winds over Brazil. In 2016, 23 passengers were injured on a United Airlines flight after severe turbulence threw people into the cabin ceiling. The list goes on. Turbulence has been become increasingly common, with painful outcomes for those on board. And more costly to the airlines, too. Forbes estimates that the cost of turbulence has risen to over $500 million each year in damages and delays. And there are no signs the increase in turbulence will be stopping anytime soon.\\n'\n",
        "time_kids = '\\nThat, of course, is easier said than done. The more you eat salty foods, the more you develop a taste for them. The key to changing your diet is to start small. “Small changes in sodium in foods are not usually noticed,” Quader says. Eventually, she adds, the effort will reset a kid’s taste buds so the salt cravings stop. Bridget Murphy is a dietitian at New York University’s Langone Medical Center. She suggests kids try adding spices to their food instead of salt. Eating fruits and veggies and cutting back on packaged foods will also help. Need a little inspiration? Murphy offers this tip: Focus on the immediate effects of a diet that is high in sodium. High blood pressure can make it difficult to be active. “Do you want to be able to think clearly and perform well in school?” she asks. “If you’re an athlete, do you want to run faster?” If you answered yes to these questions, then it’s time to shake the salt habit.\\n'\n",
        "\n",
        "# List of excerpts\n",
        "excerpts = [forbes, harvard_law, r_digest, time_kids]\n",
        "\n",
        "# Loop through excerpts and compute gunning fog index\n",
        "gunning_fog_scores = []\n",
        "for excerpt in excerpts:\n",
        "  flesch = textstat.flesch_reading_ease(sisyphus_essay)\n",
        "  print(\"Flesch Reading Ease Score:\", flesch)\n",
        "  print(\"Gunning Fog:\", textstat.gunning_fog(excerpt))\n",
        "\n",
        "# Print the gunning fog indices\n",
        "print(gunning_fog_scores)\n",
        "\n",
        "# You are now adept at computing readability scores for various pieces of text.\n",
        "# Notice that the Harvard Law Review excerpt has the highest Gunning fog index;\n",
        "# indicating that it can be comprehended only by readers who have graduated college.\n",
        "# On the other hand, the Time for Kids article, intended for children, has a much lower fog index and can be comprehended by 5th grade students."
      ],
      "metadata": {
        "colab": {
          "base_uri": "https://localhost:8080/"
        },
        "id": "bxFTnTWgL4v7",
        "outputId": "d181a3bb-8e18-41f3-8a9e-3b695e39f743"
      },
      "execution_count": 23,
      "outputs": [
        {
          "output_type": "stream",
          "name": "stdout",
          "text": [
            "Flesch Reading Ease Score: 71.55851918556735\n",
            "Gunning Fog: 16.00099875156055\n",
            "Flesch Reading Ease Score: 71.55851918556735\n",
            "Gunning Fog: 21.76172043010753\n",
            "Flesch Reading Ease Score: 71.55851918556735\n",
            "Gunning Fog: 12.062242052426102\n",
            "Flesch Reading Ease Score: 71.55851918556735\n",
            "Gunning Fog: 7.905494505494506\n",
            "[]\n"
          ]
        }
      ]
    }
  ]
}