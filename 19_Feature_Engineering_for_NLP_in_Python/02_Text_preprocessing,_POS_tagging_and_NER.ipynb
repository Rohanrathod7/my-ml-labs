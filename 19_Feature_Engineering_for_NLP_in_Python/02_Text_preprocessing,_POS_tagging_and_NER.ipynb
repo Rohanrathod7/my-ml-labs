{
  "nbformat": 4,
  "nbformat_minor": 0,
  "metadata": {
    "colab": {
      "provenance": [],
      "authorship_tag": "ABX9TyPfO3/wWQmaptWcJn2ySy0U",
      "include_colab_link": true
    },
    "kernelspec": {
      "name": "python3",
      "display_name": "Python 3"
    },
    "language_info": {
      "name": "python"
    }
  },
  "cells": [
    {
      "cell_type": "markdown",
      "metadata": {
        "id": "view-in-github",
        "colab_type": "text"
      },
      "source": [
        "<a href=\"https://colab.research.google.com/github/Rohanrathod7/my-ml-labs/blob/main/19_Feature_Engineering_for_NLP_in_Python/02_Text_preprocessing%2C_POS_tagging_and_NER.ipynb\" target=\"_parent\"><img src=\"https://colab.research.google.com/assets/colab-badge.svg\" alt=\"Open In Colab\"/></a>"
      ]
    },
    {
      "cell_type": "markdown",
      "source": [
        "### 4. Customizing spaCy Models\n"
      ],
      "metadata": {
        "id": "69GNV3tpDLy3"
      }
    },
    {
      "cell_type": "markdown",
      "source": [
        "Explore multiple real-world use cases where spaCy models may fail and learn how to train them further to improve model performance. You’ll be introduced to spaCy training steps and understand how to train an existing spaCy model or from scratch, and evaluate the model at the inference time."
      ],
      "metadata": {
        "id": "cy5tpla-BBKR"
      }
    },
    {
      "cell_type": "code",
      "execution_count": null,
      "metadata": {
        "id": "EUPpAj0HoP6i"
      },
      "outputs": [],
      "source": []
    },
    {
      "cell_type": "code",
      "source": [
        "%matplotlib inline\n",
        "import matplotlib.pyplot as plt\n",
        "import seaborn as sns\n",
        "import numpy as np\n",
        "import pandas as pd\n",
        "import datetime as dt\n",
        "# Import confusion matrix and train_test_split\n",
        "from sklearn.metrics import confusion_matrix, classification_report\n",
        "from sklearn.neighbors import KNeighborsClassifier\n",
        "from sklearn.svm import SVC\n",
        "from sklearn.model_selection import train_test_split, KFold, cross_val_score, GridSearchCV\n",
        "from sklearn.linear_model import Ridge, Lasso, LogisticRegression, LinearRegression\n",
        "from scipy.cluster.hierarchy import linkage, dendrogram\n",
        "import matplotlib.pyplot as plt\n",
        "from sklearn.linear_model import SGDClassifier\n",
        "\n",
        "url = \"https://raw.githubusercontent.com/Rohanrathod7/my-ml-labs/main/15_Hyperparameter_Tuning_in_Python/Dataset/results_df.csv\"\n",
        "# Read the CSV file\n",
        "# Apply pd.to_numeric only to relevant columns, excluding 'text'\n",
        "results_df = pd.read_csv(url)\n",
        "\n",
        "\n",
        "display(results_df.head())"
      ],
      "metadata": {
        "colab": {
          "base_uri": "https://localhost:8080/",
          "height": 206
        },
        "id": "u8UlyiPU6rzD",
        "outputId": "e8cbc1b0-1316-477a-f380-67ad105f36a2"
      },
      "execution_count": null,
      "outputs": [
        {
          "output_type": "display_data",
          "data": {
            "text/plain": [
              "   max_depth  min_samples_leaf  learn_rate  accuracy\n",
              "0          4                16    0.624362        95\n",
              "1         10                14    0.477450        97\n",
              "2          7                14    0.050067        96\n",
              "3          5                12    0.023356        96\n",
              "4          6                12    0.771275        97"
            ],
            "text/html": [
              "\n",
              "  <div id=\"df-e18a27e4-f5aa-4b0d-8cac-4e4f29649a8f\" class=\"colab-df-container\">\n",
              "    <div>\n",
              "<style scoped>\n",
              "    .dataframe tbody tr th:only-of-type {\n",
              "        vertical-align: middle;\n",
              "    }\n",
              "\n",
              "    .dataframe tbody tr th {\n",
              "        vertical-align: top;\n",
              "    }\n",
              "\n",
              "    .dataframe thead th {\n",
              "        text-align: right;\n",
              "    }\n",
              "</style>\n",
              "<table border=\"1\" class=\"dataframe\">\n",
              "  <thead>\n",
              "    <tr style=\"text-align: right;\">\n",
              "      <th></th>\n",
              "      <th>max_depth</th>\n",
              "      <th>min_samples_leaf</th>\n",
              "      <th>learn_rate</th>\n",
              "      <th>accuracy</th>\n",
              "    </tr>\n",
              "  </thead>\n",
              "  <tbody>\n",
              "    <tr>\n",
              "      <th>0</th>\n",
              "      <td>4</td>\n",
              "      <td>16</td>\n",
              "      <td>0.624362</td>\n",
              "      <td>95</td>\n",
              "    </tr>\n",
              "    <tr>\n",
              "      <th>1</th>\n",
              "      <td>10</td>\n",
              "      <td>14</td>\n",
              "      <td>0.477450</td>\n",
              "      <td>97</td>\n",
              "    </tr>\n",
              "    <tr>\n",
              "      <th>2</th>\n",
              "      <td>7</td>\n",
              "      <td>14</td>\n",
              "      <td>0.050067</td>\n",
              "      <td>96</td>\n",
              "    </tr>\n",
              "    <tr>\n",
              "      <th>3</th>\n",
              "      <td>5</td>\n",
              "      <td>12</td>\n",
              "      <td>0.023356</td>\n",
              "      <td>96</td>\n",
              "    </tr>\n",
              "    <tr>\n",
              "      <th>4</th>\n",
              "      <td>6</td>\n",
              "      <td>12</td>\n",
              "      <td>0.771275</td>\n",
              "      <td>97</td>\n",
              "    </tr>\n",
              "  </tbody>\n",
              "</table>\n",
              "</div>\n",
              "    <div class=\"colab-df-buttons\">\n",
              "\n",
              "  <div class=\"colab-df-container\">\n",
              "    <button class=\"colab-df-convert\" onclick=\"convertToInteractive('df-e18a27e4-f5aa-4b0d-8cac-4e4f29649a8f')\"\n",
              "            title=\"Convert this dataframe to an interactive table.\"\n",
              "            style=\"display:none;\">\n",
              "\n",
              "  <svg xmlns=\"http://www.w3.org/2000/svg\" height=\"24px\" viewBox=\"0 -960 960 960\">\n",
              "    <path d=\"M120-120v-720h720v720H120Zm60-500h600v-160H180v160Zm220 220h160v-160H400v160Zm0 220h160v-160H400v160ZM180-400h160v-160H180v160Zm440 0h160v-160H620v160ZM180-180h160v-160H180v160Zm440 0h160v-160H620v160Z\"/>\n",
              "  </svg>\n",
              "    </button>\n",
              "\n",
              "  <style>\n",
              "    .colab-df-container {\n",
              "      display:flex;\n",
              "      gap: 12px;\n",
              "    }\n",
              "\n",
              "    .colab-df-convert {\n",
              "      background-color: #E8F0FE;\n",
              "      border: none;\n",
              "      border-radius: 50%;\n",
              "      cursor: pointer;\n",
              "      display: none;\n",
              "      fill: #1967D2;\n",
              "      height: 32px;\n",
              "      padding: 0 0 0 0;\n",
              "      width: 32px;\n",
              "    }\n",
              "\n",
              "    .colab-df-convert:hover {\n",
              "      background-color: #E2EBFA;\n",
              "      box-shadow: 0px 1px 2px rgba(60, 64, 67, 0.3), 0px 1px 3px 1px rgba(60, 64, 67, 0.15);\n",
              "      fill: #174EA6;\n",
              "    }\n",
              "\n",
              "    .colab-df-buttons div {\n",
              "      margin-bottom: 4px;\n",
              "    }\n",
              "\n",
              "    [theme=dark] .colab-df-convert {\n",
              "      background-color: #3B4455;\n",
              "      fill: #D2E3FC;\n",
              "    }\n",
              "\n",
              "    [theme=dark] .colab-df-convert:hover {\n",
              "      background-color: #434B5C;\n",
              "      box-shadow: 0px 1px 3px 1px rgba(0, 0, 0, 0.15);\n",
              "      filter: drop-shadow(0px 1px 2px rgba(0, 0, 0, 0.3));\n",
              "      fill: #FFFFFF;\n",
              "    }\n",
              "  </style>\n",
              "\n",
              "    <script>\n",
              "      const buttonEl =\n",
              "        document.querySelector('#df-e18a27e4-f5aa-4b0d-8cac-4e4f29649a8f button.colab-df-convert');\n",
              "      buttonEl.style.display =\n",
              "        google.colab.kernel.accessAllowed ? 'block' : 'none';\n",
              "\n",
              "      async function convertToInteractive(key) {\n",
              "        const element = document.querySelector('#df-e18a27e4-f5aa-4b0d-8cac-4e4f29649a8f');\n",
              "        const dataTable =\n",
              "          await google.colab.kernel.invokeFunction('convertToInteractive',\n",
              "                                                    [key], {});\n",
              "        if (!dataTable) return;\n",
              "\n",
              "        const docLinkHtml = 'Like what you see? Visit the ' +\n",
              "          '<a target=\"_blank\" href=https://colab.research.google.com/notebooks/data_table.ipynb>data table notebook</a>'\n",
              "          + ' to learn more about interactive tables.';\n",
              "        element.innerHTML = '';\n",
              "        dataTable['output_type'] = 'display_data';\n",
              "        await google.colab.output.renderOutput(dataTable, element);\n",
              "        const docLink = document.createElement('div');\n",
              "        docLink.innerHTML = docLinkHtml;\n",
              "        element.appendChild(docLink);\n",
              "      }\n",
              "    </script>\n",
              "  </div>\n",
              "\n",
              "\n",
              "    <div id=\"df-41b04346-5af4-4a3c-90c0-0b2b57253a71\">\n",
              "      <button class=\"colab-df-quickchart\" onclick=\"quickchart('df-41b04346-5af4-4a3c-90c0-0b2b57253a71')\"\n",
              "                title=\"Suggest charts\"\n",
              "                style=\"display:none;\">\n",
              "\n",
              "<svg xmlns=\"http://www.w3.org/2000/svg\" height=\"24px\"viewBox=\"0 0 24 24\"\n",
              "     width=\"24px\">\n",
              "    <g>\n",
              "        <path d=\"M19 3H5c-1.1 0-2 .9-2 2v14c0 1.1.9 2 2 2h14c1.1 0 2-.9 2-2V5c0-1.1-.9-2-2-2zM9 17H7v-7h2v7zm4 0h-2V7h2v10zm4 0h-2v-4h2v4z\"/>\n",
              "    </g>\n",
              "</svg>\n",
              "      </button>\n",
              "\n",
              "<style>\n",
              "  .colab-df-quickchart {\n",
              "      --bg-color: #E8F0FE;\n",
              "      --fill-color: #1967D2;\n",
              "      --hover-bg-color: #E2EBFA;\n",
              "      --hover-fill-color: #174EA6;\n",
              "      --disabled-fill-color: #AAA;\n",
              "      --disabled-bg-color: #DDD;\n",
              "  }\n",
              "\n",
              "  [theme=dark] .colab-df-quickchart {\n",
              "      --bg-color: #3B4455;\n",
              "      --fill-color: #D2E3FC;\n",
              "      --hover-bg-color: #434B5C;\n",
              "      --hover-fill-color: #FFFFFF;\n",
              "      --disabled-bg-color: #3B4455;\n",
              "      --disabled-fill-color: #666;\n",
              "  }\n",
              "\n",
              "  .colab-df-quickchart {\n",
              "    background-color: var(--bg-color);\n",
              "    border: none;\n",
              "    border-radius: 50%;\n",
              "    cursor: pointer;\n",
              "    display: none;\n",
              "    fill: var(--fill-color);\n",
              "    height: 32px;\n",
              "    padding: 0;\n",
              "    width: 32px;\n",
              "  }\n",
              "\n",
              "  .colab-df-quickchart:hover {\n",
              "    background-color: var(--hover-bg-color);\n",
              "    box-shadow: 0 1px 2px rgba(60, 64, 67, 0.3), 0 1px 3px 1px rgba(60, 64, 67, 0.15);\n",
              "    fill: var(--button-hover-fill-color);\n",
              "  }\n",
              "\n",
              "  .colab-df-quickchart-complete:disabled,\n",
              "  .colab-df-quickchart-complete:disabled:hover {\n",
              "    background-color: var(--disabled-bg-color);\n",
              "    fill: var(--disabled-fill-color);\n",
              "    box-shadow: none;\n",
              "  }\n",
              "\n",
              "  .colab-df-spinner {\n",
              "    border: 2px solid var(--fill-color);\n",
              "    border-color: transparent;\n",
              "    border-bottom-color: var(--fill-color);\n",
              "    animation:\n",
              "      spin 1s steps(1) infinite;\n",
              "  }\n",
              "\n",
              "  @keyframes spin {\n",
              "    0% {\n",
              "      border-color: transparent;\n",
              "      border-bottom-color: var(--fill-color);\n",
              "      border-left-color: var(--fill-color);\n",
              "    }\n",
              "    20% {\n",
              "      border-color: transparent;\n",
              "      border-left-color: var(--fill-color);\n",
              "      border-top-color: var(--fill-color);\n",
              "    }\n",
              "    30% {\n",
              "      border-color: transparent;\n",
              "      border-left-color: var(--fill-color);\n",
              "      border-top-color: var(--fill-color);\n",
              "      border-right-color: var(--fill-color);\n",
              "    }\n",
              "    40% {\n",
              "      border-color: transparent;\n",
              "      border-right-color: var(--fill-color);\n",
              "      border-top-color: var(--fill-color);\n",
              "    }\n",
              "    60% {\n",
              "      border-color: transparent;\n",
              "      border-right-color: var(--fill-color);\n",
              "    }\n",
              "    80% {\n",
              "      border-color: transparent;\n",
              "      border-right-color: var(--fill-color);\n",
              "      border-bottom-color: var(--fill-color);\n",
              "    }\n",
              "    90% {\n",
              "      border-color: transparent;\n",
              "      border-bottom-color: var(--fill-color);\n",
              "    }\n",
              "  }\n",
              "</style>\n",
              "\n",
              "      <script>\n",
              "        async function quickchart(key) {\n",
              "          const quickchartButtonEl =\n",
              "            document.querySelector('#' + key + ' button');\n",
              "          quickchartButtonEl.disabled = true;  // To prevent multiple clicks.\n",
              "          quickchartButtonEl.classList.add('colab-df-spinner');\n",
              "          try {\n",
              "            const charts = await google.colab.kernel.invokeFunction(\n",
              "                'suggestCharts', [key], {});\n",
              "          } catch (error) {\n",
              "            console.error('Error during call to suggestCharts:', error);\n",
              "          }\n",
              "          quickchartButtonEl.classList.remove('colab-df-spinner');\n",
              "          quickchartButtonEl.classList.add('colab-df-quickchart-complete');\n",
              "        }\n",
              "        (() => {\n",
              "          let quickchartButtonEl =\n",
              "            document.querySelector('#df-41b04346-5af4-4a3c-90c0-0b2b57253a71 button');\n",
              "          quickchartButtonEl.style.display =\n",
              "            google.colab.kernel.accessAllowed ? 'block' : 'none';\n",
              "        })();\n",
              "      </script>\n",
              "    </div>\n",
              "\n",
              "    </div>\n",
              "  </div>\n"
            ],
            "application/vnd.google.colaboratory.intrinsic+json": {
              "type": "dataframe",
              "summary": "{\n  \"name\": \"display(results_df\",\n  \"rows\": 5,\n  \"fields\": [\n    {\n      \"column\": \"max_depth\",\n      \"properties\": {\n        \"dtype\": \"number\",\n        \"std\": 2,\n        \"min\": 4,\n        \"max\": 10,\n        \"num_unique_values\": 5,\n        \"samples\": [\n          10,\n          6,\n          7\n        ],\n        \"semantic_type\": \"\",\n        \"description\": \"\"\n      }\n    },\n    {\n      \"column\": \"min_samples_leaf\",\n      \"properties\": {\n        \"dtype\": \"number\",\n        \"std\": 1,\n        \"min\": 12,\n        \"max\": 16,\n        \"num_unique_values\": 3,\n        \"samples\": [\n          16,\n          14,\n          12\n        ],\n        \"semantic_type\": \"\",\n        \"description\": \"\"\n      }\n    },\n    {\n      \"column\": \"learn_rate\",\n      \"properties\": {\n        \"dtype\": \"number\",\n        \"std\": 0.3383503766860491,\n        \"min\": 0.023355705,\n        \"max\": 0.771275168,\n        \"num_unique_values\": 5,\n        \"samples\": [\n          0.477449664,\n          0.771275168,\n          0.050067114\n        ],\n        \"semantic_type\": \"\",\n        \"description\": \"\"\n      }\n    },\n    {\n      \"column\": \"accuracy\",\n      \"properties\": {\n        \"dtype\": \"number\",\n        \"std\": 0,\n        \"min\": 95,\n        \"max\": 97,\n        \"num_unique_values\": 3,\n        \"samples\": [\n          95,\n          97,\n          96\n        ],\n        \"semantic_type\": \"\",\n        \"description\": \"\"\n      }\n    }\n  ]\n}"
            }
          },
          "metadata": {}
        }
      ]
    },
    {
      "cell_type": "code",
      "source": [
        "!python3 pip install spacy\n",
        "!python3 -m spacy download en_core_web_sm"
      ],
      "metadata": {
        "colab": {
          "base_uri": "https://localhost:8080/"
        },
        "id": "3NcmfkC7C9B4",
        "outputId": "a5636370-1ab7-48bf-b52f-3697a4e74b80"
      },
      "execution_count": null,
      "outputs": [
        {
          "output_type": "stream",
          "name": "stdout",
          "text": [
            "python3: can't open file '/content/pip': [Errno 2] No such file or directory\n",
            "Collecting en-core-web-sm==3.8.0\n",
            "  Downloading https://github.com/explosion/spacy-models/releases/download/en_core_web_sm-3.8.0/en_core_web_sm-3.8.0-py3-none-any.whl (12.8 MB)\n",
            "\u001b[2K     \u001b[90m━━━━━━━━━━━━━━━━━━━━━━━━━━━━━━━━━━━━━━━━\u001b[0m \u001b[32m12.8/12.8 MB\u001b[0m \u001b[31m94.7 MB/s\u001b[0m eta \u001b[36m0:00:00\u001b[0m\n",
            "\u001b[?25h\u001b[38;5;2m✔ Download and installation successful\u001b[0m\n",
            "You can now load the package via spacy.load('en_core_web_sm')\n",
            "\u001b[38;5;3m⚠ Restart to reload dependencies\u001b[0m\n",
            "If you are in a Jupyter or Colab notebook, you may need to restart Python in\n",
            "order to load all the package's dependencies. You can do this by selecting the\n",
            "'Restart kernel' or 'Restart runtime' option.\n"
          ]
        }
      ]
    },
    {
      "cell_type": "code",
      "source": [
        "# Load en_core_web_sm and create an nlp object\n",
        "import spacy\n",
        "nlp = spacy.load(\"en_core_web_sm\")"
      ],
      "metadata": {
        "id": "YgYaAX_wC_X3"
      },
      "execution_count": null,
      "outputs": []
    },
    {
      "cell_type": "markdown",
      "source": [
        "**Training spaCy models**  \n",
        "spaCy models go a long way for general NLP use cases such as splitting a document into sentences, understanding sentence syntax, and extracting named entities. However, sometimes you seek to train a spaCy model.\n",
        "\n",
        "When do you need to train a spaCy model? Please select all options that apply.\n",
        "\n",
        "    -> The accuracy of the spaCy model on your data is unacceptably low.\n",
        "    \n",
        "    You can train a spaCy model further whenever it does not perform well on your data or does not include many of the labels in your specific domain."
      ],
      "metadata": {
        "id": "qTjw2hN7BxFb"
      }
    },
    {
      "cell_type": "markdown",
      "source": [
        "**Model performance on your data**  \n",
        "In this exercise, you will practice evaluating an existing model on your data. In this case, the aim is to examine model performance on a specific entity label, PRODUCT. If a model can accurately classify a large percentage of PRODUCT entities (e.g. more than 75%), you do not need to train the model on examples of PRODUCT entities, otherwise, you should consider training the model to improve its performance on PRODUCT entity prediction.\n",
        "\n",
        "You'll use two reviews from the Amazon Fine Food Reviews dataset for this exercise. You can access these reviews by using the texts list.\n",
        "\n",
        "The en_core_web_sm model is already loaded for you. You can access it by calling nlp(). The model is already ran on the texts list and documents, a list of Doc containers is available for your use."
      ],
      "metadata": {
        "id": "SZTgJ2iqCSEI"
      }
    },
    {
      "cell_type": "code",
      "source": [
        "documents =[\"Product arrived labeled as Jumbo Salted Peanuts.\",\n",
        " \"Not sure if the product was labeled as Jumbo.\"]\n",
        "\n",
        "\n",
        "# Append a tuple of (entities text, entities label) if Jumbo is in the entity\n",
        "target_entities = []\n",
        "for doc in documents:\n",
        "  target_entities.extend([(ent.text, ent.label_) for ent in nlp(doc).ents if \"Jumbo\" in ent.text]) # Apply nlp(doc) to process each string\n",
        "print(target_entities)\n",
        "\n",
        "# Append True to the correct_labels list if the entity label is `PRODUCT`\n",
        "correct_labels = []\n",
        "for ent in target_entities:\n",
        "  if ent[1] == \"PRODUCT\":\n",
        "    correct_labels.append(True)\n",
        "  else:\n",
        "    correct_labels.append(False)\n",
        "print(correct_labels)\n",
        "\n",
        "# You can observe that none of the Jumbo entities are correctly classified as PRODUCT.\n",
        "# This shows that the current spaCy model needs to be trained further to classify PRODUCT entities better"
      ],
      "metadata": {
        "colab": {
          "base_uri": "https://localhost:8080/"
        },
        "id": "u0ioK-IQC4Mn",
        "outputId": "6d49f12f-bf0f-459f-9a8a-0bfd9c11cde6"
      },
      "execution_count": null,
      "outputs": [
        {
          "output_type": "stream",
          "name": "stdout",
          "text": [
            "[('Jumbo Salted', 'ORG'), ('Jumbo', 'GPE')]\n",
            "[False, False]\n"
          ]
        }
      ]
    },
    {
      "cell_type": "markdown",
      "source": [
        "### spaCy training data format"
      ],
      "metadata": {
        "id": "PHOMFk3UDYhM"
      }
    },
    {
      "cell_type": "markdown",
      "source": [
        "**Training steps**  \n",
        "You may work on very specific domains that spaCy models didn't see during training such as the medical domain. spaCy allows to update existing models with more examples from your own data to improve the model performance on our own data.\n",
        "\n",
        "![image.png](data:image/png;base64,iVBORw0KGgoAAAANSUhEUgAAAzsAAAH2CAYAAABXxpJsAAAAAXNSR0IArs4c6QAAAARnQU1BAACxjwv8YQUAAAAJcEhZcwAAEnQAABJ0Ad5mH3gAAKSjSURBVHhe7P17VFRXnjf+vymuT9LS1TZi0JBGv1ErvwkFHRMkMtIBLy0YQ+lSgitRRkl0xbTmAdugjqPENhpjK0901GUy0eB0lnS+aUWTwExAHXHsBLtjoL/dj5WOAaZt4g3k4q1Kitq/P+qc4tSpKqjDTS7v11q1lH12ncs+++yqT+199vG7e9cmQERERERENMjo1AlERERERESDAYMdIiIiIiIalBjsEBERERHRoMRgh4iIiIiIBiUGO0RERERENCgx2CEiIiIiokGJwQ4REREREQ1KDHaIiIiIiGhQ8uvuQ0W/ra7FtzV/UycDAFKnJrr8XXyi3OVvGfMxH5iP+STMx3xgPuaTMB/zgfmGXL7/OHkGP9KHInJ0BEaNDHdZ1hXd7tkJDgpUJxEREREREWlmFwINjc2o/LMZ5m+/Uy/WTHPPjt1uh07XHiMJIeDn5+eSh4iIiIiISCubrQ3fX7mKP39zEQAQ+7ihWz08mnt2vqr6C/7vN9/BZmsDAAY6RERERETUIwIC/PHIw6Pw+IRHAQCX6i6rs2iiOdhpaGxC7d/r1MlEREREREQ9YtRDI/HA/wqBEJoGobnRHOzYpQ0GBPirFxEREREREXVbQIA/npkch/iJsepFmmgOdoiIiIiIiAYCBjtERERERDQoMdghIiIiIqJBSfPU0zeamgAAw/V69aIOdffmIiIiIiIiGri0zuIsP4hU/eBRLTQHO1rJQY76XyIiIiIiGvzkIEf9b2f6fbAjhHB52e12Bj1EREREREOAMrjR6XTw8/NzeXWmXwc7ygDHbrfD398PISFB8PfnbUJERERERENFW5sdFss9tLUJ6HQ6l8CnIz0R7GiOPCrOV6HifJU62YUy0Glra0NQkD8eeCCYgQ4RERER0RDj76/DAw8EIyjIH21tbc7RXn0x0ktz9NHQ2IyGxmZ1shs52PH390NwcGCnkRsREREREQ1Ofn6OmMDf38/l1pbepjnY6YzyHp22tjaEhAQx0CEiIiIiGuL8/By3tbS1tbnEDN6kTk3s1hA29EawI5Pv1QkI8FcvIiIiIiKiISggwN8ZJ/SFXgl2lPfsEBERERERyfr1PTta9MUBEBERERFR79lkOY5NluN4tCUXAU1ZeLQlF4+25CLrzgEU3Durzt6pvowRNE89faOpCQAwXK9XLwIUExO0trbCarVi5Mjh6ixERERERNTPnbZ9g6w7B1Brr1cvchGlC8OioARsCHlOvcijq1dvIDg4GIGBgc5pqD25L1NPD9frvQY6REREREQ08G2yHMfUW2+j1l6PKF0YNoSk4f0HlsCmfx8XQ7fh/QeWYENIGqJ0Yai112OT5Rg2WY6rV3Pfae7Z6Qx7doiIiIiIBi7HsLVjAIDMoAS8/8ASdRanWns9Dt37vTP/hpC0Tnt4+nXPDhERERERDU6nbd84A5cTP3i9w0AH0hC2DSHPOfNtshzr0n08vUVzsFNxvgoV56vUyURERERENMBl3TkASD06PwuYoF7sVWZQAjKDEgAAv+pHw9k0BzsNjc1oaGxWJxMRERER0QBWcO+sczKCznp0ZJssx53v+ZeQ55z38Jy2faPOel9oDnaIiIiIiGjwKZcClA0haepFHk299TY2WY45e4PkWdkgDWfrrtSpid26XwcMdoiIiIiICNL9OgDwE92P1YvcTL31tjO/MjiSh779j73BmXY/MdghIiIiIiLncDTlvTqnbd84p6CWZd054BLoKPP7Eij1JQY7RERERETkpOyVOW37Bqdt32Dare2otdej4N5Z52xrmR4eJBqlCwMUgdP9pjnYiZ9oRPxEozqZiIiIiIgGMDlQUVoUNNk56cC0W9ud9+f8LGCCx0kM5EDI07q0Kj5R7nzWTldpDnaG6/UYrterk4mIiIiIaACTh6ApZ1KL0oWh7AerAdUwtxM/eN2ZR0nuFdIybXVv0hzsEBERERHR4CNPNHBI9VDQKF2YsxcnShfmNdCB4r2JDHaIiIiIiKi/+Inux/hZwATU2uudw9VkmUEJuBi6DRdDt7mkK8kTGUTpwpwPGL3fNAc7FeerUHG+Sp1MREREREQDmPI5OQX3zmKT5bjbcm/kiQyg4YGkfUFzsNPQ2IyGxmZ1MhERERERDXCOGdYcw9k2WY65BTxqtfZ6bLIcx9RbbwMepqK+3/zu3rUJdWJH5BkRvD3NVAgBu92O1tZWWK1WjBw5XJ2FiIiIiIj6qVp7PQ7d+z02WY4BUo/OzwImIDFgAqJ0YfiJ7sc4bfsG/2NvcOaBFOiop6L25OrVGwgODkZgYCB0Oh38/PzUWXoMgx0iIiIiInJTcO8sfmU53ukzc+QJDHzt0WGwQ0RERERE912tvR6nbd+gXLonR56AAIDz/h5fenOUGOwQEREREdGg1JfBjuYJCuInGhE/0ahOJiIiIiIi6jHFJ8qdHS1dpTnYGa7XY7her07uO7fLkD7KiKBRC7Hvsnrh/Xfl5HtYtvoIKtULNKj8MA/L8s/ginrBAFGy0oig5ALUqhc41SE/2YigZwsH7DEOVLUHFiJo1FNIPFCnXnRf9MT1gpoCGEcZsahUvcA3A/16IyIiIu80Bzv325XfFqAIAFCF/N+Y1YvvO4u5FAc/PIfuxGGXK47g4CfVsKgXDBZnC7DRPAyvrM3AQ+pl1Kuu/K0OgBXmv3V8o2Ff6YnrpbsG/fVGREQ0hA2wYMeMffurgCdWYX/mMNTuPYJTNnUe6t/qsW9rISxPrMDa/vFg3SElPu8kWsx/wLW8GPUiIiIiokFHc7BTcb4KFeer1Ml94+wR5F8CTC9lYHFmBqKshdj3qVWdCyhdg6BR6dh67gw2zk9B0CgjgkYlIG7lEZiV2X3NBwCwovaTLYgzPOXI90gC4laXoVbOJw2lGb/ZDKAYaaOMCFINrWk6V4D0yQmO948xIX1vFZpKHPuQXyPvjxFpHwMw78D4Ucb2ZQCAm/jywJr2fZDX4WPA1+n2oRgS9Ek1Dq5MR+goI4JGPYXI+btRckO1QttNfLk3B+PHOI41dHIO8r+6qcqkcvZd5J4fhozX5rj26qjW5fHY5PNVXoxF0nEY93ofjiUPpzObj2DRdOm4H0nBz/PKcEW5XvmYC6uwMUPKt/KMtNCXMj+DRaOMMO6thrlwDeLkY5j4EnJLPPSgWOtQtHohwh9xlG14yhYU1VQ7hvY5tyvv/3s4VbRGKhfFebpchtz5Juf5cazDrdK6K12DUMPCLp1vX8uzdm+6qt56SPfhevHEUlOGZSnyth3X4JU2dS73+hQ6OQf5526iSDnEsrPrzZd1EBERUb+mOdhpaGxGQ2OzOrkPWFF4oBCWyJexyRQMGBYg+wmg6N+Oehlrb8ZG06s40DoJ27auwuK4YFR+nAfj0mI0ac5nRcnqFIxfVghz5BSs3boOa5NGw/xhDsYn7cCXtwGET8E7+3fiHdNoADHI3r8TH+3fiZzHHWtoKl2D8aYdKLrzGDKyV2Fb5liY31qI8dnn2nfl8X/CR/t3IjsOQHgq3tm/Ex/t/yVSwgHgJkpWpiFxfTEuG6Zi7fpVyE4EijYvxPicM6pjcufT9hUKl5mwrPJhZG9dh7XTR+Pq2feQlrIblc4vtTdRkpOGxM1luBuTirVb1yE7tgU75yxEboXrutpJvTqGpdg0PViRXod9pmQkbj6Du0/OdZyHJ62OY3vxiOpLpRkbM9bgVPgUrF2/CosNyvV4UFOAxOStqBw1F9vWv4yMJ6w49W4OHjEVun1ZLcxZiK3fT0L2+lVYO2mE5jKv3fUSjK+bEZG5CtuyUxHfdg75WSmu98fYqpFvSkH6h2Y8lJSJbesXYWZwGdITXsJWVXAAADDvxs+Xn8NDKS9j2/pZMDwI4GIB4ibmIL8CSFq6Ctuyp8JwuRDpCQuRf1G9At90fr4lGsqzQ51cLx5dLEBiQg4O/mUEUpauwjtr5iKiYi0eWXIUjS4ZVXVz/Sq8Mq4auaY0LP1cka2z682XdRAREVH/dveuTWh5/e7Tk+J3n550S5dfd+60ilu3rKKx8Za4cqVB9JjvD4spEdFiyvvXnUl3P88VwyJmig0XXHIK8XmuCIyIFuO2uC74estMERiRJQ5c1Zjvwi4xLiJaRO/8TtxV5Lv7x1+LcRHRYtzb7e+v2TNfBEbkimJFPtFaKVZOiBaBSe+KC62K9OZysXBCtAiMmC92VrcnF6+IFoFJH4gaRVZR8aYYEREtond9p0wVjcW5YljEZLHyv12SXWnZfvUHIjoiWgQu+kw0KrI2Hs0WgRGTxcoKKUHeH1WZNH6eK0ZEeNh/0f6e+UctLsl3pXUvPN7ikt54OFsEKvN7OV/eFK+IFoER0eK5o67rvbBnvut6vRyz72VeLhZGRIvAiGxxuFmRsfU7sXOmlH7LkXT5N1mOYy32vE+BK8qdaY79nyk2VCpzXhcH5kWLwKhccVS1rS1J0SJw1mFxWZHs5vPcrp1vDeXpuAZc67S3dI/Xi0eK41Y2K84yjhYLP5fSvJ03L3VT0/XmZR1ERETkuytXGkRj4y1x65ZV3LnT6hZP9ORLc8/O/WL+TQG+RBwWJAFXrtXjyrV6NMXMwuLhdcgv8NQ7MRoLUg0uKbFPxgBoQdNtZWrn+SqPFqMWqdi2YixCFPlCJv4Cm6YDtR+Wdjyb1F/KcaQFyFj7MgwBivTQKdi00nXb3lSeOIMmxOGVZ0Odx3/lWj0sE2dh8fCb2Pdx+/AnN13YfsqcqVDOuaePiYEBNyF36jn2x71M9NNXYK3HVdbj4PZCNMk9c05WFB0tAwxLsWn2MEU6oM9YirXhQNHRE4qbx4chZarHDXgWnIG1Jtf1GpZvcqz3c9cyS5oR53LMWss8ZEkmMkIVCQFjkf3WyxiJMhSXA4AV//X5Ocexpqj2aekKZLikSIKnIEV5e83tcyg6C+gzZiHe0r5PV26EYsGLccD5Izh8SZHfR52dbycN5dmjpOM2rF4Bk/LRXQFjkZ2TqkhQ1M1Xxrqke6+b7npiHURERHT/DYxgx3YO+/bWATiH1xKS8Uis/HoV+24AloJCFLoEMAAwDHrlF0+vOs93+XIdYHgMjykDBQBAMGJjxwLX6jqeTepaHa7CgJ8+ql4ARI1z/TLlzeXLno6/vQxQVe19GFEXtv/DBzseHua9TEbD4GkoUtVhbD0LmNYuhet3xXpcvgTg8bGIckkHgDH46SQAl64rhiqORtQIl0wdGzPaw4xvw6AfDsBc51JmI8MdTwOWaS3zqFGu7wcAhIbiRwAqa+o6PtaAsfippy/R6v2/dh01AJoKXlXtUzLGrz8HwIyvuzBJYWfn20m9P4DX8uxR0nHHjhutXgI8+phLndJcNz3oiXUQERHR/Tcggh3Lp4XYZx2NjK2Ocf2ur0zEowx7f+vhRvAeEhExGjBfwAX1/QuworKyGggfjQj1IqXw0RgJM772cD9F7bfV6iSPIiJc721we22f5f4FWtYD21fzXiZ1MP9ZnXYThTvfQ61brw4AhCEiEsCfPQVrNfi6AkDkCA9fsH1UU+fhnq6baLoBwDDae5l1ocxrv/dQB1ta0Aggdszojo/VVu1bkBI+AmMAjDStc9+f/Tvx0f49WDdJ/aYe1I3y7BbpuCu/9TAhxcULUBadtrrpWU+sg4iIiO4/zcFO/EQj4ica1cm9qB4H/60MiEzFusxpMM1Wv36B5SnAl/sPu3zh6Umxc1IRhWLk7nZ9FofFfAhbSoGoF6YjVpHu5h8SMTcUKNz6HszKL08tZ7Bhl297HTt1CvSoxmVMcj3+x+qwL28H9lV1MBNXD2xfzbE/7mXSVLobW9WrNH+ADaVAytp/UvXqAEAwTHOmAeZ3seET15ncmj75APnXANOcqS5D5TSxFmJrket6zXs3YOs1wDRjiku6mtYytxwoQGGLIsFWjfw17+EqpiE1EQCC8cyMOMexlqj26d3dKHRJ8eLBOJgSgKvmmzDMUF4HkxBc/q9YsfkMatTxZE/yoTyjDP8/AGb8V5Uin60aRz9RVwwNpOM2b9+NIuUscbZq5O8sViQo6uY+10DeY930oifWQURERN1TfKIcxSfK1cmaaA52huv1GK5Xju7vZebDyD8PxC9b4OGLMgAEI2NJBkIuFWLfWfWyHmJYindeCIN5uwnjTGuwsaAQG5e/hHHJu2GOysSh5e17FvLDUADFeC27EIV787DvKwABMXhjdyr05t0wPvkSFm0vQH5eDoyPv4r/gPvQpx+FDgPMBVi2vRj7tu9A0SUAcStQMC8YhcuSETm/fR8iE3fg1O0Y/O95Hob3yDRu3ydxK1Awz1Em4dNznPsTnXkOcBkWaEXhdkevzhvPut7rIQsxrcI7T9xD4bJkGDN3IL+gALmZJoQvK0ZIYh7edusN0iA4DF8sl9a7dzcWmZJh3GwGnljX+Xo1lnlIaCUWPW5CWl4B8revQeKTJuRWBSN+8ypkPOjI89Dz67At5iYKs9T7VA99J7vjEIbFW1ch1rwbRkM60vIKsG/vDqQlJiPtw2pEZGYgxaf1dJEv5Zk4B6+EAiXLk2HM3I19BbuRlvw8Nprdz7/H68Uj6bitxUiPTcHPV0vHnfw8cmvCXINhuW5uNSHStAYb90r1ya1uOni/3nxfBxEREfVT6hkLuvvq6dnYTq6Z7DKblWeVYmWUYkYp9YxTMnW6+m9v+YQQQlhEzfE3xVMTnnTMmhU5WTz1y1JR4zqxmBCt34kDS2ZKeWaKDX9sX9RY8YGY//Rkx7KoNDF/T6VoLPawreYK8fo0OV+2OCzPCidaxBfv57ruw4rD4gsfi9mn7UuzczlntpJ5Sm9tEV/syRbjohyzYQ17OlvsrGgRR5WzW1U6ZrKb8Zv2WfQ8Uq3LuX/K2eM8nhfv5Fm2LlSXiqVyeUbOFDM2lorLyvV6OjYnX8rcMRtb9J7vHHVEPoYnssTrxR6O2/J3cfSXL4oRkdEiMOJJMWLmm+Jo9XdiZ5KH2di8zfr1fal4fV6aGBYhl32WeP34311mxvNIXYbejt1Dus/lKYQQDeXi9ZlSngjHtXJZXddEx9eLJ3erS8VSeb3yNXjBfV/V9clj3ZR5u960rIOIiIh85utsbJ3NAu3Ly+/uXZtQB0DdIYSA3W5Ha2srrFYrRo5UTp1E1HdKVhqR9udV+OvJzN67lwSQHir6KirXl+BPyzvoYRvg+q48iYiIaDC7evUGgoODERgYCJ1OBz8/P3UWQBrGBgCpUxPVi3ymeRhbxfkqVJyvUicTERERERH1K5qDnYbGZjS4PXyDiIiIiIiof9E8jK2z7iQOYyMiIiIiIm98HcbWEzT37BAREREREQ0EDHaIiIiIiGhQYrBDRERERESDkuZgJ36iEfETjepkIiIiIiKiHlN8otw5X0BXaQ52huv1GK7Xq5OJiIiIiIj6Fc3BDhERERER0UDAYIeIiIiIiAYlzcFOxfkqVJyvUicTERERERH1K5qDnYbGZjQ0NquTiYiIiIiI+hXNwQ4REREREVFvS52aiNSpiepkTRjsEBERERHRoMRgh4iIiIiIBiUGO0RERERENChpDnbiJxoRP9GoTiYiIiIiIuoxxSfKUXyiXJ2sieZgZ7hej+F6vTqZiIiIiIioX9Ec7BAREREREQ0EDHaIiIiIiGhQ0hzsVJyvQsX5KnUyERERERFRv6I52GlobEZDY7M6mYiIiIiIqF/RHOz4ys/PD35+fupkIiIiIiIawnyNE1KnJiJ1aqI6WZNeC3YgHUhrq02dTEREREREQ1Brq82nQKen9EqwI0drOp0Ot2/fgd0u1FmIiIiIiGgIsdsFbt++A51O53PvTnf1SrADADqdDjqdDlarTQp47OosREREREQ0BNjtdty+fQdWq80ZJ/QFv7t3bZq6XW40NQHSw0W9EULAbrejra0Nra2tsNlaERDgj2HDHkRgYCD6IIgjIiIiIqL7TAigtbUVN2/ehs3WhoCAQAQGBsLf39/Zw+NN8YlyQLp3p6s0Bzu+EEK4BDw2mw02mw12exva2tqcy4mIiIiIaHCSh6o5Aht/BAQEICAgwCXQGZDBDlQBjxz0yP9nsENERERENLgp7+PX6XTOIMeXQAf9PdiBIuBRBj5ykMNgh4iIiIho8JKDGTngkQMcXwId3K9gp+J8FQBg0hMx6kUeqYMbBjlEREREREOHMuhR/tuZ+xLsdHWjDHKIiIiIiIYuX4McWVfjDqU+C3aIiIiIiIj6Ut9McE1ERERERNTH+qxnh8PYiIiIiIiGLq3D2HpCrwc76okJGPQQEREREQ0d6okJ+jLo0Rzs3GhqAgAM1+vVi9xw6mkiIiIioqFpQE497StlgGO32+Hv74eQkCD4+/M2ISIiIiKioaKtzQ6L5R7a2kSfP1S0VyIPZaDT1taGoCB/PPBAMAMdIiIiIqIhxt9fhwceCEZQkD/a2tqco736YqRXr0UfcrDj7++H4ODATiM3IiIiIiIanPz8HDGBv7+fy60tvU1zsFNxvgoV56vUyU7Ke3Ta2toQEhLEQIeIiIiIaIjz83Pc1tLW1uYSM/QmzcFOQ2MzGhqb1clu5Ht1AgL81YuIiIiIiGgICgjwd8YJfUFzsOML5T07REREREREMl/v2UmdmtityQnQW8GOrLMDICIiIiKi/m2T5Tg2WY7j0ZZcBDRl4dGWXDzakousOwdQcO+sOnun+jJG0Dz1dGdTwMk9Oq2trbBarRg5crg6CxERERER9XOnbd8g684B1Nrr1YtcROnCsCgoARtCnlMv8ujq1RsIDg5GYGCgcxrq3tKrPTtERERERDTwbLIcx9Rbb6PWXo8oXRg2hKTh/QeWwKZ/HxdDt+H9B5ZgQ0gaonRhqLXXY5PlGDZZjqtXc99p7tm50dQEABiu16sXAezZISIiIiIa0BzD1o4BADKDEvD+A0vUWZxq7fU4dO/3zvwbQtI67eHxtWensxFlvtDcszNcr/ca6BARERER0cB12vaNM3A58YPXOwx0IA1h2xDynDPfJsuxLt3H01s0BztERERERDQ4Zd05AEg9Oj8LmKBe7FVmUAIygxIAAL/qR8PZGOwQEREREREK7p11TkbQWY+ObJPluPM9/xLynPMentO2b9RZ7wvNwU7F+SpUnK9SJxMRERER0QBWLgUoG0LS1Is8mnrrbWyyHHP2BsmzskEaztYfaA52Ghqb0dDYrE4mIiIiIqIBTO6N+Ynux+pFbqbeetuZXxkcyUPf/sfe4Ey7nzQHO0RERERENPjIw9GU9+qctn3jnIJalnXngEugo8zvS6Dkq9Spid2aiQ0MdoiIiIiISEnZK3Pa9g1O277BtFvbUWuvR8G9s87Z1jI9PEg0ShcGKAKn+43BDhEREREROQMVpUVBk52TDky7td15f87PAiZ4nMRADoQ8ret+YLBDRERERETOIWjKmdSidGEo+8FqQDXM7cQPXnfmUZJ7hbRMW92bNAc78RONiJ9oVCcTEREREdEAJk80cEj1UNAoXZizFydKF+Y10IHivYk9EOwUnyhH8YlydbImmoOd4Xo9huv16mQiIiIiIhrAfqL7MX4WMAG19nrncDVZZlACLoZuw8XQbS7pSvJEBlG6MOcDRu83zcEOERERERENPsrn5BTcO4tNluNuy72RJzKAhgeS9gUGO0REREREBDhnWHMMZ9tkOeYW8KjV2uuxyXIcU2+9DXiYivp+87t71ybUiR2pOF8FAJj0RIx6EQBACAG73Y7W1lZYrVaMHDlcnYWIiIiIiPqpWns9Dt37PTZZjgFSj87PAiYgMWAConRh+Inuxzht+wb/Y29w5oEU6Kinovbk6tUbCA4ORmBgIHQ6Hfz8/NRZAOmeHUjP2+kqzcFOZxtlsENERERENPAV3DuLX1mOd/rMHHkCA197dBjsEBERERHRfVdrr8dp2zcol+7JkScgAOC8v8eX3hwlX4OdnsBgh4iIiIiI+kxfBjucoICIiIiIiAalARHs1O5NR9CoNShRL+jM7TNYFmtEUOwWlNyWE804uDoPW0+6jj20nNyCyFFGRK4+A4vLEl+cwaJRRhj31jn+9LjdQa50DYJGpSO/Rr2gEzUFMI4yYlGpekHf6dFz34ErJ9/DstVHUKleMGDVIT/ZiKCVZ9QLel3JSiOCkgtQq17Qz1wp2YK4MUYEjTIiNKOw3+/vgNGlNrY32v4BbgC320REvtIc7MRPNCJ+olGd3D/dvo7aawCu1eGK8wPxOk59eASHzVaXrE3X6nAVwNVL19HksqQLPG6X+qsePfcdsJhLcfDDc7isXkCD0+0yrMwqRGXEFKzdug7Zk0YjRJ2HuqZLbWwftP1ERNSjik+UO2+h6SrNwc5wvR7D9Xp1cv8UPhf/WXMW12r2YHG4eqGrhzL2oMV8Fi2Fc/GQeqFWGrZL91+Pnnsi2bU6mAFkvLEHb2Rm4I3sKaxfPaUH21he/0REg5vmYKdfkLvQP6nGwZXpCB1lRNCopxA5fzdKbigz1iE/JQHhqx3DbEpWGhE06lUUAjBvTkHQKMVQmJoCxBkSsFTVLd90rgDpkxMceceYkL63Ck0lnXX9u27XMVTAMZTF/aUcnncTXx5YgzjDU67bs7Wv2TN5ONERfLk3B+PlYTPTt6DoMoCWKuRnmaRySkDc6jJccVunFbWfbGnf9iOOfLWuP4IC3spEnQkAbPUoynvJuT9BhoVY9kmdxqEiZmycZERQZrHr+6p2I3KUEaHrHc99cjq7BaGjEvDaWelvX/bBy7m31JRhWYp0nHJ5mL0M32irQ9HqhQh/xFEXw1Okskd7fR2/2QygGGnSuXeuw+X8PIXIrAJ82aJYtyfyNVBYhY0Z0j7Kw8lsN13rweQc5J+7iSL10C9pCMvWc2ewcb50PYxKQNzKI1D9+A1YPR2fOpPkhvJ42rev5BiG9h5OlSjq3MQc5H9103HOFNvqvDwcQwndh9NpGGbnwz47y6u8GIuk+u9t+GLJSiOCEnbADKAwU6p7Utk7j71ojXSOFG2J6tx5bAOc+6GsnynO6/CKpzL1gW/1XS7TMpgL1ziH6AVNfAkbT/q2HVwuQ+789voenrIFRTVSXbJWIXeSEUGGNShRnnNbFV4zKNNVbSw6vo60tf3ajtG3cvOkB9ptX+qLpG/bbSKi/mNgBjuSwmUmLKt8GNlb12Ht9NG4evY9pKXsRqWHhh4Afpq1Ex/tz0Q8gJGmdfho/058lOf919am0jUYb9qBojuPISN7FbZljoX5rYUYn31OnbVjj/+TY1vK166XER8AIHQEfgQAuImSlWlIXF+My4apWLt+FbITgaLNCzE+54znDyW1j/OQ+G4LklavwtrpY2H5SyHSk15F2vMLkfvtWGSvX4XFccGo/DAHRpfx6VaUrE7B+GWFMEc6htysTRoN84c5GJ+0A18qhom4lsk6vLPcgCvvvoTEX6mCDls18mcnI/3dKoQkZmLb+peRYajDwWUpSNxb7Zq3QwYszjQApWUoUuxHZXExrgKwfPgZvlTkPvXpZ7AEz8KChG7uw8UCJCbk4OBfRiBl6Sq8s2YuIirWYrzJ830i5q0vIb1iBBavWYW1phgEVxUiPSnPcT9B+BS8s38n3jGNBhCDbKkO5DwOAPU4uHQhcktaEPvCKmzLjsP/KtmBxKwjuKLeiAeFOQux9ftJyF6/CmsnjXDUo5w0JG4uw92YVKxdvwqvjKtGrikNSz9XvxuOYNL0Kg60TsK2rVL9+DgPxqXF7XXOVo18UwrSPzTjoaRMbNv6CywOP4f0STk46PLjAoCaQiTGLkRuqRVPv7AK76yfi6etZ5BrSsPPC1WBgXk3fr7sHCKyfoFtL8Rh5OUy5M7OQtqL6UgvDcacNasc13XJDiQ+77nce4SWfYYZGzPW4FT4FKxdvwqLDcGq5Q4/zdqJjzanYiSA+OXSNa9sa8y78fPl5/BQysvYtn4WDA8CQB32mZKRuPkM7j4513E+nrQ62oAXj6iO34yNGWvxRXgGtq2fi/jhdSjavBAzXnwVxqwyhMz+BbZlT4PhuqNMvf8wI1HV920rpiCkNMdrfcfHOTC+bkbE8nV4J3saDNfPYeuL6dioagbcXCxA3MQc5FcASUtXYVv2VBguFyI9YSHyLwIIjsG2D1chtqUYz68pk+rgTZTkZGNfSxheOfQWUkLVK0Wn15HWth/w8Rg1thMedbnd9r2+9H27TUTUj9y9axNaXv919ivxX2e/ckuXX3futIpbt6yisfGWuHKlQfSEmj3zRWBEriiWE6o/ENER0SJw0WeiUZGv8Wi2CIyYLFZWyCl/FzuTokXginJFrnKxMCJaRO/5uyKtfZ0LP5f+bq0UKydEi8Ckd8WFVkW+5nKxcEK0CIyYL3ZWy4nqdXrarkLrd2LnzGgROGG5OPCtlFbxphgRES2id33nkrWxOFcMi5gsVv63S7KKtL2oXHG0uT3VUR7qcmoRR1+ZLAIjssXhW1LShV1iXES0iN75nbjrzCfE3T/+WoyLiBbj3r7gSFCWiUWR0UOZXP5NlgiMmCwWFrcoMgpxYdd8ERjxotj7vZSgLndPpDzPHZU3ekFsiIsWw5Lmi4eV57u1QqyMihbD/rlSiG7tw3VxYF60CJyQK4oV5ek8by55HedeXU8c5025zx7qsRDt71fUlcajueLhJ7LFAXn/PPFyDXitR5/nihER0SIw6QNRIyd+nisCI6LFuC3S+ZV8vWWmCIzIEgeuOv52luNxVTnume+oX859t4jDS6R6qLz0W1vEgUXRLnWueIWjvmyR678QQlQ66mFg3C7xtaIsHedrptjgOK1CyO93Hot7GTp0ch0KoWmfvZWXV271ysFx7K7HI4QQd6X2S13OjYcd1/F8uS5J++Fyjlsd14Tber99V0RHRIuHO9xnqb6r2g/P9V0q04hscViZt/kz8VxE+7XnmfftbEmKFoGzDovLUpJct2b85rqz7rrWafW5da8D7teRup2WuJ0nX49RSzvhSffabZ/ry/1qt4mIOnDlSoNobLwlbt2yijt3Wt3iCfn1u09Pit99etItXctLc89OQ2MzGhqb1cn3RcqcqVDePaSPiYEBN9Eju/eXchxpATLWvgxDgCI9dAo2rTQoEjSyVSN/tgm5VQZs+3QPFj/qSK48cQZNiMMrz4biyrV658sycRYWD7+JfR/7MBQnZRpMil89HeUBGCbFKMppGEyzpwD4Oy5fc6RUHi1GLVKxbcVYlxuoQyb+ApumA7UfljpmEFOWifIHbbcyseK/Pj8HDJ+FBROtLsejf3YuklCFg5+ofzHvwJhpWGwASo6ecPyqaS7F4UuAae0vMTf4Jo6cMDvyVZThoHU0sufHdG8frpWj8CxgWLnC9VfkgLHIzklVJLQzzEt1qSf66dNgAlDzfcdPHAbikJoC4PNCbPzEjNobVuhNb+HSVzuxOEKd113SjDiXa8BRj1Kx7ZWxilRAP30F1nqstqOxINV1QeyTMQBa0HQb7eVoWIpNs4e55DMsXYEMZcLtEzhcAhhWr4BJ+XitgGFYnPMyRqIMh0sVQ98enY45Uv0HAMTEIh4AJsUiVlGWhpTpMKAONVJ97VFa9xnDkDLVY0FqEzwFKTHKBCuKjpZ5LGd9xlKsDQeK5PoPABiLBSmKcxxgQPwkAIhBvHK9j07FgkeBq5evKxJVbp9D0VmpDHys75ju2tYgNAbPGABLSwfjDaXt6DNmId7Sfj1euRGKBS/GAeeP4PAlR1bD8r3YnwCcWp2O6BXFaIpZhY9UddpV964jjzo7xi60Ex51qd3WUF/uV7tNRNRPaA52+pMfPuh5CEmPuFaHqzDgp8ovY5KocR196HbkJkpyXkJuVRgyCt5HtmLdly/XATiH1xKS8Uis8vUq9t0AUFXd+bCIAB/LQxm8yds2PIbHVOlAMGJjxwLX6hwziPlcJvW4fAnAjUKkuRxLMh5J2IJTACr/rGVIxGjMmdc+lK325BnUYhpSJ8fBlDEMV3/rCMZOffoZLOGpmBOD7u3D7Zu4DCB23Gj1EuDRx+DTV11fzwWCkbG3BB9lWHF09UKMf/wpBI1Jx7KSzoIkh5HhjicYy7yfy9EwPK5OA4Bh0HscFiSTyvHxsYhSLwoYi58qC+PaddR4KzfDY3haHfwFBPk2O5l/kDql52jdZ4xG1AjFn101ZrRqCFUH5Ywx+OkkAJeuK4Y2BiHE3yWTF8EIcasLKh2Vgbf6/sNhvp07JWk7TQWvqtq4ZIxffw6AGV9Lv1sAYVj89irEoh5XW4KxeG2m649Obrp3HXnU2TH2RDsBDW2Fy/FrqC/3rd0mIuq+1KmJSJ2aqE7WZEAHO70qfDRGwoyvL6oXALXfdqXBv4kvt2Yh7WMg4/1jODTd9de4iAjX+zncXttnefhQ6xkREaMB8wVccLvXyYrKymogfDQioKVMwhARCSA8Fe+oj0N6HVseq8jfuag5cxGPMhwuNePox2YgJRWmB4GkZ2ch5Foxjn51DkWFNzHy+elwrLkb+/DgMEQAqPzWw6+YFy/A+X2spwSPhinv3/An8x9w79uT+M8s4GBWNvZ1YY5q7+eyDuY/q9N8IZXjnz0E27ZqxZdTAOEjMMZbuZkv4AsAY0a5Bmc9YwTGeJyR6yaa1PcUqd23fVbroJxRg68rAESO6Pgek67qqAx6sr5L23HeM+P22oN1k+TMdchfvgOVCMPIUCsObi2A2a1Oq/TgdeSTvm4nXGioL/ex3SYi6g8Y7HjzD4mYGwoUbn3P9UO25Qw27NL+MWbem4XE3WbErv83HEpxDXQAIHbqFOhRjcuYBNPsae2vx+qwL28H9lV5mfmqB8TOSUUUipG7u9plxh2L+RC2lAJRL0gBhLJMlLvjVibBeGZGHHCtGk3jprgczzMh57Ah71/xH99r/LU+YhoWPAGU7N+Ag2YgZfYUx6+uk6ZhcXAdjr71Lg5aR2PJHPn31G7sQ3giTE8A5l27VTNCVSN/Z7EioQdcKkDcKCPGb5XK78EwJM2egpGowhddCE4c9agYuftcA/Km0t2QN6GNVI7md7HhE9eZqMzv7kahMuHBqViQApi370aRMsiw3UTR/kJcxTQsmO7jr9iahCFqHIBPPkOR4nxZzh7Bvs6Gvt23fVYLhmnONI/l3PTJB8i/BpjmTO24p6GrHoyDKUEqg96s79J2rppvwjBD0cbNnoTg8n/Fis1nUCMVtXlvNnKrhiHj/WP4du9c6Kt2IDGvg9kPevg68klfthNuNNSX+9luExH1A0Mw2AnFj4IB864t2PhxITZuLvPwyxiAgBi8sTsVevNuGJ98CYu2FyA/LwfGx1/Ff0DjL71f7UDiZjOQ+DJyIqtR9EmZ4nUO5tsA4lagYF4wCpclI3L+GmwsKMTG5S8hMnEHTt2Owf+e52GoRE8xLMU7L4TBvN2Ecab2bY9L3g1zVCYOLZcCCGWZGNKRtr0Q+7avQWKie5k89Pw6bIsxY2NyMuIydyC/oAC5mSaEZxbCHD4HryRq/QIZhjlzY4AqM8zKL6ABcZg5GzCfPQdLZCoWKMaOdH0fwvDK/3HMCJX2uAlpeQXYt3cH0pKfR25NWJe/cIb8MBRAMV7LLkTh3jzs+wpA5FzkTAdqdy9H4uoC7Nubh8TM93AV05A6Wb0GH8StQMG8MJi3mhBpWoONe+VjPgd0OFzNO0c53pTqZp6zHI2b66F3KcJgZKxfh/i2YqTHKsstGelFwUjauQoZDyrz95QwLHhlLvTWYqQnvoRlewuRv/oljFtQBng7xU73a5/dhZhW4Z0n7qFwWTKMyvq6rBghiXl429TpwXRRGBZvXYVYazHSpfqev30NEp80dau+u5O2I7cfclknJiPtw2pEZGYgJRjAuS1I3GyGft5b2JUyDCHJeTi+JAxNB7KxqNR96mfA1+vIx7bfZ73TTvjK5/pyX9ttIqL7T3OwEz/RiPiJRnXyABKDN36TiVjrGWxduQX5Nfe8fijpp7+FvxatgumBCyjM34HcgmoY1vw7/pofp87asRvSk7nL38OiZTlId3n9GiXX4LjxedcxlG+eioj/7wS2rt2CrZ9eQMS8dSj/vbfpVntKMFK2l+Cv+zMQYVZs+4Wd+OupVYhXfNlzlklEHUryt+C1vWY8tNRDmQSMRfYnJ/HR0sfQVF6A3LU7kF8OJC3dib8WdTb+3rOHUmY5bmBP+Ec8o9inlNmOm4Gj5k13HSffnX14NBPlZ3di8YTrKHl3B157qwyW5K3426eZXR5O+NDz67A/ZTRqf7sFi96qkO6/GIaMd4uwf14YKj/cgdc2H0HliFTsP7m1i1+yhyFl5zGUr5+G/1VVjK2bd2Dft2OxregY3p2hzuujgLHILirBRy8YYK04gty1/4qD1+Lw0dl/w9oxqrxjMlBe+e/YNh049e4OvLa5AKdsU7Ct6Bj+M6P3AvaQ5Dz86f0MxDafw8HNW7CxMgzrjua7758n92mf3Y3GK0UnUb5+CiyK+mpa/+/462/mdrne+USu7//gqO+5u8/AMt1xnfTodh/NxLmvdiL7yXuKso5B9v4SlC8fC7ScwaJFhWiKfBmf75zivEE/Pu/fsC2mHoVL33TtgXPy5Tryve33WS+0E77zvb7cz3abiKg7ik+Uo/hEuTpZE7+7d21CndgdQgjY7Xa0trbCarVi5EjlFEdEA4D1Jq40WxHywzBVzwWAk3kIevEIFv/mT9ifrFpG98ftm7hyG9APH6a6Gf8Mlo16FQef34N7+VOUC4i6j+0EEVGXXb16A8HBwQgMDIROp4Ofn586CyAFO5AmKugqzT07RINezQdIjE1G3E71TS43UfRxKYBpSHLeSE3325WibDwSOxO5FaoFVZU4BSDlZxp7Yol8wXaCiGhAYLBDpGZYgLUJjvH/P99+BuZr9bhyyYyD2QuRXnQTset/0cUhZtQbHjJlYnHoTezLehX5Z+tw5Vo9as8W4OfPv4fa0AysfVb9sztRD2A7QUQ0IGgexlZx3jEjzqQnXJ6I58RhbDQoWKuxL+slvHZS+ZyOYBiW7kF5nuuDPKkfuHgEafPypPvfJOGpOFTyFjK6+lBJos6wnSAi6pK+HMamOdjpbKMMdmgwsbTUo/b/q0TNDx7D04+Ohp6/1PZjVjRdq8PXFfWImPQYosI7eSgkUQ9hO0FEpA2DHSIiIiIiGpR8DXZ6Au/ZISIiIiKiQYnBDhERERERDUoMdoiIiIiIaFDSHOzETzQifqJRnUxERERERNRjik+UO+cL6CrNwc5wvR7D9ZxQk4iIiIiI+jfNwQ4REREREdFAwGCHiIiIiIgGJc3BTsX5KlScr1InExERERER9Suag52GxmY0NDark4mIiIiIiPoVzcEOERERERFRb0udmojUqYnqZE0Y7BARERER0aDEYIeIiIiIiAYlBjtERERERDQoaQ524icaET/RqE4mIiIiIiLqMcUnylF8olydrInmYGe4Xo/her06mYiIiIiIqF/RHOwQERERERENBAx2iIiIiIhoUNIc7FScr0LF+Sp1shs/Pz/4+fmpk4mIiIiIaAjryzhBc7DT0NiMhsZmdbJHfn5+aG21qZOJiIiIiGgIam219Vmgg64EO76QozWdTofbt+/AbhfqLERERERENITY7QK3b9+BTqfzqXcndWoiUqcmqpM16ZVgBwB0Oh10Oh2sVpsU8NjVWYiIiIiIaAiw2+24ffsOrFabM07oCz2+FTlK8/Pzg7+/PwICAnDnjgWNjS24d68Vgp08RERERERDghDAvXutaGxswZ07FgQEBMDf398lZuhNfnfv2jSFH/KDfTrqUhJCQAgBu92OtrY22Gw22Gw22O1taGtrcy4nIiIiIqLBSdkBotM5OkHkYMfXoWzdpTnYudHUBEgPF+2IMuCRgx75/wx2iIiIiIgGN+V9/Dqdzhnk+Bro+NLJ0hnNwY4WclCjDHzkIIfBDhERERHR4CUHM3LAoxy61lmgg4EQ7EAR1Kj/JSIiIiKiwU8Z9Cj/7cyACHZkDHKIiIiIiIYuX4Mc2X0JdirOVwEAJj0Ro15ERERERETUI3oi2NE89XRDYzMaGpvVyURERERERP2K5p6drkZYHMZGRERERDR0aR3G1hN6PdhRT0zAoIeIiIiIaOhQT0zQl0FPrwY7nHqaiIiIiGho6u7U0z2h14IdZYBjt9vh7++HkJAg+Ptrvk2IiIiIiIgGqLY2OyyWe2hrE5oeKtoTNAc7N5qaAADD9Xr1IidloNPW1obg4AAEBwf2yQEREREREVH/IoSA1doKq9UGf39/nwIeXztZOqK5m2W4Xt9hoCOTgx1/fz8GOkREREREQ5ifnyMm8Pf3c7m1pbdpDnY6o7xHp62tDSEhQQx0iIiIiIiGOD8/x20tbW1tLjFDb+rxYEcm36sTEOCvXkRERERERENQQIC/M07oC5qDnYrzVag4X6VOdqG8Z4eIiIiIiEgmD2Pr7V4ddCXYaWhsRkNjszrZo744ACIiIiIi6j2bLMexyXIcj7bkIqApC4+25OLRllxk3TmAgntn1dk71ZcxgubZ2DqbFUHu0WltbYXVasXIkcPVWYiIiIiIqJ87bfsGWXcOoNZer17kIkoXhkVBCdgQ8px6kUdXr95AcHAwAgMDnbOy9RbNPTtERERERDS4bbIcx9Rbb6PWXo8oXRg2hKTh/QeWwKZ/HxdDt+H9B5ZgQ0gaonRhqLXXY5PlGDZZjqtXc9+xZ4eIiIiIiJwcw9aOAQAygxLw/gNL1Fmcau31OHTv9878G0LSOu3hYc8OERERERH1udO2b5yBy4kfvN5hoANpCNuGkOec+TZZjnXpPp7eojnYiZ9oRPxEozqZiIiIiIgGuKw7BwCpR+dnARPUi73KDEpAZlACAOBXPTScrfhEuXNUWVdpDnaG6/UYrterk4mIiIiIaAAruHfWORlBZz06sk2W4873/EvIc857eE7bvlFnvS80BztERERERDT4lEsByoaQNPUij6beehubLMecvUHyrGyQhrP1Bwx2iIiIiIjI2RvzE92P1YvcTL31tjO/MjiSh779j73BmXY/aQ52Ks5XoeJ8lTqZiIiIiIgGMHk4mvJendO2b5xTUMuy7hxwCXSU+X0JlPqS5mCnobEZDY3N6mQiIiIiIhoElL0yp23f4LTtG0y7tR219noU3DvrnG0t08ODRKN0YYAicLrfNAc7REREREQ0+MiBitKioMnOSQem3druvD/nZwETPE5iIAdCntalVerURK/P9vQVgx0iIiIiInIOQVPOpBalC0PZD1YDqmFuJ37wujOPktwrpGXa6t7EYIeIiIiIiJwTDRxSPRQ0Shfm7MWJ0oV5DXSgeG8igx0iIiIiIuovfqL7MX4WMAG19nrncDVZZlACLoZuw8XQbS7pSvJEBlG6MOcDRu83zcFO/EQj4ica1clERERERDSAKZ+TU3DvLDZZjrst90aeyAAaHkjameIT5Sg+Ua5O1kRzsDNcr8dwvV6dTEREREREA5xjhjXHcLZNlmNuAY9arb0emyzHMfXW24CHqajvN7+7d21CndgdQgjY7Xa0trbCarVi5Mjh6ixERERERNRP1drrceje77HJcgyQenR+FjABiQETEKULw090P8Zp2zf4H3uDMw+kQEc9FbUnV6/eQHBwMAIDA6HT6eDn56fOAkg9O5BmZesqBjtEREREROSm4N5Z/MpyvNNn5sgTGPjao9Ovg52K81UAgElPxKgXAQx2iIiIiIgGjVp7PU7bvkG5dE+OPAEBAOf9Pb705ij162Cns40y2CEiIiIiIm/6MtjRPEEBERERERFRb0udmtitQAcDJdip3ZuOoFFGt1fo5Bzkn7upzt47agpgHGXEolLp79tnsCzWiKDYLSi5rcrbmWtnsHV1Hg7+Rb2gdzR9VYD0iU85ys2wA6fUGaj71PVjgKg9sBBBo55C4oE69aJed+Xke1i2+ggqVeklK40ISi5ArSqdOuatPPtcd9pGZ3u/BiXqBW7MOLg6D1tPdjyOnIiIhrYBEew4xCB7/058JL0Orc9EUsAZ5JrSsKi0jwIepdvXUXsNwLU6XNH6gX67Goc/PIJT36sX9AYz8pfvQNFtAxavX4dtGWPwI3UWGrKu/K0OgBXmv/X9F0aLuRQHPzyHy+oF1CX9pjy70zZqch2nPjyCw2aregEREZHTAAp2RuOZ2dNgkl4Zy1fh2MnfYltMPQpXvIsv1dl7W/hc/GfNWVyr2YPF4eqF/cl11FwCDCvfwv7lGcjOm4tYdRYasuLzTqLF/Adcy/M84QiRZgOmbSQioqFAc7ATP9GI+IlGdfL9ETAWc2YbgJYKfHEJAOqQn2xE0Moj+HL7Swh/xOgyHKLpq0IsSkmQhsElYHxWAb684bpKALDUlGGZnO+RBMStLsOVNnWuOuSnJCB89RnX5BtVyM8yIdTjUDtp/xJ2wAygMFMakrdStQ41ax2KVi+UjucphKdsQVFNtXSs3t/rGA7yKgoBmDenSMfta3mYsXGSEUGZxbC0rxKo2o3IUUaErnfMyud0dgtCRyXgtbOuyWodbtNahdxJRgQZ1qCkRfEmWxVeM6jSfSwTx5Co93CqZAviDNJQvok5yP/qJmCrd1lHZFYBvlRuF2ewaJQRxr3VMBeuQdwY6XxNfAm5JT70hNjqUZT3EsbL7zMsxLJP6lzLE8AV5b6NSceyTtft2C/3c+8hvUVZHz0cY+kahBoWIr9G+lsejvdJNQ6uTG9/3/zdKHG7Vqyo/USx79LxmTsbhiRtY/xmM4BipEnXiusQwHuoUZaLYaHncrlchtz57cfnqAc+/tJvu4kv9+a0n58xJqTvrUKTTc4gXa9uQ+o8pJeuQdCodGwtL8aiyY76bdxb116ehVXYmCHVe8X56fB6ABRtWplbHdx4UmpXfCpPmRWFWUYExe52He52W3rf/CO4oky/XIjEUUYkHmgve5/22VPbqCpvuW0s8jJs8cpXBUiXytJ5bqRlJSuN7m2bYh3arykiIuqPik+UOycp6CrNwc5wvR7D9Xp18n1Tc6kOwFgYIhSJH+chcXc9nl6yCtuy4xABoKl0DcbP3oLCy48hI3sVti2dhJDSHUicrPpifbEAiQk5OPiXEUhZugrvrJmLiIq1eGTJUTQqsnl0uRjpkxcit9SKp19YhXfWz8XTVuVQuzCk5O3ER5tTMRJA/HJpWF7WY+o1tbNVI9+UgvQPzXgoKRPb1i/CzOAypCe8hK3yF1QvHprxS3y0PxPxAEaa1klDAP8JP/WpPAxYnGkASstQpBiKUllcjKsALB9+5tKbdurTz2AJnoUFjhkIPep0m8Ex2PbhKsS2FOP5NWXSF5ubKMnJxr6WMLxy6C2khHahTMy78fNl5xCR9QtseyEOIy+XIXd2FtJeTEd6aTDmrFmFtdNH42rJDiQ+7/6lq3bXSzC+bkZE5ipsy05FfNs55GeldHyfi60a+bOTkf5uFUISM7Ft/cvIMNTh4LIUJO6tbs/31Q4YswpRGT4Fa9evwuJ/qMfBrHS8dk65sq6qx8GlC5Fb0oLYFxzXwv8q2YHELNUXWg8Kl5mwrPJhZG9d5yibs+8hLWU3Kp2BAGDeuxDjlzn2PXv9OmzLGIEvXk1B4q4OygUAwqfgnf078Y5ptMvw1JzHFXnkc5bxC0eZh1ThYFY6lp1UBDIXCxA3MQf5FUDS0lXYlj0VhsuFSE9YiPyLinV5VI/CZWlI3HwGd5+ci21bV2Hxk1YUbV6I8TlnnF+qtTFjY8YanJLPpSHYuaQwZyG2fj8J2etXYe2kEYAv14PSxzmOOrh8Hd7JngbD9XPY+mI6Nlb5WJ5OwcjISAWuFeOo4vcKS2mZIzg9W4ySa+3pV0o+w5eIw+JnHVOMatpnFzdRkpOGxM1luBuTirVb1yE7tgU7TWlY+rk6LwAUY9mcAlyJzcC29ZlIiaxD0eaFmPGuo279NGune9uWNwUPobevKSIiGnDu3rWJnnzdudMqbt2yisbGW+LKlQbRE2r2zBeBEdni8NXr4rLz9Z0ofnu5GBERLUb8c6WU8+9iZ1K0I2+zYgWtlWLlhGgRmPSuuNCqSG8uFQujosWwNRVSwnVxYF60CIzKFUeVu976ndg5M1oERkSLhZ/LidK2VpRLf1vE4SUdvDfqTXFS3nb1ByLaZV3eXf5NlgiMmCwWFre4pF/YM18ERii37025WBgRLaL3/L09ydfykPbzuaMWKcMFsSEuWgxLmi8ejpgsVsrF1lohVkZFi2HO8+CBr9tUHNuM31wXjZ/nihER0SJ613fO5VrKpHhFtAiMmC+2fKvIWLlLjIuIFoFxu8TXin25sGu+CIyYKTY4D8NRdu71Sa4P2eLwLSlNdU697uOu+SIw4kWx93vH3466PV/srJYytF4QW2bNFON+1V4e7qT9cjv36nT130I0Hs0VDz+RLQ5I2xef57puXzqOwEWfiUbnu4RoPJotApXn/PvfiRkR0WLEinKXfOLbD8RTEdEiMCJXFCvTPXAcu3s+j+dMqieBiz4Td4VwvVZV52ZLUrQInHVYXFYkq92VjmfhcU91aLJY+d+i/RpP+kDUuOTykP55rgiMiBbjtlxwyemtPH2/Hry0ac2fieciXK85b+XpptVRLx527qvUdiXNF9HSdedwXeydFS0C5/3OUZZa91lZPyveFCMiosVTe9qvYyGE8/pWlqXjOFTXjnxeY3aJr52JHtq2Ll9TRETUl65caRCNjbfErVtWcedOq1s8Ib9+9+lJ8btPT7qla3lp7tm5f8qwKDYZjzhfJqTln8NDL+zEn9T3GyT8I54JVfz9l3IcaQGSXkyF/kY9rlyTXpZYLMgIg6Wg2PGr5u1zKDoLGFavgEn5eKCAscjOSVUkeHD7BA6XAFHL/8n9vSV/wr2adUgKUKT7xIr/+vwcYFiKTSnDXJYYlq5AhkuKBr6Wx5hpWGwASo6ecAy9Mpfi8CXAtPaXmBt8E0dOmB3rqyjDQetoZM/v4L4PX7cJwLB8L/YnAKdWpyN6RTGaYlbho1fGSku7UCaPTsecRxV/x8QiHgAmxSJWcU4MKdNhQB1qFL9sA0DIkkxkKOtTwFhkv/UyRqIMxR57VqV9HD4LCyZa24/1Wj30z85FEqpw8BPHL9RRyVMQBTP27SrEKXM9mtoMWPtpCf66Pk690i6IQ2oKgM8LsfETM2pvWKE3vYVLX+3EYmVPqAcpc6ZC2X+rj4mBATfR2Oz4+8rJYpyCAWuzp7jkw6OZeGOeMqGLDLOwQHnOQqdhbgqAS9cdvVLStarPmIV4i6I+3QjFghfjgPNHcPiS4v0urCg6WgZEZmDdbFUdWv4R7n1/Fu900EPp3TCkTDWoEwEASTPiXMtJw/UAAJg+DSZlHQyNwTMGwNLSYXeKZwFTsGAecPW3pY6hbLfP4EgJYJj3z8hOAE59fs5xvV8uw+HzQMoLsxw9Jlr3WeHL45+hCal4Y6l8HTvop6/AWo9FNgULlNd3wFjMmTMWuFbX6QQMvXtNERHRQKM52Kk4X4WK86r7NfqE62xsH/3mI/zV/N/40/ZpeEgdRESMcHw4y67V4SqAU+tTFMGS45VWUA/g/8JcA+DaddQAiB03Wvluh0cfg8fPZJn03vjYDnNpVI/LlwA8PhZR6kUBY/HTrm7K1/LAaMyZ1z6UrfbkGdRiGlInx8GUMcz5ZenUp5/BEp6KOR3EOr5vEwDCsPjtVYhFPa62BGPx2kwYnOe4C2USEIQQdZon/kHqFABA1CjHEB4XoaH4EYDKGk9DtqR9vFGINNWxPpKwBacAVP5ZGspmWIFzResQb34XacnJCB/j4b6aLgtGxt4SfJRhxdHVCzH+8ad8vn/hhw+2D8HyxNLc4hg+Oka9BHjM4OkkdF+w8jqXrremglfd6tP49ecAmPG1FIu7k87PpNiOr2nNRiPKMULNzchwVR3SdD0A+OEw3+qwj1JmK4ay/b4MRRiNOckxSEmJcV7vjiFs07BgulQXtO6zQmPLTcDwGB5Tt9UYDYPH4XbuQrxcn2569ZoiIqKBRnOw09DYjAb5590+5TobmynZgKjQjr+QOYWPdr1Hxu31z1gQCSB8BMYAqPzWwxfYixfg9bsT2t/7ZWWHuTQKQ0QkgD9Xu91HAlt1B1/mOuFreQCImjMX8SjD4VIzjn5sBlJSYXoQSHp2FkKuFePoV+dQVHgTI5+f3vEsbxq2CdQhf/kOVCIMI0OtOLi1AGbnvSK9VCYdqP3eQ3DQ0oJGALFjPATG8j6Gp+Idt+N0vI4tby8tfVwGDpWcRMv3f8C1k2vxxMkdmLG1h24wCB4NU96/4U/mP+Detyfxn1nAwaxs7Ovs5/FOhPwwFEC1xy+3F8y9cBLUpOut/V409WsP1k1Sv0kmnZ+Kyo6v6d6k6XroBUlz8UpwHQ4UV6Hkk2IgMhULDMBDKbOk670aR49UOXqUHpTe0419/lHoMMB8ARcU93w51MH8Z3Va9/XqNUVERAOK5mBnQPqHRMwNBSq/B55JUQRMKWNR8+EOrDh0AZYAAA/GwZQAmLfvRpFydiFbNfJ3FisSPHhwKhakALV7P3B779Zkx8M8tU+PHYxnZsQB5nexocT1WULmd3ej0CVFA1/LAwAipmHBE0DJ/g04aAZSZk9x/MI8aRoWB9fh6Fvv4qB1NJbM6eQ3cg3bNO/NRm7VMGS8fwzf7p0LfdUOJObJvYm9VCYdsBwoQKHL7HDVyF/zHq5iGlI9PtRX2sdr1WgaN6X9WGdPwzMh57Ah71/xH987fqUuyTYiaFSOtP5g6A2zsCARsFRccA/mnMbipzGOL+vKCQOaSj/DfyizXSpA3Cgjxm+VvtI/GIak2VMwElX4optfMB9KnoZ4mLE1X3Uz/8UCbPxYmdBLpGv1qvkmDDMU9Wn2JASX/ytWbD6DGq+/hQTDNGcacKkQWz5R1aHd6QgalYzcr+DodYgBYK5y7RW4WIbD3Y2SNFwPvSJA6p0tehMbPwFGmqY7ernk6/3DLTh8HjDNmdreo9SNfY5PmYUQFGPju4rJOQA0le6GXD17SteuKSIi6o9SpyYidarHL1s+GxrBTkAM3tidipCiHIRPegmLthdi3/Y1SHzShNxyK5KWzpKGRIVh8dZViLUWIz02BT9fXYB9e3cgLfl55NaEdTKMJBgZm9+CKVj53jwkPmnCRnMYMnYvddwnAgAPDkMEgMKNedj3cQGWHfA+LPCh59dhW8xNFGYlw5i5A/l7d2ORKRnGzfXQe/0y1wmfywMAwjBnbgxQZYZZOaQlIA4zZwPms+dgkX4V7pCv2zy3BYmbzdDPewu7UoYhJDkPx5eEoelAtvPhsb1SJh0ICa3EosdNSMsrQL68z1XBiN+8Chnyr94qjn00Y2NyMuIydyC/oAC5mSaEZxbCHD4HryQ6djTln15GFMqwaOar2FhQiI2Zz2NRKRCVMsl9mJ7TaMd9KZfeQ9yTL2HZ3kLkr34J0ZlnYFEef+Rc5EwHancvR6JcHzOlIG2yIl9XRGTg3fUGNH38KsITc5C7txD5eTkwJu9AbajrfTDeOHqHivFadiEK9+Zh31fqHB2RrlXzbhgN6UjLk67VxGSkfViNiMwMpHRQF0JM63AoJRiFy5IROT8P+QUFWGZKhnGrGfp5b2DtREe+lAUZ0KPMcf63F2Lf9hwYk9+FuYN1+8TX60EDreWZ9OwshFwyo9I6GktS5Qs4DCmpBuDsOXyJaZgrX+/o5j4nrMBv54WhcrMJkaY1jrq+/CVEZ54DlPciaRKKHwUD5l1bsPHjQmzcXIbaLl9TREQ0aKlnLOjs1dmsCL03G5sPswx5mgVIofGPh8XCmZMdM3ZFPClGzMwVeytcZ2MSQoi71aViqZwvcrJ46pelouaCegY1L9tqqBQ7l6SJYRGO2duGPZ0tdv7RfRsXfpMtHo507MfDb3cwi5kQQlj+Lo7+8kUxQso/Yuab4mj1d56378bzjEVCQ3mI7w+LKRGKWZlk8gxUb6tmoOpAh9tsLhcLJ7jPktY+o51ipjsfy6R4hafZtNxnKRPCfUa19rL7TtQcf1M8FeU4p4FPZInXi+UZq7y9VwjRel0c3Zglxsnvi0oTMzaWihp5cjtJ44ldYsYTT0r1baaY8Xa5aFQev0cWceH97PZ1P5Etdv6x0u34heU7cWDF/Pb6OC1XHLig2AEvs7G5zRToMd3isVwcM5r5cL22ficOLJnpPO4Nf3Qkez5nXtK/LxWvz1Neb1ni9eN/l2Zs60Rri/hij6IMo9LE/D2VrrOmCSEaT/xaPDVBOj9R88XS4uviqHpf1OUo81hu7Tq8HoTw3s54SvdSnl5JsygGRr0pvlCmyzPILSn1WI5d3mepvB3tnqMu7v1ji9t59dbee0pv/O9fO+vfsCWfOdunrl1TRETUV3ydja0nXn5379qEOgDqiPxgH29dSkII2O12tLa2wmq1YuRI5dRkRAPJGSwa9Soq15fgT8s93ZszdFla6tFkCYY+3P3G+ZJsI9J+OxfHvs9DimoZDU2WG/VowjA8NFzdJVaH/JQU5GIV/lqSyZ4XIqIh4urVGwgODkZgYCB0Oh38/PzUWXqM5mFs8RONiJ9oVCcT0RBSu38hHolNx1b1CMyWMhwuApDyj0hSLaKhyoqi1cl45PG1rve+AcDFYhysAqKSOcSMiIjcFZ8od3a0dJXmYGe4Xo/hepcnRhDREGN48WUkoQ5bn38VG09W48q1etRWHcGymTkotBqwbe00tx4fGqqCkbFMuvdpZh4OVtXhyrV6mE/uxs+f3Q1zaCreWdbZTX9ERERdo3kYW2c4jI1oaLCYC/F8xhaUKB/CGjAW2Yf/HdsSfJukgIaOppM7kPhPymnkAYRPwf6P92Cx8gGyREQ06Pk6jK2z22d8wWCHiLrBiqZrdfi6og4/io2FIWIYQrxMP0wEmxVNl2vwRWULxkx6DFEe7vkiIqLBr18HOxXnHYP0Jz0Ro14EMNghIiIiIqIO9GWwo/menYbGZjQ0NquTiYiIiIiI+hXNwQ4REREREVFvS52a2K1eHTDYISIiIiKiwYrBDhERERERDUoMdoiIiIiIaFDSHOzETzQifqJRnUxERERERNRjik+UO2dk6yrNwc5wvR7D9Xp1MhERERERUb+iOdghIiIiIiIaCBjsEBERERHRoKQ52Kk4X4WK81XqZCIiIiIion5Fc7DT0NiMhsZmdTIREREREVG/ojnYISIiIiIi6m2pUxOROjVRnawJgx0iIiIiIhqUGOwQEREREdGgxGCHiIiIiIgGJc3BTvxEI+InGtXJREREREREPab4RDmKT5SrkzXRHOwM1+sxXK9XJxMREREREfUrmoMdX/n5+cHPz0+dTEREREREQ1hfxgm9FuxAOpDWVps6mYiIiIiIhqDWVlufBTroSrBTcb4KFeer1Mku5GhNp9Ph9u07sNuFOgsREREREQ0hdrvA7dt3oNPp+qx3R3Ow09DYjIbGZnWyG51OB51OB6vVJgU8dnUWIiIiIiIaAux2O27fvgOr1eaME/qC3927Nk3dLvKMCB09zVQIAbvdjra2NrS2tsJma0VAgD+GDXsQgYGB6IMgjoiIiIiI7jMhgNbWVty8eRs2WxsCAgIRGBgIf39/Zw9Pb+q1YEcZ8NhsNthsNtjtbWhra3MuJyIiIiKiwUkequYIbPwREBCAgIAAl0BnQAY7UAU8ctAj/5/BDhERERHR4Ka8j1+n0zmDnL4KdNCbwQ4UAY8y8JGDHAY7RERERESDlxzMyAGPHOD0VaCDrgQ7N5qaAOnhor5QBzcMcoiIiIiIhg5l0KP8tzNaOlm80RzsdBWDHCIiIiKiocvXIEc2oIIdIiIiIiIiX/VEsNM3E1wTERERERH1Mc09OxXnqwAAk56IUS/qEIexERERERENXQNiGJvWjaonJmDQQ0REREQ0dKgnJvA16NEad3jSq8EOp54mIiIiIhqaBuTU074GO8oAx263w9/fDyEhQfD3521CRERERERDRVubHRbLPbS1iT5/qGivRB7KQKetrQ1BQf544IFgBjpEREREREOMv78ODzwQjKAgf7S1tTlHe/XFSK9eiz7kYMff3w/BwYF9ErkREREREVH/4+fniAn8/f1cbm3pbZqHsd1oagIADNfr1YsAVa9Oa2srhg37XwgI8FdnIyIiIiKiIcZma8PNm3cRGBjY6XA2X2+f6Yjmnp3her3XQEdJvleHgQ4REREREQFAQIC/M07oC5qDHV8oe3eIiIiIiIhkg+KeHXB6aSIiIiKiAW+T5Tg2WY7j0ZZcBDRl4dGWXDzakousOwdQcO+sOnun+jJG0HzPTsX5KgDApCdi1IsAxcQEra2tsFqtGDlyuDoLERERERH1c6dt3yDrzgHU2uvVi1xE6cKwKCgBG0KeUy/y6OrVGwgODna5b8eT+3LPTkNjMxoam9XJREREREQ0SGyyHMfUW2+j1l6PKF0YNoSk4f0HlsCmfx8XQ7fh/QeWYENIGqJ0Yai112OT5Rg2WY6rV3Pfae7Z6SzCYs8OEREREdHA5Ri2dgwAkBmUgPcfWKLO4lRrr8ehe7935t8QktZpD4+vPTs9QXPPDhERERERDU6nbd84A5cTP3i9w0AH0hC2DSHPOfNtshzr0n08vYXBDhERERERAQCy7hwApB6dnwVMUC/2KjMoAZlBCQCAX/Wj4WwMdoiIiIiICAX3zjonI+isR0e2yXLc+Z5/CXnOeQ/Pads36qz3heZgJ36iEfETjepkIiIiIiIawMqlAGVDSJp6kUdTb72NTZZjzt4geVY2SMPZuqv4RLlzvoCu0hzsDNfrMVyvVycTEREREdEAJvfG/ET3Y/UiN1Nvve3MrwyO5KFv/2NvcKbdT5qDHSIiIiIiGnzk4WjKe3VO275xTkEty7pzwCXQUeb3JVDqSwx2iIiIiIjISdkrc9r2DU7bvsG0W9tRa69Hwb2zztnWMj08SDRKFwYoAqf7TXOwU3G+ChXnq9TJREREREQ0gMmBitKioMnOSQem3druvD/nZwETPE5iIAdCntZ1P2gOdhoam9HQ2KxOJiIiIiKiAUwegqacSS1KF4ayH6wGVMPcTvzgdWceJblXSMu01b1Jc7BDRERERESDjzzRwCHVQ0GjdGHOXpwoXZjXQAeK9yb2QLCTOjURqVMT1cmaMNghIiIiIiL8RPdj/CxgAmrt9c7harLMoARcDN2Gi6HbXNKV5IkMonRhzgeM3m8MdoiIiIiIyOU5OQX3zmKT5bjbcm/kiQyg4YGkfYHBDhERERERAc4Z1hzD2TZZjrkFPGq19npsshzH1FtvAx6mor7f/O7etQl1YkduNDUB0sNFPRFCwG63o7W1FVarFSNHDldnISIiIiKifqrWXo9D936PTZZjgNSj87OACUgMmIAoXRh+ovsxTtu+wf/YG5x5IAU66qmoPbl69QaCg4MRGBgInU4HPz8/dRYAQPGJckC6d6erNAc7nWGwQ0REREQ08BXcO4tfWY53+swceQIDX3t0GOwQEREREdF9V2uvx2nbNyiX7smRJyAA4Ly/x5feHCUGO0RERERENCj1ZbCjeYKCivNVqDhfpU4mIiIiIiLqVzQHOw2NzWhobFYn9w1rPU4dyMPPJycgaJQRQaOMCI1diEV7z6DWqs5M/VLpGgSNSkd+jeNPy8ktiBxlROTqM7Co83biysn3sGz1EVS6pNZh37NPIeiRhdgnbWMgqz2wEEGjnkLigTpnmufjBkpWGhGUXIBaVfpQ5a2ciIiIaOjQHOzcNxePIG1SMn6+/jN8/cNJWJy9DofWZ8I0rh6Fm1/F+JhXcfCi+k3U3zVdq8NVAFcvXYdjnj/fWcylOPjhOVx2Sa1H7UUrYKtD7Q2XBQPSlb/VAbDC/Lf2GwM9HzepsZyIiIgGttSpid0awoYBE+y0nMGiZ/NQYpmG/Wf/G9dKdmL/6gxkLF+FQ/9vCVpOrkMSzmDZs3koua1+M/VnD2XsQYv5LFoK5+Ih9cIuicG2P/8B1749iW0T1csGnvi8k2gx/wHX8mLUi4iIiIioEwMi2Dm1dQ0KWwzY9ulOLB4TrF6MEEMG/vO3KxD/YAX+z2/bh/sAVtR+sgVxhqccw94eSUDc6jLXIW81BTCOMmJRYRXys0wIHWVE0ChHvis2oOmrAqTLw+bGpGNZievUe7V70xE0ag2KbpzBxvkp0vC6BMStLMSXLS5ZAQCWmjIsS5HWJ++PWdqHUimTYp82Zkh5V55xrqPpq0IsktcxKgHjswrwpQ+9GPIwJ7P5CBZNl/chBT/PcxyrU4fbv4kvD6xpL9MxJqTvrUKT8v2SpnPKspPyqTPVFCDOkICl8rFLXMpp1FMIT9mCohrpxEn7N36zGUAx0qQhjXL5leQ8hfDZquFctpv4cm8Oxo9x5PW439IQu63n1OfyCMyqYZJXShT1ykO9cGXGxklGBGUWuw7Vq9qNyFFGhK5X3QN3dgtCRyXgtbOOfQo1LHQM++vkuB3uoUa5b4aFneybgi9lBAA3lNeKEaGTc5B/7qZLFkddew+nitZI65OGLnZYt3yv292pH974dG2iDvnJRgStLIO5cA3i5LKa+BI2nnQtA1xW7mN7mwJYUZhlRFDsbtchdrelfZ1/BFeU6ZcLkTjKiMQD7eex83KS9/MIvtz+EsIfMSJo1BqUoKP9IiIiGnz6f7BjO4ODBTcRkvlLZD+qXqgQ8zLKvyrBfy4ZLSVYUbI6BeOXFcIcOQVrt67D2qTRMH+Yg/FJO/ClqgeoMOcl7GyIxRvrX0bKo/dQ+WEOjC++ihmz/xXmcRnYtn4u4n9oxsGsdCw7qb5B6ByWTn4VB1pjsHb9KmRPH4HKj7cgMXGLa0/TxQIkJuTg4F9GIGXpKmxbMQUhpTkYb/J8n0VhzkJs/X4SstevwtpJIwAATaVrMH72FhRefgwZ2auwbekkhJTuQOLkNSjxEFy5qSlAYvJWVI6ai23rX0bGE1acejcHj5gK3fbBffs3UbIyDYnri3HZMNVxrIlA0eaFGJ9zxiWQaSpdg/GmHSi68xgystfhneUGXHn3JST+yofJLap2w5iQg4Pm0UjJXod3sqcgylyI9ISFyL8IIHwK3tm/E++YRgOIQfb+nfho/07kPK5ekawO+0zJSNx8BnefnIttW1dh8ZNWx36/eER13GZsNL2KA62THPniglH5cR6MS4vbj++rHTBmFaIyfArWrl+Fxf9Qj4NZ6XjtnMuKFAxYnGkASstQpKgPlcXFuArA8uFn+FKR+9Snn8ESPAsLHLM5tvPluM278fNl5xCR8Qtsy05FfEiVlzqrVo/CZWmey0h5bmsKkRi7ELmlVjz9wiq8s34unraeQa4pDT8vVP7QIO3L8nN4KOVlbFs/C4YH2xe51y0NdbvH64f2axMf58D4uhkRy9fhnexpMFw/h60vpmOjs3pXITdJWl/2Kmx7YSxqP8yBMa8KQDAyMlKBa8U4qrgcLKVljmDkbDFKrrWnXyn5DF8iDoufdUzz6XM5AcDHeUjcXY+nl6zCtuw4RHS4X0RERIPQ3bs2oeVVd7le1F2ud0uXX3futIpbt6yisfGWuHKlQXRb9QciOiJaPHfUol7SsQu7xLiIaBG98ztxV5F894+/FuMiosW4ty84EqT1D3ulVDQ6c7WIw4uiRWBEtHjuaEv7m5tLxcKoaBG46DPnOmv2zBeBEdFi3BZpfZLGz3PFCOV2xHVxYF60CIzKFUebFRlbvxM7Zzq2tfBzKU3ap8BFnyn2SQjRWilWTogWgUnvigutinRpv4atqVAkuite4eGYhBAXpGOYL5ext+1XvClGRESL6F3fKVNFY3GuGBYxWaz8bylBuZ/K09ZcLhZOiBaBEfPFzmopTdqW89jFBbEhroP3zjosLktJjrLPFcWKbEI+zqQPRI30992j2SIwYrJYeNz1uBsPZ7se9+e5Hs/l11tmisCILHHgquNvx3YVx9B6QWyZNVOM+1UH5e9Wjx3HOSxpvng4YrJYKb+1tUKsjIoWw/650vH357mu2+rsuCPmiy3fKhI91FlPvJWRo27I59YiDi+R6rDy0m5tEQcWRYvAiGxx+JYjybEvM8UG6TCcvNUtn+t29+uHOw3Xpvi72JkkHasyb/Nn4rkIxXmTjjN6z9+dWb7e9aJ4OO7X4qQQQrSWi4UR0eJhZ12TyjZpvoiOiBYzfnNdSr8u9s6KFoHzfuc4Lp/Lyct+drZfREREfeDKlQbR2HhL3LplFXfutLrFE/Lrd5+eFL/79KRbupaX5p6d4Xo9huv16uR+p/JoMWqRim0rxiJEkR4y8RfYNB2o/bDUZQiJafY0tB/VMMRPMgAw4JmYYe2ZQqdhbgqAS9ddh5kgDmuzDC4p+ulvYNd0oPaTMzADwO1zKDoLGFavgClUkTFgLLJzUhUJ7ZJmxCn2CcBfynGkBUh6MRX6G/W4ck16WWKxICMMloJixy/DHQnOwFqT4pgAGJZvwtpwoOjz9uFE8LD9yhNn0IQ4vPJsaPu2r9XDMnEWFg+/iX0fS++X9jNj7cswKEcdhk7BppWu5eSmqhQHLgGmlYvc3nvI/Cfc+zRD4709VhQdLQMMS7Fptutx6zOWOo776AnF8LLRWJDquo+xT8YAaEGT1CsTlTwFUTBj365CnDLXo6nNgLWfluCv6+Nc3udizDQsNgAl8rbMpTh8CTCt/SXmBt/EkRNmR76KMhy0jkb2/C7eo2OYhQXKHlCvdVZJKqPIDKxTlZFh+Ue49/1ZvJMA4PYJHC6R6rDy8VkBw7A452WMRBkOlyp6kIKnIMXLYajrls91u8frR9euTUyf5po3NAbPGABLi9S1MmYS5kQC5t+8h31nq3GlxYrYFf+OSxWrkAQAAVOwYB5w9bdSO3T7DI6UAIZ5/4zsBODU5+cc9eRyGQ6fB1JemOU4Ll/LSZbwj3hGuZ+d7RcREdEgoznY6XORYxEL4FSFtmEWly/XAYbH8FiAekkwYmPHAtfqXGdpcsvnWbDHfGF4KFydFowf/hDAxe9QAwDXrqMGQOw4eZidwqOPwVMIMDLcMWzFSZq57NT6FDwSm+zySiuoB/B/Ye5suuUxoz18GRwG/XAA5jqXITvq7V++XAfgHF5LcN32I7GvYt8NAFXVjvdfq8NVGPBTD8MOo8aNVSe5kt77dIz7vVldU4/LlwA8PhZR6kUYg59OUgcCw6BXfjn0xLAC54rWId78LtKSkxE+5ilEZhV4vEer3WjMmdc+lK325BnUYhpSJ8fBlDHM+aX31KefwRKeijlegoSu8FxnlaQymhTrsR46dVSHDY/haQA13yvuD/JY1xzUdcvnut3j9aOT4/JybeKHw1x+RHFnwBsl/453nvwOW1404RHDUwiamIP8r9rv60mZrRjK9vsyFGE05iTHICUlxllPHEPYpmHBdOl4fS0nWcQI1TnofL+IiIgGk/4f7ARMweLMYbAU/NoxHt+bi+85bkre7viFPCJiNGC+gAtuN95aUVlZDYSPRoR6UZfV44pijL2DFc3NAB79fzAGAMJHYAyAym9V9zUAwMULjt6fzoSPxkgA8csd9yC4v/4ZCyLVb1KpqfPwC/9NNN0AYBjtISBoFxHheg+E22v7LMf7w0djJMz42sP5qv22Wp3kSnrvF1Wd3WPiqzBERAL4sxSIuajB1xUAItVfCDunj8vAoZKTaPn+D7h2ci2eOLkDM7Z6vWkHABA1Zy7iUYbDpWYc/dgMpKTC9CCQ9OwshFwrxtGvzqGo8CZGPj8dseo39yqpjCoqO66HHdVh8wV8AWDMKFUQ4ytf63aP149OjsvXa9OT4TF4Zde/41LNn9BiLsL+xyuQO283TsltUtJcvBJchwPFVSj5pBiITMUCA/BQyiypnlTj6JEqRy+SfL+Tr+XUkc72i4iIaBDRHOxUnK9CxXltvSzdlbT2LWSEmpH7bA4OyjMuKV0uRvqzu2EOTcU7yxy/w8bOSUUUipG7u9plBiyL+RC2lAJRL/TkF8pz2Pq+61eiptKNWFkKRM2e4vhl+ME4mBIA8/bdKFL2ANiqkb+zWJHQgX9IxNxQoPJ74JmUaTDNll4pY1Hz4Q6sOHQBls5+xbcWYmuR66+45r0bsPUaYJoxxSVdLXbqFOhRjcuY1L7t2dNgeqwO+/J2YJ/8BVTaz8Kt77nOYtZyBht2dfLVMWY6lkQCRbsOqd5bhkVjjAjKUM1U1algmOZMA8zvYsMnrsfd9MkHyL8GmOZM7eRXelcl2UYEjcpBYQsABENvmIUFiYCl4oKHgEohYhoWPAGU7N+Ag2YgZfYUx3YnTcPi4DocfetdHLSOxpI5HvsSepFURpcKsUVVRubd6QgalYzcrwA8OBULUqQ6rJz5y3YTRfsLcVXZA6GVr3W7x+tHD12baifzEDTKiDTpWgsJHYsFcyYB1kpUXpLyBEi9ekVvYuMnwEjTdEdbIdeTD7fg8HlV/fS1nLzxZb+IiIgGEc3BTkNjMxoam9XJvSt0Cg59moeUkDIsS/hHhKfkYNn2QhTu3YFF81MQNHENiu7EYNunbyFFHoJkWIp3XgiDebsJ40xrsLGgEBuXv4RxybthjsrEoeU9+YUyDE0F6Yg0rcHGvQXIzTQhPLMYTeEZeMe5nTAs3roKsdZipD9uQlpeAfK3r0Hikybk1oT59mU7IAZv7E5FSFEOwie9hEXbC7FPXke5FUlLpZ6VjgSH4YvlyTBm7kD+3t1YZEqGcbMZeGId3jZ18kU1bgUK5gWjcFkyIue3l2lk4g6cuh2D/z1PGgYk7afevBtGQzrS5P1MfBX/gc5++TfgjXdfRpTLe3NgfDwHhVYDtm1ufx5PyA9DARTjtexCFO7Nw76vVKuShJhW4Z0n7qFwmXTcBdI5WlaMkMS8zo9bJeWfXkYUyrBo5quOMsh8HotKgaiUSZ2UfxjmzI0BqswwKwODgDjMnA2Yz56DRfp1vyO+HrcWIaZ1OJQin9s85BcUYJkpGcatZujnvYG1E+GYRWz9OsS3FSM91lGH9+3dgbTkZKQXBSNp5ypkKGZc08Tnut3z9aNHrk21xAysjQRKli907mPcyjIgcgpSxrRnS3p2FkIumVFpHY0lznvFwpCSagDOnsOXmIa5ygDS53Lywsf9IiIiGjTUMxZ09upsVoQen41NqbVFfPH+RjHj6ckiMMIxS1LghDQxY2OpqPE4WZtF1Bx/Uzw14UlH3sjJ4qlfqvK6zQbm4DbjlkQ905c849PRhkqxc8lMab8mi6dWHBZfKGdBktytLhVLZ0r7L+/PBdU+eNknWeMfD4uF8joinhQjZuaKvRWus2h5Iu/7hepSsXSavA8zxYyNpeKycmanDrffIr54P9e1TFccFl94ONWNFR+I+fK5ikoT8/dUisZi1exiXrblUk4RT4oRM98UR793zSNavxMH5DKPnCk2/NGRrD5Hjrwt4os92WJclFRv5P1RHreHmc+8pTee2CVmPCGXwUwx4+1y13V58/1hMSVCMbuWTJ4Jzjl7nzJdtU9ajruDdDfeykidr6FS7FySJoZJ1+Cwp7PFTlX987pNL+db5mvd7k798Mana1Oe5WxFueubPaU3lIsN8+Q24Unx8Lxdolh9nUiz7wVGvSm+UKbLs9YtKfU4i17n5eRhf2S+7BcREVEv8nU2tp54+d29axPqAKgjxSfKAQCpUxPViwAAQgjY7Xa0trbCarVi5EjltE2DT+3edIzfPBbHvn8LKeqF/UzJSiPS/rwKfz2Z2fGvv0REREREveTq1RsIDg5GYGAgdDod/Pz81Fl6jOZhbERERERERAMBgx0iIiIiIhqUNA9ju9HUBEgPF/VkqA1jIyIiIiIi3/k6jK2z22d8oblnZ7he7zXQISIiIiIi6i80BztEREREREQDAYMdIiIiIiIalDQHOxXnq1BxvkqdTERERERE1K9oDnYaGpvR0NisTiYiIiIiIupXNAc7REREREREvS11amK3ZmIDgx0iIiIiIhqsGOwQEREREdGgxGCHiIiIiIgGJc3BTvxEI+InGtXJREREREREPab4RDmKT5SrkzXRHOwM1+sxXK9XJxMREREREfUrmoMdIiIiIiKigYDBDhERERERDUqag52K81WoOF+lTiYiIiIiIupXNAc7DY3NaGhsVicTERERERH1K5qDHSIiIiIiot6WOjURqVMT1cmaMNghIiIiIqJBicEOERERERENSgx2iIiIiIhoUNIc7MRPNCJ+olGdTERERERE1GOKT5Sj+ES5OlkTzcHOcL0ew/V6dbIbPz8/+Pn5qZOJiIiIiGgI68s4QXOwo4Wfnx9aW23qZCIiIiIiGoJaW219Fuigt4IdOVrT6XS4ffsO7HahzkJEREREREOI3S5w+/Yd6HS6Puvd0RzsVJyvQsX5KnWyG51OB51OB6vVJgU8dnUWIiIiIiIaAux2O27fvgOr1eaME/qC5q00NDajobFZnewkR2l+fn7w9/dHQEAA7tyxoLGxBffutUKwk4eIiIiIaEgQArh3rxWNjS24c8eCgIAA+Pv7u8QMvcnv7l2bpvBDnhGho6eZCiEghIDdbkdbWxtsNhtsNhvs9ja0tbU5lxMRERER0eCk7ADR6RydIHKw01dD2Xol2IEq4JGDHvn/DHaIiIiIiAY35X38Op3OGeT0VaCD3gx2oAh4lIGPHOQw2CEiIiIiGrzkYEYOeJRD1/oi0EFvBztQBDXqf4mIiIiIaPBTBj3Kf/uC5mDnRlMTID1cVAsGOUREREREQ5fWIEdrJ4snmoMdIiIiIiKi3tYTwY7mqaeJiIiIiIgGgj7r2eEwNiIiIiKioWtADGOrOF8FAJj0RIx6kUfqiQkY9BARERERDR3qiQl8DXruS7CjZaOcepqIiIiIaGjq7tTTWuIOb3ot2FEGOHa7Hf7+fggJCYK/P28TIiIiIiIaKtra7LBY7qGtTfT5Q0V7JfJQBjptbW0ICvLHAw8EM9AhIiIiIhpi/P11eOCBYAQF+aOtrc052qsvRnr1WvQhBzv+/n4IDg7sk8iNiIiIiIj6Hz8/R0zg7+/ncmtLb+vxYEd5j05bWxtCQoIY6BARERERDXF+fo7bWtra2lxiht6k+Z6dG01NAIDher16EaAIdmw2G1pbW/HjH4eqsxARERER0RDV0NCCwMBABAQEdHjvjq9zBXREc8/OcL3ea6AjU96zQ0REREREJBsU9+yA00sTEREREQ14myzHsclyHI+25CKgKQuPtuTi0ZZcZN05gIJ7Z9XZO9WXMYLmYWydkXt0WltbYbVaMXLkcHUWIiIiIiLq507bvkHWnQOotderF7mI0oVhUVACNoQ8p17k0dWrNxAcHIzAwEDnNNSe3JdhbBXnq1BxvkqdTEREREREg8Qmy3FMvfU2au31iNKFYUNIGt5/YAls+vdxMXQb3n9gCTaEpCFKF4Zaez02WY5hk+W4ejX3neZgp6GxGQ2NzepkIiIiIiIaBBzD1o4BADKDEnAxdBs2hDyHzKAEQOrJyZR6csp+sBobQtKk9/W/gEdzsENERERERIPTads3zkDnxA9ex/sPLFFnceHo9XnOmW+T5ViX7uPxJHVqYreGsIHBDhERERERybLuHACkHp2fBUxQL/YqMyjB2fPzq37Uu8Ngh4iIiIiIUHDvrHMygs56dGSbLMed7/mXkOec9/Cctn2jznpfMNghIiIiIiKUSwGKfA9OZ6beehubLMecvUHyrGyQhrP1B5qDnfiJRsRPNKqTiYiIiIhoAJN7Y36i+7F6kZupt9525lcGR/LQt/+xNzjTuqr4RLlz+umu0hzsDNfrMVyvVycTEREREdEAJg9HU96rc9r2jXMKalnWnQMugY4yvy+BUl/SHOwQEREREdHgpeyVOW37Bqdt32Dare2otdej4N5Z52xr8vTTSlG6MEARON1vDHaIiIiIiMgZqCgtCprsnHRg2q3tzvtzfhYwweMkBnIg5Gld94PmYKfifBUqzlepk4mIiIiIaACTh6ApZ1KL0oWh7AerAdUwtxM/eN2ZR0nuFdIybXVv0hzsNDQ2o6GxWZ1MREREREQDmDzRwCHVQ0GjdGHOXpwoXZjXQAeK9yYO1GCHiIiIiIgGn5/ofoyfBUxArb3eOVxNlhmUgIuh23AxdJtLupI8kUGULsz5gNHuSJ2aiNSpiepkTRjsEBERERGRy3NyCu6dxSbLcbfl3sgTGUDDA0n7AoMdIiIiIiICnDOsOYazbbIccwt41Grt9dhkOY6pt94GPExFfb/53b1rE+rEjsgP9vHWpSSEgN1uR2trK6xWK0aOHK7OQkRERERE/VStvR6H7v0emyzHAKlH52cBE5AYMAFRujD8RPdjnLZ9g/+xNzjzQAp01FNRe3L16g0EBwcjMDAQOp0Ofn5+6iw9RnOwc6OpCZAeLuoJgx0iIiIiooGv4N5Z/MpyvNNn5sgTGPjao+NrsNNZJ4svNAc7nWGwQ0REREQ0ONTa63Ha9g3KpXty5AkIADjv7/GlN0eJwQ4REREREQ1KfRnscIICIiIiIiIalDQHOxXnq1Bxvkqd3IvqkJ9sRFByAWrViwCgpgDGUUYsKlUvGECuncHW1Xk4+BfX5NoDCxE06ikkHqhzXdAlddj37FMIemQh9tWol/W9Kyffw7LVR1CpXtCvnMGiUUYY9/ZE+XvSvfUPjDJsZzm5BZGjjIhcfQYW9UIflKzsoB1Q8nI9dZW3cq7dm46gUWtQokrvFg373rPtw2BnxsHVedh6UjXmvF99fnSvPRhsrpRsQdwYI4JGGRGaUdj5dT+IeGtz+i31dXT7DJbFGhEUuwUlt1V5O+OlDWR7R92hOdhpaGxGQ2OzOpm643Y1Dn94BKe+d02+8rc6AFaY/9bxTWG+qUftRStgq0PtDfWyvmcxl+Lgh+dwWb2AfDbQyrDpWh2uArh66Toc05z0Ei/XU1f1aTlr2PeebR8Gu+s49eERHDZb1QuoP7pdhpVZhaiMmIK1W9che9JohKjzDGJ92ub0htvXUXsNwLU6XNEa7HhpA9neUXdoDnao78TnnUSL+Q+4lhejXtQFMdj25z/g2rcnsW2iehlR73soYw9azGfRUjgXD6kXkmY92z4Q9SPX6mAGkPHGHryRmYE3sqewzRhIwufiP2vO4lrNHiwOVy/sGrZ3Q1fq1MRu3a+DwRrsXCnZgjjDUwgaZUTQmHQsK3H/JaDpq0IsSklw5BmVgPFZBfjS1x6PG1XIzzIhdJTUxT45B/nnbrrmkbt1S26iZPtLiHxEyjt9DfZ9JeeVhugl7IAZQGGmI0/QyjOOxaVrEGpYiHx52Jm8zkLl9hMQt7oMV2xA01cFSJ8sHZOH4y7JeQrhs+VhQNK2pWNQv1yGUlwuQ+58eXtPITxlC4pqXH8hdQwxeg+nitZg/Bgjgkalt++3knQM4zebARQjTdpe+zASK2o/UZy/RxzHV+vrD7K+nBsATeeUZWVC+t4qNJWs8b7fCpaaMixz1h0P5VG6RnVMnaSrdLpvnZZhV+q3GRsnGRGUWew6xKxqNyJHGRG6XjV09ewWhI5KwGtn5YSb+PLAGsV1J+23TfGemgLEGRKwVH38LudM3tcyL0N67qFGeX0bFirqeSfXE27iy705Uv00ImhiDvKd16IHPpQzAFxxue6k43bN4lpn5DptVg796GzfPVC3D/I6VpbBXLjGOQQoaOJL2HjS/Tg7rceK9mZjhpRPsT++1rFO67Okt9rtkpVGBI16FYUAzJtTHO9VD4ds8FAHW5QZ4Fsd70Cn5S1rq0PR6oUIf0SRz8NP/D6Vq3wOP6nGwZXpzjY8cv5ulLiVm49tr60eRXkvtV9HhoVY9kmdj0NTO99GyUoP14H6fKnZVNe2t3Pjy+dDqaMMt5YXY5FUvo52SL6+juDL7S9J56d9GKuvdbPDeuBjm6MkD6ctunEGG+dL9XtUAuJWFqrqcC/sv3T+rrSpc9UhPyUB4atV7VeH5d9JG+jW3sGn+qTpGrisPDft361oELh71ya0vH736Unxu09PuqXLrzt3WsWtW1bR2HhLXLnSILrv72JnUrQITPpA1KgXCSFE9QciOiJaLPxc+vuPvxYjIqJF4JRssWHPB2LprCQRGJEkVla0v6Xx81xHnpgssfDtD8TOjdkiOjJaBE7IFcXN7fk8qj4spkRGi8DImWLGLz8Qe/dsFDOeeFIERiSJGYf/rsjn2K8RE5LctxORJJaesAghLOLC6VJx9P1c8XBEtJjyq1Jx9HipOFp53bGOz3NFYMR8sbPadZ2BEU+Kh9M2ip17donnpjwpAiOixYjnl4unIp4U0Yt2iZ17NoopMcrtOBSvUJajtO3jytdnYu+KNBEYES1mHJb24dsPxFMR0SIwMk08t/EDsfPtXGnd88XOb52rdqw7wrHNKa/sEjv3fCCKr7Yvd7r1nTh5vFTsfWWmCIx4Ubwubfvr74UQwiKKf5kkAiOixbBp2WLDB4fFhkXzxbCIaBH49K/FF7fUK1P5/jMxf4Lnc7Pw8xZnNm/nf8SEJNfyFuViYUS0iN6jOK+Vu8S4iGgRGDVfPPf2YbH37WzxVJSqPD7PFYHKOilzS3dfv0/71mEZel9HZ/W7Zs98ERiRLQ4ryvnrLTMd5zXqTfGFIu/JNZMVaS2ieIXjvD2clis27PlAvL7IUY9GrCgXjfKb1NeqEEI0l4uFE9rrzd4PdomFaUkicEKSGKEqG2cdc6uLvl1Plw8vl/ZRunaejhaBEVnigFRubjopZ0d5RYvASLnO/9p5PT61X1FnvF1DE5LEMGd5dLzvHqnbB7mtlLcl1U9HmzNTbKhUvNeXeuxsbxzt6et7PhAbfnNBCA11zFs+t2utF9vty5Wl4ujxX4spEdHi4VcOO8r19HfirlC3qa51N3Cm8jPHxzrujS/lLbUHLuX9SpZ4OCJaBE7YKIoV16W3snArV9U5dLSp0vHF7RJft7av8+u3Helube/MD8QFOV/rd2LnTEd5RS/6tdi5R7peI6LFU3u+a1+ZR76175crPVwH8vny6Lo4vCTJcQ7nbRQ7P/hALJ3naLdc2x8fP7uldlp5rneeuO5+fW38QOx8+3fi6w7Oh1vd7KwedNLmeOJoh5LEiAnudTMw5k1FvemB/Ve1ZXvlNm9KmnjYpW2XtrWivP29nX4+d9IGurV3vtUn36+BSvH6BLnt/EDs/OWLYkREtBjxz8qGk3rSlSsNorHxlrh1yyru3Gl1iyd68jXogh3Hha+4IFoviC2zZopxv5I+NVsrxcoJ0SIw6d32BlwIIZpLxcKoaDFsjeLT1Y1FHF4SLQKjcsVR5aG1togDi6JdvyjKF5jqA8X55S5ul3B8bXA/Bif1xS3lG/ZKqeLDtUUcXuS4kJ872v6FXj6ewEWfOT8kXIMdd3KDN+6fK6T1XxcH5knHq2zwWr8TW5KiReCsw+KylOT4Iqr6QtUBx3nKFcXKxAuOD4Lona4fbHf/+GsxLiJajHvbWWIeeDs30odz1JviZGtH51/+0t1RsHNBbIiT3tseQ7a/Vy4Pt6BG4pauWr+mffNShl7X4UP9lurXc0flg3Mc77Ck+eLhiMntXzxbK8TKqGgxTP4QqHjTEZjscv2y01icK4ZFTBYr/1tK8FDPv/hn6cuZInBWfrF0D3bmiy3KvB7quaftCOf7FeXVXCoWPjFTPPebDgIKb+XsTJ8sFhYrrjv52ojZJb4WosNryPGlUbWfXvbdI3X74Pwyky0OK7fV/Jl4LkJxvnytx3Ibtugz1y/zvtYxr/nc63PvttvC/VqTeWxThbiwa75re+ZrHffIx/KWgx3VMTq2obguvZaFe7l6O4eNR7NFoPKa9tL2yp8JU96XfjD4TZZ7nXeW14tibwdfyr1tw2P7ruE6uCsdy8Ljqn2Srk/HufH2+eDhs1tqp8dtUX/eeLm+vJ4Pdd30tR54b3M8kX90Ue+v8/PcWa7d3X9FW+bpM7bDYMdb+as+n0UH517d3vlan3y9BqR8yjbi610viofjfi1OOlOoJ/VlsKN5GFv8RCPiJxrVyf1GVPIURMGMfbsKccpcj6Y2A9Z+WoK/ro9zZPhLOY60AEkvpkJ/ox5XrkkvSywWZITBUlDsfXal2ydwuAQwrF4Bk/LxQQHDsDjnZYxEGQ6Xuvb5J61cgNgARULoFLz71jTg0gkcvahI18A0exr0zr+GIX6SAYABz8QMa88UOg1zUwBcuo4r7aleNZWuwfjMYmDeHpzbHOdY/+1zKDoL6DNmId6iKKsboVjwYhxw/ggOX1KsJHgKUroxnLbyaDFqkYptK8a63IwaMvEX2DQdqP2w1PvsNNK5iVr+T6pzMxbZJX/CvZp1SApoP/8Za1+GQXVeNq00KBI8qCrFgUuAaeUiGIIV6aFTcMj8J9z7NKN748q7s2+y7tTvMdOw2ACUHD3hGJJiLsXhS4Bp7S8xN/gmjpwwO/JVlOGgdTSy5ztOduWJM2hCHF55NrR9e9fqYZk4C4uH38S+j70NxarC4Q/rgXkrkP2oMn0YUrIz4fGIDbOwQJlXQz1PSp4G4Bz+z/YyVF66CcsD03DoqxIce8HxYLSumYIFKYrrLmAs5swZC1yrc9xcLF1DhtUrYApVvC1gLLJzUhUJPWj6NNdthcbgGQNgaZHGtGisx0kzpPZA5msd01Cfe7Xd9oFpjrJNBQwp02FAHWquOf7ueh3XXt6Geaku5aWfPg0mADXfS8P6NJSrLGXOVJfj08fEwICbkOcacrS907BuqWvbq5/+Fq59/yeULwkDYMV/fX4OGD4LCyZaXcpB/+xcJKEKBz9RDztt16323Ssrio6WAZEZWDdbcR0CMCz/CPe+P4t3Erry2T0MKVM9lyUS/hHPKK8vX+umxnqgTRzWZrnur376G9g1Haj95Aykltuhq/uvbMvUn7GdtWW+fj5roLU+dXYNYMwkzIkEzL95D/vOVuNKixWxK/4dlypWIUnxPup7xSfKnc/a6SrNwc5wvR7D9S4fff2LYQXOFa1DvPldpCUnI3zMU4hUjr+WZoQ6tT4Fj8Qmu7zSCuoB/F+Yvd2zce06agDEjhutXgIYHsPTyg8kychw9y9SIQ8GAajGBW/b6YyPjUKwj/lwsQAzMovRFLMK5TuntDcI0vE2FbzqVlbj158DYMbXylZ0zOhuNNbA5ct1gOExPOa238GIjVV8gfRE2tf4WC8fULJrdbgKA37q8uXaIWrcWHWSK+m9T8coP6l6UHf2Tdad+o3RmDPPAJSWoeg2UHvyDGoxDamT42DKGIarv3V8eJz69DNYwlMxRwpsL1+uA3AOryW4bu+R2Fex7waAqmov4+1b0GgFDAYPxzZmLGLVaV74Ws9DTFvx1/2zgE82Im5SAkLl8eY9PCY7xD+o/Y+O2oxHH/Mc0HXXD4d1PHOVxnrs1ob5Wse01OfebLe7QnkOu1XHtZe3mwDV+7SUq+SHD3a8bUfbG4P4B9VLlOpx+RKAG4VIU52DRxK24BSAyj9Xq9/k1K323StpnybFdnwtdXQdevzsHo2oEYo/lSJGuH7O+Vo3u1sPOhSGh9wmAgjGD38I4OJ3cLk0urz/HZRhZ22Zr5/PGmitT51dA4ABb5T8O9558jtsedGERwxPdX5fJw0YmoOdvjcaYwwAbrS43fQLALh4AWYMw49+2J6kj8vAoZKTaPn+D7h2ci2eOLkDM7aecywMH42RAOKX78RH+z29/hkLItvX5SJ8BMYAqPzWw69X5gv4AsCYUa5fDK5ec7/J1nL7HoCxeGyMesl9cLkY6c/uQGXMCvypKNP1l0LpeEea1nkop534aP8erJukyN9NERGjAfMFXHD78mlFZWU1ED4aEepFMmlfv6x0+Q3LXfhojIQZX3voVav91vsHNdD+3i+q1Hfs9pDu7JusO/UbQNScuYhHGQ6XmnH0YzOQkgrTg0DSs7MQcq0YR786h6LCmxj5/HRnMBIRMRpADLLdtiW9ts9ClGo7DqH4UTBgNns4tprqLvzK25lgRM1ehf8sP4t7f/sD/vb/zoXlwxykH3K/RntMR23GxQuuv7j2le7WY1/rmMb63Gvtdg/oeh3vgfJW01iuvnC0vVX4ssNpgsMQEQkgPBXvqI9feh1b7v0nim61715J+1RR2fG11NF16OWz22e+1s2ergcu6nFF6oVsZ0VzM4BH/x90+FXD5/3voAw7a8t8/XzWoFfq0/AYvLLr33Gp5k9oMRdh/+MVyJ23G6fctkEDzQAIdoCZM6YB197D0t3VrjO+tJzDa+uLgdBZWPCEI6kk24igUTkobAGAYOgNs7AgEbBUXHD88vYPiZgbClR+DzyTMg2m2dIrZSxqPtyBFYcuwOL2S4HkwalYkAKYt+9GkXIWD9tNFO0vxFVMw4Lprr8enNp1GJXKC6XlDJauKQMip2KOh1/m+lTLGSxKWoMipOLYb1927VoHgAfjYEoArppvwjBDUVazJyG4/F+xYvMZ1Kjf0w2xc1IRhWLkqs6zxXwIW0qBqBfav2C7kc5N7d4PVOemGluTjQgy7MCXaD//hVvfg1l1Xjbs6qQhjpmOJZFA0a5DcHlcR0sZFo0xIijjiGMoleExxAL48o/K9d1EySfSFzdvurNvsu7UbwCImIYFTwAl+zfgoBlImT3F0UswaRoWB9fh6Fvv4qB1NJbMaf+FLnbqFOhRjcuYpKgj02B6rA778nZgn9cP9xiYMoYBH+9GvssXt5soyS/o+MNTszrkpxgRNGm343oMCMZDCbMwJxz4svKCOnPPka4h8/bdKFLOjGSrRv7OYkVCH/K1Hnvjax3TUJ97td3uAV2v4z1Q3moaytVXjra3DFvedW17m0rWIHSUET8vrAcQjGdmxAHXqtE0bopLOTwTcg4b8v4V//G9a4+YUrfad6+CYZozDbhUiC2fuP4Cb96djqBRycj9qmuf3T7ztW72dD1wcQ5b33c9902lG7GyFIiaPaXjXhdf91/Zlqk+Yztty3z9fNagx+vTyTwEjTIirchRj0JCx2LBnEmAtRKVyuH6NCBpDnYqzleh4rxqGtpeFmJ6A8fmhaFyqwnh03OQu7cQ+Xk5MD7+EvZdMmDtb1chXvqgS/mnlxGFMiya+So2FhRiY+bzWFQKRKVMcvzyFhCDN3anIqQoB+GTXsKi7YXYt30NEp80IbfciqSlHfxCh2BkrF+H+LZipMeakJZXgH17dyAtORnpRcFI2rkKGaphAPrmo4h78iUs2l4g7fOrKGwJw+KtS9sboAeHIQJA4cY87Pu4AMsO9EX51uPg0ldR2DIWi/9lGqyny1D0ieJVVQ8gDIu3rkKseTeMhvT2401MRtqH1YjIzEBKFz8fQn4YCqAYr2UXonBvHvZ9BcCwFO+8EAbzdhPGmdY4zt/ylzAueTfMUZk4tLyjJjsYGZvfgim4GOmxKfj56gLs25uHxCdN2GgOQ8bupYhH+/nXm3fDqDov/4HOftkz4I13X0aUXB7bC7Fvew6Mj+eg0GrAts3S82MiZ+GVBKB2dzoiTXnILyjAMlMa0j6xdjy8SOO+eSzDbtVvAAjDnLkxQJUZZuUXgIA4zJwNmM+egyUyFQuUpyJuBQrmBaNwWTIi57eft8jEHTh1Owb/e56HYQ+SpLVvISPUjNzEZCQu3419BbuxyJSGtM/hep+IFh6vp9FYvGwacOk9zHCek+XYeg0wJUv3hXjhsZx9Jl1D1mKkP+5oM/Ll81ET5l4fPO57T/OxHnvjax3TUJ97t91Gey/iri3Y+HEhNm4u8z7szJNu1PFul7eahnL1mWEFPsoeC/N2x2es4xyYEJ5VDEvMKrwzz7Heh55fh20xZmxMTkZc5g7kFxQgN9OE8MxCmMPn4JXEDj4QutW+exdiWodDKfK5ka/tZBi3mqGf9wbWTkSXPrt95nPd9L0eaG9zwtBUkI5I0xps3Cufk2I0hWfgnc7K1ef9V7Rlzs/YHUhLft5zW+bCx89naGgDe7o+JWZgbSRQsnyh89zErSwDIqcgpcOuMRoQ1DMWdPbq+9nYZBZRc/zXYsbTk6VpISeLcfN+LY56mP2l8cQuaUpDaZrDt8tFo3KWESFE4x8Pi4Uz5XU9KUbMzBV7K1xnc/GqoVLsXJLmmOIwIloMezpb7FS/V55RpLhFfLEnWzwcKeWdliv2/tF9Oxd+I+d5Ujz8tjQFkHr2ES+zlLjNZCRRz77m+rdiGkpPL5cpI0vF6/OUx5slXj/+d5cZUNTb6lTrd+LAEmla48iZYsMf5QUWUXP8TfHUBPn8TRZP/bJU1Chnr+mIp3PjobwbKz4Q8+W6FJUm5u+pFI3F6tmtPM/gdLe6VCx1qTtvutdDy3dir3M/nhQPL/lAfPFH9fnzvH7f9q2jMuxm/f7+sJgSES0C5/3OOTuQEIpZijzOitcivng/1/W8rTgsvlA2AV7qr+OcSccRIb2v2b1svNUxT+kerydhERcO50pTvTqmf114uKMpbSVeytnbjEme0l3qjFynL3guD8/77oG6fXCbAanj9E7rsbfzJfG1jvlan3u73W787187z/2wJZ+5zDjndowe032o4x3otLy9tAfe0n0qV4/H4S3dc9t7WXUOROt1cXRjlhjnvI7SxIyNvrbRnrfh9l6P+9eBVsfnrHKf5u+pdJ8S3NPng7r+uF1XMs/XkczXutl5PfDe5ngitzdHPbajypy9sP9e2zIv2/JU/h4+nz22gR7Piw/1yVtd8pTeUC42SNOWO6Yy3yWKfby+STtfZ2PrLO7w5eV3965NqAOgjsgzInh7mqkQAna7Ha2trbBarRg5Ujn1xhBSUwBjwg7EFvwJh6arFxIRbFY03bgJPBgGvfpX1UsFiJu0A8grwbmlHf1qTkQ0dNXuTcf4zWNx7Pu3kKJeSNSPXb16A8HBwQgMDIROp4Ofn586S4/RPIyNiKhHWM9gaWwywpcXu00+Yi76DJUYjZREBjpERETUdQx2iOj+eHAacpaEAaVrEJd9BJWX6nHlWjVKtr+KxK1m6OetQ7bGYddEREREShzGRkT3j+0mSjYvRNq7rlPmjkzOQ+kHc12nQiciIqJBoS+HsWkOdm40OQaceHuwKIMdItLs9k3UXqxE5a3RiI8ejYdCO5jViYiIiAY0X4OdzjpZfKF5GNtwvd5roENE1CUPDkNUzBSYEsYy0CEiIqIeoznYISIiIiIiGggY7BARERER0aCkOdipOF+FivNenmhLRERERETUT2gOdhoam9HQ2KxOJiIiIiIi6lc0BztERERERES9LXVqYrdmYgODHSIiIiIiGqwY7BARERER0aDEYIeIiIiIiAYlzcFO/EQj4ica1clEREREREQ9pvhEOYpPlKuTNdEc7AzX6zFcr1cnExERERER9Suagx0iIiIiIqKBgMEOERERERENSpqDnYrzVag4X6VOJiIiIiIi6lc0BzsNjc1oaGxWJxMREREREfUrmoMdIiIiIiKi3pY6NRGpUxPVyZow2CEiIiIiokGJwQ4REREREQ1KvRbs+Pn5wc/PT51MRERERERDWF/GCX5379qEOrEjN5qaAOnhop4IIWC322Gz2XDv3j3o9T9AYGCAOhsREREREQ0xra02NDXdQlBQEAICAqDT6bwGPsUnygHp3p2u0tyzM1yv9xroyORoTafT4fbtO7DbNcVTREREREQ0yNjtArdv33EGON6CnJ6kOdjxlU6ng06ng9VqkwIeuzoLERERERENAXa7Hbdv34HVanPGCX2hx7ciR2l+fn7w9/dHQEAA7tyxoLGxBffutUKwk4eIiIiIaEgQArh3rxWNjS24c8eCgIAA+Pv7u8QMvUnzPTsV56sAAJOeiFEvchJCOO/daWtrg81mg81mg93ehra2NudyIiIiIiIanJQdIDqdoxNEDnZ8GcrWE/fsaA52fN2oMuCRgx75/wx2iIiIiIgGN+V9/Dqdzhnk+BLoQEPc0ZFeC3agCHiUgY8c5DDYISIiIiIavORgRg54lEPXOgt0ekqvBjtQBDXqf4mIiIiIaPBTBj3Kf/tCrwc7MgY5RERERERDV18GObI+C3aIiIiIiIj6kuZg50ZTEyA9XJSIiIiIiKg39EQni+Zgp6s4jI2IiIiIaOjSOoxtQAQ76okJGPQQEREREQ0d6okJfA16+n2ww6mniYiIiIiGpu5OPX1fgp2K81UAgElPxKgXuVAGOHa7Hf7+fggJCYK/v06dlYiIiIiIBqm2NjsslntoaxN9/lBRzZFHQ2MzGhqb1ckulIFOW1sbgoL88cADwQx0iIiIiIiGGH9/HR54IBhBQf5o+/+3d/9hVdd53sefIL+2RjoRYejWoPdM0TWBbN4hd6y0CHV3cErGywyvWWXN0mtrrRu9GrTxLnMczfFSttz00jYdnOmSaRvDnIF7E23D21aYKwdmd9Zj4yKbkUgggqLnyIHv/nF++OULCEcEAV+P6zpX8f58zvme8/2eP87Lz49vR4d/ttdQzPQatPThCztjxgQRHh7aZ3ITEREREZHRKSjIkwnGjAnqsrTlarIy0gY0qsNghB3zGp2Ojg4iIsIUdEREREREbnJBQZ5lLR0dHV0yw2C67mHHx7dWJyRkjLVJRERERERuQiEhY/w5YSgMStgxr9kRERERERHxGco1OwHvxnb23DkAomw2axOY1uq43W5cLhcxMbdbu4iIiIiIyAix2vkRALsuH6a2s5G44GgAHgm5j7SQ+8gNS7U84+oaGpoJDw8nJCTEvzNbT67HbmwBh52++MJOe3s7LpeLceOirF1ERERERGSY+9R9nIUXd1Db2Wht6iIuOJr5Yam8GvGktalHZ86cJTw8nNDQ0EEPO4MyjU1EREREREau1c6PyLjwM/9IzqsRM3n3lmdw297lROR63r3lGV6NmElccDS1nY2sdu71jwANJxrZERERERERv9XOj1jt3AtAblgq797yjLWLX21nI7suf+bv/2rEzD5HeIb1yE7F0WoqjlZbyyIiIiIiMsJ96j7uDy4HvvWjqwYdvFPYXo140t9vtXMvhZcPW7vdMAGHnabmFpqaW6xlEREREREZ4RZe3AHeEZ1HQu6zNvcqNyzVv1HBT4bRdLaAw46IiIiIiIw+hd7d1oA+R3R8Vjs/8j/n/0Y86V/D86n7uLVrwLIy0gY0hQ2FHRERERERASj3BpRXI2Zam3qUceFnrHbu9Y8G+XZlwzudbThQ2BEREREREf9ozLeD77A2dZNx4Wf+/uZw5Jv69l+dTf7ajaSwIyIiIiIi/ulo5rU6n7qP+7eg9ll4cUeXoGPu35+gNJQCDjspUxJJmZJoLYuIiIiIyChgHpX51H2cT93HybywgdrORgovH/bvtpbbw41E44KjwRScBqLkQLl/++lrFXDYibLZiLLZrGURERERERnBfEHFbH7Yw/5NBzIvbPCvz3kk5L4eNzHwBaGeXutGCDjsiIiIiIjI6OObgmbeSS0uOJqyb70MlmluB771I38fM9+oUCDbVg8mhR0REREREfFvNLDLclPQuOBo/yhOXHB0r0EH03PTRmrYqThaTcXRamtZRERERERGsG8H38EjIfdR29non67mkxuWyonI9ZyIXN+lbubbyCAuONp/g9EbLeCw09TcQlNzi7UsIiIiIiIjmPk+OYWXD7Pa+VG39t74NjIggBuSDoWAw46IiIiIiIxOnh3WPNPZVjv3dgs8VrWdjax2fkTGhZ9BD1tRD0RWRhpZGWnWckCCLl1yG9bi1fi2f+vtwIZh0NnZSXt7Oy6Xi3HjoqxdRERERERkmKrtbGTX5c9Y7dwL3hGdR0LuIy3kPuKCo/l28B186j7Of3U2+fvgDTrWrah7cubMWcLDwwkNDSU4OJigoCBrl+tGYUdERERERLopvHyYnzg/6vOeOb4NDPo7oqOwIyIiIiIiN1xtZyOfuo9T7l2T49uAAPCv7+nPaI7ZsA47Z8+dA+/NRXuisCMiIiIiIr3pb9jpa5ClPwLeoCDKZus16IiIiIiIiAwXAYedoVdHwfREwqYXUmttAjhZSOL4RObvtzYMhPeYLx6yNvRL/cF3WPzyHqqsDcNV2yEWJyUSlrSW0jZrY99KX7zK9TFrOMS6l1ex84/WhsFhfV+1O+YRNv4h0nbUWXr2xyHmj08kcUvfz+3t+lvfj4iIiIgMrhEQdkYep2M/O9+r5LS1Ybhq+4baBqChjvprCDv91lbD7vf28MnX1oahUf9lHeDC8eXVF9kN1Ii7/iIiIiKjVMBhp+JoNRVHq61lGcliZvHPJw/TcPJtFsRYG0ePlFUHaXX8joZVk61NIiIiIjIKBRx2mppbaGpusZaHEd90oxocRctJnphI2PhEwqY8S35pD/+i76qj+OV5xNyTSNj4h4ixr6X4tMvaCwDnyTIW21M9r3dPKskvl1HrME2j806pu3eNAyhh5njPsc1T7M59XsR832uMT+XehYUcOWs+ipWLooWJhCVt7jotqs37+k/tod5cP11E2vhE0nb4Put5juxYTnL8Q55jTsxmzpZqzrnNT6qjwJ5KzMuWaXtnqylYmE1kl/da1st0rsucLF175Tjx81jsP9/eaYGpG3EARbnea+KfJnieI1uWcq//Wi2l4PPzptfuWb35eBPnmI7Xi/3LiYyfR8FJc9FF7T7L+95Xh2PLHMLGL6fU3BWgo6fvi7etH9f/it6nZ2q6m4iIiMj1EXDYGSlq33qWxB85iM1dxvq8LFI6KilYaO+6XsNdQ0G2nTnvObgrPZf16/6OBTGVzJm6lJ3WAHKikLTUpez8453YFy1j/ZJpROxfyr3Zph+lMdN4c9sm3syeAEwmb9sm3t+2iaUPeJrP7V/OvU+spej0/eTkLWP9oqlE7N9I2sPLKW01HauLcHJysqChhA9NA2rO/WWeH+KHSyhtuFKvL/0tR0hmwfejgfOUvjiTtJUlnI7PYMXKZeSlQfGaedy79BCeffV60XqI+Q/PI7+0laTs53hzXQ4pTYWkPbyW/2ftC+DYzP9eXElszt95zndENTsXzmHxQRcQjX3VJt5fk8U4IOV5z3l5f+H9ANQXLSdtTRmXJs9i/crnsIeXkf9EHjuvNg/s840kLiyiKmYaK1YuY8H3Gtm5cA4vVVo7Xp1jyzzuXex5nbyVr7A+507+9QU7aW9Zw5yHY92zzKm4kwXLl7EiezLh1UXMSV/lWevUx/UXERERkf7Lykgb0E5sAFy65DYCefz6NweNX//mYLe673HxYrtx4YLLaG6+YNTXNxkD95WxKT3BCE3/uXHS2mQYhlHzcyMhNsGY97GvUG7Mi00wQmPzjN0tpn7t/2lsetxbv+Apnf7lQiM09mFj3ketpo6Gceztp4zQ2AQjdEm5t/KNsWN2ghEal2982ONrmo9vGCfffsoIjc03SkxdjfYq48X7EozQ9O3GsXZTvWW/MS8uwRi7vMJUtGj3fKY/X3vMW3Aau59JMELTnzISYhOMx375jbf+jbFlRoIROvvXxmnDMIyKnxp3xiYYCW/955XXMgyjuSTfGBv7sPHi//dVvOfY/3kN419/nG6Exj5lbPqTv2QYRqtRsiTdCI1NMBLe/spfLVmSYITGPmWsNff1fq7Q+b81Lvlq3a6Vh+f5pvPVst+Y9+DjxpP+z9Wd5xw/ZWyq8RbajxlrZzxufPcnV85jyRLL9+bj/K7P+frXxmOxCcadS8qNZv+zDMP408+Nh2It78n3vbJcP8+5TDCe/NDpr/V4/bu9n96/193et4iIiMgoUl/fZDQ3XzAuXHAZFy+2d8sT1/Mxakd2Ip7JJSfSVAiZRN4bzzGOMkrKAVz8y8eVEL+I1U+MNXWE+EVLyDEX2iopPgzxLy8h2/qaS7NMhav4Yzl7WiH9r7OwnW2kvsH7cCYxNycaZ2FJ9ylTPiHTmDsbzvxqv2cqW9sh9pRC/Owfk5cKn3xciRPgdBm7j4L9hzO4C6g6cIhzJPO334+8cryGRpxTZrAg6jxbP+htt7lqdr/XCLOXkPcdc30s9rxc4s0ln/gZzDX3jcxklh049U3XaXY9SJ+eCVTy9xvKqDp1Huctmez6vJS9P/TcsKoncdOnEYeDrW8V8YmjkXMd8az4TSlfrEy2du1V/cESPiGeFXnT6LKZ+ndyeX22uXBF/Ows4kOu/G17NJNs4OTXfUyhExEREZEhN2rDTtz4Hn4oR0ZyO1B1sg5o5PQp4IFJxFn7hUziL8y/6Bu+4SSQ9N0JpqLXd+7v+ce/VUMdZ4BPVtq5J2l6l8fMwkbgP3B0WUvSlf0J01S2z8ooZgI/mD4Zu30y7C+juM03hS2TuY+GA3D6dB1QyUupXY93T9ILbD0LVNf0si6klWYXxMdPsjbAxEkkWWu9CDeFgquJyF7HF9tmwL7XSJ6aSqR3PVR9l3VFFvFLqCx+hRTHdmZOn07MxIe4e2EhR3qdDtids6UVmET8RGsL3B/fr6sKIZ5zLSIiIiLDT8BhJ2VKIilTEq3lQTSBifHA2dae15icOIaDsdx+W9dybU//0t7aSjOQNHECEE3s3cC/9/CD313D7x2mv2PuZCJQ9ace1nGcOIa5a69iJnRdr9Lt8WPm3m19kkn6LP42vI4dJdWU7iuBu7OYGw932WeQQhm799fw4Z5qeDST7Fs9T4mN7bp2pNtjw4zuQQ+ASG4PB4ejxtoAJ2u63T9m4MKJe2IZ/1x+mMtf/o4v/2kWzveWMmdXD9fQxJacw67Sg7R+/TsaDq7gwYMbeWxd/xftRNwWCdT0GDKPOfp1VQfA+/3rxkXLcN7/Q0RERGSIlBwop+RAubUckIDDTpTNRpSty6SfQff4Y5nQ8A6LNtd4pmv5tFby0soSiJzB3AfNDeDcUUiR+V/53TUULH+HM2SSlQYQzl89lgyO7by6r+vOX47tmykyF25NJjsVHBs2U2x9zU0lpsJVfC+NWZFQ9TX8lT2T7Ce8D/skTr63kSW7juG82khISDLZOWM5U/xTXtsH47If9YwoxWYy90EofW8tu49C9g8yiPA+JSljGjZqOM3UK8d7IpPs++vYumojW6t73nUOJpOdMxY+2EzBCXP9PKUFhf0Ld/1WR4E9kbCpm6lye0ZK7kqdwQ9i4EjVMWtnv9K8RMLGL/Ve43Bs8TOYmwbOimPdw2sv7pqeSQoO1hVYNms4UchrH5gLgyGcuLvHguO37Daf41MfsrPH3dtEREREJFABh50bISL7dfbOjqZqXTYxjy4lf0sRBauWkvjAs2w9Fc+KXy0jxRIUIiKrmP9ANjNXFVKwYTlp/zOb/OpwUtYsI8c78nHX06+wfvJ5ihZP5+6nVlFQWEh+bjaJaxqxdZmdFM2CdctIcpUwx/qaJ6P94cLHM2JQwkt5RRRtWcXWz4GQyby+OYuI4qXETH2W+RuK2Op7jXIX6Yt6G2W5Iv37M4g45aDKNYFnsnzTrKKxZ8XD4UqOkMks7xQ2AJKXUDg73Pv5lvNaYRGvPf8sd6dt5JO2yfyf2T1My/NKX/EGOZEO8tOmk/b8ZrYWbmZ+9kxmfkzX9S2BuHUssUDRa6vY+kEhi3dUAxNYsDgTTr3DY9mea7A4+3nWNUD29N7X39j/5jniKGP+4y94Plfu08zfD3H2qX2eR7/YHLavjOfcBy8Qk2b6Xk3fSG1k13Vcgejx+vcgZeEiknDw2vRsZm4oYuuGpSSmbuf35nVhIiIiInLNRkTYgbHY3yrli225/K+2CgrWrCV/ewXOqbm8//n7vD65+7qJuBf/kS/eTuZ04UbyC0o4MiaZvHdLKX/G9AM/ZBJ5xaW8/8N4XBV7yF/xD+xsSOb9w//ICus6ju/kUn54Ewu+9w2l2zeSv/kQzkc38UVxbrcf13c9/Qrb7BOo/dVa5r9R4V+gb3v0Db7Y9wo5MccoKljLSwUHcMRm8WbxXnY92o8f11MzWRAOhE/DbrovZpx9hmeUx57ln8LmMRb7W3spX5NB7L8dYN2Ktaz7zTFiZ79C+WdvYL/aj+rIaez67Best4dzpPgdXlpRhOOeRZRXvs7j1r79FTOLNzdkMu6rPbz04j9Q0uQp27LX8YdNWcT9cQ/5KzayszqanE3F7Mrufl39Ji+h8pfPke6q9HyuT1yk571NZV4/19p4xT//C77YlkPSqTLP92pfK/ZtByl/sfcg2Jfern83E3P5eN8ysu+so7RgLS8VtWLf9j7bH7N2FBEREZFrEXTpktuwFq+m4qjnZi9TH+z5LvSGYdDZ2Ul7ezsul4tx46KsXQbZIeaPf4GqlaX84flr/8F6U3O7OHf2PNwaja1LeAJOFZI8dSOsKqVy0cg+v87WRs45w7HFjO02Oleal8jMX81i79ersFvargvXeepbXETcFm0ZRayjwG4nn2V8Udo9SIuIiIiMdGfOnCU8PJzQ0FCCg4MJCgqydgHvmh2899u5VgGP7DQ1t9DUrBXUo5rrEIuSphPzfEm3TSEcxb+lignY00Z20AGo3TaPe5LmsM50s1YAWsvYXQzY/5J0S9N1U72Ze5Om8+R7lk0YWqv5l2oYlxbAdDwRERER6VHAYUduArdmsvSZaNi/nOS8PVSdaqS+oYbSDS+Qts6BbfYrBDhbbFiK/+vnSKeOdU+/wGsHa6hvaKS2eg+LH19KkSue9Ssyu434XDfJubw+GY6sfJbF+zzHrneUsfjx5ZSSzOq/GQUnWERERGQAsjLSBjSqw7VMY+trOOnGT2OT68J9ntI185i5vev20+Omr2L/z2d1ubHmSOZ0FPF0zlpKG0zFkEnk7f4F61P7sY5qIForyf/+CxScMO2KFzKZFR9u4fUpg3xsERERkRukv9PYrgeFHbm6tvPUnqii6sIEUhImcFfkVTYNGLFcnGuo4/cVddyelER87FgihjDMOc/W4aiqge8O/bFFREREhprCjoiIiIiIjEpDGXYCXrOTMiWRlCmJ1rKIiIiIiMh1U3Kg3D/Qcq0CDjtRNhtRtmu+raSIiIiIiMiQCDjsiIiIiIiIjAQKOyIiIiIiMioFHHYqjlZTcdR6F0YREREREZHhJeCw09TcQlNzi7UsIiIiIiIyrAQcdkRERERERAZbVkZar7e76S+FHRERERERGZUUdkREREREZFRS2BERERERkVEp4LCTMiWRlCmJ1rKIiIiIiMh1U3KgnJID5dZyQAIOO1E2G1E2m7UsIiIiIiIyrAQcdkREREREREYChR0RERERERmVAg47FUerqThabS2LiIiIiIgMKwGHnabmFpqaW6xlERERERGRYSXgsCMiIiIiIjLYsjLSyMpIs5YDMmhhJygoiKCgIGtZRERERERuYkOZEwYt7OD9IO3tbmtZRERERERuQu3t7iELOgxW2PGlteDgYNraLtLZaVi7iIiIiIjITaSz06Ct7SLBwcFDNroTdOmSO6AkcvbcOfDeXLQnhmFgGAadnZ20t7dz+fJlbrklnFtv/TOCgwclW4mIiIiIyDDW2dlJW9slLl50ERYWRmhoaJ+hp+RAOXjX7lyrgNNHlM3Wa9DBNKoTFBTEmDFjCAkJ4eJFJ83NrVy+3I4RULQSEREREZGRyjDg8uV2mptbuXjRSUhICGPGjOmSGQZTwCM7/WEe3eno6MDtduN2u+ns7KCjo8PfLiIiIiIio5N5ACQ42DMI4gs7fY3qcJ1GdgYl7GAJPL7Q4/t/hR0RERERkdHNvI4/ODjYH3L6E3S4UWGn4mg1AFMfnGxt6sYXaszBxxdyFHZEREREREYvX5jxBR7z1LW+gg43KuwEelBruFHIERERERG5eZhDj/m/fQk0d/Rk0MOOj0KOiIiIiMjNq78h53oasrAjIiIiIiIylALeelpERERERGQkCDjsBHuHnzo6OqxNIiIiIiIiA2YYBs0tLbjdA8scAU9jq/3yK6JutxE59lvWJhERERERkQH78quv+ffjJ7jj9tv6tQt0bwIe2Ym758+7BJ3Ozs4u7SIiIiIiItfC7e7wBx2AuyfEWrsEJOCRHas//Mdxvjp9xlomZUoiUTab/+8jn1dx9lxrlz6on/p5qZ/6oX7q56V+6of6qZ+X+t3c/SbdM4H47/4P/9/XIuCRHavzF9qsJRERERERkYAFBwVxx+23kfRA/ICDDtdjZEdERERERGQ4GvDIjoiIiIiIyHCksCMiIiIiIqOSwo6IiIiIiIxKCjsiIiIiIjIqKeyIiIiIiMiopLAjIiIiIiKjksKOiIiIiIiMSgo7IiIiIiIyKinsiIiIiIjIqPTfyX3UYYrxilcAAAAASUVORK5CYII=)"
      ],
      "metadata": {
        "id": "PNRQyR_bEJGF"
      }
    },
    {
      "cell_type": "markdown",
      "source": [
        "**Annotation and preparing training data**  \n",
        "After collecting data, you can annotate data in the required format for a spaCy model. In this exercise, you will practice forming the correct annotated data record for an NER task in the medical domain.\n",
        "\n",
        "A sentence and two entities of entity_1 with a text of chest pain and a SYMPTOM type and entity_2 with a text of hyperthyroidism and a DISEASE type are available for you to use."
      ],
      "metadata": {
        "id": "X1kLxfUREjCq"
      }
    },
    {
      "cell_type": "code",
      "source": [
        "text = \"A patient with chest pain had hyperthyroidism.\"\n",
        "entity_1 = \"chest pain\"\n",
        "entity_2 = \"hyperthyroidism\"\n",
        "\n",
        "# Store annotated data information in the correct format\n",
        "annotated_data = {\"sentence\": text, \"entities\": [{\"label\": \"SYMPTOM\", \"value\": entity_1}, {\"label\": \"DISEASE\", \"value\": entity_2}]}\n",
        "\n",
        "# Extract start and end characters of each entity\n",
        "entity_1_start_char = text.find(entity_1)\n",
        "entity_1_end_char = entity_1_start_char + len(entity_1)\n",
        "entity_2_start_char = text.find(entity_2)\n",
        "entity_2_end_char = entity_2_start_char + len(entity_2)\n",
        "\n",
        "# Store the same input information in the proper format for training\n",
        "training_data = [(text, {\"entities\": [(entity_1_start_char, entity_1_end_char, \"SYMPTOM\"),\n",
        "                                      (entity_2_start_char, entity_2_end_char, \"DISEASE\")]})]\n",
        "print(training_data)\n",
        "\n",
        "# ->  After collecting data, you can annotate data in the required format for a spaCy model. In this instance,\n",
        "# you successfully completed an annotated data and formatted training data correctly for a NER task."
      ],
      "metadata": {
        "colab": {
          "base_uri": "https://localhost:8080/"
        },
        "id": "OEBP1F5EFLbM",
        "outputId": "b73a208f-d632-4c45-cf84-b214ebf4463d"
      },
      "execution_count": null,
      "outputs": [
        {
          "output_type": "stream",
          "name": "stdout",
          "text": [
            "[('A patient with chest pain had hyperthyroidism.', {'entities': [(15, 25, 'SYMPTOM'), (30, 45, 'DISEASE')]})]\n"
          ]
        }
      ]
    },
    {
      "cell_type": "markdown",
      "source": [
        "**Compatible training data**  \n",
        "Recall that you cannot feed the raw text directly to spaCy. Instead, you need to create an Example object for each training example. In this exercise, you will practice converting a training_data with a single annotated sentence into a list of Example objects.\n",
        "\n",
        "en_core_web_sm model is already imported and ready for use as nlp. The Example class is also imported for your use."
      ],
      "metadata": {
        "id": "I-Tk46cEFU47"
      }
    },
    {
      "cell_type": "code",
      "source": [
        "example_text = 'A patient with chest pain had hyperthyroidism.'\n",
        "training_data = [(example_text, {'entities': [(15, 25, 'SYMPTOM'), (30, 45, 'DISEASE')]})]\n",
        "\n",
        "all_examples = []\n",
        "# Iterate through text and annotations and convert text to a Doc container\n",
        "for text, annotations in training_data:\n",
        "  doc = nlp(text)\n",
        "\n",
        "  # Create an Example object from the doc contianer and annotations\n",
        "  from spacy.training import Example\n",
        "  example_sentence = Example.from_dict(doc, annotations)\n",
        "  print(example_sentence.to_dict(), \"\\n\")\n",
        "\n",
        "  # Append the Example object to the list of all examples\n",
        "  all_examples.append(example_sentence)\n",
        "\n",
        "print(\"Number of formatted training data: \", len(all_examples))\n",
        "\n",
        "\n",
        "# You can now convert training data into the proper object that is compatible for use during training of a spaCy model."
      ],
      "metadata": {
        "colab": {
          "base_uri": "https://localhost:8080/"
        },
        "id": "L_TB9E9kFm6u",
        "outputId": "5da18ac9-21d3-42a4-9c06-581297dc1688"
      },
      "execution_count": null,
      "outputs": [
        {
          "output_type": "stream",
          "name": "stdout",
          "text": [
            "{'doc_annotation': {'cats': {}, 'entities': ['O', 'O', 'O', 'B-SYMPTOM', 'L-SYMPTOM', 'O', 'U-DISEASE', 'O'], 'spans': {}, 'links': {}}, 'token_annotation': {'ORTH': ['A', 'patient', 'with', 'chest', 'pain', 'had', 'hyperthyroidism', '.'], 'SPACY': [True, True, True, True, True, True, False, False], 'TAG': ['', '', '', '', '', '', '', ''], 'LEMMA': ['', '', '', '', '', '', '', ''], 'POS': ['', '', '', '', '', '', '', ''], 'MORPH': ['', '', '', '', '', '', '', ''], 'HEAD': [0, 1, 2, 3, 4, 5, 6, 7], 'DEP': ['', '', '', '', '', '', '', ''], 'SENT_START': [1, 0, 0, 0, 0, 0, 0, 0]}} \n",
            "\n",
            "Number of formatted training data:  1\n"
          ]
        }
      ]
    },
    {
      "cell_type": "markdown",
      "source": [
        "### raining with spaCy"
      ],
      "metadata": {
        "id": "xMQiFN90F6fW"
      }
    },
    {
      "cell_type": "markdown",
      "source": [
        "**Training preparation steps**  \n",
        "Before and during training of a spaCy model, you'll need to (1) disable other pipeline components in order to only train the intended component and (2) convert a Doc container of a training data point and its corresponding annotations into an Example class.\n",
        "\n",
        "In this exercise, you will practice these two steps by using a pre-loaded en_core_web_sm model, which is accessible as nlp. Example class is already imported and a text string and related annotations are also available for your use."
      ],
      "metadata": {
        "id": "b-aDR7rpGo2G"
      }
    },
    {
      "cell_type": "code",
      "source": [
        "nlp = spacy.load(\"en_core_web_sm\")\n",
        "\n",
        "# Disable all pipeline components of  except `ner`\n",
        "other_pipes = [pipe for pipe in nlp.pipe_names if pipe != 'ner']\n",
        "nlp.disable_pipes(*other_pipes)\n",
        "\n",
        "# Convert a text and its annotations to the correct format usable for training\n",
        "doc = nlp.make_doc(text)\n",
        "example = Example.from_dict(doc, annotations)\n",
        "print(\"Example object for training: \\n\", example.to_dict())\n",
        "\n",
        "# You can now disbale pipeline components and convert data into proper spaCy format for training,\n",
        "# an Example class with multiple keys such as entities and token_annotations."
      ],
      "metadata": {
        "colab": {
          "base_uri": "https://localhost:8080/"
        },
        "id": "61BnD6zzG5ta",
        "outputId": "cbb63c3b-9157-4520-81b6-300a89ee7981"
      },
      "execution_count": null,
      "outputs": [
        {
          "output_type": "stream",
          "name": "stdout",
          "text": [
            "Example object for training: \n",
            " {'doc_annotation': {'cats': {}, 'entities': ['O', 'O', 'O', 'O', 'U-PERSON', 'O', 'U-GPE', 'O'], 'spans': {}, 'links': {}}, 'token_annotation': {'ORTH': ['I', \"'m\", 'going', 'to', 'Sam', \"'s\", 'house', '.'], 'SPACY': [False, True, True, True, False, True, False, False], 'TAG': ['', '', '', '', '', '', '', ''], 'LEMMA': ['', '', '', '', '', '', '', ''], 'POS': ['', '', '', '', '', '', '', ''], 'MORPH': ['', '', '', '', '', '', '', ''], 'HEAD': [0, 1, 2, 3, 4, 5, 6, 7], 'DEP': ['', '', '', '', '', '', '', ''], 'SENT_START': [1, 0, 0, 0, 0, 0, 0, 0]}}\n"
          ]
        }
      ]
    },
    {
      "cell_type": "markdown",
      "source": [
        "**Train an existing NER model**  \n",
        "A spaCy model may not work well on a given data. One solution is to train the model on our data. In this exercise, you will practice training a NER model in order to improve its prediction performance.\n",
        "\n",
        "A spaCy en_core_web_sm model that is accessible as nlp, which is not able to correctly predict house as an entity in a test string.\n",
        "\n",
        "Given a training_data, write the steps to update this model while iterating through the data two times. The other pipelines are already disabled and optimizer is also ready to be used. Number of epochs is already set to 2."
      ],
      "metadata": {
        "id": "xwtGdvlIHm5m"
      }
    },
    {
      "cell_type": "code",
      "source": [
        "import random\n",
        "nlp = spacy.load(\"en_core_web_sm\")\n",
        "\n",
        "# Define placeholder variables for test, training_data, and epochs\n",
        "test = \"I'm going to Sam's house.\"\n",
        "training_data = [(\"I'm going to Sam's house.\",\n",
        "  {'entities': [(13, 16, 'PERSON'), (19, 24, 'GPE')]}),\n",
        " ('I will visit you in Austin.', {'entities': [(20, 26, 'GPE')]}),\n",
        " ('I will go.', {'entities': []})]\n",
        "epochs = 2\n",
        "\n",
        "print(\"Before training: \", [(ent.text, ent.label_) for ent in nlp(test).ents])\n",
        "other_pipes = [pipe for pipe in nlp.pipe_names if pipe != 'ner']\n",
        "nlp.disable_pipes(*other_pipes)\n",
        "optimizer = nlp.create_optimizer()\n",
        "\n",
        "# Shuffle training data and the dataset using random package per epoch\n",
        "for i in range(epochs):\n",
        "  random.shuffle(training_data)\n",
        "  for text, annotations  in training_data:\n",
        "    doc = nlp.make_doc(text)\n",
        "    # Update nlp model after setting sgd argument to optimizer\n",
        "    from spacy.training import Example\n",
        "    example = Example.from_dict(doc, annotations)\n",
        "    nlp.update([example], sgd=optimizer)\n",
        "\n",
        "print(\"After training: \", [(ent.text, ent.label_) for ent in nlp(test).ents])\n",
        "\n",
        "# You just trained an existing spaCy NER model for two epochs. You can see that prior to training,\n",
        "# the model was unable to predict house as an entity, but training helped with model predictions."
      ],
      "metadata": {
        "colab": {
          "base_uri": "https://localhost:8080/"
        },
        "id": "0lyT-a5NHdha",
        "outputId": "c9a55132-7571-4cf3-c3b5-662bf9eb2d9a"
      },
      "execution_count": null,
      "outputs": [
        {
          "output_type": "stream",
          "name": "stdout",
          "text": [
            "Before training:  [('Sam', 'PERSON')]\n",
            "After training:  [('Sam', 'PERSON'), ('house', 'GPE')]\n"
          ]
        }
      ]
    },
    {
      "cell_type": "markdown",
      "source": [
        "**Training a spaCy model from scratch**  \n",
        "spaCy provides a very clean and efficient approach to train your own models. In this exercise, you will train a NER model from scratch on a real-world corpus (CORD-19 data).\n",
        "\n",
        "Training data is available in the right format as training_data. In this exercise, you will use a given list of labels (\"Pathogen\", \"MedicalCondition\", \"Medicine\") stored in labels using a blank English model (nlp) with an NER component. Intended medical labels will be added the NER pipeline and then you can train the model for one epoch. You can use pre-imported Example class to convert the training data to the required format. To track model training you can add a losses list to the .update() method and review training loss."
      ],
      "metadata": {
        "id": "_QpBpdk2IIZJ"
      }
    },
    {
      "cell_type": "code",
      "source": [
        "labels = ['Pathogen', 'MedicalCondition', 'Medicine']\n",
        "\n",
        "# Load a blank English model, add NER component, add given labels to the ner pipeline\n",
        "nlp = spacy.blank(\"en\")\n",
        "ner = nlp.add_pipe(\"ner\")\n",
        "for ent in labels:\n",
        "    ner.add_label(ent)\n",
        "\n",
        "# Disable other pipeline components, complete training loop and run training loop\n",
        "other_pipes = [pipe for pipe in nlp.pipe_names if pipe != \"ner\"]\n",
        "nlp.disable_pipes(*other_pipes)\n",
        "losses = {}\n",
        "optimizer = nlp.begin_training()\n",
        "for text, annotation in training_data:\n",
        "    doc = nlp.make_doc(text)\n",
        "    example = Example.from_dict(doc, annotation)\n",
        "    nlp.update([example], sgd=optimizer, losses=losses)\n",
        "    print(losses)\n",
        "\n",
        "# You just trained an NER model from scratch for the medical domain using a subset of CORD-19 data and medical labels to improve NER prediction on a medical data."
      ],
      "metadata": {
        "colab": {
          "base_uri": "https://localhost:8080/"
        },
        "id": "3hn2bra2Iad9",
        "outputId": "393e5702-30e8-4d47-ee67-c41cc25f70c8"
      },
      "execution_count": null,
      "outputs": [
        {
          "output_type": "stream",
          "name": "stdout",
          "text": [
            "{'ner': np.float32(3.7142854)}\n",
            "{'ner': np.float32(10.221551)}\n",
            "{'ner': np.float32(17.632662)}\n"
          ]
        }
      ]
    }
  ]
}