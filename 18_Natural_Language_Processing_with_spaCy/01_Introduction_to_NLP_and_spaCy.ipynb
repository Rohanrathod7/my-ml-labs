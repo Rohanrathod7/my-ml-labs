{
  "nbformat": 4,
  "nbformat_minor": 0,
  "metadata": {
    "colab": {
      "provenance": [],
      "authorship_tag": "ABX9TyOmmu5kaY8DGmu0pf9tXbZx",
      "include_colab_link": true
    },
    "kernelspec": {
      "name": "python3",
      "display_name": "Python 3"
    },
    "language_info": {
      "name": "python"
    }
  },
  "cells": [
    {
      "cell_type": "markdown",
      "metadata": {
        "id": "view-in-github",
        "colab_type": "text"
      },
      "source": [
        "<a href=\"https://colab.research.google.com/github/Rohanrathod7/my-ml-labs/blob/main/18_Natural_Language_Processing_with_spaCy/01_Introduction_to_NLP_and_spaCy.ipynb\" target=\"_parent\"><img src=\"https://colab.research.google.com/assets/colab-badge.svg\" alt=\"Open In Colab\"/></a>"
      ]
    },
    {
      "cell_type": "markdown",
      "source": [
        "### 1. Introduction to NLP and spaCy"
      ],
      "metadata": {
        "id": "69GNV3tpDLy3"
      }
    },
    {
      "cell_type": "markdown",
      "source": [
        "Learn spaCy, the fast-growing industry-standard NLP library, for tasks like tokenization, parsing, and named entity recognition. Master core operations, use classes like Doc and Token, and train models. Extract terms with pattern matching, create custom pipeline components, and handle real-world examples for your NLP projects."
      ],
      "metadata": {
        "id": "ifR7-2-lZPOR"
      }
    },
    {
      "cell_type": "code",
      "execution_count": null,
      "metadata": {
        "id": "EUPpAj0HoP6i"
      },
      "outputs": [],
      "source": []
    },
    {
      "cell_type": "code",
      "source": [
        "%matplotlib inline\n",
        "import matplotlib.pyplot as plt\n",
        "import seaborn as sns\n",
        "import numpy as np\n",
        "import pandas as pd\n",
        "import datetime as dt\n",
        "# Import confusion matrix and train_test_split\n",
        "from sklearn.metrics import confusion_matrix, classification_report\n",
        "from sklearn.neighbors import KNeighborsClassifier\n",
        "from sklearn.svm import SVC\n",
        "from sklearn.model_selection import train_test_split, KFold, cross_val_score, GridSearchCV\n",
        "from sklearn.linear_model import Ridge, Lasso, LogisticRegression, LinearRegression\n",
        "from scipy.cluster.hierarchy import linkage, dendrogram\n",
        "import matplotlib.pyplot as plt\n",
        "from sklearn.linear_model import SGDClassifier\n",
        "\n",
        "url = \"https://raw.githubusercontent.com/Rohanrathod7/my-ml-labs/main/15_Hyperparameter_Tuning_in_Python/Dataset/results_df.csv\"\n",
        "# Read the CSV file\n",
        "# Apply pd.to_numeric only to relevant columns, excluding 'text'\n",
        "results_df = pd.read_csv(url)\n",
        "\n",
        "\n",
        "display(results_df.head())"
      ],
      "metadata": {
        "id": "u8UlyiPU6rzD"
      },
      "execution_count": null,
      "outputs": []
    },
    {
      "cell_type": "markdown",
      "source": [
        "### Natural Language Processing (NLP) basics"
      ],
      "metadata": {
        "id": "E7C0mW17ZhZv"
      }
    },
    {
      "cell_type": "markdown",
      "source": [
        "**Doc container in spaCy**  \n",
        "The first step of a spaCy text processing pipeline is to convert a given text string into a Doc container, which stores the processed text. In this exercise, you'll practice loading a spaCy model, creating an nlp() object, creating a Doc container and processing a text string that is available for you.\n",
        "\n",
        "en_core_web_sm model is already downloaded.\n",
        "\n"
      ],
      "metadata": {
        "id": "IssE--ZDcXgu"
      }
    },
    {
      "cell_type": "code",
      "source": [
        "!python3 pip install spacy\n",
        "!python3 -m spacy download en_core_web_sm"
      ],
      "metadata": {
        "colab": {
          "base_uri": "https://localhost:8080/"
        },
        "id": "_y98ZLJ-czJo",
        "outputId": "a626b66e-c094-4c3e-9e5f-f21533aa8a2f"
      },
      "execution_count": 6,
      "outputs": [
        {
          "output_type": "stream",
          "name": "stdout",
          "text": [
            "python3: can't open file '/content/pip': [Errno 2] No such file or directory\n",
            "Collecting en-core-web-sm==3.8.0\n",
            "  Downloading https://github.com/explosion/spacy-models/releases/download/en_core_web_sm-3.8.0/en_core_web_sm-3.8.0-py3-none-any.whl (12.8 MB)\n",
            "\u001b[2K     \u001b[90m━━━━━━━━━━━━━━━━━━━━━━━━━━━━━━━━━━━━━━━\u001b[0m \u001b[32m12.8/12.8 MB\u001b[0m \u001b[31m103.6 MB/s\u001b[0m eta \u001b[36m0:00:00\u001b[0m\n",
            "\u001b[?25h\u001b[38;5;2m✔ Download and installation successful\u001b[0m\n",
            "You can now load the package via spacy.load('en_core_web_sm')\n",
            "\u001b[38;5;3m⚠ Restart to reload dependencies\u001b[0m\n",
            "If you are in a Jupyter or Colab notebook, you may need to restart Python in\n",
            "order to load all the package's dependencies. You can do this by selecting the\n",
            "'Restart kernel' or 'Restart runtime' option.\n"
          ]
        }
      ]
    },
    {
      "cell_type": "code",
      "source": [
        "# Load en_core_web_sm and create an nlp object\n",
        "import spacy\n",
        "nlp = spacy.load(\"en_core_web_sm\")\n",
        "\n",
        "text = \"NLP is becoming increasingly popular for providing business solutions.\"\n",
        "\n",
        "# Create a Doc container for the text object\n",
        "doc = nlp(text)\n",
        "\n",
        "# Create a list containing the text of each token in the Doc container\n",
        "print([token.text for token in doc])\n",
        "\n",
        "# You just imported a spaCy model successfully and accessed the tokens of a Doc object, which was the result of a tokenization process."
      ],
      "metadata": {
        "colab": {
          "base_uri": "https://localhost:8080/"
        },
        "id": "O6Z2wVFecaa2",
        "outputId": "4e1527a1-7ff8-440b-d784-0b9168497a27"
      },
      "execution_count": 5,
      "outputs": [
        {
          "output_type": "stream",
          "name": "stdout",
          "text": [
            "['NLP', 'is', 'becoming', 'increasingly', 'popular', 'for', 'providing', 'business', 'solutions', '.']\n"
          ]
        }
      ]
    },
    {
      "cell_type": "markdown",
      "source": [
        "**NER use case**  \n",
        "NLP has many applications across different industries such as sentiment analysis, named entity recognition and chatbots.\n",
        "\n",
        "Is the following a correct definition for named entity recognition?\n",
        "\n",
        "\"Given a string of text, named entity recognition is identifying and categorizing entities in text.\"\n",
        "\n",
        "    -> true\n",
        "\n",
        "\n",
        "    Perfect! Given a text string, named-entity recognition classifies named entities mentioned in unstructured text into pre-defined categories as described in the video."
      ],
      "metadata": {
        "id": "EcKzAKxudP8V"
      }
    },
    {
      "cell_type": "markdown",
      "source": [
        "**Tokenization with spaCy**  \n",
        "In this exercise, you'll practice tokenizing text. You'll use the first review from the Amazon Fine Food Reviews dataset for this exercise. You can access this review by using the text object provided.\n",
        "\n",
        "The en_core_web_sm model is already loaded for you. You can access it by calling nlp(). You can use list comprehension to compile output lists."
      ],
      "metadata": {
        "id": "WpDbiEkxdxuo"
      }
    },
    {
      "cell_type": "code",
      "source": [
        "# Create a Doc container of the given text\n",
        "document = nlp(text)\n",
        "\n",
        "text = \"I have bought several of the Vitality canned dog food products and have found them all to be of good quality. The product looks more like a stew than a processed meat and it smells better. My Labrador is finicky and she appreciates this product better than  most.\"\n",
        "\n",
        "# Store and review the token text values of tokens for the Doc container\n",
        "first_text_tokens = [token.text for token in document]\n",
        "print(\"First text tokens:\\n\", first_text_tokens, \"\\n\")\n",
        "\n",
        "# Populating Doc containers for texts is the first step in a spaCy pipeline."
      ],
      "metadata": {
        "id": "KAHej_nWd4Na",
        "outputId": "2fb2dac9-8c59-4a45-d52d-66046604fb3e",
        "colab": {
          "base_uri": "https://localhost:8080/"
        }
      },
      "execution_count": 9,
      "outputs": [
        {
          "output_type": "stream",
          "name": "stdout",
          "text": [
            "First text tokens:\n",
            " ['I', 'have', 'bought', 'several', 'of', 'the', 'Vitality', 'canned', 'dog', 'food', 'products', 'and', 'have', 'found', 'them', 'all', 'to', 'be', 'of', 'good', 'quality', '.', 'The', 'product', 'looks', 'more', 'like', 'a', 'stew', 'than', 'a', 'processed', 'meat', 'and', 'it', 'smells', 'better', '.', 'My', 'Labrador', 'is', 'finicky', 'and', 'she', 'appreciates', 'this', 'product', 'better', 'than', ' ', 'most', '.'] \n",
            "\n"
          ]
        }
      ]
    },
    {
      "cell_type": "markdown",
      "source": [
        "**Running a spaCy pipeline**  \n",
        "You've already run a spaCy NLP pipeline on a single piece of text and also extracted tokens of a given list of Doc containers. In this exercise, you'll practice the initial steps of running a spaCy pipeline on texts, which is a list of text strings.\n",
        "\n",
        "You will use the en_core_web_sm model for this purpose. The spaCy package has already been imported for you."
      ],
      "metadata": {
        "id": "j8xOLI4YfsLE"
      }
    },
    {
      "cell_type": "code",
      "source": [
        "# Load en_core_web_sm model as nlp\n",
        "nlp = spacy.load(\"en_core_web_sm\")\n",
        "\n",
        "texts = ['A loaded spaCy model can be used to compile documents list!',\n",
        " 'Tokenization is the first step in any spacy pipeline.']\n",
        "\n",
        "# Run an nlp model on each item of texts and append the Doc container to documents\n",
        "documents = []\n",
        "for text in texts:\n",
        "  documents.append(nlp(text))\n",
        "\n",
        "# Print the token texts for each Doc container\n",
        "for doc in documents:\n",
        "  print([token.text for token in doc])\n",
        "\n",
        "# By running the spaCy model on a given text, you can access different attributes such as tokens, and other lingustic annotations.\n",
        "# In this instance, you can see the result of the tokenization step, a list of tokens' texts."
      ],
      "metadata": {
        "id": "UU9tBp8QgUPi",
        "outputId": "f3f47de7-7cf2-46fa-8db4-7cc8f45d2ee2",
        "colab": {
          "base_uri": "https://localhost:8080/"
        }
      },
      "execution_count": 12,
      "outputs": [
        {
          "output_type": "stream",
          "name": "stdout",
          "text": [
            "['A', 'loaded', 'spaCy', 'model', 'can', 'be', 'used', 'to', 'compile', 'documents', 'list', '!']\n",
            "['Tokenization', 'is', 'the', 'first', 'step', 'in', 'any', 'spacy', 'pipeline', '.']\n"
          ]
        }
      ]
    },
    {
      "cell_type": "markdown",
      "source": [
        "**Lemmatization with spaCy**   \n",
        "In this exercise, you will practice lemmatization. Lemmatization can be helpful to generate the root form of derived words. This means that given any sentence, we expect the number of lemmas to be less than or equal to the number of tokens.\n",
        "\n",
        "The first Amazon food review is provided for you in a string called text. en_core_web_sm is loaded as nlp, and has been run on the text to compile document, a Doc container for the text string.\n",
        "\n",
        "tokens, a list containing tokens for the text is also already loaded for your use."
      ],
      "metadata": {
        "id": "wBlfVu5Ugp1d"
      }
    },
    {
      "cell_type": "code",
      "source": [
        "document = nlp(text)\n",
        "tokens = [token.text for token in document]\n",
        "\n",
        "texts = ['I have bought several of the Vitality canned dog food products and have found them all to be of good quality. The product looks more like a stew than a processed meat and it smells better. My Labrador is finicky and she appreciates this product better than  most.',\n",
        " 'Product arrived labeled as Jumbo Salted Peanuts...the peanuts were actually small sized unsalted. Not sure if this was an error or if the vendor intended to represent the product as \"Jumbo\".',\n",
        " 'This is a confection that has been around a few centuries.  It is a light, pillowy citrus gelatin with nuts - in this case Filberts. And it is cut into tiny squares and then liberally coated with powdered sugar.  And it is a tiny mouthful of heaven.  Not too chewy, and very flavorful.  I highly recommend this yummy treat.  If you are familiar with the story of C.S. Lewis\\' \"The Lion, The Witch, and The Wardrobe\" - this is the treat that seduces Edmund into selling out his Brother and Sisters to the Witch.',\n",
        " 'If you are looking for the secret ingredient in Robitussin I believe I have found it.  I got this in addition to the Root Beer Extract I ordered (which was good) and made some cherry soda.  The flavor is very medicinal.',\n",
        " 'Great taffy at a great price.  There was a wide assortment of yummy taffy.  Delivery was very quick.  If your a taffy lover, this is a deal.',\n",
        " 'I got a wild hair for taffy and ordered this five pound bag. The taffy was all very enjoyable with many flavors: watermelon, root beer, melon, peppermint, grape, etc. My only complaint is there was a bit too much red/black licorice-flavored pieces (just not my particular favorites). Between me, my kids, and my husband, this lasted only two weeks! I would recommend this brand of taffy -- it was a delightful treat.',\n",
        " \"This saltwater taffy had great flavors and was very soft and chewy.  Each candy was individually wrapped well.  None of the candies were stuck together, which did happen in the expensive version, Fralinger's.  Would highly recommend this candy!  I served it at a beach-themed party and everyone loved it!\",\n",
        " 'This taffy is so good.  It is very soft and chewy.  The flavors are amazing.  I would definitely recommend you buying it.  Very satisfying!!',\n",
        " \"Right now I'm mostly just sprouting this so my cats can eat the grass. They love it. I rotate it around with Wheatgrass and Rye too\",\n",
        " 'This is a very healthy dog food. Good for their digestion. Also good for small puppies. My dog eats her required amount at every feeding.']\n",
        "\n",
        "# Append the lemma for all tokens in the document\n",
        "lemmas = [token.lemma_ for token in document]\n",
        "print(\"Lemmas:\\n\", lemmas, \"\\n\")\n",
        "\n",
        "# Print tokens and compare with lemmas list\n",
        "print(\"Tokens:\\n\", tokens)\n",
        "\n",
        "#  Lemmatization reduces the word forms to their lemmas. In this instance,\n",
        "#  the Doc container has 52 tokens and only 39 distinct lemmas. This shows that some words are used in different forms."
      ],
      "metadata": {
        "id": "Dzljx-ong-nG",
        "outputId": "644bef80-ba4f-43cd-a3db-67d0bc0565c2",
        "colab": {
          "base_uri": "https://localhost:8080/"
        }
      },
      "execution_count": 16,
      "outputs": [
        {
          "output_type": "stream",
          "name": "stdout",
          "text": [
            "Lemmas:\n",
            " ['tokenization', 'be', 'the', 'first', 'step', 'in', 'any', 'spacy', 'pipeline', '.'] \n",
            "\n",
            "Tokens:\n",
            " ['Tokenization', 'is', 'the', 'first', 'step', 'in', 'any', 'spacy', 'pipeline', '.']\n"
          ]
        }
      ]
    },
    {
      "cell_type": "markdown",
      "source": [
        "***Sentence segmentation with spaCy***  \n",
        "In this exercise, you will practice sentence segmentation. In NLP, segmenting a document into its sentences is a useful basic operation. It is one of the first steps in many NLP tasks that are more elaborate, such as detecting named entities. Additionally, capturing the number of sentences may provide some insight into the amount of information provided by the text.\n",
        "\n",
        "You can access ten food reviews in the list called texts.\n",
        "\n",
        "The en_core_web_sm model has already been loaded for you as nlp and ."
      ],
      "metadata": {
        "id": "Z1zKubAahGMl"
      }
    },
    {
      "cell_type": "code",
      "source": [
        "# Generating a documents list of all Doc containers\n",
        "documents = [nlp(text) for text in texts]\n",
        "\n",
        "# Iterate through documents and append sentences in each doc to the sentences list\n",
        "sentences = []\n",
        "for doc in documents:\n",
        "  sentences.append([s for s in doc.sents])\n",
        "\n",
        "# Find number of sentences per each doc container\n",
        "print([len(s) for s in sentences])\n",
        "\n",
        "# Sentence segmentation breaks a text into its given sentences, by marking start and end of a sentence.\n",
        "# In this instance, we can see the number of sentences for each Doc container from the documents list."
      ],
      "metadata": {
        "id": "cSgwyPIihgEe",
        "outputId": "1afb306c-3748-4f0e-a294-d9bf292048e8",
        "colab": {
          "base_uri": "https://localhost:8080/"
        }
      },
      "execution_count": 17,
      "outputs": [
        {
          "output_type": "stream",
          "name": "stdout",
          "text": [
            "[3, 2, 7, 3, 4, 5, 5, 5, 3, 4]\n"
          ]
        }
      ]
    },
    {
      "cell_type": "markdown",
      "source": [
        "### Linguistic features in spaCy\n"
      ],
      "metadata": {
        "id": "SqOeOVo7jSAy"
      }
    },
    {
      "cell_type": "markdown",
      "source": [
        "**POS tagging with spaCy**  \n",
        "In this exercise, you will practice POS tagging. POS tagging is a useful tool in NLP as it allows algorithms to understand the grammatical structure of a sentence and to confirm words that have multiple meanings such as watch and play.\n",
        "\n",
        "For this exercise, en_core_web_sm has been loaded for you as nlp. Three comments from the Airline Travel Information System (ATIS) dataset have been provided for you in a list called texts."
      ],
      "metadata": {
        "id": "wtKHoWwTjMUk"
      }
    },
    {
      "cell_type": "code",
      "source": [
        "# Compile a list of all Doc containers of texts\n",
        "documents = [nlp(text) for text in texts]\n",
        "\n",
        "# Print token texts and POS tags for each Doc container\n",
        "for doc in documents:\n",
        "    for token in doc:\n",
        "        print(\"Text: \", token.text, \"| POS tag: \", token.pos_)\n",
        "    print(\"\\n\")\n",
        "\n",
        "# You just extracted POS tags for all tokens of given texts. Don't worry if you don't know all the extracted tags.\n",
        "# You can always use spacy.explain() to learn more about a tag."
      ],
      "metadata": {
        "id": "Y4HTF_MJjZln",
        "outputId": "35996b70-a054-4df7-a5f3-e6a9fb88e347",
        "colab": {
          "base_uri": "https://localhost:8080/"
        }
      },
      "execution_count": 18,
      "outputs": [
        {
          "output_type": "stream",
          "name": "stdout",
          "text": [
            "Text:  I | POS tag:  PRON\n",
            "Text:  have | POS tag:  AUX\n",
            "Text:  bought | POS tag:  VERB\n",
            "Text:  several | POS tag:  ADJ\n",
            "Text:  of | POS tag:  ADP\n",
            "Text:  the | POS tag:  DET\n",
            "Text:  Vitality | POS tag:  PROPN\n",
            "Text:  canned | POS tag:  VERB\n",
            "Text:  dog | POS tag:  NOUN\n",
            "Text:  food | POS tag:  NOUN\n",
            "Text:  products | POS tag:  NOUN\n",
            "Text:  and | POS tag:  CCONJ\n",
            "Text:  have | POS tag:  AUX\n",
            "Text:  found | POS tag:  VERB\n",
            "Text:  them | POS tag:  PRON\n",
            "Text:  all | POS tag:  PRON\n",
            "Text:  to | POS tag:  PART\n",
            "Text:  be | POS tag:  AUX\n",
            "Text:  of | POS tag:  ADP\n",
            "Text:  good | POS tag:  ADJ\n",
            "Text:  quality | POS tag:  NOUN\n",
            "Text:  . | POS tag:  PUNCT\n",
            "Text:  The | POS tag:  DET\n",
            "Text:  product | POS tag:  NOUN\n",
            "Text:  looks | POS tag:  VERB\n",
            "Text:  more | POS tag:  ADV\n",
            "Text:  like | POS tag:  ADP\n",
            "Text:  a | POS tag:  DET\n",
            "Text:  stew | POS tag:  NOUN\n",
            "Text:  than | POS tag:  ADP\n",
            "Text:  a | POS tag:  DET\n",
            "Text:  processed | POS tag:  VERB\n",
            "Text:  meat | POS tag:  NOUN\n",
            "Text:  and | POS tag:  CCONJ\n",
            "Text:  it | POS tag:  PRON\n",
            "Text:  smells | POS tag:  VERB\n",
            "Text:  better | POS tag:  ADV\n",
            "Text:  . | POS tag:  PUNCT\n",
            "Text:  My | POS tag:  PRON\n",
            "Text:  Labrador | POS tag:  PROPN\n",
            "Text:  is | POS tag:  AUX\n",
            "Text:  finicky | POS tag:  ADJ\n",
            "Text:  and | POS tag:  CCONJ\n",
            "Text:  she | POS tag:  PRON\n",
            "Text:  appreciates | POS tag:  VERB\n",
            "Text:  this | POS tag:  DET\n",
            "Text:  product | POS tag:  NOUN\n",
            "Text:  better | POS tag:  ADV\n",
            "Text:  than | POS tag:  ADP\n",
            "Text:    | POS tag:  SPACE\n",
            "Text:  most | POS tag:  ADJ\n",
            "Text:  . | POS tag:  PUNCT\n",
            "\n",
            "\n",
            "Text:  Product | POS tag:  NOUN\n",
            "Text:  arrived | POS tag:  AUX\n",
            "Text:  labeled | POS tag:  VERB\n",
            "Text:  as | POS tag:  ADP\n",
            "Text:  Jumbo | POS tag:  PROPN\n",
            "Text:  Salted | POS tag:  PROPN\n",
            "Text:  Peanuts | POS tag:  PROPN\n",
            "Text:  ... | POS tag:  PUNCT\n",
            "Text:  the | POS tag:  DET\n",
            "Text:  peanuts | POS tag:  NOUN\n",
            "Text:  were | POS tag:  AUX\n",
            "Text:  actually | POS tag:  ADV\n",
            "Text:  small | POS tag:  ADJ\n",
            "Text:  sized | POS tag:  ADJ\n",
            "Text:  unsalted | POS tag:  VERB\n",
            "Text:  . | POS tag:  PUNCT\n",
            "Text:  Not | POS tag:  PART\n",
            "Text:  sure | POS tag:  ADJ\n",
            "Text:  if | POS tag:  SCONJ\n",
            "Text:  this | POS tag:  PRON\n",
            "Text:  was | POS tag:  AUX\n",
            "Text:  an | POS tag:  DET\n",
            "Text:  error | POS tag:  NOUN\n",
            "Text:  or | POS tag:  CCONJ\n",
            "Text:  if | POS tag:  SCONJ\n",
            "Text:  the | POS tag:  DET\n",
            "Text:  vendor | POS tag:  NOUN\n",
            "Text:  intended | POS tag:  VERB\n",
            "Text:  to | POS tag:  PART\n",
            "Text:  represent | POS tag:  VERB\n",
            "Text:  the | POS tag:  DET\n",
            "Text:  product | POS tag:  NOUN\n",
            "Text:  as | POS tag:  ADP\n",
            "Text:  \" | POS tag:  PUNCT\n",
            "Text:  Jumbo | POS tag:  PROPN\n",
            "Text:  \" | POS tag:  PUNCT\n",
            "Text:  . | POS tag:  PUNCT\n",
            "\n",
            "\n",
            "Text:  This | POS tag:  PRON\n",
            "Text:  is | POS tag:  AUX\n",
            "Text:  a | POS tag:  DET\n",
            "Text:  confection | POS tag:  NOUN\n",
            "Text:  that | POS tag:  PRON\n",
            "Text:  has | POS tag:  AUX\n",
            "Text:  been | POS tag:  AUX\n",
            "Text:  around | POS tag:  ADP\n",
            "Text:  a | POS tag:  DET\n",
            "Text:  few | POS tag:  ADJ\n",
            "Text:  centuries | POS tag:  NOUN\n",
            "Text:  . | POS tag:  PUNCT\n",
            "Text:    | POS tag:  SPACE\n",
            "Text:  It | POS tag:  PRON\n",
            "Text:  is | POS tag:  AUX\n",
            "Text:  a | POS tag:  DET\n",
            "Text:  light | POS tag:  ADJ\n",
            "Text:  , | POS tag:  PUNCT\n",
            "Text:  pillowy | POS tag:  ADJ\n",
            "Text:  citrus | POS tag:  NOUN\n",
            "Text:  gelatin | POS tag:  VERB\n",
            "Text:  with | POS tag:  ADP\n",
            "Text:  nuts | POS tag:  NOUN\n",
            "Text:  - | POS tag:  PUNCT\n",
            "Text:  in | POS tag:  ADP\n",
            "Text:  this | POS tag:  DET\n",
            "Text:  case | POS tag:  NOUN\n",
            "Text:  Filberts | POS tag:  NOUN\n",
            "Text:  . | POS tag:  PUNCT\n",
            "Text:  And | POS tag:  CCONJ\n",
            "Text:  it | POS tag:  PRON\n",
            "Text:  is | POS tag:  AUX\n",
            "Text:  cut | POS tag:  VERB\n",
            "Text:  into | POS tag:  ADP\n",
            "Text:  tiny | POS tag:  ADJ\n",
            "Text:  squares | POS tag:  NOUN\n",
            "Text:  and | POS tag:  CCONJ\n",
            "Text:  then | POS tag:  ADV\n",
            "Text:  liberally | POS tag:  ADV\n",
            "Text:  coated | POS tag:  VERB\n",
            "Text:  with | POS tag:  ADP\n",
            "Text:  powdered | POS tag:  ADJ\n",
            "Text:  sugar | POS tag:  NOUN\n",
            "Text:  . | POS tag:  PUNCT\n",
            "Text:    | POS tag:  SPACE\n",
            "Text:  And | POS tag:  CCONJ\n",
            "Text:  it | POS tag:  PRON\n",
            "Text:  is | POS tag:  AUX\n",
            "Text:  a | POS tag:  DET\n",
            "Text:  tiny | POS tag:  ADJ\n",
            "Text:  mouthful | POS tag:  ADJ\n",
            "Text:  of | POS tag:  ADP\n",
            "Text:  heaven | POS tag:  PROPN\n",
            "Text:  . | POS tag:  PUNCT\n",
            "Text:    | POS tag:  SPACE\n",
            "Text:  Not | POS tag:  PART\n",
            "Text:  too | POS tag:  ADV\n",
            "Text:  chewy | POS tag:  NOUN\n",
            "Text:  , | POS tag:  PUNCT\n",
            "Text:  and | POS tag:  CCONJ\n",
            "Text:  very | POS tag:  ADV\n",
            "Text:  flavorful | POS tag:  ADJ\n",
            "Text:  . | POS tag:  PUNCT\n",
            "Text:    | POS tag:  SPACE\n",
            "Text:  I | POS tag:  PRON\n",
            "Text:  highly | POS tag:  ADV\n",
            "Text:  recommend | POS tag:  VERB\n",
            "Text:  this | POS tag:  DET\n",
            "Text:  yummy | POS tag:  ADJ\n",
            "Text:  treat | POS tag:  NOUN\n",
            "Text:  . | POS tag:  PUNCT\n",
            "Text:    | POS tag:  SPACE\n",
            "Text:  If | POS tag:  SCONJ\n",
            "Text:  you | POS tag:  PRON\n",
            "Text:  are | POS tag:  AUX\n",
            "Text:  familiar | POS tag:  ADJ\n",
            "Text:  with | POS tag:  ADP\n",
            "Text:  the | POS tag:  DET\n",
            "Text:  story | POS tag:  NOUN\n",
            "Text:  of | POS tag:  ADP\n",
            "Text:  C.S. | POS tag:  PROPN\n",
            "Text:  Lewis | POS tag:  PROPN\n",
            "Text:  ' | POS tag:  PUNCT\n",
            "Text:  \" | POS tag:  PUNCT\n",
            "Text:  The | POS tag:  DET\n",
            "Text:  Lion | POS tag:  PROPN\n",
            "Text:  , | POS tag:  PUNCT\n",
            "Text:  The | POS tag:  DET\n",
            "Text:  Witch | POS tag:  PROPN\n",
            "Text:  , | POS tag:  PUNCT\n",
            "Text:  and | POS tag:  CCONJ\n",
            "Text:  The | POS tag:  DET\n",
            "Text:  Wardrobe | POS tag:  PROPN\n",
            "Text:  \" | POS tag:  PUNCT\n",
            "Text:  - | POS tag:  PUNCT\n",
            "Text:  this | POS tag:  PRON\n",
            "Text:  is | POS tag:  AUX\n",
            "Text:  the | POS tag:  DET\n",
            "Text:  treat | POS tag:  NOUN\n",
            "Text:  that | POS tag:  PRON\n",
            "Text:  seduces | POS tag:  VERB\n",
            "Text:  Edmund | POS tag:  PROPN\n",
            "Text:  into | POS tag:  ADP\n",
            "Text:  selling | POS tag:  VERB\n",
            "Text:  out | POS tag:  ADP\n",
            "Text:  his | POS tag:  PRON\n",
            "Text:  Brother | POS tag:  NOUN\n",
            "Text:  and | POS tag:  CCONJ\n",
            "Text:  Sisters | POS tag:  PROPN\n",
            "Text:  to | POS tag:  ADP\n",
            "Text:  the | POS tag:  DET\n",
            "Text:  Witch | POS tag:  PROPN\n",
            "Text:  . | POS tag:  PUNCT\n",
            "\n",
            "\n",
            "Text:  If | POS tag:  SCONJ\n",
            "Text:  you | POS tag:  PRON\n",
            "Text:  are | POS tag:  AUX\n",
            "Text:  looking | POS tag:  VERB\n",
            "Text:  for | POS tag:  ADP\n",
            "Text:  the | POS tag:  DET\n",
            "Text:  secret | POS tag:  ADJ\n",
            "Text:  ingredient | POS tag:  NOUN\n",
            "Text:  in | POS tag:  ADP\n",
            "Text:  Robitussin | POS tag:  PROPN\n",
            "Text:  I | POS tag:  PRON\n",
            "Text:  believe | POS tag:  VERB\n",
            "Text:  I | POS tag:  PRON\n",
            "Text:  have | POS tag:  AUX\n",
            "Text:  found | POS tag:  VERB\n",
            "Text:  it | POS tag:  PRON\n",
            "Text:  . | POS tag:  PUNCT\n",
            "Text:    | POS tag:  SPACE\n",
            "Text:  I | POS tag:  PRON\n",
            "Text:  got | POS tag:  VERB\n",
            "Text:  this | POS tag:  PRON\n",
            "Text:  in | POS tag:  ADP\n",
            "Text:  addition | POS tag:  NOUN\n",
            "Text:  to | POS tag:  ADP\n",
            "Text:  the | POS tag:  DET\n",
            "Text:  Root | POS tag:  PROPN\n",
            "Text:  Beer | POS tag:  PROPN\n",
            "Text:  Extract | POS tag:  PROPN\n",
            "Text:  I | POS tag:  PRON\n",
            "Text:  ordered | POS tag:  VERB\n",
            "Text:  ( | POS tag:  PUNCT\n",
            "Text:  which | POS tag:  PRON\n",
            "Text:  was | POS tag:  AUX\n",
            "Text:  good | POS tag:  ADJ\n",
            "Text:  ) | POS tag:  PUNCT\n",
            "Text:  and | POS tag:  CCONJ\n",
            "Text:  made | POS tag:  VERB\n",
            "Text:  some | POS tag:  DET\n",
            "Text:  cherry | POS tag:  NOUN\n",
            "Text:  soda | POS tag:  NOUN\n",
            "Text:  . | POS tag:  PUNCT\n",
            "Text:    | POS tag:  SPACE\n",
            "Text:  The | POS tag:  DET\n",
            "Text:  flavor | POS tag:  NOUN\n",
            "Text:  is | POS tag:  AUX\n",
            "Text:  very | POS tag:  ADV\n",
            "Text:  medicinal | POS tag:  ADJ\n",
            "Text:  . | POS tag:  PUNCT\n",
            "\n",
            "\n",
            "Text:  Great | POS tag:  ADJ\n",
            "Text:  taffy | POS tag:  NOUN\n",
            "Text:  at | POS tag:  ADP\n",
            "Text:  a | POS tag:  DET\n",
            "Text:  great | POS tag:  ADJ\n",
            "Text:  price | POS tag:  NOUN\n",
            "Text:  . | POS tag:  PUNCT\n",
            "Text:    | POS tag:  SPACE\n",
            "Text:  There | POS tag:  PRON\n",
            "Text:  was | POS tag:  VERB\n",
            "Text:  a | POS tag:  DET\n",
            "Text:  wide | POS tag:  ADJ\n",
            "Text:  assortment | POS tag:  NOUN\n",
            "Text:  of | POS tag:  ADP\n",
            "Text:  yummy | POS tag:  ADJ\n",
            "Text:  taffy | POS tag:  NOUN\n",
            "Text:  . | POS tag:  PUNCT\n",
            "Text:    | POS tag:  SPACE\n",
            "Text:  Delivery | POS tag:  PROPN\n",
            "Text:  was | POS tag:  AUX\n",
            "Text:  very | POS tag:  ADV\n",
            "Text:  quick | POS tag:  ADJ\n",
            "Text:  . | POS tag:  PUNCT\n",
            "Text:    | POS tag:  SPACE\n",
            "Text:  If | POS tag:  SCONJ\n",
            "Text:  your | POS tag:  PRON\n",
            "Text:  a | POS tag:  DET\n",
            "Text:  taffy | POS tag:  PROPN\n",
            "Text:  lover | POS tag:  NOUN\n",
            "Text:  , | POS tag:  PUNCT\n",
            "Text:  this | POS tag:  PRON\n",
            "Text:  is | POS tag:  AUX\n",
            "Text:  a | POS tag:  DET\n",
            "Text:  deal | POS tag:  NOUN\n",
            "Text:  . | POS tag:  PUNCT\n",
            "\n",
            "\n",
            "Text:  I | POS tag:  PRON\n",
            "Text:  got | POS tag:  VERB\n",
            "Text:  a | POS tag:  DET\n",
            "Text:  wild | POS tag:  ADJ\n",
            "Text:  hair | POS tag:  NOUN\n",
            "Text:  for | POS tag:  ADP\n",
            "Text:  taffy | POS tag:  NOUN\n",
            "Text:  and | POS tag:  CCONJ\n",
            "Text:  ordered | POS tag:  VERB\n",
            "Text:  this | POS tag:  DET\n",
            "Text:  five | POS tag:  NUM\n",
            "Text:  pound | POS tag:  NOUN\n",
            "Text:  bag | POS tag:  NOUN\n",
            "Text:  . | POS tag:  PUNCT\n",
            "Text:  The | POS tag:  DET\n",
            "Text:  taffy | POS tag:  NOUN\n",
            "Text:  was | POS tag:  AUX\n",
            "Text:  all | POS tag:  PRON\n",
            "Text:  very | POS tag:  ADV\n",
            "Text:  enjoyable | POS tag:  ADJ\n",
            "Text:  with | POS tag:  ADP\n",
            "Text:  many | POS tag:  ADJ\n",
            "Text:  flavors | POS tag:  NOUN\n",
            "Text:  : | POS tag:  PUNCT\n",
            "Text:  watermelon | POS tag:  NOUN\n",
            "Text:  , | POS tag:  PUNCT\n",
            "Text:  root | POS tag:  NOUN\n",
            "Text:  beer | POS tag:  NOUN\n",
            "Text:  , | POS tag:  PUNCT\n",
            "Text:  melon | POS tag:  NOUN\n",
            "Text:  , | POS tag:  PUNCT\n",
            "Text:  peppermint | POS tag:  NOUN\n",
            "Text:  , | POS tag:  PUNCT\n",
            "Text:  grape | POS tag:  NOUN\n",
            "Text:  , | POS tag:  PUNCT\n",
            "Text:  etc | POS tag:  X\n",
            "Text:  . | POS tag:  PUNCT\n",
            "Text:  My | POS tag:  PRON\n",
            "Text:  only | POS tag:  ADJ\n",
            "Text:  complaint | POS tag:  NOUN\n",
            "Text:  is | POS tag:  AUX\n",
            "Text:  there | POS tag:  PRON\n",
            "Text:  was | POS tag:  VERB\n",
            "Text:  a | POS tag:  DET\n",
            "Text:  bit | POS tag:  NOUN\n",
            "Text:  too | POS tag:  ADV\n",
            "Text:  much | POS tag:  ADJ\n",
            "Text:  red | POS tag:  ADJ\n",
            "Text:  / | POS tag:  SYM\n",
            "Text:  black | POS tag:  ADJ\n",
            "Text:  licorice | POS tag:  NOUN\n",
            "Text:  - | POS tag:  PUNCT\n",
            "Text:  flavored | POS tag:  VERB\n",
            "Text:  pieces | POS tag:  NOUN\n",
            "Text:  ( | POS tag:  PUNCT\n",
            "Text:  just | POS tag:  ADV\n",
            "Text:  not | POS tag:  PART\n",
            "Text:  my | POS tag:  PRON\n",
            "Text:  particular | POS tag:  ADJ\n",
            "Text:  favorites | POS tag:  NOUN\n",
            "Text:  ) | POS tag:  PUNCT\n",
            "Text:  . | POS tag:  PUNCT\n",
            "Text:  Between | POS tag:  ADP\n",
            "Text:  me | POS tag:  PRON\n",
            "Text:  , | POS tag:  PUNCT\n",
            "Text:  my | POS tag:  PRON\n",
            "Text:  kids | POS tag:  NOUN\n",
            "Text:  , | POS tag:  PUNCT\n",
            "Text:  and | POS tag:  CCONJ\n",
            "Text:  my | POS tag:  PRON\n",
            "Text:  husband | POS tag:  NOUN\n",
            "Text:  , | POS tag:  PUNCT\n",
            "Text:  this | POS tag:  PRON\n",
            "Text:  lasted | POS tag:  VERB\n",
            "Text:  only | POS tag:  ADV\n",
            "Text:  two | POS tag:  NUM\n",
            "Text:  weeks | POS tag:  NOUN\n",
            "Text:  ! | POS tag:  PUNCT\n",
            "Text:  I | POS tag:  PRON\n",
            "Text:  would | POS tag:  AUX\n",
            "Text:  recommend | POS tag:  VERB\n",
            "Text:  this | POS tag:  DET\n",
            "Text:  brand | POS tag:  NOUN\n",
            "Text:  of | POS tag:  ADP\n",
            "Text:  taffy | POS tag:  PROPN\n",
            "Text:  -- | POS tag:  PUNCT\n",
            "Text:  it | POS tag:  PRON\n",
            "Text:  was | POS tag:  AUX\n",
            "Text:  a | POS tag:  DET\n",
            "Text:  delightful | POS tag:  ADJ\n",
            "Text:  treat | POS tag:  NOUN\n",
            "Text:  . | POS tag:  PUNCT\n",
            "\n",
            "\n",
            "Text:  This | POS tag:  DET\n",
            "Text:  saltwater | POS tag:  NOUN\n",
            "Text:  taffy | POS tag:  PROPN\n",
            "Text:  had | POS tag:  VERB\n",
            "Text:  great | POS tag:  ADJ\n",
            "Text:  flavors | POS tag:  NOUN\n",
            "Text:  and | POS tag:  CCONJ\n",
            "Text:  was | POS tag:  AUX\n",
            "Text:  very | POS tag:  ADV\n",
            "Text:  soft | POS tag:  ADJ\n",
            "Text:  and | POS tag:  CCONJ\n",
            "Text:  chewy | POS tag:  NOUN\n",
            "Text:  . | POS tag:  PUNCT\n",
            "Text:    | POS tag:  SPACE\n",
            "Text:  Each | POS tag:  DET\n",
            "Text:  candy | POS tag:  NOUN\n",
            "Text:  was | POS tag:  AUX\n",
            "Text:  individually | POS tag:  ADV\n",
            "Text:  wrapped | POS tag:  VERB\n",
            "Text:  well | POS tag:  ADV\n",
            "Text:  . | POS tag:  PUNCT\n",
            "Text:    | POS tag:  SPACE\n",
            "Text:  None | POS tag:  NOUN\n",
            "Text:  of | POS tag:  ADP\n",
            "Text:  the | POS tag:  DET\n",
            "Text:  candies | POS tag:  NOUN\n",
            "Text:  were | POS tag:  AUX\n",
            "Text:  stuck | POS tag:  VERB\n",
            "Text:  together | POS tag:  ADV\n",
            "Text:  , | POS tag:  PUNCT\n",
            "Text:  which | POS tag:  PRON\n",
            "Text:  did | POS tag:  AUX\n",
            "Text:  happen | POS tag:  VERB\n",
            "Text:  in | POS tag:  ADP\n",
            "Text:  the | POS tag:  DET\n",
            "Text:  expensive | POS tag:  ADJ\n",
            "Text:  version | POS tag:  NOUN\n",
            "Text:  , | POS tag:  PUNCT\n",
            "Text:  Fralinger | POS tag:  PROPN\n",
            "Text:  's | POS tag:  PART\n",
            "Text:  . | POS tag:  PUNCT\n",
            "Text:    | POS tag:  SPACE\n",
            "Text:  Would | POS tag:  AUX\n",
            "Text:  highly | POS tag:  ADV\n",
            "Text:  recommend | POS tag:  VERB\n",
            "Text:  this | POS tag:  DET\n",
            "Text:  candy | POS tag:  NOUN\n",
            "Text:  ! | POS tag:  PUNCT\n",
            "Text:    | POS tag:  SPACE\n",
            "Text:  I | POS tag:  PRON\n",
            "Text:  served | POS tag:  VERB\n",
            "Text:  it | POS tag:  PRON\n",
            "Text:  at | POS tag:  ADP\n",
            "Text:  a | POS tag:  DET\n",
            "Text:  beach | POS tag:  NOUN\n",
            "Text:  - | POS tag:  PUNCT\n",
            "Text:  themed | POS tag:  VERB\n",
            "Text:  party | POS tag:  NOUN\n",
            "Text:  and | POS tag:  CCONJ\n",
            "Text:  everyone | POS tag:  PRON\n",
            "Text:  loved | POS tag:  VERB\n",
            "Text:  it | POS tag:  PRON\n",
            "Text:  ! | POS tag:  PUNCT\n",
            "\n",
            "\n",
            "Text:  This | POS tag:  DET\n",
            "Text:  taffy | POS tag:  NOUN\n",
            "Text:  is | POS tag:  AUX\n",
            "Text:  so | POS tag:  ADV\n",
            "Text:  good | POS tag:  ADJ\n",
            "Text:  . | POS tag:  PUNCT\n",
            "Text:    | POS tag:  SPACE\n",
            "Text:  It | POS tag:  PRON\n",
            "Text:  is | POS tag:  AUX\n",
            "Text:  very | POS tag:  ADV\n",
            "Text:  soft | POS tag:  ADJ\n",
            "Text:  and | POS tag:  CCONJ\n",
            "Text:  chewy | POS tag:  NOUN\n",
            "Text:  . | POS tag:  PUNCT\n",
            "Text:    | POS tag:  SPACE\n",
            "Text:  The | POS tag:  DET\n",
            "Text:  flavors | POS tag:  NOUN\n",
            "Text:  are | POS tag:  AUX\n",
            "Text:  amazing | POS tag:  ADJ\n",
            "Text:  . | POS tag:  PUNCT\n",
            "Text:    | POS tag:  SPACE\n",
            "Text:  I | POS tag:  PRON\n",
            "Text:  would | POS tag:  AUX\n",
            "Text:  definitely | POS tag:  ADV\n",
            "Text:  recommend | POS tag:  VERB\n",
            "Text:  you | POS tag:  PRON\n",
            "Text:  buying | POS tag:  VERB\n",
            "Text:  it | POS tag:  PRON\n",
            "Text:  . | POS tag:  PUNCT\n",
            "Text:    | POS tag:  SPACE\n",
            "Text:  Very | POS tag:  ADV\n",
            "Text:  satisfying | POS tag:  ADJ\n",
            "Text:  ! | POS tag:  PUNCT\n",
            "Text:  ! | POS tag:  PUNCT\n",
            "\n",
            "\n",
            "Text:  Right | POS tag:  ADV\n",
            "Text:  now | POS tag:  ADV\n",
            "Text:  I | POS tag:  PRON\n",
            "Text:  'm | POS tag:  AUX\n",
            "Text:  mostly | POS tag:  ADV\n",
            "Text:  just | POS tag:  ADV\n",
            "Text:  sprouting | POS tag:  VERB\n",
            "Text:  this | POS tag:  PRON\n",
            "Text:  so | POS tag:  SCONJ\n",
            "Text:  my | POS tag:  PRON\n",
            "Text:  cats | POS tag:  NOUN\n",
            "Text:  can | POS tag:  AUX\n",
            "Text:  eat | POS tag:  VERB\n",
            "Text:  the | POS tag:  DET\n",
            "Text:  grass | POS tag:  NOUN\n",
            "Text:  . | POS tag:  PUNCT\n",
            "Text:  They | POS tag:  PRON\n",
            "Text:  love | POS tag:  VERB\n",
            "Text:  it | POS tag:  PRON\n",
            "Text:  . | POS tag:  PUNCT\n",
            "Text:  I | POS tag:  PRON\n",
            "Text:  rotate | POS tag:  VERB\n",
            "Text:  it | POS tag:  PRON\n",
            "Text:  around | POS tag:  ADV\n",
            "Text:  with | POS tag:  ADP\n",
            "Text:  Wheatgrass | POS tag:  PROPN\n",
            "Text:  and | POS tag:  CCONJ\n",
            "Text:  Rye | POS tag:  VERB\n",
            "Text:  too | POS tag:  ADV\n",
            "\n",
            "\n",
            "Text:  This | POS tag:  PRON\n",
            "Text:  is | POS tag:  AUX\n",
            "Text:  a | POS tag:  DET\n",
            "Text:  very | POS tag:  ADV\n",
            "Text:  healthy | POS tag:  ADJ\n",
            "Text:  dog | POS tag:  NOUN\n",
            "Text:  food | POS tag:  NOUN\n",
            "Text:  . | POS tag:  PUNCT\n",
            "Text:  Good | POS tag:  ADJ\n",
            "Text:  for | POS tag:  ADP\n",
            "Text:  their | POS tag:  PRON\n",
            "Text:  digestion | POS tag:  NOUN\n",
            "Text:  . | POS tag:  PUNCT\n",
            "Text:  Also | POS tag:  ADV\n",
            "Text:  good | POS tag:  ADJ\n",
            "Text:  for | POS tag:  ADP\n",
            "Text:  small | POS tag:  ADJ\n",
            "Text:  puppies | POS tag:  NOUN\n",
            "Text:  . | POS tag:  PUNCT\n",
            "Text:  My | POS tag:  PRON\n",
            "Text:  dog | POS tag:  NOUN\n",
            "Text:  eats | POS tag:  VERB\n",
            "Text:  her | POS tag:  PRON\n",
            "Text:  required | POS tag:  VERB\n",
            "Text:  amount | POS tag:  NOUN\n",
            "Text:  at | POS tag:  ADP\n",
            "Text:  every | POS tag:  DET\n",
            "Text:  feeding | POS tag:  NOUN\n",
            "Text:  . | POS tag:  PUNCT\n",
            "\n",
            "\n"
          ]
        }
      ]
    },
    {
      "cell_type": "markdown",
      "source": [
        "**NER with spaCy**  \n",
        "Named entity recognition (NER) helps you to easily identify key elements of a given document, like names of people and places. It helps sort unstructured data and detect important information, which is crucial if you are dealing with large datasets. In this exercise, you will practice Named Entity Recognition.\n",
        "\n",
        "en_core_web_sm has been loaded for you as nlp. Three comments from the Airline Travel Information System (ATIS) dataset have been provided for you in a list called texts."
      ],
      "metadata": {
        "id": "-4He1wrcj0RA"
      }
    },
    {
      "cell_type": "code",
      "source": [
        "# Compile a list of all Doc containers of texts\n",
        "documents = [nlp(text) for text in texts]\n",
        "\n",
        "# Print the entity text and label for the entities in each document\n",
        "for doc in documents:\n",
        "    print([(ent.text, ent.label_) for ent in doc.ents])\n",
        "\n",
        "# Print the 6th token's text and entity type of the second document\n",
        "print(\"\\nText:\", documents[1][5].text, \"| Entity type: \", documents[1][5].ent_type_)\n",
        "\n",
        "# You successfully used spaCy to extract entities and entity types of the given texts."
      ],
      "metadata": {
        "id": "TfaeXH7UkY4U",
        "outputId": "47ce3ee2-af70-4721-8983-2f82ba0fa663",
        "colab": {
          "base_uri": "https://localhost:8080/"
        }
      },
      "execution_count": 19,
      "outputs": [
        {
          "output_type": "stream",
          "name": "stdout",
          "text": [
            "[('Vitality', 'ORG'), ('My Labrador', 'PERSON')]\n",
            "[('Jumbo Salted', 'ORG'), ('Jumbo', 'WORK_OF_ART')]\n",
            "[('around a few centuries', 'DATE'), ('pillowy citrus gelatin', 'ORG'), ('Filberts', 'GPE'), (\"C.S. Lewis'\", 'ORG'), ('The Lion, The Witch', 'WORK_OF_ART'), ('Edmund', 'PRODUCT'), ('Sisters', 'PERSON'), ('Witch', 'ORG')]\n",
            "[('Robitussin', 'GPE'), ('the Root Beer Extract I', 'LAW')]\n",
            "[('Delivery', 'PERSON')]\n",
            "[('five pound', 'QUANTITY'), ('only two weeks', 'DATE')]\n",
            "[(\"Fralinger's\", 'ORG')]\n",
            "[]\n",
            "[('Wheatgrass', 'PERSON')]\n",
            "[]\n",
            "\n",
            "Text: Salted | Entity type:  ORG\n"
          ]
        }
      ]
    },
    {
      "cell_type": "markdown",
      "source": [
        "ext processing with spaCy\n",
        "Every NLP application consists of several text processing steps. You have already learned some of these steps, including tokenization, lemmatization, sentence segmentation and named entity recognition.\n",
        "\n",
        "![image.png](data:image/png;base64,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)spaCy NLP Pipeline\n",
        "\n",
        "In this exercise, you'll continue to practice with text processing steps in spaCy, such as breaking the text into sentences and extracting named entities. You will use the first five reviews from the Amazon Fine Food Reviews dataset for this exercise. You can access these reviews by using the texts object.\n",
        "\n",
        "The en_core_web_sm model has already been loaded for you to use, and you can access it by using nlp. The list of Doc containers for each item in texts is also pre-loaded and accessible at documents."
      ],
      "metadata": {
        "id": "NujLvbWFkg_V"
      }
    },
    {
      "cell_type": "code",
      "source": [
        "# Create a list to store sentences of each Doc container in documents\n",
        "sentences = [[sent for sent in doc.sents] for doc in documents]\n",
        "\n",
        "# Create a list to track number of sentences per Doc container in documents\n",
        "num_sentences = [len([sent for sent in doc.sents]) for doc in documents]\n",
        "print(\"Number of sentences in documents:\\n\", num_sentences, \"\\n\")\n",
        "\n",
        "# Record entities text and corresponding label of the third Doc container\n",
        "third_text_entities = [(ent.text, ent.label_) for ent in documents[2].ents]\n",
        "print(\"Third text entities:\\n\", third_text_entities, \"\\n\")\n",
        "\n",
        "# Record first ten tokens and corresponding POS tag for the third Doc container\n",
        "third_text_10_pos = [(token.text, token.pos_) for token in documents[2]][:10]\n",
        "print(\"First ten tokens of third text:\\n\", third_text_10_pos)\n",
        "\n",
        "# You can see that spaCy is quite handy to process data.\n",
        "# You can also see that NER model in en_core_web_sm spaCy English model is not quite correct, for example gelatin is classified as an organization (ORG). \\\n",
        "# Later, we will learn how to use EntityRuler to handcraft the correct NER results for this same example."
      ],
      "metadata": {
        "id": "SSG4hmPokqpJ",
        "outputId": "b73fc79f-0f1e-4b23-facd-e0f8c103a0bd",
        "colab": {
          "base_uri": "https://localhost:8080/"
        }
      },
      "execution_count": 20,
      "outputs": [
        {
          "output_type": "stream",
          "name": "stdout",
          "text": [
            "Number of sentences in documents:\n",
            " [3, 2, 7, 3, 4, 5, 5, 5, 3, 4] \n",
            "\n",
            "Third text entities:\n",
            " [('around a few centuries', 'DATE'), ('pillowy citrus gelatin', 'ORG'), ('Filberts', 'GPE'), (\"C.S. Lewis'\", 'ORG'), ('The Lion, The Witch', 'WORK_OF_ART'), ('Edmund', 'PRODUCT'), ('Sisters', 'PERSON'), ('Witch', 'ORG')] \n",
            "\n",
            "First ten tokens of third text:\n",
            " [('This', 'PRON'), ('is', 'AUX'), ('a', 'DET'), ('confection', 'NOUN'), ('that', 'PRON'), ('has', 'AUX'), ('been', 'AUX'), ('around', 'ADP'), ('a', 'DET'), ('few', 'ADJ')]\n"
          ]
        }
      ]
    }
  ]
}